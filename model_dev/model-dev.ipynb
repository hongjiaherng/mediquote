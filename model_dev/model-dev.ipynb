{
 "cells": [
  {
   "cell_type": "code",
   "execution_count": 1,
   "id": "5d42b4e7",
   "metadata": {},
   "outputs": [],
   "source": [
    "import pandas as pd\n",
    "import numpy as np\n",
    "import matplotlib.pyplot as plt\n",
    "import graphviz\n",
    "import joblib\n",
    "from tqdm import tqdm\n",
    "\n",
    "%matplotlib inline"
   ]
  },
  {
   "cell_type": "code",
   "execution_count": 2,
   "id": "386e528f",
   "metadata": {},
   "outputs": [],
   "source": [
    "from sklearn.tree import DecisionTreeRegressor\n",
    "from sklearn.linear_model import LinearRegression, SGDRegressor\n",
    "from sklearn.svm import SVR\n",
    "from sklearn.ensemble import RandomForestRegressor\n",
    "from sklearn.metrics import mean_squared_error\n",
    "from sklearn.decomposition import PCA\n",
    "from sklearn.model_selection import cross_val_score, cross_validate, RandomizedSearchCV, KFold, train_test_split\n",
    "from sklearn.preprocessing import StandardScaler\n",
    "from sklearn import tree\n",
    "\n",
    "from scipy import stats\n",
    "\n",
    "import xgboost as xgb\n",
    "\n",
    "import torch"
   ]
  },
  {
   "cell_type": "markdown",
   "id": "6c6833cb",
   "metadata": {},
   "source": [
    "## Load Dataset"
   ]
  },
  {
   "cell_type": "code",
   "execution_count": 3,
   "id": "6c303abc",
   "metadata": {
    "scrolled": false
   },
   "outputs": [
    {
     "data": {
      "text/html": [
       "<div>\n",
       "<style scoped>\n",
       "    .dataframe tbody tr th:only-of-type {\n",
       "        vertical-align: middle;\n",
       "    }\n",
       "\n",
       "    .dataframe tbody tr th {\n",
       "        vertical-align: top;\n",
       "    }\n",
       "\n",
       "    .dataframe thead th {\n",
       "        text-align: right;\n",
       "    }\n",
       "</style>\n",
       "<table border=\"1\" class=\"dataframe\">\n",
       "  <thead>\n",
       "    <tr style=\"text-align: right;\">\n",
       "      <th></th>\n",
       "      <th>Age</th>\n",
       "      <th>Diabetes</th>\n",
       "      <th>BloodPressureProblems</th>\n",
       "      <th>AnyTransplants</th>\n",
       "      <th>AnyChronicDiseases</th>\n",
       "      <th>Height</th>\n",
       "      <th>Weight</th>\n",
       "      <th>KnownAllergies</th>\n",
       "      <th>HistoryOfCancerInFamily</th>\n",
       "      <th>NumberOfMajorSurgeries</th>\n",
       "      <th>PremiumPrice</th>\n",
       "    </tr>\n",
       "  </thead>\n",
       "  <tbody>\n",
       "    <tr>\n",
       "      <th>0</th>\n",
       "      <td>45</td>\n",
       "      <td>0</td>\n",
       "      <td>0</td>\n",
       "      <td>0</td>\n",
       "      <td>0</td>\n",
       "      <td>155</td>\n",
       "      <td>57</td>\n",
       "      <td>0</td>\n",
       "      <td>0</td>\n",
       "      <td>0</td>\n",
       "      <td>1400.0</td>\n",
       "    </tr>\n",
       "    <tr>\n",
       "      <th>1</th>\n",
       "      <td>60</td>\n",
       "      <td>1</td>\n",
       "      <td>0</td>\n",
       "      <td>0</td>\n",
       "      <td>0</td>\n",
       "      <td>180</td>\n",
       "      <td>73</td>\n",
       "      <td>0</td>\n",
       "      <td>0</td>\n",
       "      <td>0</td>\n",
       "      <td>1624.0</td>\n",
       "    </tr>\n",
       "    <tr>\n",
       "      <th>2</th>\n",
       "      <td>36</td>\n",
       "      <td>1</td>\n",
       "      <td>1</td>\n",
       "      <td>0</td>\n",
       "      <td>0</td>\n",
       "      <td>158</td>\n",
       "      <td>59</td>\n",
       "      <td>0</td>\n",
       "      <td>0</td>\n",
       "      <td>1</td>\n",
       "      <td>1288.0</td>\n",
       "    </tr>\n",
       "    <tr>\n",
       "      <th>3</th>\n",
       "      <td>52</td>\n",
       "      <td>1</td>\n",
       "      <td>1</td>\n",
       "      <td>0</td>\n",
       "      <td>1</td>\n",
       "      <td>183</td>\n",
       "      <td>93</td>\n",
       "      <td>0</td>\n",
       "      <td>0</td>\n",
       "      <td>2</td>\n",
       "      <td>1568.0</td>\n",
       "    </tr>\n",
       "    <tr>\n",
       "      <th>4</th>\n",
       "      <td>38</td>\n",
       "      <td>0</td>\n",
       "      <td>0</td>\n",
       "      <td>0</td>\n",
       "      <td>1</td>\n",
       "      <td>166</td>\n",
       "      <td>88</td>\n",
       "      <td>0</td>\n",
       "      <td>0</td>\n",
       "      <td>1</td>\n",
       "      <td>1288.0</td>\n",
       "    </tr>\n",
       "    <tr>\n",
       "      <th>...</th>\n",
       "      <td>...</td>\n",
       "      <td>...</td>\n",
       "      <td>...</td>\n",
       "      <td>...</td>\n",
       "      <td>...</td>\n",
       "      <td>...</td>\n",
       "      <td>...</td>\n",
       "      <td>...</td>\n",
       "      <td>...</td>\n",
       "      <td>...</td>\n",
       "      <td>...</td>\n",
       "    </tr>\n",
       "    <tr>\n",
       "      <th>981</th>\n",
       "      <td>18</td>\n",
       "      <td>0</td>\n",
       "      <td>0</td>\n",
       "      <td>0</td>\n",
       "      <td>0</td>\n",
       "      <td>169</td>\n",
       "      <td>67</td>\n",
       "      <td>0</td>\n",
       "      <td>0</td>\n",
       "      <td>0</td>\n",
       "      <td>840.0</td>\n",
       "    </tr>\n",
       "    <tr>\n",
       "      <th>982</th>\n",
       "      <td>64</td>\n",
       "      <td>1</td>\n",
       "      <td>1</td>\n",
       "      <td>0</td>\n",
       "      <td>0</td>\n",
       "      <td>153</td>\n",
       "      <td>70</td>\n",
       "      <td>0</td>\n",
       "      <td>0</td>\n",
       "      <td>3</td>\n",
       "      <td>1568.0</td>\n",
       "    </tr>\n",
       "    <tr>\n",
       "      <th>983</th>\n",
       "      <td>56</td>\n",
       "      <td>0</td>\n",
       "      <td>1</td>\n",
       "      <td>0</td>\n",
       "      <td>0</td>\n",
       "      <td>155</td>\n",
       "      <td>71</td>\n",
       "      <td>0</td>\n",
       "      <td>0</td>\n",
       "      <td>1</td>\n",
       "      <td>1624.0</td>\n",
       "    </tr>\n",
       "    <tr>\n",
       "      <th>984</th>\n",
       "      <td>47</td>\n",
       "      <td>1</td>\n",
       "      <td>1</td>\n",
       "      <td>0</td>\n",
       "      <td>0</td>\n",
       "      <td>158</td>\n",
       "      <td>73</td>\n",
       "      <td>1</td>\n",
       "      <td>0</td>\n",
       "      <td>1</td>\n",
       "      <td>2184.0</td>\n",
       "    </tr>\n",
       "    <tr>\n",
       "      <th>985</th>\n",
       "      <td>21</td>\n",
       "      <td>0</td>\n",
       "      <td>0</td>\n",
       "      <td>0</td>\n",
       "      <td>0</td>\n",
       "      <td>158</td>\n",
       "      <td>75</td>\n",
       "      <td>1</td>\n",
       "      <td>0</td>\n",
       "      <td>1</td>\n",
       "      <td>840.0</td>\n",
       "    </tr>\n",
       "  </tbody>\n",
       "</table>\n",
       "<p>986 rows × 11 columns</p>\n",
       "</div>"
      ],
      "text/plain": [
       "     Age  Diabetes  BloodPressureProblems  AnyTransplants  AnyChronicDiseases   \n",
       "0     45         0                      0               0                   0  \\\n",
       "1     60         1                      0               0                   0   \n",
       "2     36         1                      1               0                   0   \n",
       "3     52         1                      1               0                   1   \n",
       "4     38         0                      0               0                   1   \n",
       "..   ...       ...                    ...             ...                 ...   \n",
       "981   18         0                      0               0                   0   \n",
       "982   64         1                      1               0                   0   \n",
       "983   56         0                      1               0                   0   \n",
       "984   47         1                      1               0                   0   \n",
       "985   21         0                      0               0                   0   \n",
       "\n",
       "     Height  Weight  KnownAllergies  HistoryOfCancerInFamily   \n",
       "0       155      57               0                        0  \\\n",
       "1       180      73               0                        0   \n",
       "2       158      59               0                        0   \n",
       "3       183      93               0                        0   \n",
       "4       166      88               0                        0   \n",
       "..      ...     ...             ...                      ...   \n",
       "981     169      67               0                        0   \n",
       "982     153      70               0                        0   \n",
       "983     155      71               0                        0   \n",
       "984     158      73               1                        0   \n",
       "985     158      75               1                        0   \n",
       "\n",
       "     NumberOfMajorSurgeries  PremiumPrice  \n",
       "0                         0        1400.0  \n",
       "1                         0        1624.0  \n",
       "2                         1        1288.0  \n",
       "3                         2        1568.0  \n",
       "4                         1        1288.0  \n",
       "..                      ...           ...  \n",
       "981                       0         840.0  \n",
       "982                       3        1568.0  \n",
       "983                       1        1624.0  \n",
       "984                       1        2184.0  \n",
       "985                       1         840.0  \n",
       "\n",
       "[986 rows x 11 columns]"
      ]
     },
     "execution_count": 3,
     "metadata": {},
     "output_type": "execute_result"
    }
   ],
   "source": [
    "df = pd.read_csv(\"./data/medicalpremium.csv\")\n",
    "df[\"PremiumPrice\"] = df[\"PremiumPrice\"] * 0.056\n",
    "df"
   ]
  },
  {
   "cell_type": "code",
   "execution_count": 4,
   "id": "225b1fc2",
   "metadata": {},
   "outputs": [],
   "source": [
    "feature_names = df.drop(\"PremiumPrice\", axis=1).columns.to_list()"
   ]
  },
  {
   "cell_type": "markdown",
   "id": "89c50dc7",
   "metadata": {},
   "source": [
    "## Exploratory Data Analysis"
   ]
  },
  {
   "cell_type": "code",
   "execution_count": 5,
   "id": "89777730",
   "metadata": {},
   "outputs": [
    {
     "data": {
      "text/html": [
       "<div>\n",
       "<style scoped>\n",
       "    .dataframe tbody tr th:only-of-type {\n",
       "        vertical-align: middle;\n",
       "    }\n",
       "\n",
       "    .dataframe tbody tr th {\n",
       "        vertical-align: top;\n",
       "    }\n",
       "\n",
       "    .dataframe thead th {\n",
       "        text-align: right;\n",
       "    }\n",
       "</style>\n",
       "<table border=\"1\" class=\"dataframe\">\n",
       "  <thead>\n",
       "    <tr style=\"text-align: right;\">\n",
       "      <th></th>\n",
       "      <th>Age</th>\n",
       "      <th>Diabetes</th>\n",
       "      <th>BloodPressureProblems</th>\n",
       "      <th>AnyTransplants</th>\n",
       "      <th>AnyChronicDiseases</th>\n",
       "      <th>Height</th>\n",
       "      <th>Weight</th>\n",
       "      <th>KnownAllergies</th>\n",
       "      <th>HistoryOfCancerInFamily</th>\n",
       "      <th>NumberOfMajorSurgeries</th>\n",
       "      <th>PremiumPrice</th>\n",
       "    </tr>\n",
       "  </thead>\n",
       "  <tbody>\n",
       "    <tr>\n",
       "      <th>count</th>\n",
       "      <td>986.000000</td>\n",
       "      <td>986.000000</td>\n",
       "      <td>986.000000</td>\n",
       "      <td>986.000000</td>\n",
       "      <td>986.000000</td>\n",
       "      <td>986.000000</td>\n",
       "      <td>986.000000</td>\n",
       "      <td>986.000000</td>\n",
       "      <td>986.000000</td>\n",
       "      <td>986.000000</td>\n",
       "      <td>986.000000</td>\n",
       "    </tr>\n",
       "    <tr>\n",
       "      <th>mean</th>\n",
       "      <td>41.745436</td>\n",
       "      <td>0.419878</td>\n",
       "      <td>0.468560</td>\n",
       "      <td>0.055781</td>\n",
       "      <td>0.180527</td>\n",
       "      <td>168.182556</td>\n",
       "      <td>76.950304</td>\n",
       "      <td>0.215010</td>\n",
       "      <td>0.117647</td>\n",
       "      <td>0.667343</td>\n",
       "      <td>1362.855984</td>\n",
       "    </tr>\n",
       "    <tr>\n",
       "      <th>std</th>\n",
       "      <td>13.963371</td>\n",
       "      <td>0.493789</td>\n",
       "      <td>0.499264</td>\n",
       "      <td>0.229615</td>\n",
       "      <td>0.384821</td>\n",
       "      <td>10.098155</td>\n",
       "      <td>14.265096</td>\n",
       "      <td>0.411038</td>\n",
       "      <td>0.322353</td>\n",
       "      <td>0.749205</td>\n",
       "      <td>349.898325</td>\n",
       "    </tr>\n",
       "    <tr>\n",
       "      <th>min</th>\n",
       "      <td>18.000000</td>\n",
       "      <td>0.000000</td>\n",
       "      <td>0.000000</td>\n",
       "      <td>0.000000</td>\n",
       "      <td>0.000000</td>\n",
       "      <td>145.000000</td>\n",
       "      <td>51.000000</td>\n",
       "      <td>0.000000</td>\n",
       "      <td>0.000000</td>\n",
       "      <td>0.000000</td>\n",
       "      <td>840.000000</td>\n",
       "    </tr>\n",
       "    <tr>\n",
       "      <th>25%</th>\n",
       "      <td>30.000000</td>\n",
       "      <td>0.000000</td>\n",
       "      <td>0.000000</td>\n",
       "      <td>0.000000</td>\n",
       "      <td>0.000000</td>\n",
       "      <td>161.000000</td>\n",
       "      <td>67.000000</td>\n",
       "      <td>0.000000</td>\n",
       "      <td>0.000000</td>\n",
       "      <td>0.000000</td>\n",
       "      <td>1176.000000</td>\n",
       "    </tr>\n",
       "    <tr>\n",
       "      <th>50%</th>\n",
       "      <td>42.000000</td>\n",
       "      <td>0.000000</td>\n",
       "      <td>0.000000</td>\n",
       "      <td>0.000000</td>\n",
       "      <td>0.000000</td>\n",
       "      <td>168.000000</td>\n",
       "      <td>75.000000</td>\n",
       "      <td>0.000000</td>\n",
       "      <td>0.000000</td>\n",
       "      <td>1.000000</td>\n",
       "      <td>1288.000000</td>\n",
       "    </tr>\n",
       "    <tr>\n",
       "      <th>75%</th>\n",
       "      <td>53.000000</td>\n",
       "      <td>1.000000</td>\n",
       "      <td>1.000000</td>\n",
       "      <td>0.000000</td>\n",
       "      <td>0.000000</td>\n",
       "      <td>176.000000</td>\n",
       "      <td>87.000000</td>\n",
       "      <td>0.000000</td>\n",
       "      <td>0.000000</td>\n",
       "      <td>1.000000</td>\n",
       "      <td>1568.000000</td>\n",
       "    </tr>\n",
       "    <tr>\n",
       "      <th>max</th>\n",
       "      <td>66.000000</td>\n",
       "      <td>1.000000</td>\n",
       "      <td>1.000000</td>\n",
       "      <td>1.000000</td>\n",
       "      <td>1.000000</td>\n",
       "      <td>188.000000</td>\n",
       "      <td>132.000000</td>\n",
       "      <td>1.000000</td>\n",
       "      <td>1.000000</td>\n",
       "      <td>3.000000</td>\n",
       "      <td>2240.000000</td>\n",
       "    </tr>\n",
       "  </tbody>\n",
       "</table>\n",
       "</div>"
      ],
      "text/plain": [
       "              Age    Diabetes  BloodPressureProblems  AnyTransplants   \n",
       "count  986.000000  986.000000             986.000000      986.000000  \\\n",
       "mean    41.745436    0.419878               0.468560        0.055781   \n",
       "std     13.963371    0.493789               0.499264        0.229615   \n",
       "min     18.000000    0.000000               0.000000        0.000000   \n",
       "25%     30.000000    0.000000               0.000000        0.000000   \n",
       "50%     42.000000    0.000000               0.000000        0.000000   \n",
       "75%     53.000000    1.000000               1.000000        0.000000   \n",
       "max     66.000000    1.000000               1.000000        1.000000   \n",
       "\n",
       "       AnyChronicDiseases      Height      Weight  KnownAllergies   \n",
       "count          986.000000  986.000000  986.000000      986.000000  \\\n",
       "mean             0.180527  168.182556   76.950304        0.215010   \n",
       "std              0.384821   10.098155   14.265096        0.411038   \n",
       "min              0.000000  145.000000   51.000000        0.000000   \n",
       "25%              0.000000  161.000000   67.000000        0.000000   \n",
       "50%              0.000000  168.000000   75.000000        0.000000   \n",
       "75%              0.000000  176.000000   87.000000        0.000000   \n",
       "max              1.000000  188.000000  132.000000        1.000000   \n",
       "\n",
       "       HistoryOfCancerInFamily  NumberOfMajorSurgeries  PremiumPrice  \n",
       "count               986.000000              986.000000    986.000000  \n",
       "mean                  0.117647                0.667343   1362.855984  \n",
       "std                   0.322353                0.749205    349.898325  \n",
       "min                   0.000000                0.000000    840.000000  \n",
       "25%                   0.000000                0.000000   1176.000000  \n",
       "50%                   0.000000                1.000000   1288.000000  \n",
       "75%                   0.000000                1.000000   1568.000000  \n",
       "max                   1.000000                3.000000   2240.000000  "
      ]
     },
     "execution_count": 5,
     "metadata": {},
     "output_type": "execute_result"
    }
   ],
   "source": [
    "df.describe()"
   ]
  },
  {
   "cell_type": "markdown",
   "id": "467f152a",
   "metadata": {},
   "source": [
    "## Data Preparation"
   ]
  },
  {
   "cell_type": "code",
   "execution_count": 6,
   "id": "4cc1a850",
   "metadata": {},
   "outputs": [],
   "source": [
    "X = df.drop(\"PremiumPrice\", axis=1).to_numpy()\n",
    "y_true = df[\"PremiumPrice\"].to_numpy()"
   ]
  },
  {
   "cell_type": "code",
   "execution_count": 7,
   "id": "b3708b24",
   "metadata": {},
   "outputs": [],
   "source": [
    "scaler = StandardScaler()\n",
    "X_scaled = scaler.fit_transform(X)"
   ]
  },
  {
   "cell_type": "code",
   "execution_count": 8,
   "id": "6134b0e6",
   "metadata": {},
   "outputs": [
    {
     "data": {
      "text/plain": [
       "True"
      ]
     },
     "execution_count": 8,
     "metadata": {},
     "output_type": "execute_result"
    }
   ],
   "source": [
    "joblib.dump(scaler, \"models/standard_scaler.joblib\")\n",
    "scaler_load = joblib.load(\"models/standard_scaler.joblib\")\n",
    "np.all(scaler_load.transform(X) == X_scaled)"
   ]
  },
  {
   "cell_type": "code",
   "execution_count": 9,
   "id": "28d72e43",
   "metadata": {},
   "outputs": [
    {
     "data": {
      "text/plain": [
       "array([[45,  0,  0, ...,  0,  0,  0],\n",
       "       [60,  1,  0, ...,  0,  0,  0],\n",
       "       [36,  1,  1, ...,  0,  0,  1],\n",
       "       ...,\n",
       "       [56,  0,  1, ...,  0,  0,  1],\n",
       "       [47,  1,  1, ...,  1,  0,  1],\n",
       "       [21,  0,  0, ...,  1,  0,  1]], dtype=int64)"
      ]
     },
     "execution_count": 9,
     "metadata": {},
     "output_type": "execute_result"
    }
   ],
   "source": [
    "X"
   ]
  },
  {
   "cell_type": "code",
   "execution_count": 10,
   "id": "72804e2b",
   "metadata": {},
   "outputs": [
    {
     "data": {
      "text/plain": [
       "array([[ 0.23319694, -0.85075039, -0.93897784, ..., -0.52335629,\n",
       "        -0.36514837, -0.89118667],\n",
       "       [ 1.30798124,  1.1754329 , -0.93897784, ..., -0.52335629,\n",
       "        -0.36514837, -0.89118667],\n",
       "       [-0.41167363,  1.1754329 ,  1.06498786, ..., -0.52335629,\n",
       "        -0.36514837,  0.44423895],\n",
       "       ...,\n",
       "       [ 1.02137209, -0.85075039,  1.06498786, ..., -0.52335629,\n",
       "        -0.36514837,  0.44423895],\n",
       "       [ 0.37650152,  1.1754329 ,  1.06498786, ...,  1.9107442 ,\n",
       "        -0.36514837,  0.44423895],\n",
       "       [-1.48645793, -0.85075039, -0.93897784, ...,  1.9107442 ,\n",
       "        -0.36514837,  0.44423895]])"
      ]
     },
     "execution_count": 10,
     "metadata": {},
     "output_type": "execute_result"
    }
   ],
   "source": [
    "X_scaled"
   ]
  },
  {
   "cell_type": "markdown",
   "id": "c3ce7559",
   "metadata": {},
   "source": [
    "## Model Comparison"
   ]
  },
  {
   "cell_type": "markdown",
   "id": "f0f61d99",
   "metadata": {},
   "source": [
    "> Choosing `Decision Tree` for its explainability and `Neural Network` for showing its black box nature"
   ]
  },
  {
   "cell_type": "markdown",
   "id": "c431b7b5",
   "metadata": {},
   "source": [
    "### Standardization"
   ]
  },
  {
   "cell_type": "markdown",
   "id": "2431a41e",
   "metadata": {},
   "source": [
    "#### Tree-based methods"
   ]
  },
  {
   "cell_type": "code",
   "execution_count": 11,
   "id": "fcfd76f6",
   "metadata": {},
   "outputs": [
    {
     "name": "stdout",
     "output_type": "stream",
     "text": [
      "mse=32205.77; r2=0.74\n",
      "mse=34456.20; r2=0.72\n"
     ]
    }
   ],
   "source": [
    "dt_reg = DecisionTreeRegressor()\n",
    "\n",
    "res_dict = cross_validate(dt_reg, X, y_true, scoring=[\"neg_mean_squared_error\", \"r2\"], cv=5)\n",
    "print(f\"mse={np.abs(np.mean(res_dict['test_neg_mean_squared_error'])):.2f}; r2={np.mean(res_dict['test_r2']):.2f}\")\n",
    "\n",
    "res_dict = cross_validate(dt_reg, X_scaled, y_true, scoring=[\"neg_mean_squared_error\", \"r2\"], cv=5)\n",
    "print(f\"mse={np.abs(np.mean(res_dict['test_neg_mean_squared_error'])):.2f}; r2={np.mean(res_dict['test_r2']):.2f}\")"
   ]
  },
  {
   "cell_type": "code",
   "execution_count": 12,
   "id": "2a74beba",
   "metadata": {},
   "outputs": [
    {
     "name": "stdout",
     "output_type": "stream",
     "text": [
      "mse=24147.87; r2=0.80\n",
      "mse=24570.25; r2=0.80\n"
     ]
    }
   ],
   "source": [
    "rf_reg = RandomForestRegressor()\n",
    "\n",
    "res_dict = cross_validate(rf_reg, X, y_true, scoring=[\"neg_mean_squared_error\", \"r2\"], cv=5)\n",
    "print(f\"mse={np.abs(np.mean(res_dict['test_neg_mean_squared_error'])):.2f}; r2={np.mean(res_dict['test_r2']):.2f}\")\n",
    "\n",
    "res_dict = cross_validate(rf_reg, X_scaled, y_true, scoring=[\"neg_mean_squared_error\", \"r2\"], cv=5)\n",
    "print(f\"mse={np.abs(np.mean(res_dict['test_neg_mean_squared_error'])):.2f}; r2={np.mean(res_dict['test_r2']):.2f}\")"
   ]
  },
  {
   "cell_type": "code",
   "execution_count": 13,
   "id": "12e0f594",
   "metadata": {},
   "outputs": [
    {
     "name": "stdout",
     "output_type": "stream",
     "text": [
      "mse=29714.54; r2=0.76\n",
      "mse=29853.29; r2=0.76\n"
     ]
    }
   ],
   "source": [
    "xgb_reg = xgb.XGBRegressor()\n",
    "\n",
    "res_dict = cross_validate(xgb_reg, X, y_true, scoring=[\"neg_mean_squared_error\", \"r2\"], cv=5)\n",
    "print(f\"mse={np.abs(np.mean(res_dict['test_neg_mean_squared_error'])):.2f}; r2={np.mean(res_dict['test_r2']):.2f}\")\n",
    "\n",
    "res_dict = cross_validate(xgb_reg, X_scaled, y_true, scoring=[\"neg_mean_squared_error\", \"r2\"], cv=5)\n",
    "print(f\"mse={np.abs(np.mean(res_dict['test_neg_mean_squared_error'])):.2f}; r2={np.mean(res_dict['test_r2']):.2f}\")"
   ]
  },
  {
   "cell_type": "markdown",
   "id": "2984ce47",
   "metadata": {},
   "source": [
    "#### Others"
   ]
  },
  {
   "cell_type": "code",
   "execution_count": 14,
   "id": "89764e2f",
   "metadata": {},
   "outputs": [
    {
     "name": "stdout",
     "output_type": "stream",
     "text": [
      "mse=44829.84; r2=0.63\n",
      "mse=44829.84; r2=0.63\n"
     ]
    }
   ],
   "source": [
    "lin_reg = LinearRegression()\n",
    "\n",
    "res_dict = cross_validate(lin_reg, X, y_true, scoring=[\"neg_mean_squared_error\", \"r2\"], cv=5)\n",
    "print(f\"mse={np.abs(np.mean(res_dict['test_neg_mean_squared_error'])):.2f}; r2={np.mean(res_dict['test_r2']):.2f}\")\n",
    "\n",
    "res_dict = cross_validate(lin_reg, X_scaled, y_true, scoring=[\"neg_mean_squared_error\", \"r2\"], cv=5)\n",
    "print(f\"mse={np.abs(np.mean(res_dict['test_neg_mean_squared_error'])):.2f}; r2={np.mean(res_dict['test_r2']):.2f}\")"
   ]
  },
  {
   "cell_type": "code",
   "execution_count": 15,
   "id": "df7134dc",
   "metadata": {},
   "outputs": [
    {
     "name": "stdout",
     "output_type": "stream",
     "text": [
      "mse=192450320750653685167554560.00; r2=-1603684169131054596096.00\n",
      "mse=44793.19; r2=0.63\n"
     ]
    }
   ],
   "source": [
    "sgd_reg = SGDRegressor()\n",
    "\n",
    "res_dict = cross_validate(sgd_reg, X, y_true, scoring=[\"neg_mean_squared_error\", \"r2\"], cv=5)\n",
    "print(f\"mse={np.abs(np.mean(res_dict['test_neg_mean_squared_error'])):.2f}; r2={np.mean(res_dict['test_r2']):.2f}\")\n",
    "\n",
    "res_dict = cross_validate(sgd_reg, X_scaled, y_true, scoring=[\"neg_mean_squared_error\", \"r2\"], cv=5)\n",
    "print(f\"mse={np.abs(np.mean(res_dict['test_neg_mean_squared_error'])):.2f}; r2={np.mean(res_dict['test_r2']):.2f}\")"
   ]
  },
  {
   "cell_type": "code",
   "execution_count": 16,
   "id": "44a7998e",
   "metadata": {},
   "outputs": [
    {
     "name": "stdout",
     "output_type": "stream",
     "text": [
      "mse=122705.52; r2=-0.01\n",
      "mse=108699.04; r2=0.11\n"
     ]
    }
   ],
   "source": [
    "svm_reg = SVR()\n",
    "\n",
    "res_dict = cross_validate(svm_reg, X, y_true, scoring=[\"neg_mean_squared_error\", \"r2\"], cv=5)\n",
    "print(f\"mse={np.abs(np.mean(res_dict['test_neg_mean_squared_error'])):.2f}; r2={np.mean(res_dict['test_r2']):.2f}\")\n",
    "\n",
    "res_dict = cross_validate(svm_reg, X_scaled, y_true, scoring=[\"neg_mean_squared_error\", \"r2\"], cv=5)\n",
    "print(f\"mse={np.abs(np.mean(res_dict['test_neg_mean_squared_error'])):.2f}; r2={np.mean(res_dict['test_r2']):.2f}\")"
   ]
  },
  {
   "cell_type": "markdown",
   "id": "93c6f57a",
   "metadata": {},
   "source": [
    "> Standardization is not needed in tree-based methods (boost performance in general); needed in other methods"
   ]
  },
  {
   "cell_type": "markdown",
   "id": "309d8f1d",
   "metadata": {},
   "source": [
    "### Choosing the right explained variance ratio for PCA\n",
    "\n",
    "The explained variance ratio is the percentage of variance that is attributed by each of the selected components."
   ]
  },
  {
   "cell_type": "code",
   "execution_count": 17,
   "id": "ccf2789d",
   "metadata": {},
   "outputs": [
    {
     "data": {
      "text/plain": [
       "Text(0.5, 1.0, 'The number of components needed to retain 90% variance explained')"
      ]
     },
     "execution_count": 17,
     "metadata": {},
     "output_type": "execute_result"
    },
    {
     "data": {
      "image/png": "[encoded data removed]",
      "text/plain": [
       "<Figure size 640x480 with 1 Axes>"
      ]
     },
     "metadata": {},
     "output_type": "display_data"
    }
   ],
   "source": [
    "pca = PCA()\n",
    "X_reduced = pca.fit_transform(X_scaled)\n",
    "exp_var = pca.explained_variance_ratio_\n",
    "cum_sum_eigvals = np.cumsum(exp_var)\n",
    "\n",
    "plt.plot(range(1, len(cum_sum_eigvals) + 1), cum_sum_eigvals, marker=\"o\", linestyle=\"--\")\n",
    "plt.axhline(y=0.9, color=\"r\", linestyle=\"-\")\n",
    "plt.xticks(range(1, len(cum_sum_eigvals) + 1))\n",
    "plt.xlabel(\"Number of Principal Components\")\n",
    "plt.ylabel(\"Cumulative Variance (%)\")\n",
    "plt.title(\"The number of components needed to retain 90% variance explained\")"
   ]
  },
  {
   "cell_type": "code",
   "execution_count": 18,
   "id": "c569f8fe",
   "metadata": {},
   "outputs": [],
   "source": [
    "pca = PCA(n_components=0.9) # retain 0.9 variance explained\n",
    "X_reduced = pca.fit_transform(X_scaled)"
   ]
  },
  {
   "cell_type": "code",
   "execution_count": 19,
   "id": "69e9e5df",
   "metadata": {},
   "outputs": [
    {
     "data": {
      "text/plain": [
       "(986, 9)"
      ]
     },
     "execution_count": 19,
     "metadata": {},
     "output_type": "execute_result"
    }
   ],
   "source": [
    "X_reduced.shape"
   ]
  },
  {
   "cell_type": "code",
   "execution_count": 20,
   "id": "dcf49e4e",
   "metadata": {},
   "outputs": [
    {
     "name": "stdout",
     "output_type": "stream",
     "text": [
      "mse=93415.24; r2=0.24\n",
      "mse=30503.41; r2=0.75\n"
     ]
    }
   ],
   "source": [
    "dt_reg = DecisionTreeRegressor()\n",
    "\n",
    "res_dict = cross_validate(dt_reg, X_reduced, y_true, scoring=[\"neg_mean_squared_error\", \"r2\"], cv=5)\n",
    "print(f\"mse={np.abs(np.mean(res_dict['test_neg_mean_squared_error'])):.2f}; r2={np.mean(res_dict['test_r2']):.2f}\")\n",
    "\n",
    "res_dict = cross_validate(dt_reg, X_scaled, y_true, scoring=[\"neg_mean_squared_error\", \"r2\"], cv=5)\n",
    "print(f\"mse={np.abs(np.mean(res_dict['test_neg_mean_squared_error'])):.2f}; r2={np.mean(res_dict['test_r2']):.2f}\")"
   ]
  },
  {
   "cell_type": "code",
   "execution_count": 21,
   "id": "d9009ff3",
   "metadata": {},
   "outputs": [
    {
     "name": "stdout",
     "output_type": "stream",
     "text": [
      "mse=48219.55; r2=0.61\n",
      "mse=24286.13; r2=0.80\n"
     ]
    }
   ],
   "source": [
    "rf_reg = RandomForestRegressor()\n",
    "\n",
    "res_dict = cross_validate(rf_reg, X_reduced, y_true, scoring=[\"neg_mean_squared_error\", \"r2\"], cv=5)\n",
    "print(f\"mse={np.abs(np.mean(res_dict['test_neg_mean_squared_error'])):.2f}; r2={np.mean(res_dict['test_r2']):.2f}\")\n",
    "\n",
    "res_dict = cross_validate(rf_reg, X_scaled, y_true, scoring=[\"neg_mean_squared_error\", \"r2\"], cv=5)\n",
    "print(f\"mse={np.abs(np.mean(res_dict['test_neg_mean_squared_error'])):.2f}; r2={np.mean(res_dict['test_r2']):.2f}\")"
   ]
  },
  {
   "cell_type": "code",
   "execution_count": 22,
   "id": "12d078be",
   "metadata": {},
   "outputs": [
    {
     "name": "stdout",
     "output_type": "stream",
     "text": [
      "mse=53484.80; r2=0.56\n",
      "mse=29853.29; r2=0.76\n"
     ]
    }
   ],
   "source": [
    "xgb_reg = xgb.XGBRegressor()\n",
    "\n",
    "res_dict = cross_validate(xgb_reg, X_reduced, y_true, scoring=[\"neg_mean_squared_error\", \"r2\"], cv=5)\n",
    "print(f\"mse={np.abs(np.mean(res_dict['test_neg_mean_squared_error'])):.2f}; r2={np.mean(res_dict['test_r2']):.2f}\")\n",
    "\n",
    "res_dict = cross_validate(xgb_reg, X_scaled, y_true, scoring=[\"neg_mean_squared_error\", \"r2\"], cv=5)\n",
    "print(f\"mse={np.abs(np.mean(res_dict['test_neg_mean_squared_error'])):.2f}; r2={np.mean(res_dict['test_r2']):.2f}\")"
   ]
  },
  {
   "cell_type": "markdown",
   "id": "b0d3eacb",
   "metadata": {},
   "source": [
    "> PCA doesn't help to improve the performance in tree-based methods"
   ]
  },
  {
   "cell_type": "markdown",
   "id": "a3ddf371",
   "metadata": {},
   "source": [
    "#### Decision Tree"
   ]
  },
  {
   "cell_type": "code",
   "execution_count": 23,
   "id": "416c069a",
   "metadata": {
    "scrolled": true
   },
   "outputs": [
    {
     "name": "stdout",
     "output_type": "stream",
     "text": [
      "mse=33782.55; r2=0.72\n",
      "[-0. -0. -0. -0. -0.]\n",
      "[-41053.09090909 -35785.4213198  -25756.58883249 -34352.73096447\n",
      " -31964.91370558]\n"
     ]
    }
   ],
   "source": [
    "# Baseline\n",
    "dt_reg = DecisionTreeRegressor(random_state=42, max_depth=15)\n",
    "\n",
    "res_dict = cross_validate(dt_reg, X_scaled, y_true, scoring=[\"neg_mean_squared_error\", \"r2\"], cv=5, return_train_score=True)\n",
    "print(f\"mse={np.abs(np.mean(res_dict['test_neg_mean_squared_error'])):.2f}; r2={np.mean(res_dict['test_r2']):.2f}\")\n",
    "print(res_dict[\"train_neg_mean_squared_error\"])\n",
    "print(res_dict[\"test_neg_mean_squared_error\"])"
   ]
  },
  {
   "cell_type": "markdown",
   "id": "70a5b48f",
   "metadata": {},
   "source": [
    "To reduce overfitting of Decision Tree\n",
    "- set max depth\n",
    "- pruning\n",
    "- set min number of samples required at leaf nodes"
   ]
  },
  {
   "cell_type": "code",
   "execution_count": 24,
   "id": "eba448c1",
   "metadata": {},
   "outputs": [
    {
     "name": "stdout",
     "output_type": "stream",
     "text": [
      "Fitting 5 folds for each of 100 candidates, totalling 500 fits\n",
      "[CV 1/5] END max_depth=11, min_samples_leaf=16;, score=-21999.986 total time=   0.0s\n",
      "[CV 2/5] END max_depth=11, min_samples_leaf=16;, score=-32313.308 total time=   0.0s\n",
      "[CV 3/5] END max_depth=11, min_samples_leaf=16;, score=-20305.909 total time=   0.0s\n",
      "[CV 4/5] END max_depth=11, min_samples_leaf=16;, score=-16675.187 total time=   0.0s\n",
      "[CV 5/5] END max_depth=11, min_samples_leaf=16;, score=-47086.165 total time=   0.0s\n",
      "[CV 1/5] END max_depth=12, min_samples_leaf=8;, score=-21739.423 total time=   0.0s\n",
      "[CV 2/5] END max_depth=12, min_samples_leaf=8;, score=-29129.657 total time=   0.0s\n",
      "[CV 3/5] END max_depth=12, min_samples_leaf=8;, score=-17139.780 total time=   0.0s\n",
      "[CV 4/5] END max_depth=12, min_samples_leaf=8;, score=-18908.818 total time=   0.0s\n",
      "[CV 5/5] END max_depth=12, min_samples_leaf=8;, score=-43598.986 total time=   0.0s\n",
      "[CV 1/5] END max_depth=14, min_samples_leaf=12;, score=-22207.894 total time=   0.0s\n",
      "[CV 2/5] END max_depth=14, min_samples_leaf=12;, score=-32731.730 total time=   0.0s\n",
      "[CV 3/5] END max_depth=14, min_samples_leaf=12;, score=-18473.353 total time=   0.0s\n",
      "[CV 4/5] END max_depth=14, min_samples_leaf=12;, score=-17645.448 total time=   0.0s\n",
      "[CV 5/5] END max_depth=14, min_samples_leaf=12;, score=-43149.687 total time=   0.0s\n",
      "[CV 1/5] END max_depth=12, min_samples_leaf=5;, score=-24735.823 total time=   0.0s\n",
      "[CV 2/5] END max_depth=12, min_samples_leaf=5;, score=-32092.681 total time=   0.0s\n",
      "[CV 3/5] END max_depth=12, min_samples_leaf=5;, score=-18190.104 total time=   0.0s\n",
      "[CV 4/5] END max_depth=12, min_samples_leaf=5;, score=-22780.506 total time=   0.0s\n",
      "[CV 5/5] END max_depth=12, min_samples_leaf=5;, score=-49361.732 total time=   0.0s\n",
      "[CV 1/5] END max_depth=12, min_samples_leaf=4;, score=-29726.318 total time=   0.0s\n",
      "[CV 2/5] END max_depth=12, min_samples_leaf=4;, score=-30767.941 total time=   0.0s\n",
      "[CV 3/5] END max_depth=12, min_samples_leaf=4;, score=-18160.733 total time=   0.0s\n",
      "[CV 4/5] END max_depth=12, min_samples_leaf=4;, score=-19203.044 total time=   0.0s\n",
      "[CV 5/5] END max_depth=12, min_samples_leaf=4;, score=-47736.747 total time=   0.0s\n",
      "[CV 1/5] END max_depth=10, min_samples_leaf=3;, score=-29682.078 total time=   0.0s\n",
      "[CV 2/5] END max_depth=10, min_samples_leaf=3;, score=-33275.051 total time=   0.0s\n",
      "[CV 3/5] END max_depth=10, min_samples_leaf=3;, score=-23523.111 total time=   0.0s\n",
      "[CV 4/5] END max_depth=10, min_samples_leaf=3;, score=-23890.845 total time=   0.0s\n",
      "[CV 5/5] END max_depth=10, min_samples_leaf=3;, score=-47195.921 total time=   0.0s\n",
      "[CV 1/5] END max_depth=12, min_samples_leaf=13;, score=-21846.653 total time=   0.0s\n",
      "[CV 2/5] END max_depth=12, min_samples_leaf=13;, score=-32538.792 total time=   0.0s\n",
      "[CV 3/5] END max_depth=12, min_samples_leaf=13;, score=-19480.677 total time=   0.0s\n",
      "[CV 4/5] END max_depth=12, min_samples_leaf=13;, score=-16535.280 total time=   0.0s\n",
      "[CV 5/5] END max_depth=12, min_samples_leaf=13;, score=-44587.943 total time=   0.0s\n",
      "[CV 1/5] END max_depth=10, min_samples_leaf=3;, score=-29139.503 total time=   0.0s\n",
      "[CV 2/5] END max_depth=10, min_samples_leaf=3;, score=-30379.602 total time=   0.0s\n",
      "[CV 3/5] END max_depth=10, min_samples_leaf=3;, score=-24656.108 total time=   0.0s\n",
      "[CV 4/5] END max_depth=10, min_samples_leaf=3;, score=-23380.560 total time=   0.0s\n",
      "[CV 5/5] END max_depth=10, min_samples_leaf=3;, score=-44687.829 total time=   0.0s\n",
      "[CV 1/5] END max_depth=9, min_samples_leaf=2;, score=-32813.829 total time=   0.0s\n",
      "[CV 2/5] END max_depth=9, min_samples_leaf=2;, score=-30385.415 total time=   0.0s\n",
      "[CV 3/5] END max_depth=9, min_samples_leaf=2;, score=-24268.137 total time=   0.0s\n",
      "[CV 4/5] END max_depth=9, min_samples_leaf=2;, score=-22278.921 total time=   0.0s\n",
      "[CV 5/5] END max_depth=9, min_samples_leaf=2;, score=-41529.586 total time=   0.0s\n",
      "[CV 1/5] END max_depth=14, min_samples_leaf=13;, score=-21843.861 total time=   0.0s\n",
      "[CV 2/5] END max_depth=14, min_samples_leaf=13;, score=-32533.400 total time=   0.0s\n",
      "[CV 3/5] END max_depth=14, min_samples_leaf=13;, score=-19490.592 total time=   0.0s\n",
      "[CV 4/5] END max_depth=14, min_samples_leaf=13;, score=-16535.280 total time=   0.0s\n",
      "[CV 5/5] END max_depth=14, min_samples_leaf=13;, score=-44550.412 total time=   0.0s\n",
      "[CV 1/5] END max_depth=13, min_samples_leaf=18;, score=-22718.776 total time=   0.0s\n",
      "[CV 2/5] END max_depth=13, min_samples_leaf=18;, score=-32783.600 total time=   0.0s\n",
      "[CV 3/5] END max_depth=13, min_samples_leaf=18;, score=-20057.675 total time=   0.0s\n",
      "[CV 4/5] END max_depth=13, min_samples_leaf=18;, score=-18693.614 total time=   0.0s\n",
      "[CV 5/5] END max_depth=13, min_samples_leaf=18;, score=-46294.603 total time=   0.0s\n",
      "[CV 1/5] END max_depth=14, min_samples_leaf=17;, score=-23411.892 total time=   0.0s\n",
      "[CV 2/5] END max_depth=14, min_samples_leaf=17;, score=-32801.948 total time=   0.0s\n",
      "[CV 3/5] END max_depth=14, min_samples_leaf=17;, score=-19955.601 total time=   0.0s\n",
      "[CV 4/5] END max_depth=14, min_samples_leaf=17;, score=-18965.717 total time=   0.0s\n",
      "[CV 5/5] END max_depth=14, min_samples_leaf=17;, score=-46238.119 total time=   0.0s\n",
      "[CV 1/5] END max_depth=7, min_samples_leaf=13;, score=-22209.453 total time=   0.0s\n",
      "[CV 2/5] END max_depth=7, min_samples_leaf=13;, score=-32518.482 total time=   0.0s\n",
      "[CV 3/5] END max_depth=7, min_samples_leaf=13;, score=-19377.010 total time=   0.0s\n",
      "[CV 4/5] END max_depth=7, min_samples_leaf=13;, score=-16735.769 total time=   0.0s\n",
      "[CV 5/5] END max_depth=7, min_samples_leaf=13;, score=-44692.127 total time=   0.0s\n",
      "[CV 1/5] END max_depth=11, min_samples_leaf=4;, score=-28886.341 total time=   0.0s\n",
      "[CV 2/5] END max_depth=11, min_samples_leaf=4;, score=-31871.596 total time=   0.0s\n",
      "[CV 3/5] END max_depth=11, min_samples_leaf=4;, score=-18238.337 total time=   0.0s\n",
      "[CV 4/5] END max_depth=11, min_samples_leaf=4;, score=-19191.180 total time=   0.0s\n",
      "[CV 5/5] END max_depth=11, min_samples_leaf=4;, score=-48654.620 total time=   0.0s\n",
      "[CV 1/5] END max_depth=9, min_samples_leaf=8;, score=-22262.718 total time=   0.0s\n",
      "[CV 2/5] END max_depth=9, min_samples_leaf=8;, score=-29878.693 total time=   0.0s\n",
      "[CV 3/5] END max_depth=9, min_samples_leaf=8;, score=-17181.584 total time=   0.0s\n",
      "[CV 4/5] END max_depth=9, min_samples_leaf=8;, score=-18984.722 total time=   0.0s\n",
      "[CV 5/5] END max_depth=9, min_samples_leaf=8;, score=-44164.986 total time=   0.0s\n",
      "[CV 1/5] END max_depth=9, min_samples_leaf=10;, score=-20185.652 total time=   0.0s\n",
      "[CV 2/5] END max_depth=9, min_samples_leaf=10;, score=-28866.132 total time=   0.0s\n",
      "[CV 3/5] END max_depth=9, min_samples_leaf=10;, score=-18749.815 total time=   0.0s\n",
      "[CV 4/5] END max_depth=9, min_samples_leaf=10;, score=-16448.421 total time=   0.0s\n",
      "[CV 5/5] END max_depth=9, min_samples_leaf=10;, score=-42273.267 total time=   0.0s\n",
      "[CV 1/5] END max_depth=11, min_samples_leaf=19;, score=-22159.977 total time=   0.0s\n",
      "[CV 2/5] END max_depth=11, min_samples_leaf=19;, score=-34371.030 total time=   0.0s\n",
      "[CV 3/5] END max_depth=11, min_samples_leaf=19;, score=-22545.401 total time=   0.0s\n",
      "[CV 4/5] END max_depth=11, min_samples_leaf=19;, score=-25181.102 total time=   0.0s\n",
      "[CV 5/5] END max_depth=11, min_samples_leaf=19;, score=-45669.805 total time=   0.0s\n",
      "[CV 1/5] END max_depth=8, min_samples_leaf=15;, score=-22129.402 total time=   0.0s\n",
      "[CV 2/5] END max_depth=8, min_samples_leaf=15;, score=-32254.293 total time=   0.0s\n",
      "[CV 3/5] END max_depth=8, min_samples_leaf=15;, score=-20062.396 total time=   0.0s\n",
      "[CV 4/5] END max_depth=8, min_samples_leaf=15;, score=-17177.478 total time=   0.0s\n",
      "[CV 5/5] END max_depth=8, min_samples_leaf=15;, score=-46533.041 total time=   0.0s\n",
      "[CV 1/5] END max_depth=6, min_samples_leaf=10;, score=-20052.244 total time=   0.0s\n",
      "[CV 2/5] END max_depth=6, min_samples_leaf=10;, score=-31031.385 total time=   0.0s\n",
      "[CV 3/5] END max_depth=6, min_samples_leaf=10;, score=-19103.836 total time=   0.0s\n",
      "[CV 4/5] END max_depth=6, min_samples_leaf=10;, score=-17644.229 total time=   0.0s\n",
      "[CV 5/5] END max_depth=6, min_samples_leaf=10;, score=-42918.795 total time=   0.0s\n",
      "[CV 1/5] END max_depth=14, min_samples_leaf=3;, score=-28805.185 total time=   0.0s\n",
      "[CV 2/5] END max_depth=14, min_samples_leaf=3;, score=-34149.510 total time=   0.0s\n",
      "[CV 3/5] END max_depth=14, min_samples_leaf=3;, score=-23785.198 total time=   0.0s\n",
      "[CV 4/5] END max_depth=14, min_samples_leaf=3;, score=-23268.815 total time=   0.0s\n",
      "[CV 5/5] END max_depth=14, min_samples_leaf=3;, score=-47974.017 total time=   0.0s\n",
      "[CV 1/5] END max_depth=8, min_samples_leaf=16;, score=-22885.507 total time=   0.0s\n",
      "[CV 2/5] END max_depth=8, min_samples_leaf=16;, score=-32465.612 total time=   0.0s\n",
      "[CV 3/5] END max_depth=8, min_samples_leaf=16;, score=-20308.115 total time=   0.0s\n",
      "[CV 4/5] END max_depth=8, min_samples_leaf=16;, score=-16702.874 total time=   0.0s\n",
      "[CV 5/5] END max_depth=8, min_samples_leaf=16;, score=-47026.426 total time=   0.0s\n",
      "[CV 1/5] END max_depth=11, min_samples_leaf=13;, score=-21843.861 total time=   0.0s\n",
      "[CV 2/5] END max_depth=11, min_samples_leaf=13;, score=-32538.792 total time=   0.0s\n",
      "[CV 3/5] END max_depth=11, min_samples_leaf=13;, score=-19527.001 total time=   0.0s\n",
      "[CV 4/5] END max_depth=11, min_samples_leaf=13;, score=-16535.280 total time=   0.0s\n",
      "[CV 5/5] END max_depth=11, min_samples_leaf=13;, score=-44594.670 total time=   0.0s\n",
      "[CV 1/5] END max_depth=12, min_samples_leaf=16;, score=-22951.278 total time=   0.0s\n",
      "[CV 2/5] END max_depth=12, min_samples_leaf=16;, score=-32313.308 total time=   0.0s\n",
      "[CV 3/5] END max_depth=12, min_samples_leaf=16;, score=-20295.994 total time=   0.0s\n",
      "[CV 4/5] END max_depth=12, min_samples_leaf=16;, score=-16675.187 total time=   0.0s\n",
      "[CV 5/5] END max_depth=12, min_samples_leaf=16;, score=-47030.642 total time=   0.0s\n"
     ]
    },
    {
     "name": "stdout",
     "output_type": "stream",
     "text": [
      "[CV 1/5] END max_depth=7, min_samples_leaf=15;, score=-23345.844 total time=   0.0s\n",
      "[CV 2/5] END max_depth=7, min_samples_leaf=15;, score=-32154.467 total time=   0.0s\n",
      "[CV 3/5] END max_depth=7, min_samples_leaf=15;, score=-20108.166 total time=   0.0s\n",
      "[CV 4/5] END max_depth=7, min_samples_leaf=15;, score=-17346.946 total time=   0.0s\n",
      "[CV 5/5] END max_depth=7, min_samples_leaf=15;, score=-46755.012 total time=   0.0s\n",
      "[CV 1/5] END max_depth=5, min_samples_leaf=5;, score=-27490.152 total time=   0.0s\n",
      "[CV 2/5] END max_depth=5, min_samples_leaf=5;, score=-39808.920 total time=   0.0s\n",
      "[CV 3/5] END max_depth=5, min_samples_leaf=5;, score=-21695.944 total time=   0.0s\n",
      "[CV 4/5] END max_depth=5, min_samples_leaf=5;, score=-28184.034 total time=   0.0s\n",
      "[CV 5/5] END max_depth=5, min_samples_leaf=5;, score=-51244.901 total time=   0.0s\n",
      "[CV 1/5] END max_depth=6, min_samples_leaf=9;, score=-19345.443 total time=   0.0s\n",
      "[CV 2/5] END max_depth=6, min_samples_leaf=9;, score=-31413.907 total time=   0.0s\n",
      "[CV 3/5] END max_depth=6, min_samples_leaf=9;, score=-19139.347 total time=   0.0s\n",
      "[CV 4/5] END max_depth=6, min_samples_leaf=9;, score=-17492.327 total time=   0.0s\n",
      "[CV 5/5] END max_depth=6, min_samples_leaf=9;, score=-43804.006 total time=   0.0s\n",
      "[CV 1/5] END max_depth=8, min_samples_leaf=3;, score=-30789.128 total time=   0.0s\n",
      "[CV 2/5] END max_depth=8, min_samples_leaf=3;, score=-30832.182 total time=   0.0s\n",
      "[CV 3/5] END max_depth=8, min_samples_leaf=3;, score=-24261.538 total time=   0.0s\n",
      "[CV 4/5] END max_depth=8, min_samples_leaf=3;, score=-22937.507 total time=   0.0s\n",
      "[CV 5/5] END max_depth=8, min_samples_leaf=3;, score=-45360.859 total time=   0.0s\n",
      "[CV 1/5] END max_depth=10, min_samples_leaf=11;, score=-20149.698 total time=   0.0s\n",
      "[CV 2/5] END max_depth=10, min_samples_leaf=11;, score=-31485.950 total time=   0.0s\n",
      "[CV 3/5] END max_depth=10, min_samples_leaf=11;, score=-18334.477 total time=   0.0s\n",
      "[CV 4/5] END max_depth=10, min_samples_leaf=11;, score=-17612.566 total time=   0.0s\n",
      "[CV 5/5] END max_depth=10, min_samples_leaf=11;, score=-41726.886 total time=   0.0s\n",
      "[CV 1/5] END max_depth=8, min_samples_leaf=19;, score=-22051.015 total time=   0.0s\n",
      "[CV 2/5] END max_depth=8, min_samples_leaf=19;, score=-34536.041 total time=   0.0s\n",
      "[CV 3/5] END max_depth=8, min_samples_leaf=19;, score=-22598.242 total time=   0.0s\n",
      "[CV 4/5] END max_depth=8, min_samples_leaf=19;, score=-25181.427 total time=   0.0s\n",
      "[CV 5/5] END max_depth=8, min_samples_leaf=19;, score=-45652.652 total time=   0.0s\n",
      "[CV 1/5] END max_depth=14, min_samples_leaf=13;, score=-21846.653 total time=   0.0s\n",
      "[CV 2/5] END max_depth=14, min_samples_leaf=13;, score=-32538.792 total time=   0.0s\n",
      "[CV 3/5] END max_depth=14, min_samples_leaf=13;, score=-19468.524 total time=   0.0s\n",
      "[CV 4/5] END max_depth=14, min_samples_leaf=13;, score=-16535.280 total time=   0.0s\n",
      "[CV 5/5] END max_depth=14, min_samples_leaf=13;, score=-43896.755 total time=   0.0s\n",
      "[CV 1/5] END max_depth=6, min_samples_leaf=11;, score=-20235.086 total time=   0.0s\n",
      "[CV 2/5] END max_depth=6, min_samples_leaf=11;, score=-34168.828 total time=   0.0s\n",
      "[CV 3/5] END max_depth=6, min_samples_leaf=11;, score=-19446.389 total time=   0.0s\n",
      "[CV 4/5] END max_depth=6, min_samples_leaf=11;, score=-18464.855 total time=   0.0s\n",
      "[CV 5/5] END max_depth=6, min_samples_leaf=11;, score=-43089.502 total time=   0.0s\n",
      "[CV 1/5] END max_depth=8, min_samples_leaf=15;, score=-22129.402 total time=   0.0s\n",
      "[CV 2/5] END max_depth=8, min_samples_leaf=15;, score=-32254.293 total time=   0.0s\n",
      "[CV 3/5] END max_depth=8, min_samples_leaf=15;, score=-20072.311 total time=   0.0s\n",
      "[CV 4/5] END max_depth=8, min_samples_leaf=15;, score=-17177.478 total time=   0.0s\n",
      "[CV 5/5] END max_depth=8, min_samples_leaf=15;, score=-46492.289 total time=   0.0s\n",
      "[CV 1/5] END max_depth=12, min_samples_leaf=15;, score=-23125.426 total time=   0.0s\n",
      "[CV 2/5] END max_depth=12, min_samples_leaf=15;, score=-32101.988 total time=   0.0s\n",
      "[CV 3/5] END max_depth=12, min_samples_leaf=15;, score=-20070.105 total time=   0.0s\n",
      "[CV 4/5] END max_depth=12, min_samples_leaf=15;, score=-17149.791 total time=   0.0s\n",
      "[CV 5/5] END max_depth=12, min_samples_leaf=15;, score=-46611.281 total time=   0.0s\n",
      "[CV 1/5] END max_depth=11, min_samples_leaf=9;, score=-18945.698 total time=   0.0s\n",
      "[CV 2/5] END max_depth=11, min_samples_leaf=9;, score=-28909.492 total time=   0.0s\n",
      "[CV 3/5] END max_depth=11, min_samples_leaf=9;, score=-18126.437 total time=   0.0s\n",
      "[CV 4/5] END max_depth=11, min_samples_leaf=9;, score=-16607.063 total time=   0.0s\n",
      "[CV 5/5] END max_depth=11, min_samples_leaf=9;, score=-43982.212 total time=   0.0s\n",
      "[CV 1/5] END max_depth=9, min_samples_leaf=17;, score=-23409.008 total time=   0.0s\n",
      "[CV 2/5] END max_depth=9, min_samples_leaf=17;, score=-32672.991 total time=   0.0s\n",
      "[CV 3/5] END max_depth=9, min_samples_leaf=17;, score=-20009.449 total time=   0.0s\n",
      "[CV 4/5] END max_depth=9, min_samples_leaf=17;, score=-18985.121 total time=   0.0s\n",
      "[CV 5/5] END max_depth=9, min_samples_leaf=17;, score=-46277.027 total time=   0.0s\n",
      "[CV 1/5] END max_depth=6, min_samples_leaf=16;, score=-23143.387 total time=   0.0s\n",
      "[CV 2/5] END max_depth=6, min_samples_leaf=16;, score=-33487.052 total time=   0.0s\n",
      "[CV 3/5] END max_depth=6, min_samples_leaf=16;, score=-20897.272 total time=   0.0s\n",
      "[CV 4/5] END max_depth=6, min_samples_leaf=16;, score=-17530.584 total time=   0.0s\n",
      "[CV 5/5] END max_depth=6, min_samples_leaf=16;, score=-47600.807 total time=   0.0s\n",
      "[CV 1/5] END max_depth=9, min_samples_leaf=14;, score=-24499.672 total time=   0.0s\n",
      "[CV 2/5] END max_depth=9, min_samples_leaf=14;, score=-32920.681 total time=   0.0s\n",
      "[CV 3/5] END max_depth=9, min_samples_leaf=14;, score=-19207.385 total time=   0.0s\n",
      "[CV 4/5] END max_depth=9, min_samples_leaf=14;, score=-17130.504 total time=   0.0s\n",
      "[CV 5/5] END max_depth=9, min_samples_leaf=14;, score=-44507.271 total time=   0.0s\n",
      "[CV 1/5] END max_depth=13, min_samples_leaf=16;, score=-22990.737 total time=   0.0s\n",
      "[CV 2/5] END max_depth=13, min_samples_leaf=16;, score=-32313.308 total time=   0.0s\n",
      "[CV 3/5] END max_depth=13, min_samples_leaf=16;, score=-20295.994 total time=   0.0s\n",
      "[CV 4/5] END max_depth=13, min_samples_leaf=16;, score=-16675.187 total time=   0.0s\n",
      "[CV 5/5] END max_depth=13, min_samples_leaf=16;, score=-47038.338 total time=   0.0s\n",
      "[CV 1/5] END max_depth=5, min_samples_leaf=8;, score=-24856.332 total time=   0.0s\n",
      "[CV 2/5] END max_depth=5, min_samples_leaf=8;, score=-36903.638 total time=   0.0s\n",
      "[CV 3/5] END max_depth=5, min_samples_leaf=8;, score=-21274.371 total time=   0.0s\n",
      "[CV 4/5] END max_depth=5, min_samples_leaf=8;, score=-26969.253 total time=   0.0s\n",
      "[CV 5/5] END max_depth=5, min_samples_leaf=8;, score=-47649.932 total time=   0.0s\n",
      "[CV 1/5] END max_depth=13, min_samples_leaf=2;, score=-35625.365 total time=   0.0s\n",
      "[CV 2/5] END max_depth=13, min_samples_leaf=2;, score=-31520.514 total time=   0.0s\n",
      "[CV 3/5] END max_depth=13, min_samples_leaf=2;, score=-25412.566 total time=   0.0s\n",
      "[CV 4/5] END max_depth=13, min_samples_leaf=2;, score=-25323.686 total time=   0.0s\n",
      "[CV 5/5] END max_depth=13, min_samples_leaf=2;, score=-41877.451 total time=   0.0s\n",
      "[CV 1/5] END max_depth=12, min_samples_leaf=12;, score=-22207.894 total time=   0.0s\n",
      "[CV 2/5] END max_depth=12, min_samples_leaf=12;, score=-32731.730 total time=   0.0s\n",
      "[CV 3/5] END max_depth=12, min_samples_leaf=12;, score=-18537.332 total time=   0.0s\n",
      "[CV 4/5] END max_depth=12, min_samples_leaf=12;, score=-17644.601 total time=   0.0s\n",
      "[CV 5/5] END max_depth=12, min_samples_leaf=12;, score=-43149.687 total time=   0.0s\n",
      "[CV 1/5] END max_depth=7, min_samples_leaf=18;, score=-22550.905 total time=   0.0s\n",
      "[CV 2/5] END max_depth=7, min_samples_leaf=18;, score=-32987.753 total time=   0.0s\n",
      "[CV 3/5] END max_depth=7, min_samples_leaf=18;, score=-20059.562 total time=   0.0s\n",
      "[CV 4/5] END max_depth=7, min_samples_leaf=18;, score=-18496.432 total time=   0.0s\n",
      "[CV 5/5] END max_depth=7, min_samples_leaf=18;, score=-46453.866 total time=   0.0s\n",
      "[CV 1/5] END max_depth=12, min_samples_leaf=4;, score=-28425.481 total time=   0.0s\n",
      "[CV 2/5] END max_depth=12, min_samples_leaf=4;, score=-31744.246 total time=   0.0s\n",
      "[CV 3/5] END max_depth=12, min_samples_leaf=4;, score=-17856.287 total time=   0.0s\n",
      "[CV 4/5] END max_depth=12, min_samples_leaf=4;, score=-19205.034 total time=   0.0s\n",
      "[CV 5/5] END max_depth=12, min_samples_leaf=4;, score=-48762.624 total time=   0.0s\n",
      "[CV 1/5] END max_depth=7, min_samples_leaf=2;, score=-23711.696 total time=   0.0s\n",
      "[CV 2/5] END max_depth=7, min_samples_leaf=2;, score=-31413.225 total time=   0.0s\n",
      "[CV 3/5] END max_depth=7, min_samples_leaf=2;, score=-26405.225 total time=   0.0s\n",
      "[CV 4/5] END max_depth=7, min_samples_leaf=2;, score=-18548.045 total time=   0.0s\n",
      "[CV 5/5] END max_depth=7, min_samples_leaf=2;, score=-39029.346 total time=   0.0s\n",
      "[CV 1/5] END max_depth=9, min_samples_leaf=11;, score=-20239.044 total time=   0.0s\n",
      "[CV 2/5] END max_depth=9, min_samples_leaf=11;, score=-31814.802 total time=   0.0s\n",
      "[CV 3/5] END max_depth=9, min_samples_leaf=11;, score=-18733.406 total time=   0.0s\n",
      "[CV 4/5] END max_depth=9, min_samples_leaf=11;, score=-17608.368 total time=   0.0s\n",
      "[CV 5/5] END max_depth=9, min_samples_leaf=11;, score=-41750.756 total time=   0.0s\n",
      "[CV 1/5] END max_depth=11, min_samples_leaf=10;, score=-20484.246 total time=   0.0s\n",
      "[CV 2/5] END max_depth=11, min_samples_leaf=10;, score=-28801.600 total time=   0.0s\n",
      "[CV 3/5] END max_depth=11, min_samples_leaf=10;, score=-18636.059 total time=   0.0s\n",
      "[CV 4/5] END max_depth=11, min_samples_leaf=10;, score=-16514.730 total time=   0.0s\n",
      "[CV 5/5] END max_depth=11, min_samples_leaf=10;, score=-41632.233 total time=   0.0s\n",
      "[CV 1/5] END max_depth=11, min_samples_leaf=10;, score=-20393.744 total time=   0.0s\n",
      "[CV 2/5] END max_depth=11, min_samples_leaf=10;, score=-28836.462 total time=   0.0s\n",
      "[CV 3/5] END max_depth=11, min_samples_leaf=10;, score=-18401.804 total time=   0.0s\n",
      "[CV 4/5] END max_depth=11, min_samples_leaf=10;, score=-16470.511 total time=   0.0s\n",
      "[CV 5/5] END max_depth=11, min_samples_leaf=10;, score=-41580.816 total time=   0.0s\n",
      "[CV 1/5] END max_depth=12, min_samples_leaf=13;, score=-21843.861 total time=   0.0s\n",
      "[CV 2/5] END max_depth=12, min_samples_leaf=13;, score=-32538.792 total time=   0.0s\n",
      "[CV 3/5] END max_depth=12, min_samples_leaf=13;, score=-19490.592 total time=   0.0s\n",
      "[CV 4/5] END max_depth=12, min_samples_leaf=13;, score=-16535.280 total time=   0.0s\n",
      "[CV 5/5] END max_depth=12, min_samples_leaf=13;, score=-43849.275 total time=   0.0s\n",
      "[CV 1/5] END max_depth=6, min_samples_leaf=2;, score=-19729.349 total time=   0.0s\n",
      "[CV 2/5] END max_depth=6, min_samples_leaf=2;, score=-32076.768 total time=   0.0s\n",
      "[CV 3/5] END max_depth=6, min_samples_leaf=2;, score=-26822.108 total time=   0.0s\n",
      "[CV 4/5] END max_depth=6, min_samples_leaf=2;, score=-14076.730 total time=   0.0s\n",
      "[CV 5/5] END max_depth=6, min_samples_leaf=2;, score=-47242.020 total time=   0.0s\n",
      "[CV 1/5] END max_depth=11, min_samples_leaf=6;, score=-23459.363 total time=   0.0s\n",
      "[CV 2/5] END max_depth=11, min_samples_leaf=6;, score=-32209.923 total time=   0.0s\n",
      "[CV 3/5] END max_depth=11, min_samples_leaf=6;, score=-17266.418 total time=   0.0s\n",
      "[CV 4/5] END max_depth=11, min_samples_leaf=6;, score=-22391.360 total time=   0.0s\n",
      "[CV 5/5] END max_depth=11, min_samples_leaf=6;, score=-47894.966 total time=   0.0s\n",
      "[CV 1/5] END max_depth=7, min_samples_leaf=13;, score=-22209.453 total time=   0.0s\n",
      "[CV 2/5] END max_depth=7, min_samples_leaf=13;, score=-32518.482 total time=   0.0s\n",
      "[CV 3/5] END max_depth=7, min_samples_leaf=13;, score=-19367.095 total time=   0.0s\n",
      "[CV 4/5] END max_depth=7, min_samples_leaf=13;, score=-16735.769 total time=   0.0s\n",
      "[CV 5/5] END max_depth=7, min_samples_leaf=13;, score=-44079.124 total time=   0.0s\n",
      "[CV 1/5] END max_depth=12, min_samples_leaf=4;, score=-29009.631 total time=   0.0s\n"
     ]
    },
    {
     "name": "stdout",
     "output_type": "stream",
     "text": [
      "[CV 2/5] END max_depth=12, min_samples_leaf=4;, score=-30763.961 total time=   0.0s\n",
      "[CV 3/5] END max_depth=12, min_samples_leaf=4;, score=-17856.287 total time=   0.0s\n",
      "[CV 4/5] END max_depth=12, min_samples_leaf=4;, score=-19219.958 total time=   0.0s\n",
      "[CV 5/5] END max_depth=12, min_samples_leaf=4;, score=-47704.910 total time=   0.0s\n",
      "[CV 1/5] END max_depth=5, min_samples_leaf=4;, score=-28256.492 total time=   0.0s\n",
      "[CV 2/5] END max_depth=5, min_samples_leaf=4;, score=-40867.324 total time=   0.0s\n",
      "[CV 3/5] END max_depth=5, min_samples_leaf=4;, score=-21619.574 total time=   0.0s\n",
      "[CV 4/5] END max_depth=5, min_samples_leaf=4;, score=-27256.755 total time=   0.0s\n",
      "[CV 5/5] END max_depth=5, min_samples_leaf=4;, score=-52750.455 total time=   0.0s\n",
      "[CV 1/5] END max_depth=9, min_samples_leaf=16;, score=-22948.394 total time=   0.0s\n",
      "[CV 2/5] END max_depth=9, min_samples_leaf=16;, score=-32318.012 total time=   0.0s\n",
      "[CV 3/5] END max_depth=9, min_samples_leaf=16;, score=-20349.842 total time=   0.0s\n",
      "[CV 4/5] END max_depth=9, min_samples_leaf=16;, score=-16675.187 total time=   0.0s\n",
      "[CV 5/5] END max_depth=9, min_samples_leaf=16;, score=-47014.027 total time=   0.0s\n",
      "[CV 1/5] END max_depth=7, min_samples_leaf=2;, score=-24368.109 total time=   0.0s\n",
      "[CV 2/5] END max_depth=7, min_samples_leaf=2;, score=-32455.905 total time=   0.0s\n",
      "[CV 3/5] END max_depth=7, min_samples_leaf=2;, score=-26405.225 total time=   0.0s\n",
      "[CV 4/5] END max_depth=7, min_samples_leaf=2;, score=-18448.995 total time=   0.0s\n",
      "[CV 5/5] END max_depth=7, min_samples_leaf=2;, score=-44891.438 total time=   0.0s\n",
      "[CV 1/5] END max_depth=9, min_samples_leaf=15;, score=-22159.596 total time=   0.0s\n",
      "[CV 2/5] END max_depth=9, min_samples_leaf=15;, score=-32106.692 total time=   0.0s\n",
      "[CV 3/5] END max_depth=9, min_samples_leaf=15;, score=-20123.953 total time=   0.0s\n",
      "[CV 4/5] END max_depth=9, min_samples_leaf=15;, score=-17149.791 total time=   0.0s\n",
      "[CV 5/5] END max_depth=9, min_samples_leaf=15;, score=-46576.164 total time=   0.0s\n",
      "[CV 1/5] END max_depth=11, min_samples_leaf=10;, score=-20393.269 total time=   0.0s\n",
      "[CV 2/5] END max_depth=11, min_samples_leaf=10;, score=-28801.379 total time=   0.0s\n",
      "[CV 3/5] END max_depth=11, min_samples_leaf=10;, score=-18409.734 total time=   0.0s\n",
      "[CV 4/5] END max_depth=11, min_samples_leaf=10;, score=-16469.079 total time=   0.0s\n",
      "[CV 5/5] END max_depth=11, min_samples_leaf=10;, score=-41632.392 total time=   0.0s\n",
      "[CV 1/5] END max_depth=14, min_samples_leaf=11;, score=-19644.400 total time=   0.0s\n",
      "[CV 2/5] END max_depth=14, min_samples_leaf=11;, score=-31476.787 total time=   0.0s\n",
      "[CV 3/5] END max_depth=14, min_samples_leaf=11;, score=-18752.575 total time=   0.0s\n",
      "[CV 4/5] END max_depth=14, min_samples_leaf=11;, score=-17612.566 total time=   0.0s\n",
      "[CV 5/5] END max_depth=14, min_samples_leaf=11;, score=-42408.171 total time=   0.0s\n",
      "[CV 1/5] END max_depth=7, min_samples_leaf=8;, score=-22084.052 total time=   0.0s\n",
      "[CV 2/5] END max_depth=7, min_samples_leaf=8;, score=-29086.962 total time=   0.0s\n",
      "[CV 3/5] END max_depth=7, min_samples_leaf=8;, score=-17834.308 total time=   0.0s\n",
      "[CV 4/5] END max_depth=7, min_samples_leaf=8;, score=-19022.552 total time=   0.0s\n",
      "[CV 5/5] END max_depth=7, min_samples_leaf=8;, score=-44775.231 total time=   0.0s\n",
      "[CV 1/5] END max_depth=5, min_samples_leaf=5;, score=-27495.854 total time=   0.0s\n",
      "[CV 2/5] END max_depth=5, min_samples_leaf=5;, score=-39814.650 total time=   0.0s\n",
      "[CV 3/5] END max_depth=5, min_samples_leaf=5;, score=-21741.790 total time=   0.0s\n",
      "[CV 4/5] END max_depth=5, min_samples_leaf=5;, score=-28184.034 total time=   0.0s\n",
      "[CV 5/5] END max_depth=5, min_samples_leaf=5;, score=-49865.061 total time=   0.0s\n",
      "[CV 1/5] END max_depth=9, min_samples_leaf=8;, score=-21871.017 total time=   0.0s\n",
      "[CV 2/5] END max_depth=9, min_samples_leaf=8;, score=-29185.172 total time=   0.0s\n",
      "[CV 3/5] END max_depth=9, min_samples_leaf=8;, score=-17169.396 total time=   0.0s\n",
      "[CV 4/5] END max_depth=9, min_samples_leaf=8;, score=-18997.223 total time=   0.0s\n",
      "[CV 5/5] END max_depth=9, min_samples_leaf=8;, score=-44224.819 total time=   0.0s\n",
      "[CV 1/5] END max_depth=8, min_samples_leaf=14;, score=-24498.819 total time=   0.0s\n",
      "[CV 2/5] END max_depth=8, min_samples_leaf=14;, score=-33068.282 total time=   0.0s\n",
      "[CV 3/5] END max_depth=8, min_samples_leaf=14;, score=-19166.321 total time=   0.0s\n",
      "[CV 4/5] END max_depth=8, min_samples_leaf=14;, score=-17164.770 total time=   0.0s\n",
      "[CV 5/5] END max_depth=8, min_samples_leaf=14;, score=-44454.382 total time=   0.0s\n",
      "[CV 1/5] END max_depth=11, min_samples_leaf=3;, score=-28972.875 total time=   0.0s\n",
      "[CV 2/5] END max_depth=11, min_samples_leaf=3;, score=-30550.097 total time=   0.0s\n",
      "[CV 3/5] END max_depth=11, min_samples_leaf=3;, score=-24470.103 total time=   0.0s\n",
      "[CV 4/5] END max_depth=11, min_samples_leaf=3;, score=-23996.989 total time=   0.0s\n",
      "[CV 5/5] END max_depth=11, min_samples_leaf=3;, score=-44974.653 total time=   0.0s\n",
      "[CV 1/5] END max_depth=14, min_samples_leaf=14;, score=-24504.092 total time=   0.0s\n",
      "[CV 2/5] END max_depth=14, min_samples_leaf=14;, score=-33173.620 total time=   0.0s\n",
      "[CV 3/5] END max_depth=14, min_samples_leaf=14;, score=-19198.243 total time=   0.0s\n",
      "[CV 4/5] END max_depth=14, min_samples_leaf=14;, score=-17140.433 total time=   0.0s\n",
      "[CV 5/5] END max_depth=14, min_samples_leaf=14;, score=-43840.440 total time=   0.0s\n",
      "[CV 1/5] END max_depth=13, min_samples_leaf=7;, score=-23683.337 total time=   0.0s\n",
      "[CV 2/5] END max_depth=13, min_samples_leaf=7;, score=-29515.345 total time=   0.0s\n",
      "[CV 3/5] END max_depth=13, min_samples_leaf=7;, score=-17120.475 total time=   0.0s\n",
      "[CV 4/5] END max_depth=13, min_samples_leaf=7;, score=-17994.458 total time=   0.0s\n",
      "[CV 5/5] END max_depth=13, min_samples_leaf=7;, score=-45771.764 total time=   0.0s\n",
      "[CV 1/5] END max_depth=8, min_samples_leaf=12;, score=-22324.135 total time=   0.0s\n",
      "[CV 2/5] END max_depth=8, min_samples_leaf=12;, score=-32956.159 total time=   0.0s\n",
      "[CV 3/5] END max_depth=8, min_samples_leaf=12;, score=-18620.961 total time=   0.0s\n",
      "[CV 4/5] END max_depth=8, min_samples_leaf=12;, score=-17669.331 total time=   0.0s\n",
      "[CV 5/5] END max_depth=8, min_samples_leaf=12;, score=-43779.971 total time=   0.0s\n",
      "[CV 1/5] END max_depth=14, min_samples_leaf=8;, score=-22181.315 total time=   0.0s\n",
      "[CV 2/5] END max_depth=14, min_samples_leaf=8;, score=-29057.063 total time=   0.0s\n",
      "[CV 3/5] END max_depth=14, min_samples_leaf=8;, score=-17146.277 total time=   0.0s\n",
      "[CV 4/5] END max_depth=14, min_samples_leaf=8;, score=-18922.105 total time=   0.0s\n",
      "[CV 5/5] END max_depth=14, min_samples_leaf=8;, score=-43571.421 total time=   0.0s\n",
      "[CV 1/5] END max_depth=5, min_samples_leaf=2;, score=-22268.796 total time=   0.0s\n",
      "[CV 2/5] END max_depth=5, min_samples_leaf=2;, score=-37196.519 total time=   0.0s\n",
      "[CV 3/5] END max_depth=5, min_samples_leaf=2;, score=-26071.658 total time=   0.0s\n",
      "[CV 4/5] END max_depth=5, min_samples_leaf=2;, score=-22339.278 total time=   0.0s\n",
      "[CV 5/5] END max_depth=5, min_samples_leaf=2;, score=-49499.436 total time=   0.0s\n",
      "[CV 1/5] END max_depth=13, min_samples_leaf=14;, score=-24502.556 total time=   0.0s\n",
      "[CV 2/5] END max_depth=13, min_samples_leaf=14;, score=-33173.620 total time=   0.0s\n",
      "[CV 3/5] END max_depth=13, min_samples_leaf=14;, score=-19146.352 total time=   0.0s\n",
      "[CV 4/5] END max_depth=13, min_samples_leaf=14;, score=-17133.854 total time=   0.0s\n",
      "[CV 5/5] END max_depth=13, min_samples_leaf=14;, score=-43826.962 total time=   0.0s\n",
      "[CV 1/5] END max_depth=13, min_samples_leaf=4;, score=-29587.781 total time=   0.0s\n",
      "[CV 2/5] END max_depth=13, min_samples_leaf=4;, score=-30891.312 total time=   0.0s\n",
      "[CV 3/5] END max_depth=13, min_samples_leaf=4;, score=-17842.358 total time=   0.0s\n",
      "[CV 4/5] END max_depth=13, min_samples_leaf=4;, score=-19284.379 total time=   0.0s\n",
      "[CV 5/5] END max_depth=13, min_samples_leaf=4;, score=-48778.543 total time=   0.0s\n",
      "[CV 1/5] END max_depth=11, min_samples_leaf=7;, score=-23756.474 total time=   0.0s\n",
      "[CV 2/5] END max_depth=11, min_samples_leaf=7;, score=-28851.077 total time=   0.0s\n",
      "[CV 3/5] END max_depth=11, min_samples_leaf=7;, score=-17125.673 total time=   0.0s\n",
      "[CV 4/5] END max_depth=11, min_samples_leaf=7;, score=-17914.418 total time=   0.0s\n",
      "[CV 5/5] END max_depth=11, min_samples_leaf=7;, score=-46786.154 total time=   0.0s\n",
      "[CV 1/5] END max_depth=12, min_samples_leaf=10;, score=-20483.771 total time=   0.0s\n",
      "[CV 2/5] END max_depth=12, min_samples_leaf=10;, score=-28801.220 total time=   0.0s\n",
      "[CV 3/5] END max_depth=12, min_samples_leaf=10;, score=-18459.923 total time=   0.0s\n",
      "[CV 4/5] END max_depth=12, min_samples_leaf=10;, score=-16469.079 total time=   0.0s\n",
      "[CV 5/5] END max_depth=12, min_samples_leaf=10;, score=-42307.846 total time=   0.0s\n",
      "[CV 1/5] END max_depth=9, min_samples_leaf=2;, score=-32813.829 total time=   0.0s\n",
      "[CV 2/5] END max_depth=9, min_samples_leaf=2;, score=-31229.111 total time=   0.0s\n",
      "[CV 3/5] END max_depth=9, min_samples_leaf=2;, score=-24268.137 total time=   0.0s\n",
      "[CV 4/5] END max_depth=9, min_samples_leaf=2;, score=-22951.489 total time=   0.0s\n",
      "[CV 5/5] END max_depth=9, min_samples_leaf=2;, score=-41215.190 total time=   0.0s\n",
      "[CV 1/5] END max_depth=7, min_samples_leaf=11;, score=-20573.547 total time=   0.0s\n",
      "[CV 2/5] END max_depth=7, min_samples_leaf=11;, score=-31467.067 total time=   0.0s\n",
      "[CV 3/5] END max_depth=7, min_samples_leaf=11;, score=-18601.196 total time=   0.0s\n",
      "[CV 4/5] END max_depth=7, min_samples_leaf=11;, score=-17605.837 total time=   0.0s\n",
      "[CV 5/5] END max_depth=7, min_samples_leaf=11;, score=-42164.963 total time=   0.0s\n",
      "[CV 1/5] END max_depth=12, min_samples_leaf=16;, score=-22990.737 total time=   0.0s\n",
      "[CV 2/5] END max_depth=12, min_samples_leaf=16;, score=-32313.308 total time=   0.0s\n",
      "[CV 3/5] END max_depth=12, min_samples_leaf=16;, score=-20305.909 total time=   0.0s\n",
      "[CV 4/5] END max_depth=12, min_samples_leaf=16;, score=-16675.187 total time=   0.0s\n",
      "[CV 5/5] END max_depth=12, min_samples_leaf=16;, score=-47007.399 total time=   0.0s\n",
      "[CV 1/5] END max_depth=10, min_samples_leaf=10;, score=-20477.529 total time=   0.0s\n",
      "[CV 2/5] END max_depth=10, min_samples_leaf=10;, score=-28788.207 total time=   0.0s\n",
      "[CV 3/5] END max_depth=10, min_samples_leaf=10;, score=-18357.581 total time=   0.0s\n",
      "[CV 4/5] END max_depth=10, min_samples_leaf=10;, score=-16470.511 total time=   0.0s\n",
      "[CV 5/5] END max_depth=10, min_samples_leaf=10;, score=-42275.554 total time=   0.0s\n",
      "[CV 1/5] END max_depth=8, min_samples_leaf=18;, score=-22613.545 total time=   0.0s\n",
      "[CV 2/5] END max_depth=8, min_samples_leaf=18;, score=-33070.598 total time=   0.0s\n",
      "[CV 3/5] END max_depth=8, min_samples_leaf=18;, score=-19999.953 total time=   0.0s\n",
      "[CV 4/5] END max_depth=8, min_samples_leaf=18;, score=-18709.532 total time=   0.0s\n",
      "[CV 5/5] END max_depth=8, min_samples_leaf=18;, score=-46209.464 total time=   0.0s\n",
      "[CV 1/5] END max_depth=5, min_samples_leaf=13;, score=-25802.556 total time=   0.0s\n",
      "[CV 2/5] END max_depth=5, min_samples_leaf=13;, score=-35818.329 total time=   0.0s\n",
      "[CV 3/5] END max_depth=5, min_samples_leaf=13;, score=-22003.020 total time=   0.0s\n",
      "[CV 4/5] END max_depth=5, min_samples_leaf=13;, score=-24104.475 total time=   0.0s\n",
      "[CV 5/5] END max_depth=5, min_samples_leaf=13;, score=-46415.015 total time=   0.0s\n",
      "[CV 1/5] END max_depth=11, min_samples_leaf=3;, score=-28972.875 total time=   0.0s\n",
      "[CV 2/5] END max_depth=11, min_samples_leaf=3;, score=-30824.253 total time=   0.0s\n",
      "[CV 3/5] END max_depth=11, min_samples_leaf=3;, score=-24695.729 total time=   0.0s\n",
      "[CV 4/5] END max_depth=11, min_samples_leaf=3;, score=-24144.016 total time=   0.0s\n",
      "[CV 5/5] END max_depth=11, min_samples_leaf=3;, score=-47153.757 total time=   0.0s\n"
     ]
    },
    {
     "name": "stdout",
     "output_type": "stream",
     "text": [
      "[CV 1/5] END max_depth=7, min_samples_leaf=18;, score=-22550.905 total time=   0.0s\n",
      "[CV 2/5] END max_depth=7, min_samples_leaf=18;, score=-32844.483 total time=   0.0s\n",
      "[CV 3/5] END max_depth=7, min_samples_leaf=18;, score=-20059.562 total time=   0.0s\n",
      "[CV 4/5] END max_depth=7, min_samples_leaf=18;, score=-18496.432 total time=   0.0s\n",
      "[CV 5/5] END max_depth=7, min_samples_leaf=18;, score=-46453.866 total time=   0.0s\n",
      "[CV 1/5] END max_depth=9, min_samples_leaf=18;, score=-22715.892 total time=   0.0s\n",
      "[CV 2/5] END max_depth=9, min_samples_leaf=18;, score=-32787.329 total time=   0.0s\n",
      "[CV 3/5] END max_depth=9, min_samples_leaf=18;, score=-20064.025 total time=   0.0s\n",
      "[CV 4/5] END max_depth=9, min_samples_leaf=18;, score=-18693.614 total time=   0.0s\n",
      "[CV 5/5] END max_depth=9, min_samples_leaf=18;, score=-46277.988 total time=   0.0s\n",
      "[CV 1/5] END max_depth=12, min_samples_leaf=18;, score=-22718.776 total time=   0.0s\n",
      "[CV 2/5] END max_depth=12, min_samples_leaf=18;, score=-32926.869 total time=   0.0s\n",
      "[CV 3/5] END max_depth=12, min_samples_leaf=18;, score=-20071.984 total time=   0.0s\n",
      "[CV 4/5] END max_depth=12, min_samples_leaf=18;, score=-18693.614 total time=   0.0s\n",
      "[CV 5/5] END max_depth=12, min_samples_leaf=18;, score=-46276.899 total time=   0.0s\n",
      "[CV 1/5] END max_depth=5, min_samples_leaf=3;, score=-28976.699 total time=   0.0s\n",
      "[CV 2/5] END max_depth=5, min_samples_leaf=3;, score=-38176.823 total time=   0.0s\n",
      "[CV 3/5] END max_depth=5, min_samples_leaf=3;, score=-21533.621 total time=   0.0s\n",
      "[CV 4/5] END max_depth=5, min_samples_leaf=3;, score=-28120.349 total time=   0.0s\n",
      "[CV 5/5] END max_depth=5, min_samples_leaf=3;, score=-50137.108 total time=   0.0s\n",
      "[CV 1/5] END max_depth=6, min_samples_leaf=6;, score=-23312.036 total time=   0.0s\n",
      "[CV 2/5] END max_depth=6, min_samples_leaf=6;, score=-34847.092 total time=   0.0s\n",
      "[CV 3/5] END max_depth=6, min_samples_leaf=6;, score=-19289.407 total time=   0.0s\n",
      "[CV 4/5] END max_depth=6, min_samples_leaf=6;, score=-21410.845 total time=   0.0s\n",
      "[CV 5/5] END max_depth=6, min_samples_leaf=6;, score=-47702.006 total time=   0.0s\n",
      "[CV 1/5] END max_depth=5, min_samples_leaf=2;, score=-22268.796 total time=   0.0s\n",
      "[CV 2/5] END max_depth=5, min_samples_leaf=2;, score=-37196.519 total time=   0.0s\n",
      "[CV 3/5] END max_depth=5, min_samples_leaf=2;, score=-26071.658 total time=   0.0s\n",
      "[CV 4/5] END max_depth=5, min_samples_leaf=2;, score=-22339.278 total time=   0.0s\n",
      "[CV 5/5] END max_depth=5, min_samples_leaf=2;, score=-49499.436 total time=   0.0s\n",
      "[CV 1/5] END max_depth=7, min_samples_leaf=3;, score=-30047.981 total time=   0.0s\n",
      "[CV 2/5] END max_depth=7, min_samples_leaf=3;, score=-34513.385 total time=   0.0s\n",
      "[CV 3/5] END max_depth=7, min_samples_leaf=3;, score=-21958.730 total time=   0.0s\n",
      "[CV 4/5] END max_depth=7, min_samples_leaf=3;, score=-23339.305 total time=   0.0s\n",
      "[CV 5/5] END max_depth=7, min_samples_leaf=3;, score=-48029.538 total time=   0.0s\n",
      "[CV 1/5] END max_depth=9, min_samples_leaf=13;, score=-21904.330 total time=   0.0s\n",
      "[CV 2/5] END max_depth=9, min_samples_leaf=13;, score=-32547.020 total time=   0.0s\n",
      "[CV 3/5] END max_depth=9, min_samples_leaf=13;, score=-19502.911 total time=   0.0s\n",
      "[CV 4/5] END max_depth=9, min_samples_leaf=13;, score=-16531.930 total time=   0.0s\n",
      "[CV 5/5] END max_depth=9, min_samples_leaf=13;, score=-43848.010 total time=   0.0s\n",
      "[CV 1/5] END max_depth=14, min_samples_leaf=7;, score=-23683.337 total time=   0.0s\n",
      "[CV 2/5] END max_depth=14, min_samples_leaf=7;, score=-28848.983 total time=   0.0s\n",
      "[CV 3/5] END max_depth=14, min_samples_leaf=7;, score=-17124.698 total time=   0.0s\n",
      "[CV 4/5] END max_depth=14, min_samples_leaf=7;, score=-17789.823 total time=   0.0s\n",
      "[CV 5/5] END max_depth=14, min_samples_leaf=7;, score=-46807.252 total time=   0.0s\n",
      "[CV 1/5] END max_depth=11, min_samples_leaf=5;, score=-24690.799 total time=   0.0s\n",
      "[CV 2/5] END max_depth=11, min_samples_leaf=5;, score=-31097.712 total time=   0.0s\n",
      "[CV 3/5] END max_depth=11, min_samples_leaf=5;, score=-18206.659 total time=   0.0s\n",
      "[CV 4/5] END max_depth=11, min_samples_leaf=5;, score=-22777.253 total time=   0.0s\n",
      "[CV 5/5] END max_depth=11, min_samples_leaf=5;, score=-49335.590 total time=   0.0s\n",
      "[CV 1/5] END max_depth=11, min_samples_leaf=12;, score=-22231.828 total time=   0.0s\n",
      "[CV 2/5] END max_depth=11, min_samples_leaf=12;, score=-32718.575 total time=   0.0s\n",
      "[CV 3/5] END max_depth=11, min_samples_leaf=12;, score=-18709.454 total time=   0.0s\n",
      "[CV 4/5] END max_depth=11, min_samples_leaf=12;, score=-17644.601 total time=   0.0s\n",
      "[CV 5/5] END max_depth=11, min_samples_leaf=12;, score=-43824.360 total time=   0.0s\n",
      "[CV 1/5] END max_depth=12, min_samples_leaf=18;, score=-22718.776 total time=   0.0s\n",
      "[CV 2/5] END max_depth=12, min_samples_leaf=18;, score=-32783.600 total time=   0.0s\n",
      "[CV 3/5] END max_depth=12, min_samples_leaf=18;, score=-20065.634 total time=   0.0s\n",
      "[CV 4/5] END max_depth=12, min_samples_leaf=18;, score=-18709.532 total time=   0.0s\n",
      "[CV 5/5] END max_depth=12, min_samples_leaf=18;, score=-46250.154 total time=   0.0s\n",
      "[CV 1/5] END max_depth=10, min_samples_leaf=6;, score=-23430.641 total time=   0.0s\n",
      "[CV 2/5] END max_depth=10, min_samples_leaf=6;, score=-33149.339 total time=   0.0s\n",
      "[CV 3/5] END max_depth=10, min_samples_leaf=6;, score=-17229.621 total time=   0.0s\n",
      "[CV 4/5] END max_depth=10, min_samples_leaf=6;, score=-22529.368 total time=   0.0s\n",
      "[CV 5/5] END max_depth=10, min_samples_leaf=6;, score=-47923.615 total time=   0.0s\n",
      "[CV 1/5] END max_depth=8, min_samples_leaf=3;, score=-30575.200 total time=   0.0s\n",
      "[CV 2/5] END max_depth=8, min_samples_leaf=3;, score=-33218.867 total time=   0.0s\n",
      "[CV 3/5] END max_depth=8, min_samples_leaf=3;, score=-24261.538 total time=   0.0s\n",
      "[CV 4/5] END max_depth=8, min_samples_leaf=3;, score=-23305.076 total time=   0.0s\n",
      "[CV 5/5] END max_depth=8, min_samples_leaf=3;, score=-48312.909 total time=   0.0s\n",
      "[CV 1/5] END max_depth=10, min_samples_leaf=12;, score=-22233.020 total time=   0.0s\n",
      "[CV 2/5] END max_depth=10, min_samples_leaf=12;, score=-32738.677 total time=   0.0s\n",
      "[CV 3/5] END max_depth=10, min_samples_leaf=12;, score=-18623.133 total time=   0.0s\n",
      "[CV 4/5] END max_depth=10, min_samples_leaf=12;, score=-17644.601 total time=   0.0s\n",
      "[CV 5/5] END max_depth=10, min_samples_leaf=12;, score=-43858.212 total time=   0.0s\n",
      "[CV 1/5] END max_depth=5, min_samples_leaf=10;, score=-22999.962 total time=   0.0s\n",
      "[CV 2/5] END max_depth=5, min_samples_leaf=10;, score=-36012.216 total time=   0.0s\n",
      "[CV 3/5] END max_depth=5, min_samples_leaf=10;, score=-21408.881 total time=   0.0s\n",
      "[CV 4/5] END max_depth=5, min_samples_leaf=10;, score=-24942.144 total time=   0.0s\n",
      "[CV 5/5] END max_depth=5, min_samples_leaf=10;, score=-46583.462 total time=   0.0s\n",
      "[CV 1/5] END max_depth=10, min_samples_leaf=17;, score=-23411.892 total time=   0.0s\n",
      "[CV 2/5] END max_depth=10, min_samples_leaf=17;, score=-32812.531 total time=   0.0s\n",
      "[CV 3/5] END max_depth=10, min_samples_leaf=17;, score=-19956.816 total time=   0.0s\n",
      "[CV 4/5] END max_depth=10, min_samples_leaf=17;, score=-18888.098 total time=   0.0s\n",
      "[CV 5/5] END max_depth=10, min_samples_leaf=17;, score=-46293.642 total time=   0.0s\n",
      "[CV 1/5] END max_depth=7, min_samples_leaf=5;, score=-24011.512 total time=   0.0s\n",
      "[CV 2/5] END max_depth=7, min_samples_leaf=5;, score=-33356.906 total time=   0.0s\n",
      "[CV 3/5] END max_depth=7, min_samples_leaf=5;, score=-19238.193 total time=   0.0s\n",
      "[CV 4/5] END max_depth=7, min_samples_leaf=5;, score=-20494.156 total time=   0.0s\n",
      "[CV 5/5] END max_depth=7, min_samples_leaf=5;, score=-50949.776 total time=   0.0s\n",
      "[CV 1/5] END max_depth=7, min_samples_leaf=4;, score=-29017.777 total time=   0.0s\n",
      "[CV 2/5] END max_depth=7, min_samples_leaf=4;, score=-33127.746 total time=   0.0s\n",
      "[CV 3/5] END max_depth=7, min_samples_leaf=4;, score=-19255.186 total time=   0.0s\n",
      "[CV 4/5] END max_depth=7, min_samples_leaf=4;, score=-19050.781 total time=   0.0s\n",
      "[CV 5/5] END max_depth=7, min_samples_leaf=4;, score=-49226.011 total time=   0.0s\n",
      "[CV 1/5] END max_depth=7, min_samples_leaf=8;, score=-22122.341 total time=   0.0s\n",
      "[CV 2/5] END max_depth=7, min_samples_leaf=8;, score=-29776.945 total time=   0.0s\n",
      "[CV 3/5] END max_depth=7, min_samples_leaf=8;, score=-17834.308 total time=   0.0s\n",
      "[CV 4/5] END max_depth=7, min_samples_leaf=8;, score=-19072.463 total time=   0.0s\n",
      "[CV 5/5] END max_depth=7, min_samples_leaf=8;, score=-44775.231 total time=   0.0s\n",
      "[CV 1/5] END max_depth=8, min_samples_leaf=10;, score=-20202.832 total time=   0.0s\n",
      "[CV 2/5] END max_depth=8, min_samples_leaf=10;, score=-28800.849 total time=   0.0s\n",
      "[CV 3/5] END max_depth=8, min_samples_leaf=10;, score=-18309.264 total time=   0.0s\n",
      "[CV 4/5] END max_depth=8, min_samples_leaf=10;, score=-16528.230 total time=   0.0s\n",
      "[CV 5/5] END max_depth=8, min_samples_leaf=10;, score=-42490.499 total time=   0.0s\n",
      "{'max_depth': 11, 'min_samples_leaf': 10} -25136.667385149278\n"
     ]
    }
   ],
   "source": [
    "params_distr = {\n",
    "    \"max_depth\": stats.randint(low=5, high=15),\n",
    "    \"min_samples_leaf\": stats.randint(low=2, high=20)\n",
    "}\n",
    "\n",
    "rand_search_cv = RandomizedSearchCV(DecisionTreeRegressor(), params_distr, random_state=42, verbose=6,\n",
    "                                    cv=5, scoring=\"neg_mean_squared_error\",\n",
    "                                    n_iter=100)\n",
    "rand_search = rand_search_cv.fit(X_scaled, y_true)\n",
    "print(rand_search.best_params_, rand_search.best_score_)"
   ]
  },
  {
   "cell_type": "code",
   "execution_count": 25,
   "id": "429b2ec3",
   "metadata": {},
   "outputs": [
    {
     "name": "stdout",
     "output_type": "stream",
     "text": [
      "mse=25246.39; r2=0.79\n",
      "[-21742.54285866 -19377.37159293 -21556.82832759 -22509.69050797\n",
      " -15909.81888523]\n",
      "[-20208.8163144  -28801.21992126 -18401.69309145 -16513.29752733\n",
      " -42306.90662737]\n"
     ]
    }
   ],
   "source": [
    "# Best model\n",
    "dt_reg = DecisionTreeRegressor(random_state=42, max_depth=11, min_samples_leaf=10)\n",
    "\n",
    "res_dict = cross_validate(dt_reg, X_scaled, y_true, scoring=[\"neg_mean_squared_error\", \"r2\"], cv=5, return_train_score=True)\n",
    "print(f\"mse={np.abs(np.mean(res_dict['test_neg_mean_squared_error'])):.2f}; r2={np.mean(res_dict['test_r2']):.2f}\")\n",
    "print(res_dict[\"train_neg_mean_squared_error\"])\n",
    "print(res_dict[\"test_neg_mean_squared_error\"])"
   ]
  },
  {
   "cell_type": "code",
   "execution_count": 26,
   "id": "790f48af",
   "metadata": {},
   "outputs": [
    {
     "data": {
      "text/plain": [
       "19541.920421616032"
      ]
     },
     "execution_count": 26,
     "metadata": {},
     "output_type": "execute_result"
    }
   ],
   "source": [
    "dt_reg.fit(X_scaled, y_true)\n",
    "\n",
    "y_pred = dt_reg.predict(X_scaled)\n",
    "mean_squared_error(y_true, y_pred)"
   ]
  },
  {
   "cell_type": "code",
   "execution_count": 27,
   "id": "cc5fa5ae",
   "metadata": {},
   "outputs": [
    {
     "data": {
      "text/plain": [
       "19541.920421616032"
      ]
     },
     "execution_count": 27,
     "metadata": {},
     "output_type": "execute_result"
    }
   ],
   "source": [
    "joblib.dump(dt_reg, \"models/decision_tree.joblib\")\n",
    "dt_reg = joblib.load(\"models/decision_tree.joblib\")\n",
    "y_pred = dt_reg.predict(X_scaled)\n",
    "mean_squared_error(y_true, y_pred)"
   ]
  },
  {
   "cell_type": "code",
   "execution_count": 28,
   "id": "d092bca8",
   "metadata": {
    "scrolled": false
   },
   "outputs": [
    {
     "data": {
      "text/plain": [
       "'res\\\\dtree_viz.svg'"
      ]
     },
     "execution_count": 28,
     "metadata": {},
     "output_type": "execute_result"
    }
   ],
   "source": [
    "dot_data = tree.export_graphviz(dt_reg, out_file=None, \n",
    "                                feature_names=feature_names, filled=True, label=\"all\", rounded=True, proportion=True)\n",
    "graph = graphviz.Source(dot_data)\n",
    "graph.render(\"res/dtree_viz\", format=\"pdf\")\n",
    "graph.render(\"res/dtree_viz\", format=\"svg\")"
   ]
  },
  {
   "cell_type": "markdown",
   "id": "2a90774c",
   "metadata": {},
   "source": [
    "#### Random Forest"
   ]
  },
  {
   "cell_type": "code",
   "execution_count": 29,
   "id": "23da034f",
   "metadata": {},
   "outputs": [
    {
     "name": "stdout",
     "output_type": "stream",
     "text": [
      "mse=23925.35; r2=0.80\n",
      "[-4416.43596345 -3244.25758175 -3469.10798682 -3699.48633714\n",
      " -2878.18979772]\n",
      "[-19982.22613333 -25490.84069036 -19637.39799391 -14170.58111675\n",
      " -40345.70337462]\n"
     ]
    }
   ],
   "source": [
    "# Baseline\n",
    "rf_reg = RandomForestRegressor(random_state=42)\n",
    "\n",
    "res_dict = cross_validate(rf_reg, X_scaled, y_true, scoring=[\"neg_mean_squared_error\", \"r2\"], cv=5, return_train_score=True)\n",
    "print(f\"mse={np.abs(np.mean(res_dict['test_neg_mean_squared_error'])):.2f}; r2={np.mean(res_dict['test_r2']):.2f}\")\n",
    "print(res_dict[\"train_neg_mean_squared_error\"])\n",
    "print(res_dict[\"test_neg_mean_squared_error\"])"
   ]
  },
  {
   "cell_type": "markdown",
   "id": "ffa28de2",
   "metadata": {},
   "source": [
    "To reduce overfitting of Random Forest\n",
    "- set max depth\n",
    "- set min number of samples required at leaf nodes"
   ]
  },
  {
   "cell_type": "code",
   "execution_count": 30,
   "id": "c83d8d14",
   "metadata": {
    "scrolled": true
   },
   "outputs": [
    {
     "name": "stdout",
     "output_type": "stream",
     "text": [
      "Fitting 5 folds for each of 100 candidates, totalling 500 fits\n",
      "[CV 1/5] END max_depth=11, min_samples_leaf=16;, score=-26568.079 total time=   0.0s\n",
      "[CV 2/5] END max_depth=11, min_samples_leaf=16;, score=-33696.651 total time=   0.0s\n",
      "[CV 3/5] END max_depth=11, min_samples_leaf=16;, score=-21506.911 total time=   0.0s\n",
      "[CV 4/5] END max_depth=11, min_samples_leaf=16;, score=-23280.859 total time=   0.0s\n",
      "[CV 5/5] END max_depth=11, min_samples_leaf=16;, score=-44983.812 total time=   0.0s\n",
      "[CV 1/5] END max_depth=12, min_samples_leaf=8;, score=-21190.512 total time=   0.0s\n",
      "[CV 2/5] END max_depth=12, min_samples_leaf=8;, score=-30715.335 total time=   0.0s\n",
      "[CV 3/5] END max_depth=12, min_samples_leaf=8;, score=-18541.430 total time=   0.0s\n",
      "[CV 4/5] END max_depth=12, min_samples_leaf=8;, score=-16065.518 total time=   0.0s\n",
      "[CV 5/5] END max_depth=12, min_samples_leaf=8;, score=-43649.667 total time=   0.0s\n",
      "[CV 1/5] END max_depth=14, min_samples_leaf=12;, score=-25290.297 total time=   0.0s\n",
      "[CV 2/5] END max_depth=14, min_samples_leaf=12;, score=-31648.046 total time=   0.0s\n",
      "[CV 3/5] END max_depth=14, min_samples_leaf=12;, score=-19769.835 total time=   0.0s\n",
      "[CV 4/5] END max_depth=14, min_samples_leaf=12;, score=-19276.426 total time=   0.0s\n",
      "[CV 5/5] END max_depth=14, min_samples_leaf=12;, score=-43814.274 total time=   0.0s\n",
      "[CV 1/5] END max_depth=12, min_samples_leaf=5;, score=-20795.153 total time=   0.0s\n",
      "[CV 2/5] END max_depth=12, min_samples_leaf=5;, score=-28460.481 total time=   0.0s\n",
      "[CV 3/5] END max_depth=12, min_samples_leaf=5;, score=-16777.923 total time=   0.0s\n",
      "[CV 4/5] END max_depth=12, min_samples_leaf=5;, score=-15458.741 total time=   0.0s\n",
      "[CV 5/5] END max_depth=12, min_samples_leaf=5;, score=-43954.323 total time=   0.0s\n",
      "[CV 1/5] END max_depth=12, min_samples_leaf=4;, score=-20440.193 total time=   0.0s\n",
      "[CV 2/5] END max_depth=12, min_samples_leaf=4;, score=-27834.154 total time=   0.0s\n",
      "[CV 3/5] END max_depth=12, min_samples_leaf=4;, score=-16434.965 total time=   0.0s\n",
      "[CV 4/5] END max_depth=12, min_samples_leaf=4;, score=-14922.197 total time=   0.0s\n",
      "[CV 5/5] END max_depth=12, min_samples_leaf=4;, score=-44461.302 total time=   0.0s\n",
      "[CV 1/5] END max_depth=10, min_samples_leaf=3;, score=-20646.616 total time=   0.0s\n",
      "[CV 2/5] END max_depth=10, min_samples_leaf=3;, score=-27670.255 total time=   0.0s\n",
      "[CV 3/5] END max_depth=10, min_samples_leaf=3;, score=-16387.354 total time=   0.0s\n",
      "[CV 4/5] END max_depth=10, min_samples_leaf=3;, score=-15080.044 total time=   0.0s\n",
      "[CV 5/5] END max_depth=10, min_samples_leaf=3;, score=-44633.431 total time=   0.0s\n",
      "[CV 1/5] END max_depth=12, min_samples_leaf=13;, score=-25099.197 total time=   0.0s\n",
      "[CV 2/5] END max_depth=12, min_samples_leaf=13;, score=-32470.229 total time=   0.0s\n",
      "[CV 3/5] END max_depth=12, min_samples_leaf=13;, score=-20468.616 total time=   0.0s\n",
      "[CV 4/5] END max_depth=12, min_samples_leaf=13;, score=-20264.368 total time=   0.0s\n",
      "[CV 5/5] END max_depth=12, min_samples_leaf=13;, score=-43863.284 total time=   0.0s\n",
      "[CV 1/5] END max_depth=10, min_samples_leaf=3;, score=-20724.578 total time=   0.0s\n",
      "[CV 2/5] END max_depth=10, min_samples_leaf=3;, score=-27523.350 total time=   0.0s\n",
      "[CV 3/5] END max_depth=10, min_samples_leaf=3;, score=-16515.921 total time=   0.0s\n",
      "[CV 4/5] END max_depth=10, min_samples_leaf=3;, score=-14746.664 total time=   0.0s\n",
      "[CV 5/5] END max_depth=10, min_samples_leaf=3;, score=-44321.869 total time=   0.0s\n",
      "[CV 1/5] END max_depth=9, min_samples_leaf=2;, score=-18798.571 total time=   0.0s\n",
      "[CV 2/5] END max_depth=9, min_samples_leaf=2;, score=-28522.165 total time=   0.0s\n",
      "[CV 3/5] END max_depth=9, min_samples_leaf=2;, score=-17715.252 total time=   0.0s\n",
      "[CV 4/5] END max_depth=9, min_samples_leaf=2;, score=-13160.161 total time=   0.0s\n",
      "[CV 5/5] END max_depth=9, min_samples_leaf=2;, score=-43180.891 total time=   0.0s\n",
      "[CV 1/5] END max_depth=14, min_samples_leaf=13;, score=-24455.487 total time=   0.0s\n",
      "[CV 2/5] END max_depth=14, min_samples_leaf=13;, score=-32655.722 total time=   0.0s\n",
      "[CV 3/5] END max_depth=14, min_samples_leaf=13;, score=-20359.874 total time=   0.0s\n",
      "[CV 4/5] END max_depth=14, min_samples_leaf=13;, score=-20481.351 total time=   0.0s\n",
      "[CV 5/5] END max_depth=14, min_samples_leaf=13;, score=-44028.446 total time=   0.0s\n",
      "[CV 1/5] END max_depth=13, min_samples_leaf=18;, score=-27597.694 total time=   0.0s\n",
      "[CV 2/5] END max_depth=13, min_samples_leaf=18;, score=-35169.031 total time=   0.0s\n",
      "[CV 3/5] END max_depth=13, min_samples_leaf=18;, score=-21748.173 total time=   0.0s\n",
      "[CV 4/5] END max_depth=13, min_samples_leaf=18;, score=-24305.260 total time=   0.0s\n",
      "[CV 5/5] END max_depth=13, min_samples_leaf=18;, score=-45714.831 total time=   0.0s\n",
      "[CV 1/5] END max_depth=14, min_samples_leaf=17;, score=-27340.953 total time=   0.0s\n",
      "[CV 2/5] END max_depth=14, min_samples_leaf=17;, score=-34174.274 total time=   0.0s\n",
      "[CV 3/5] END max_depth=14, min_samples_leaf=17;, score=-22197.258 total time=   0.0s\n",
      "[CV 4/5] END max_depth=14, min_samples_leaf=17;, score=-23511.611 total time=   0.0s\n",
      "[CV 5/5] END max_depth=14, min_samples_leaf=17;, score=-45008.354 total time=   0.0s\n",
      "[CV 1/5] END max_depth=7, min_samples_leaf=13;, score=-24826.007 total time=   0.0s\n",
      "[CV 2/5] END max_depth=7, min_samples_leaf=13;, score=-32797.519 total time=   0.0s\n",
      "[CV 3/5] END max_depth=7, min_samples_leaf=13;, score=-20388.608 total time=   0.0s\n",
      "[CV 4/5] END max_depth=7, min_samples_leaf=13;, score=-20355.947 total time=   0.0s\n",
      "[CV 5/5] END max_depth=7, min_samples_leaf=13;, score=-43724.292 total time=   0.0s\n",
      "[CV 1/5] END max_depth=11, min_samples_leaf=4;, score=-20914.814 total time=   0.0s\n",
      "[CV 2/5] END max_depth=11, min_samples_leaf=4;, score=-27707.571 total time=   0.0s\n",
      "[CV 3/5] END max_depth=11, min_samples_leaf=4;, score=-16576.422 total time=   0.0s\n",
      "[CV 4/5] END max_depth=11, min_samples_leaf=4;, score=-14800.288 total time=   0.0s\n",
      "[CV 5/5] END max_depth=11, min_samples_leaf=4;, score=-45134.413 total time=   0.0s\n",
      "[CV 1/5] END max_depth=9, min_samples_leaf=8;, score=-20992.507 total time=   0.0s\n",
      "[CV 2/5] END max_depth=9, min_samples_leaf=8;, score=-31498.357 total time=   0.0s\n",
      "[CV 3/5] END max_depth=9, min_samples_leaf=8;, score=-18472.857 total time=   0.0s\n",
      "[CV 4/5] END max_depth=9, min_samples_leaf=8;, score=-16445.766 total time=   0.0s\n",
      "[CV 5/5] END max_depth=9, min_samples_leaf=8;, score=-43511.695 total time=   0.0s\n",
      "[CV 1/5] END max_depth=9, min_samples_leaf=10;, score=-22532.911 total time=   0.0s\n",
      "[CV 2/5] END max_depth=9, min_samples_leaf=10;, score=-31949.089 total time=   0.0s\n",
      "[CV 3/5] END max_depth=9, min_samples_leaf=10;, score=-19200.929 total time=   0.0s\n",
      "[CV 4/5] END max_depth=9, min_samples_leaf=10;, score=-17078.421 total time=   0.0s\n",
      "[CV 5/5] END max_depth=9, min_samples_leaf=10;, score=-43531.110 total time=   0.0s\n",
      "[CV 1/5] END max_depth=11, min_samples_leaf=19;, score=-28750.039 total time=   0.0s\n",
      "[CV 2/5] END max_depth=11, min_samples_leaf=19;, score=-34930.882 total time=   0.0s\n",
      "[CV 3/5] END max_depth=11, min_samples_leaf=19;, score=-22283.256 total time=   0.0s\n",
      "[CV 4/5] END max_depth=11, min_samples_leaf=19;, score=-24584.668 total time=   0.0s\n",
      "[CV 5/5] END max_depth=11, min_samples_leaf=19;, score=-47136.293 total time=   0.0s\n",
      "[CV 1/5] END max_depth=8, min_samples_leaf=15;, score=-28186.607 total time=   0.0s\n",
      "[CV 2/5] END max_depth=8, min_samples_leaf=15;, score=-33046.872 total time=   0.0s\n",
      "[CV 3/5] END max_depth=8, min_samples_leaf=15;, score=-20827.592 total time=   0.0s\n",
      "[CV 4/5] END max_depth=8, min_samples_leaf=15;, score=-22524.477 total time=   0.0s\n",
      "[CV 5/5] END max_depth=8, min_samples_leaf=15;, score=-44651.094 total time=   0.0s\n",
      "[CV 1/5] END max_depth=6, min_samples_leaf=10;, score=-22815.359 total time=   0.0s\n",
      "[CV 2/5] END max_depth=6, min_samples_leaf=10;, score=-32926.154 total time=   0.0s\n",
      "[CV 3/5] END max_depth=6, min_samples_leaf=10;, score=-19740.377 total time=   0.0s\n",
      "[CV 4/5] END max_depth=6, min_samples_leaf=10;, score=-18188.960 total time=   0.0s\n",
      "[CV 5/5] END max_depth=6, min_samples_leaf=10;, score=-44252.212 total time=   0.0s\n",
      "[CV 1/5] END max_depth=14, min_samples_leaf=3;, score=-20889.264 total time=   0.0s\n",
      "[CV 2/5] END max_depth=14, min_samples_leaf=3;, score=-27490.454 total time=   0.0s\n"
     ]
    },
    {
     "name": "stdout",
     "output_type": "stream",
     "text": [
      "[CV 3/5] END max_depth=14, min_samples_leaf=3;, score=-16487.241 total time=   0.0s\n",
      "[CV 4/5] END max_depth=14, min_samples_leaf=3;, score=-14553.000 total time=   0.0s\n",
      "[CV 5/5] END max_depth=14, min_samples_leaf=3;, score=-45540.434 total time=   0.0s\n",
      "[CV 1/5] END max_depth=8, min_samples_leaf=16;, score=-25671.356 total time=   0.0s\n",
      "[CV 2/5] END max_depth=8, min_samples_leaf=16;, score=-34179.054 total time=   0.0s\n",
      "[CV 3/5] END max_depth=8, min_samples_leaf=16;, score=-20996.298 total time=   0.0s\n",
      "[CV 4/5] END max_depth=8, min_samples_leaf=16;, score=-22814.355 total time=   0.0s\n",
      "[CV 5/5] END max_depth=8, min_samples_leaf=16;, score=-45092.832 total time=   0.0s\n",
      "[CV 1/5] END max_depth=11, min_samples_leaf=13;, score=-24475.420 total time=   0.0s\n",
      "[CV 2/5] END max_depth=11, min_samples_leaf=13;, score=-32144.008 total time=   0.0s\n",
      "[CV 3/5] END max_depth=11, min_samples_leaf=13;, score=-20481.140 total time=   0.0s\n",
      "[CV 4/5] END max_depth=11, min_samples_leaf=13;, score=-20269.639 total time=   0.0s\n",
      "[CV 5/5] END max_depth=11, min_samples_leaf=13;, score=-44133.109 total time=   0.0s\n",
      "[CV 1/5] END max_depth=12, min_samples_leaf=16;, score=-27778.930 total time=   0.0s\n",
      "[CV 2/5] END max_depth=12, min_samples_leaf=16;, score=-33766.304 total time=   0.0s\n",
      "[CV 3/5] END max_depth=12, min_samples_leaf=16;, score=-21665.046 total time=   0.0s\n",
      "[CV 4/5] END max_depth=12, min_samples_leaf=16;, score=-23571.974 total time=   0.0s\n",
      "[CV 5/5] END max_depth=12, min_samples_leaf=16;, score=-44931.746 total time=   0.0s\n",
      "[CV 1/5] END max_depth=7, min_samples_leaf=15;, score=-25979.928 total time=   0.0s\n",
      "[CV 2/5] END max_depth=7, min_samples_leaf=15;, score=-33083.998 total time=   0.0s\n",
      "[CV 3/5] END max_depth=7, min_samples_leaf=15;, score=-21194.550 total time=   0.0s\n",
      "[CV 4/5] END max_depth=7, min_samples_leaf=15;, score=-23002.782 total time=   0.0s\n",
      "[CV 5/5] END max_depth=7, min_samples_leaf=15;, score=-44380.593 total time=   0.0s\n",
      "[CV 1/5] END max_depth=5, min_samples_leaf=5;, score=-23465.261 total time=   0.0s\n",
      "[CV 2/5] END max_depth=5, min_samples_leaf=5;, score=-33133.653 total time=   0.0s\n",
      "[CV 3/5] END max_depth=5, min_samples_leaf=5;, score=-20043.109 total time=   0.0s\n",
      "[CV 4/5] END max_depth=5, min_samples_leaf=5;, score=-21639.004 total time=   0.0s\n",
      "[CV 5/5] END max_depth=5, min_samples_leaf=5;, score=-47255.502 total time=   0.0s\n",
      "[CV 1/5] END max_depth=6, min_samples_leaf=9;, score=-21792.872 total time=   0.0s\n",
      "[CV 2/5] END max_depth=6, min_samples_leaf=9;, score=-32780.939 total time=   0.0s\n",
      "[CV 3/5] END max_depth=6, min_samples_leaf=9;, score=-19146.394 total time=   0.0s\n",
      "[CV 4/5] END max_depth=6, min_samples_leaf=9;, score=-17739.600 total time=   0.0s\n",
      "[CV 5/5] END max_depth=6, min_samples_leaf=9;, score=-44353.859 total time=   0.0s\n",
      "[CV 1/5] END max_depth=8, min_samples_leaf=3;, score=-20175.610 total time=   0.0s\n",
      "[CV 2/5] END max_depth=8, min_samples_leaf=3;, score=-28261.927 total time=   0.0s\n",
      "[CV 3/5] END max_depth=8, min_samples_leaf=3;, score=-16006.594 total time=   0.0s\n",
      "[CV 4/5] END max_depth=8, min_samples_leaf=3;, score=-14955.874 total time=   0.0s\n",
      "[CV 5/5] END max_depth=8, min_samples_leaf=3;, score=-44882.272 total time=   0.0s\n",
      "[CV 1/5] END max_depth=10, min_samples_leaf=11;, score=-23395.991 total time=   0.0s\n",
      "[CV 2/5] END max_depth=10, min_samples_leaf=11;, score=-31824.612 total time=   0.0s\n",
      "[CV 3/5] END max_depth=10, min_samples_leaf=11;, score=-19440.533 total time=   0.0s\n",
      "[CV 4/5] END max_depth=10, min_samples_leaf=11;, score=-17636.104 total time=   0.0s\n",
      "[CV 5/5] END max_depth=10, min_samples_leaf=11;, score=-43473.997 total time=   0.0s\n",
      "[CV 1/5] END max_depth=8, min_samples_leaf=19;, score=-28803.441 total time=   0.0s\n",
      "[CV 2/5] END max_depth=8, min_samples_leaf=19;, score=-35526.871 total time=   0.0s\n",
      "[CV 3/5] END max_depth=8, min_samples_leaf=19;, score=-21941.752 total time=   0.0s\n",
      "[CV 4/5] END max_depth=8, min_samples_leaf=19;, score=-25571.922 total time=   0.0s\n",
      "[CV 5/5] END max_depth=8, min_samples_leaf=19;, score=-47667.530 total time=   0.0s\n",
      "[CV 1/5] END max_depth=14, min_samples_leaf=13;, score=-24940.924 total time=   0.0s\n",
      "[CV 2/5] END max_depth=14, min_samples_leaf=13;, score=-32326.649 total time=   0.0s\n",
      "[CV 3/5] END max_depth=14, min_samples_leaf=13;, score=-20486.347 total time=   0.0s\n",
      "[CV 4/5] END max_depth=14, min_samples_leaf=13;, score=-20368.334 total time=   0.0s\n",
      "[CV 5/5] END max_depth=14, min_samples_leaf=13;, score=-43908.189 total time=   0.0s\n",
      "[CV 1/5] END max_depth=6, min_samples_leaf=11;, score=-23249.941 total time=   0.0s\n",
      "[CV 2/5] END max_depth=6, min_samples_leaf=11;, score=-32987.955 total time=   0.0s\n",
      "[CV 3/5] END max_depth=6, min_samples_leaf=11;, score=-19840.214 total time=   0.0s\n",
      "[CV 4/5] END max_depth=6, min_samples_leaf=11;, score=-18958.175 total time=   0.0s\n",
      "[CV 5/5] END max_depth=6, min_samples_leaf=11;, score=-44211.130 total time=   0.0s\n",
      "[CV 1/5] END max_depth=8, min_samples_leaf=15;, score=-25604.353 total time=   0.0s\n",
      "[CV 2/5] END max_depth=8, min_samples_leaf=15;, score=-33116.627 total time=   0.0s\n",
      "[CV 3/5] END max_depth=8, min_samples_leaf=15;, score=-20779.472 total time=   0.0s\n",
      "[CV 4/5] END max_depth=8, min_samples_leaf=15;, score=-22173.842 total time=   0.0s\n",
      "[CV 5/5] END max_depth=8, min_samples_leaf=15;, score=-44767.339 total time=   0.0s\n",
      "[CV 1/5] END max_depth=12, min_samples_leaf=15;, score=-27839.125 total time=   0.0s\n",
      "[CV 2/5] END max_depth=12, min_samples_leaf=15;, score=-33775.697 total time=   0.0s\n",
      "[CV 3/5] END max_depth=12, min_samples_leaf=15;, score=-21790.445 total time=   0.0s\n",
      "[CV 4/5] END max_depth=12, min_samples_leaf=15;, score=-23435.757 total time=   0.0s\n",
      "[CV 5/5] END max_depth=12, min_samples_leaf=15;, score=-44267.366 total time=   0.0s\n",
      "[CV 1/5] END max_depth=11, min_samples_leaf=9;, score=-21102.682 total time=   0.0s\n",
      "[CV 2/5] END max_depth=11, min_samples_leaf=9;, score=-31601.073 total time=   0.0s\n",
      "[CV 3/5] END max_depth=11, min_samples_leaf=9;, score=-18728.499 total time=   0.0s\n",
      "[CV 4/5] END max_depth=11, min_samples_leaf=9;, score=-16501.783 total time=   0.0s\n",
      "[CV 5/5] END max_depth=11, min_samples_leaf=9;, score=-43698.749 total time=   0.0s\n",
      "[CV 1/5] END max_depth=9, min_samples_leaf=17;, score=-28310.733 total time=   0.0s\n",
      "[CV 2/5] END max_depth=9, min_samples_leaf=17;, score=-33992.732 total time=   0.0s\n",
      "[CV 3/5] END max_depth=9, min_samples_leaf=17;, score=-21452.819 total time=   0.0s\n",
      "[CV 4/5] END max_depth=9, min_samples_leaf=17;, score=-23168.641 total time=   0.0s\n",
      "[CV 5/5] END max_depth=9, min_samples_leaf=17;, score=-45322.438 total time=   0.0s\n",
      "[CV 1/5] END max_depth=6, min_samples_leaf=16;, score=-26525.456 total time=   0.0s\n",
      "[CV 2/5] END max_depth=6, min_samples_leaf=16;, score=-34978.851 total time=   0.0s\n",
      "[CV 3/5] END max_depth=6, min_samples_leaf=16;, score=-21696.678 total time=   0.0s\n",
      "[CV 4/5] END max_depth=6, min_samples_leaf=16;, score=-23409.916 total time=   0.0s\n",
      "[CV 5/5] END max_depth=6, min_samples_leaf=16;, score=-44311.793 total time=   0.0s\n",
      "[CV 1/5] END max_depth=9, min_samples_leaf=14;, score=-26371.961 total time=   0.0s\n",
      "[CV 2/5] END max_depth=9, min_samples_leaf=14;, score=-33047.106 total time=   0.0s\n",
      "[CV 3/5] END max_depth=9, min_samples_leaf=14;, score=-20055.216 total time=   0.0s\n",
      "[CV 4/5] END max_depth=9, min_samples_leaf=14;, score=-21550.460 total time=   0.0s\n",
      "[CV 5/5] END max_depth=9, min_samples_leaf=14;, score=-43350.351 total time=   0.0s\n",
      "[CV 1/5] END max_depth=13, min_samples_leaf=16;, score=-26257.162 total time=   0.0s\n",
      "[CV 2/5] END max_depth=13, min_samples_leaf=16;, score=-33998.893 total time=   0.0s\n",
      "[CV 3/5] END max_depth=13, min_samples_leaf=16;, score=-21710.269 total time=   0.0s\n",
      "[CV 4/5] END max_depth=13, min_samples_leaf=16;, score=-22744.559 total time=   0.0s\n",
      "[CV 5/5] END max_depth=13, min_samples_leaf=16;, score=-44587.523 total time=   0.0s\n",
      "[CV 1/5] END max_depth=5, min_samples_leaf=8;, score=-23356.710 total time=   0.0s\n",
      "[CV 2/5] END max_depth=5, min_samples_leaf=8;, score=-34504.030 total time=   0.0s\n",
      "[CV 3/5] END max_depth=5, min_samples_leaf=8;, score=-20948.173 total time=   0.0s\n",
      "[CV 4/5] END max_depth=5, min_samples_leaf=8;, score=-21296.647 total time=   0.0s\n",
      "[CV 5/5] END max_depth=5, min_samples_leaf=8;, score=-45577.971 total time=   0.0s\n"
     ]
    },
    {
     "name": "stdout",
     "output_type": "stream",
     "text": [
      "[CV 1/5] END max_depth=13, min_samples_leaf=2;, score=-18645.574 total time=   0.0s\n",
      "[CV 2/5] END max_depth=13, min_samples_leaf=2;, score=-27183.955 total time=   0.0s\n",
      "[CV 3/5] END max_depth=13, min_samples_leaf=2;, score=-17054.645 total time=   0.0s\n",
      "[CV 4/5] END max_depth=13, min_samples_leaf=2;, score=-14617.877 total time=   0.0s\n",
      "[CV 5/5] END max_depth=13, min_samples_leaf=2;, score=-43243.965 total time=   0.0s\n",
      "[CV 1/5] END max_depth=12, min_samples_leaf=12;, score=-23586.410 total time=   0.0s\n",
      "[CV 2/5] END max_depth=12, min_samples_leaf=12;, score=-31804.234 total time=   0.0s\n",
      "[CV 3/5] END max_depth=12, min_samples_leaf=12;, score=-19937.933 total time=   0.0s\n",
      "[CV 4/5] END max_depth=12, min_samples_leaf=12;, score=-19289.684 total time=   0.0s\n",
      "[CV 5/5] END max_depth=12, min_samples_leaf=12;, score=-43526.860 total time=   0.0s\n",
      "[CV 1/5] END max_depth=7, min_samples_leaf=18;, score=-27839.211 total time=   0.0s\n",
      "[CV 2/5] END max_depth=7, min_samples_leaf=18;, score=-34789.891 total time=   0.0s\n",
      "[CV 3/5] END max_depth=7, min_samples_leaf=18;, score=-21944.725 total time=   0.0s\n",
      "[CV 4/5] END max_depth=7, min_samples_leaf=18;, score=-24342.305 total time=   0.0s\n",
      "[CV 5/5] END max_depth=7, min_samples_leaf=18;, score=-45940.375 total time=   0.0s\n",
      "[CV 1/5] END max_depth=12, min_samples_leaf=4;, score=-20320.763 total time=   0.0s\n",
      "[CV 2/5] END max_depth=12, min_samples_leaf=4;, score=-27486.282 total time=   0.0s\n",
      "[CV 3/5] END max_depth=12, min_samples_leaf=4;, score=-16618.042 total time=   0.0s\n",
      "[CV 4/5] END max_depth=12, min_samples_leaf=4;, score=-14977.654 total time=   0.0s\n",
      "[CV 5/5] END max_depth=12, min_samples_leaf=4;, score=-45059.927 total time=   0.0s\n",
      "[CV 1/5] END max_depth=7, min_samples_leaf=2;, score=-19034.169 total time=   0.0s\n",
      "[CV 2/5] END max_depth=7, min_samples_leaf=2;, score=-29066.442 total time=   0.0s\n",
      "[CV 3/5] END max_depth=7, min_samples_leaf=2;, score=-17128.170 total time=   0.0s\n",
      "[CV 4/5] END max_depth=7, min_samples_leaf=2;, score=-13187.543 total time=   0.0s\n",
      "[CV 5/5] END max_depth=7, min_samples_leaf=2;, score=-43306.565 total time=   0.0s\n",
      "[CV 1/5] END max_depth=9, min_samples_leaf=11;, score=-22275.406 total time=   0.0s\n",
      "[CV 2/5] END max_depth=9, min_samples_leaf=11;, score=-32133.414 total time=   0.0s\n",
      "[CV 3/5] END max_depth=9, min_samples_leaf=11;, score=-19182.498 total time=   0.0s\n",
      "[CV 4/5] END max_depth=9, min_samples_leaf=11;, score=-18316.236 total time=   0.0s\n",
      "[CV 5/5] END max_depth=9, min_samples_leaf=11;, score=-43809.526 total time=   0.0s\n",
      "[CV 1/5] END max_depth=11, min_samples_leaf=10;, score=-22377.030 total time=   0.0s\n",
      "[CV 2/5] END max_depth=11, min_samples_leaf=10;, score=-31625.501 total time=   0.0s\n",
      "[CV 3/5] END max_depth=11, min_samples_leaf=10;, score=-19264.248 total time=   0.0s\n",
      "[CV 4/5] END max_depth=11, min_samples_leaf=10;, score=-17292.328 total time=   0.0s\n",
      "[CV 5/5] END max_depth=11, min_samples_leaf=10;, score=-44363.974 total time=   0.0s\n",
      "[CV 1/5] END max_depth=11, min_samples_leaf=10;, score=-22409.167 total time=   0.0s\n",
      "[CV 2/5] END max_depth=11, min_samples_leaf=10;, score=-31830.616 total time=   0.0s\n",
      "[CV 3/5] END max_depth=11, min_samples_leaf=10;, score=-18891.567 total time=   0.0s\n",
      "[CV 4/5] END max_depth=11, min_samples_leaf=10;, score=-16661.423 total time=   0.0s\n",
      "[CV 5/5] END max_depth=11, min_samples_leaf=10;, score=-43024.332 total time=   0.0s\n",
      "[CV 1/5] END max_depth=12, min_samples_leaf=13;, score=-26185.461 total time=   0.0s\n",
      "[CV 2/5] END max_depth=12, min_samples_leaf=13;, score=-32495.919 total time=   0.0s\n",
      "[CV 3/5] END max_depth=12, min_samples_leaf=13;, score=-20333.530 total time=   0.0s\n",
      "[CV 4/5] END max_depth=12, min_samples_leaf=13;, score=-20375.025 total time=   0.0s\n",
      "[CV 5/5] END max_depth=12, min_samples_leaf=13;, score=-43879.240 total time=   0.0s\n",
      "[CV 1/5] END max_depth=6, min_samples_leaf=2;, score=-19618.226 total time=   0.0s\n",
      "[CV 2/5] END max_depth=6, min_samples_leaf=2;, score=-31124.129 total time=   0.0s\n",
      "[CV 3/5] END max_depth=6, min_samples_leaf=2;, score=-18294.494 total time=   0.0s\n",
      "[CV 4/5] END max_depth=6, min_samples_leaf=2;, score=-15146.189 total time=   0.0s\n",
      "[CV 5/5] END max_depth=6, min_samples_leaf=2;, score=-44613.189 total time=   0.0s\n",
      "[CV 1/5] END max_depth=11, min_samples_leaf=6;, score=-20147.071 total time=   0.0s\n",
      "[CV 2/5] END max_depth=11, min_samples_leaf=6;, score=-28423.507 total time=   0.0s\n",
      "[CV 3/5] END max_depth=11, min_samples_leaf=6;, score=-17453.256 total time=   0.0s\n",
      "[CV 4/5] END max_depth=11, min_samples_leaf=6;, score=-16103.930 total time=   0.0s\n",
      "[CV 5/5] END max_depth=11, min_samples_leaf=6;, score=-43802.543 total time=   0.0s\n",
      "[CV 1/5] END max_depth=7, min_samples_leaf=13;, score=-24817.348 total time=   0.0s\n",
      "[CV 2/5] END max_depth=7, min_samples_leaf=13;, score=-32939.033 total time=   0.0s\n",
      "[CV 3/5] END max_depth=7, min_samples_leaf=13;, score=-20529.344 total time=   0.0s\n",
      "[CV 4/5] END max_depth=7, min_samples_leaf=13;, score=-20880.684 total time=   0.0s\n",
      "[CV 5/5] END max_depth=7, min_samples_leaf=13;, score=-43851.409 total time=   0.0s\n",
      "[CV 1/5] END max_depth=12, min_samples_leaf=4;, score=-21294.510 total time=   0.0s\n",
      "[CV 2/5] END max_depth=12, min_samples_leaf=4;, score=-27620.844 total time=   0.0s\n",
      "[CV 3/5] END max_depth=12, min_samples_leaf=4;, score=-16842.052 total time=   0.0s\n",
      "[CV 4/5] END max_depth=12, min_samples_leaf=4;, score=-14561.239 total time=   0.0s\n",
      "[CV 5/5] END max_depth=12, min_samples_leaf=4;, score=-45409.276 total time=   0.0s\n",
      "[CV 1/5] END max_depth=5, min_samples_leaf=4;, score=-24074.752 total time=   0.0s\n",
      "[CV 2/5] END max_depth=5, min_samples_leaf=4;, score=-33079.494 total time=   0.0s\n",
      "[CV 3/5] END max_depth=5, min_samples_leaf=4;, score=-19853.943 total time=   0.0s\n",
      "[CV 4/5] END max_depth=5, min_samples_leaf=4;, score=-20553.540 total time=   0.0s\n",
      "[CV 5/5] END max_depth=5, min_samples_leaf=4;, score=-47569.920 total time=   0.0s\n",
      "[CV 1/5] END max_depth=9, min_samples_leaf=16;, score=-28142.589 total time=   0.0s\n",
      "[CV 2/5] END max_depth=9, min_samples_leaf=16;, score=-33880.146 total time=   0.0s\n",
      "[CV 3/5] END max_depth=9, min_samples_leaf=16;, score=-21016.683 total time=   0.0s\n",
      "[CV 4/5] END max_depth=9, min_samples_leaf=16;, score=-23300.583 total time=   0.0s\n",
      "[CV 5/5] END max_depth=9, min_samples_leaf=16;, score=-44617.989 total time=   0.0s\n",
      "[CV 1/5] END max_depth=7, min_samples_leaf=2;, score=-19226.343 total time=   0.0s\n",
      "[CV 2/5] END max_depth=7, min_samples_leaf=2;, score=-29281.225 total time=   0.0s\n",
      "[CV 3/5] END max_depth=7, min_samples_leaf=2;, score=-16920.896 total time=   0.0s\n",
      "[CV 4/5] END max_depth=7, min_samples_leaf=2;, score=-14203.995 total time=   0.0s\n",
      "[CV 5/5] END max_depth=7, min_samples_leaf=2;, score=-43059.343 total time=   0.0s\n",
      "[CV 1/5] END max_depth=9, min_samples_leaf=15;, score=-26745.119 total time=   0.0s\n",
      "[CV 2/5] END max_depth=9, min_samples_leaf=15;, score=-33302.498 total time=   0.0s\n",
      "[CV 3/5] END max_depth=9, min_samples_leaf=15;, score=-20861.403 total time=   0.0s\n",
      "[CV 4/5] END max_depth=9, min_samples_leaf=15;, score=-21777.256 total time=   0.0s\n",
      "[CV 5/5] END max_depth=9, min_samples_leaf=15;, score=-44984.219 total time=   0.0s\n",
      "[CV 1/5] END max_depth=11, min_samples_leaf=10;, score=-22869.251 total time=   0.0s\n",
      "[CV 2/5] END max_depth=11, min_samples_leaf=10;, score=-31734.898 total time=   0.0s\n",
      "[CV 3/5] END max_depth=11, min_samples_leaf=10;, score=-19276.586 total time=   0.0s\n",
      "[CV 4/5] END max_depth=11, min_samples_leaf=10;, score=-16876.539 total time=   0.0s\n",
      "[CV 5/5] END max_depth=11, min_samples_leaf=10;, score=-43705.849 total time=   0.0s\n",
      "[CV 1/5] END max_depth=14, min_samples_leaf=11;, score=-22802.495 total time=   0.0s\n",
      "[CV 2/5] END max_depth=14, min_samples_leaf=11;, score=-32252.138 total time=   0.0s\n",
      "[CV 3/5] END max_depth=14, min_samples_leaf=11;, score=-19298.877 total time=   0.0s\n",
      "[CV 4/5] END max_depth=14, min_samples_leaf=11;, score=-18379.614 total time=   0.0s\n",
      "[CV 5/5] END max_depth=14, min_samples_leaf=11;, score=-43122.339 total time=   0.0s\n",
      "[CV 1/5] END max_depth=7, min_samples_leaf=8;, score=-20272.000 total time=   0.0s\n",
      "[CV 2/5] END max_depth=7, min_samples_leaf=8;, score=-31921.193 total time=   0.0s\n",
      "[CV 3/5] END max_depth=7, min_samples_leaf=8;, score=-18520.368 total time=   0.0s\n"
     ]
    },
    {
     "name": "stdout",
     "output_type": "stream",
     "text": [
      "[CV 4/5] END max_depth=7, min_samples_leaf=8;, score=-16081.744 total time=   0.0s\n",
      "[CV 5/5] END max_depth=7, min_samples_leaf=8;, score=-43992.321 total time=   0.0s\n",
      "[CV 1/5] END max_depth=5, min_samples_leaf=5;, score=-23324.769 total time=   0.0s\n",
      "[CV 2/5] END max_depth=5, min_samples_leaf=5;, score=-33773.322 total time=   0.0s\n",
      "[CV 3/5] END max_depth=5, min_samples_leaf=5;, score=-20477.961 total time=   0.0s\n",
      "[CV 4/5] END max_depth=5, min_samples_leaf=5;, score=-21386.311 total time=   0.0s\n",
      "[CV 5/5] END max_depth=5, min_samples_leaf=5;, score=-46777.038 total time=   0.0s\n",
      "[CV 1/5] END max_depth=9, min_samples_leaf=8;, score=-20773.636 total time=   0.0s\n",
      "[CV 2/5] END max_depth=9, min_samples_leaf=8;, score=-30493.234 total time=   0.0s\n",
      "[CV 3/5] END max_depth=9, min_samples_leaf=8;, score=-18213.363 total time=   0.0s\n",
      "[CV 4/5] END max_depth=9, min_samples_leaf=8;, score=-15916.464 total time=   0.0s\n",
      "[CV 5/5] END max_depth=9, min_samples_leaf=8;, score=-44105.092 total time=   0.0s\n",
      "[CV 1/5] END max_depth=8, min_samples_leaf=14;, score=-25285.655 total time=   0.0s\n",
      "[CV 2/5] END max_depth=8, min_samples_leaf=14;, score=-32804.548 total time=   0.0s\n",
      "[CV 3/5] END max_depth=8, min_samples_leaf=14;, score=-21211.061 total time=   0.0s\n",
      "[CV 4/5] END max_depth=8, min_samples_leaf=14;, score=-21894.208 total time=   0.0s\n",
      "[CV 5/5] END max_depth=8, min_samples_leaf=14;, score=-44423.096 total time=   0.0s\n",
      "[CV 1/5] END max_depth=11, min_samples_leaf=3;, score=-20586.526 total time=   0.0s\n",
      "[CV 2/5] END max_depth=11, min_samples_leaf=3;, score=-27452.861 total time=   0.0s\n",
      "[CV 3/5] END max_depth=11, min_samples_leaf=3;, score=-16389.372 total time=   0.0s\n",
      "[CV 4/5] END max_depth=11, min_samples_leaf=3;, score=-14494.393 total time=   0.0s\n",
      "[CV 5/5] END max_depth=11, min_samples_leaf=3;, score=-45113.689 total time=   0.0s\n",
      "[CV 1/5] END max_depth=14, min_samples_leaf=14;, score=-25075.993 total time=   0.0s\n",
      "[CV 2/5] END max_depth=14, min_samples_leaf=14;, score=-33171.086 total time=   0.0s\n",
      "[CV 3/5] END max_depth=14, min_samples_leaf=14;, score=-20623.170 total time=   0.0s\n",
      "[CV 4/5] END max_depth=14, min_samples_leaf=14;, score=-21054.610 total time=   0.0s\n",
      "[CV 5/5] END max_depth=14, min_samples_leaf=14;, score=-43838.338 total time=   0.0s\n",
      "[CV 1/5] END max_depth=13, min_samples_leaf=7;, score=-20356.604 total time=   0.0s\n",
      "[CV 2/5] END max_depth=13, min_samples_leaf=7;, score=-30141.734 total time=   0.0s\n",
      "[CV 3/5] END max_depth=13, min_samples_leaf=7;, score=-17923.578 total time=   0.0s\n",
      "[CV 4/5] END max_depth=13, min_samples_leaf=7;, score=-15487.002 total time=   0.0s\n",
      "[CV 5/5] END max_depth=13, min_samples_leaf=7;, score=-43231.655 total time=   0.0s\n",
      "[CV 1/5] END max_depth=8, min_samples_leaf=12;, score=-24399.332 total time=   0.0s\n",
      "[CV 2/5] END max_depth=8, min_samples_leaf=12;, score=-32260.824 total time=   0.0s\n",
      "[CV 3/5] END max_depth=8, min_samples_leaf=12;, score=-20118.166 total time=   0.0s\n",
      "[CV 4/5] END max_depth=8, min_samples_leaf=12;, score=-19664.983 total time=   0.0s\n",
      "[CV 5/5] END max_depth=8, min_samples_leaf=12;, score=-43983.810 total time=   0.0s\n",
      "[CV 1/5] END max_depth=14, min_samples_leaf=8;, score=-20424.410 total time=   0.0s\n",
      "[CV 2/5] END max_depth=14, min_samples_leaf=8;, score=-30599.883 total time=   0.0s\n",
      "[CV 3/5] END max_depth=14, min_samples_leaf=8;, score=-18214.008 total time=   0.0s\n",
      "[CV 4/5] END max_depth=14, min_samples_leaf=8;, score=-16016.336 total time=   0.0s\n",
      "[CV 5/5] END max_depth=14, min_samples_leaf=8;, score=-43638.712 total time=   0.0s\n",
      "[CV 1/5] END max_depth=5, min_samples_leaf=2;, score=-22129.475 total time=   0.0s\n",
      "[CV 2/5] END max_depth=5, min_samples_leaf=2;, score=-32546.021 total time=   0.0s\n",
      "[CV 3/5] END max_depth=5, min_samples_leaf=2;, score=-19968.630 total time=   0.0s\n",
      "[CV 4/5] END max_depth=5, min_samples_leaf=2;, score=-19620.183 total time=   0.0s\n",
      "[CV 5/5] END max_depth=5, min_samples_leaf=2;, score=-46444.892 total time=   0.0s\n",
      "[CV 1/5] END max_depth=13, min_samples_leaf=14;, score=-25739.618 total time=   0.0s\n",
      "[CV 2/5] END max_depth=13, min_samples_leaf=14;, score=-33213.732 total time=   0.0s\n",
      "[CV 3/5] END max_depth=13, min_samples_leaf=14;, score=-21247.525 total time=   0.0s\n",
      "[CV 4/5] END max_depth=13, min_samples_leaf=14;, score=-21459.341 total time=   0.0s\n",
      "[CV 5/5] END max_depth=13, min_samples_leaf=14;, score=-44592.810 total time=   0.0s\n",
      "[CV 1/5] END max_depth=13, min_samples_leaf=4;, score=-20367.136 total time=   0.0s\n",
      "[CV 2/5] END max_depth=13, min_samples_leaf=4;, score=-26941.891 total time=   0.0s\n",
      "[CV 3/5] END max_depth=13, min_samples_leaf=4;, score=-16294.953 total time=   0.0s\n",
      "[CV 4/5] END max_depth=13, min_samples_leaf=4;, score=-14958.315 total time=   0.0s\n",
      "[CV 5/5] END max_depth=13, min_samples_leaf=4;, score=-44877.402 total time=   0.0s\n",
      "[CV 1/5] END max_depth=11, min_samples_leaf=7;, score=-20136.446 total time=   0.0s\n",
      "[CV 2/5] END max_depth=11, min_samples_leaf=7;, score=-29919.122 total time=   0.0s\n",
      "[CV 3/5] END max_depth=11, min_samples_leaf=7;, score=-17991.768 total time=   0.0s\n",
      "[CV 4/5] END max_depth=11, min_samples_leaf=7;, score=-15942.178 total time=   0.0s\n",
      "[CV 5/5] END max_depth=11, min_samples_leaf=7;, score=-43016.395 total time=   0.0s\n",
      "[CV 1/5] END max_depth=12, min_samples_leaf=10;, score=-21837.551 total time=   0.0s\n",
      "[CV 2/5] END max_depth=12, min_samples_leaf=10;, score=-32133.338 total time=   0.0s\n",
      "[CV 3/5] END max_depth=12, min_samples_leaf=10;, score=-19301.882 total time=   0.0s\n",
      "[CV 4/5] END max_depth=12, min_samples_leaf=10;, score=-17660.388 total time=   0.0s\n",
      "[CV 5/5] END max_depth=12, min_samples_leaf=10;, score=-44061.885 total time=   0.0s\n",
      "[CV 1/5] END max_depth=9, min_samples_leaf=2;, score=-18507.453 total time=   0.0s\n",
      "[CV 2/5] END max_depth=9, min_samples_leaf=2;, score=-27831.403 total time=   0.0s\n",
      "[CV 3/5] END max_depth=9, min_samples_leaf=2;, score=-17040.275 total time=   0.0s\n",
      "[CV 4/5] END max_depth=9, min_samples_leaf=2;, score=-14112.935 total time=   0.0s\n",
      "[CV 5/5] END max_depth=9, min_samples_leaf=2;, score=-42483.771 total time=   0.0s\n",
      "[CV 1/5] END max_depth=7, min_samples_leaf=11;, score=-23934.802 total time=   0.0s\n",
      "[CV 2/5] END max_depth=7, min_samples_leaf=11;, score=-31927.149 total time=   0.0s\n",
      "[CV 3/5] END max_depth=7, min_samples_leaf=11;, score=-19134.378 total time=   0.0s\n",
      "[CV 4/5] END max_depth=7, min_samples_leaf=11;, score=-18399.303 total time=   0.0s\n",
      "[CV 5/5] END max_depth=7, min_samples_leaf=11;, score=-44189.715 total time=   0.0s\n",
      "[CV 1/5] END max_depth=12, min_samples_leaf=16;, score=-24979.147 total time=   0.0s\n",
      "[CV 2/5] END max_depth=12, min_samples_leaf=16;, score=-34181.322 total time=   0.0s\n",
      "[CV 3/5] END max_depth=12, min_samples_leaf=16;, score=-21803.146 total time=   0.0s\n",
      "[CV 4/5] END max_depth=12, min_samples_leaf=16;, score=-23194.673 total time=   0.0s\n",
      "[CV 5/5] END max_depth=12, min_samples_leaf=16;, score=-44460.216 total time=   0.0s\n",
      "[CV 1/5] END max_depth=10, min_samples_leaf=10;, score=-21764.202 total time=   0.0s\n",
      "[CV 2/5] END max_depth=10, min_samples_leaf=10;, score=-31532.822 total time=   0.0s\n",
      "[CV 3/5] END max_depth=10, min_samples_leaf=10;, score=-19113.178 total time=   0.0s\n",
      "[CV 4/5] END max_depth=10, min_samples_leaf=10;, score=-17024.052 total time=   0.0s\n",
      "[CV 5/5] END max_depth=10, min_samples_leaf=10;, score=-43731.299 total time=   0.0s\n",
      "[CV 1/5] END max_depth=8, min_samples_leaf=18;, score=-28413.684 total time=   0.0s\n",
      "[CV 2/5] END max_depth=8, min_samples_leaf=18;, score=-34788.658 total time=   0.0s\n",
      "[CV 3/5] END max_depth=8, min_samples_leaf=18;, score=-21849.202 total time=   0.0s\n",
      "[CV 4/5] END max_depth=8, min_samples_leaf=18;, score=-24103.336 total time=   0.0s\n",
      "[CV 5/5] END max_depth=8, min_samples_leaf=18;, score=-45965.156 total time=   0.0s\n",
      "[CV 1/5] END max_depth=5, min_samples_leaf=13;, score=-27327.645 total time=   0.0s\n",
      "[CV 2/5] END max_depth=5, min_samples_leaf=13;, score=-34876.591 total time=   0.0s\n",
      "[CV 3/5] END max_depth=5, min_samples_leaf=13;, score=-21806.262 total time=   0.0s\n",
      "[CV 4/5] END max_depth=5, min_samples_leaf=13;, score=-23908.095 total time=   0.0s\n",
      "[CV 5/5] END max_depth=5, min_samples_leaf=13;, score=-46010.397 total time=   0.0s\n",
      "[CV 1/5] END max_depth=11, min_samples_leaf=3;, score=-20982.472 total time=   0.0s\n"
     ]
    },
    {
     "name": "stdout",
     "output_type": "stream",
     "text": [
      "[CV 2/5] END max_depth=11, min_samples_leaf=3;, score=-27632.975 total time=   0.1s\n",
      "[CV 3/5] END max_depth=11, min_samples_leaf=3;, score=-16176.496 total time=   0.0s\n",
      "[CV 4/5] END max_depth=11, min_samples_leaf=3;, score=-14694.070 total time=   0.0s\n",
      "[CV 5/5] END max_depth=11, min_samples_leaf=3;, score=-44548.513 total time=   0.1s\n",
      "[CV 1/5] END max_depth=7, min_samples_leaf=18;, score=-28041.478 total time=   0.0s\n",
      "[CV 2/5] END max_depth=7, min_samples_leaf=18;, score=-34956.645 total time=   0.0s\n",
      "[CV 3/5] END max_depth=7, min_samples_leaf=18;, score=-21754.620 total time=   0.0s\n",
      "[CV 4/5] END max_depth=7, min_samples_leaf=18;, score=-24257.788 total time=   0.0s\n",
      "[CV 5/5] END max_depth=7, min_samples_leaf=18;, score=-46191.236 total time=   0.0s\n",
      "[CV 1/5] END max_depth=9, min_samples_leaf=18;, score=-27229.864 total time=   0.0s\n",
      "[CV 2/5] END max_depth=9, min_samples_leaf=18;, score=-34240.642 total time=   0.0s\n",
      "[CV 3/5] END max_depth=9, min_samples_leaf=18;, score=-21949.747 total time=   0.0s\n",
      "[CV 4/5] END max_depth=9, min_samples_leaf=18;, score=-23995.561 total time=   0.0s\n",
      "[CV 5/5] END max_depth=9, min_samples_leaf=18;, score=-45355.929 total time=   0.0s\n",
      "[CV 1/5] END max_depth=12, min_samples_leaf=18;, score=-28572.395 total time=   0.0s\n",
      "[CV 2/5] END max_depth=12, min_samples_leaf=18;, score=-34650.057 total time=   0.0s\n",
      "[CV 3/5] END max_depth=12, min_samples_leaf=18;, score=-21908.500 total time=   0.0s\n",
      "[CV 4/5] END max_depth=12, min_samples_leaf=18;, score=-23878.007 total time=   0.0s\n",
      "[CV 5/5] END max_depth=12, min_samples_leaf=18;, score=-45775.640 total time=   0.0s\n",
      "[CV 1/5] END max_depth=5, min_samples_leaf=3;, score=-24092.750 total time=   0.0s\n",
      "[CV 2/5] END max_depth=5, min_samples_leaf=3;, score=-33033.885 total time=   0.0s\n",
      "[CV 3/5] END max_depth=5, min_samples_leaf=3;, score=-19589.750 total time=   0.0s\n",
      "[CV 4/5] END max_depth=5, min_samples_leaf=3;, score=-20847.112 total time=   0.0s\n",
      "[CV 5/5] END max_depth=5, min_samples_leaf=3;, score=-48171.283 total time=   0.0s\n",
      "[CV 1/5] END max_depth=6, min_samples_leaf=6;, score=-20432.121 total time=   0.0s\n",
      "[CV 2/5] END max_depth=6, min_samples_leaf=6;, score=-31351.068 total time=   0.0s\n",
      "[CV 3/5] END max_depth=6, min_samples_leaf=6;, score=-18455.728 total time=   0.0s\n",
      "[CV 4/5] END max_depth=6, min_samples_leaf=6;, score=-16831.211 total time=   0.0s\n",
      "[CV 5/5] END max_depth=6, min_samples_leaf=6;, score=-44310.058 total time=   0.0s\n",
      "[CV 1/5] END max_depth=5, min_samples_leaf=2;, score=-21949.590 total time=   0.0s\n",
      "[CV 2/5] END max_depth=5, min_samples_leaf=2;, score=-33114.246 total time=   0.0s\n",
      "[CV 3/5] END max_depth=5, min_samples_leaf=2;, score=-19920.808 total time=   0.0s\n",
      "[CV 4/5] END max_depth=5, min_samples_leaf=2;, score=-19187.399 total time=   0.0s\n",
      "[CV 5/5] END max_depth=5, min_samples_leaf=2;, score=-46854.891 total time=   0.0s\n",
      "[CV 1/5] END max_depth=7, min_samples_leaf=3;, score=-20986.826 total time=   0.0s\n",
      "[CV 2/5] END max_depth=7, min_samples_leaf=3;, score=-28739.078 total time=   0.0s\n",
      "[CV 3/5] END max_depth=7, min_samples_leaf=3;, score=-16564.262 total time=   0.0s\n",
      "[CV 4/5] END max_depth=7, min_samples_leaf=3;, score=-15395.807 total time=   0.0s\n",
      "[CV 5/5] END max_depth=7, min_samples_leaf=3;, score=-45531.587 total time=   0.0s\n",
      "[CV 1/5] END max_depth=9, min_samples_leaf=13;, score=-25395.026 total time=   0.0s\n",
      "[CV 2/5] END max_depth=9, min_samples_leaf=13;, score=-32732.127 total time=   0.0s\n",
      "[CV 3/5] END max_depth=9, min_samples_leaf=13;, score=-20380.210 total time=   0.0s\n",
      "[CV 4/5] END max_depth=9, min_samples_leaf=13;, score=-20325.591 total time=   0.0s\n",
      "[CV 5/5] END max_depth=9, min_samples_leaf=13;, score=-44178.314 total time=   0.0s\n",
      "[CV 1/5] END max_depth=14, min_samples_leaf=7;, score=-20198.514 total time=   0.0s\n",
      "[CV 2/5] END max_depth=14, min_samples_leaf=7;, score=-29820.302 total time=   0.0s\n",
      "[CV 3/5] END max_depth=14, min_samples_leaf=7;, score=-18074.766 total time=   0.0s\n",
      "[CV 4/5] END max_depth=14, min_samples_leaf=7;, score=-15007.020 total time=   0.0s\n",
      "[CV 5/5] END max_depth=14, min_samples_leaf=7;, score=-43360.262 total time=   0.0s\n",
      "[CV 1/5] END max_depth=11, min_samples_leaf=5;, score=-21244.084 total time=   0.0s\n",
      "[CV 2/5] END max_depth=11, min_samples_leaf=5;, score=-28382.050 total time=   0.0s\n",
      "[CV 3/5] END max_depth=11, min_samples_leaf=5;, score=-16919.530 total time=   0.0s\n",
      "[CV 4/5] END max_depth=11, min_samples_leaf=5;, score=-15119.870 total time=   0.0s\n",
      "[CV 5/5] END max_depth=11, min_samples_leaf=5;, score=-44163.956 total time=   0.0s\n",
      "[CV 1/5] END max_depth=11, min_samples_leaf=12;, score=-25296.942 total time=   0.0s\n",
      "[CV 2/5] END max_depth=11, min_samples_leaf=12;, score=-32710.336 total time=   0.0s\n",
      "[CV 3/5] END max_depth=11, min_samples_leaf=12;, score=-19952.884 total time=   0.0s\n",
      "[CV 4/5] END max_depth=11, min_samples_leaf=12;, score=-19049.141 total time=   0.0s\n",
      "[CV 5/5] END max_depth=11, min_samples_leaf=12;, score=-43396.014 total time=   0.0s\n",
      "[CV 1/5] END max_depth=12, min_samples_leaf=18;, score=-27768.822 total time=   0.0s\n",
      "[CV 2/5] END max_depth=12, min_samples_leaf=18;, score=-34672.810 total time=   0.0s\n",
      "[CV 3/5] END max_depth=12, min_samples_leaf=18;, score=-21388.474 total time=   0.0s\n",
      "[CV 4/5] END max_depth=12, min_samples_leaf=18;, score=-24430.925 total time=   0.0s\n",
      "[CV 5/5] END max_depth=12, min_samples_leaf=18;, score=-45380.075 total time=   0.0s\n",
      "[CV 1/5] END max_depth=10, min_samples_leaf=6;, score=-19993.853 total time=   0.0s\n",
      "[CV 2/5] END max_depth=10, min_samples_leaf=6;, score=-29291.229 total time=   0.0s\n",
      "[CV 3/5] END max_depth=10, min_samples_leaf=6;, score=-17467.665 total time=   0.0s\n",
      "[CV 4/5] END max_depth=10, min_samples_leaf=6;, score=-15553.441 total time=   0.0s\n",
      "[CV 5/5] END max_depth=10, min_samples_leaf=6;, score=-43019.778 total time=   0.0s\n",
      "[CV 1/5] END max_depth=8, min_samples_leaf=3;, score=-20830.851 total time=   0.0s\n",
      "[CV 2/5] END max_depth=8, min_samples_leaf=3;, score=-28417.356 total time=   0.0s\n",
      "[CV 3/5] END max_depth=8, min_samples_leaf=3;, score=-16366.993 total time=   0.0s\n",
      "[CV 4/5] END max_depth=8, min_samples_leaf=3;, score=-15021.138 total time=   0.0s\n",
      "[CV 5/5] END max_depth=8, min_samples_leaf=3;, score=-45273.923 total time=   0.0s\n",
      "[CV 1/5] END max_depth=10, min_samples_leaf=12;, score=-24060.903 total time=   0.0s\n",
      "[CV 2/5] END max_depth=10, min_samples_leaf=12;, score=-32059.899 total time=   0.0s\n",
      "[CV 3/5] END max_depth=10, min_samples_leaf=12;, score=-19649.648 total time=   0.0s\n",
      "[CV 4/5] END max_depth=10, min_samples_leaf=12;, score=-19562.135 total time=   0.0s\n",
      "[CV 5/5] END max_depth=10, min_samples_leaf=12;, score=-43328.486 total time=   0.0s\n",
      "[CV 1/5] END max_depth=5, min_samples_leaf=10;, score=-24743.317 total time=   0.0s\n",
      "[CV 2/5] END max_depth=5, min_samples_leaf=10;, score=-34671.464 total time=   0.0s\n",
      "[CV 3/5] END max_depth=5, min_samples_leaf=10;, score=-21137.828 total time=   0.0s\n",
      "[CV 4/5] END max_depth=5, min_samples_leaf=10;, score=-21941.422 total time=   0.0s\n",
      "[CV 5/5] END max_depth=5, min_samples_leaf=10;, score=-45477.823 total time=   0.0s\n",
      "[CV 1/5] END max_depth=10, min_samples_leaf=17;, score=-28036.741 total time=   0.0s\n",
      "[CV 2/5] END max_depth=10, min_samples_leaf=17;, score=-34391.810 total time=   0.0s\n",
      "[CV 3/5] END max_depth=10, min_samples_leaf=17;, score=-21757.749 total time=   0.0s\n",
      "[CV 4/5] END max_depth=10, min_samples_leaf=17;, score=-24117.163 total time=   0.0s\n",
      "[CV 5/5] END max_depth=10, min_samples_leaf=17;, score=-44805.233 total time=   0.0s\n",
      "[CV 1/5] END max_depth=7, min_samples_leaf=5;, score=-21409.566 total time=   0.0s\n",
      "[CV 2/5] END max_depth=7, min_samples_leaf=5;, score=-29320.840 total time=   0.0s\n",
      "[CV 3/5] END max_depth=7, min_samples_leaf=5;, score=-17270.191 total time=   0.0s\n",
      "[CV 4/5] END max_depth=7, min_samples_leaf=5;, score=-15825.562 total time=   0.0s\n",
      "[CV 5/5] END max_depth=7, min_samples_leaf=5;, score=-44690.809 total time=   0.0s\n",
      "[CV 1/5] END max_depth=7, min_samples_leaf=4;, score=-20654.816 total time=   0.0s\n",
      "[CV 2/5] END max_depth=7, min_samples_leaf=4;, score=-29606.446 total time=   0.0s\n",
      "[CV 3/5] END max_depth=7, min_samples_leaf=4;, score=-16969.979 total time=   0.0s\n",
      "[CV 4/5] END max_depth=7, min_samples_leaf=4;, score=-15683.921 total time=   0.0s\n"
     ]
    },
    {
     "name": "stdout",
     "output_type": "stream",
     "text": [
      "[CV 5/5] END max_depth=7, min_samples_leaf=4;, score=-45319.003 total time=   0.0s\n",
      "[CV 1/5] END max_depth=7, min_samples_leaf=8;, score=-21175.378 total time=   0.0s\n",
      "[CV 2/5] END max_depth=7, min_samples_leaf=8;, score=-32002.142 total time=   0.0s\n",
      "[CV 3/5] END max_depth=7, min_samples_leaf=8;, score=-18568.938 total time=   0.0s\n",
      "[CV 4/5] END max_depth=7, min_samples_leaf=8;, score=-16797.602 total time=   0.0s\n",
      "[CV 5/5] END max_depth=7, min_samples_leaf=8;, score=-43459.368 total time=   0.0s\n",
      "[CV 1/5] END max_depth=8, min_samples_leaf=10;, score=-22641.685 total time=   0.0s\n",
      "[CV 2/5] END max_depth=8, min_samples_leaf=10;, score=-31058.939 total time=   0.0s\n",
      "[CV 3/5] END max_depth=8, min_samples_leaf=10;, score=-19103.250 total time=   0.0s\n",
      "[CV 4/5] END max_depth=8, min_samples_leaf=10;, score=-17333.483 total time=   0.0s\n",
      "[CV 5/5] END max_depth=8, min_samples_leaf=10;, score=-43450.129 total time=   0.0s\n",
      "{'max_depth': 9, 'min_samples_leaf': 2} -23995.167170939778\n"
     ]
    }
   ],
   "source": [
    "params_distr = {\n",
    "    \"max_depth\": stats.randint(low=5, high=15),\n",
    "    \"min_samples_leaf\": stats.randint(low=2, high=20)\n",
    "}\n",
    "\n",
    "rand_search_cv = RandomizedSearchCV(RandomForestRegressor(), params_distr, random_state=42, verbose=6,\n",
    "                                    cv=5, scoring=\"neg_mean_squared_error\",\n",
    "                                    n_iter=100)\n",
    "rand_search = rand_search_cv.fit(X_scaled, y_true)\n",
    "print(rand_search.best_params_, rand_search.best_score_)"
   ]
  },
  {
   "cell_type": "code",
   "execution_count": 31,
   "id": "b3f9ac2f",
   "metadata": {
    "scrolled": true
   },
   "outputs": [
    {
     "name": "stdout",
     "output_type": "stream",
     "text": [
      "mse=24251.72; r2=0.80\n",
      "[-10967.08111262  -8586.95332676  -9238.49401585  -9920.28903802\n",
      "  -7471.08340804]\n",
      "[-19869.69727411 -27198.12723039 -16994.85260711 -14276.81429929\n",
      " -42919.12716701]\n"
     ]
    }
   ],
   "source": [
    "# Best model\n",
    "rf_reg = RandomForestRegressor(random_state=42, n_estimators=100, max_depth=13, min_samples_leaf=2)\n",
    "\n",
    "res_dict = cross_validate(rf_reg, X_scaled, y_true, scoring=[\"neg_mean_squared_error\", \"r2\"], cv=5, return_train_score=True)\n",
    "print(f\"mse={np.abs(np.mean(res_dict['test_neg_mean_squared_error'])):.2f}; r2={np.mean(res_dict['test_r2']):.2f}\")\n",
    "print(res_dict[\"train_neg_mean_squared_error\"])\n",
    "print(res_dict[\"test_neg_mean_squared_error\"])"
   ]
  },
  {
   "cell_type": "code",
   "execution_count": 32,
   "id": "6ba8850d",
   "metadata": {},
   "outputs": [
    {
     "data": {
      "text/plain": [
       "8963.396112943366"
      ]
     },
     "execution_count": 32,
     "metadata": {},
     "output_type": "execute_result"
    }
   ],
   "source": [
    "rf_reg.fit(X_scaled, y_true)\n",
    "\n",
    "y_pred = rf_reg.predict(X_scaled)\n",
    "mean_squared_error(y_true, y_pred)"
   ]
  },
  {
   "cell_type": "code",
   "execution_count": 33,
   "id": "c1d2d036",
   "metadata": {},
   "outputs": [
    {
     "data": {
      "text/plain": [
       "8963.396112943366"
      ]
     },
     "execution_count": 33,
     "metadata": {},
     "output_type": "execute_result"
    }
   ],
   "source": [
    "joblib.dump(rf_reg, \"models/random_forest.joblib\")\n",
    "rf_reg = joblib.load(\"models/random_forest.joblib\")\n",
    "y_pred = rf_reg.predict(X_scaled)\n",
    "mean_squared_error(y_true, y_pred)"
   ]
  },
  {
   "cell_type": "markdown",
   "id": "349aaf2c",
   "metadata": {},
   "source": [
    "#### Neural Network"
   ]
  },
  {
   "cell_type": "code",
   "execution_count": 34,
   "id": "80386fdf",
   "metadata": {
    "scrolled": true
   },
   "outputs": [],
   "source": [
    "def train(X_train, y_train, X_valid, y_valid, model, n_epochs=1000, lr=0.03, verbose=False):\n",
    "    \n",
    "    history = {\"loss_train\": [], \"loss_valid\": []}\n",
    "    \n",
    "    criterion = torch.nn.MSELoss()\n",
    "    optimizer = torch.optim.Adam(model.parameters(), lr=lr)\n",
    "    \n",
    "    for epoch in range(n_epochs):\n",
    "        model.train()\n",
    "        # Forward pass\n",
    "        y_pred_train = model(X_train)\n",
    "        loss_train = criterion(y_pred_train, y_train)\n",
    "        \n",
    "        # Backward pass\n",
    "        optimizer.zero_grad()\n",
    "        loss_train.backward()\n",
    "        optimizer.step()\n",
    "        \n",
    "        # Model evaluation\n",
    "        with torch.no_grad():\n",
    "            model.eval()\n",
    "            y_pred_valid = model(X_valid)\n",
    "            loss_valid = criterion(y_pred_valid, y_valid)\n",
    "            \n",
    "        if epoch % 100 == 0:\n",
    "            history[\"loss_train\"].append(loss_train.item())\n",
    "            history[\"loss_valid\"].append(loss_valid.item())\n",
    "        \n",
    "        if verbose and epoch % 1000 == 0:\n",
    "            tqdm.write(f'Epoch [{epoch}/{n_epochs}], Training loss: {loss_train.item():.4f}, Validation loss: {loss_valid.item():.4f}')\n",
    "       \n",
    "    return history"
   ]
  },
  {
   "cell_type": "code",
   "execution_count": 35,
   "id": "410fc8db",
   "metadata": {},
   "outputs": [],
   "source": [
    "X_pt = torch.tensor(X_scaled, dtype=torch.float32)\n",
    "y_pt = torch.tensor(y_true, dtype=torch.float32).view(-1, 1)"
   ]
  },
  {
   "cell_type": "code",
   "execution_count": 36,
   "id": "e2fb07a8",
   "metadata": {},
   "outputs": [],
   "source": [
    "X_train, X_valid, y_train, y_valid = train_test_split(X_pt, y_pt, test_size=0.2)"
   ]
  },
  {
   "cell_type": "code",
   "execution_count": 37,
   "id": "445b1783",
   "metadata": {},
   "outputs": [
    {
     "name": "stdout",
     "output_type": "stream",
     "text": [
      "Epoch [0/10000], Training loss: 1956751.7500, Validation loss: 2065805.1250\n",
      "Epoch [1000/10000], Training loss: 64024.1680, Validation loss: 50871.8047\n",
      "Epoch [2000/10000], Training loss: 66640.9453, Validation loss: 53058.5156\n",
      "Epoch [3000/10000], Training loss: 69448.0938, Validation loss: 53874.7461\n",
      "Epoch [4000/10000], Training loss: 61352.3906, Validation loss: 53510.1562\n",
      "Epoch [5000/10000], Training loss: 53221.3555, Validation loss: 48454.8789\n",
      "Epoch [6000/10000], Training loss: 58260.5078, Validation loss: 47763.5391\n",
      "Epoch [7000/10000], Training loss: 45836.7852, Validation loss: 51417.6758\n",
      "Epoch [8000/10000], Training loss: 51133.8008, Validation loss: 49195.7383\n",
      "Epoch [9000/10000], Training loss: 46233.5703, Validation loss: 53321.6914\n"
     ]
    }
   ],
   "source": [
    "mlp = torch.nn.Sequential(\n",
    "    torch.nn.Linear(10, 32),\n",
    "    torch.nn.ReLU(),\n",
    "    torch.nn.Linear(32, 16),\n",
    "    torch.nn.ReLU(),\n",
    "    torch.nn.Linear(16, 8),\n",
    "    torch.nn.ReLU(),\n",
    "    torch.nn.Dropout(p=0.1),\n",
    "    torch.nn.Linear(8, 1)\n",
    ")\n",
    "\n",
    "history = train(X_train, y_train, X_valid, y_valid, mlp, n_epochs=10000, verbose=True)"
   ]
  },
  {
   "cell_type": "code",
   "execution_count": 38,
   "id": "0dccdf32",
   "metadata": {},
   "outputs": [
    {
     "data": {
      "image/png": "[encoded data removed]",
      "text/plain": [
       "<Figure size 640x480 with 1 Axes>"
      ]
     },
     "metadata": {},
     "output_type": "display_data"
    }
   ],
   "source": [
    "plt.plot(np.arange(0, len(history[\"loss_train\"])) * 100, history[\"loss_train\"], label=\"train\")\n",
    "plt.plot(np.arange(0, len(history[\"loss_train\"])) * 100, history[\"loss_valid\"], label=\"valid\")\n",
    "plt.legend()\n",
    "plt.title(\"Learning curve\")\n",
    "plt.ylabel(r\"$MSE$\")\n",
    "plt.xlabel(\"Epoch\")\n",
    "plt.show()"
   ]
  },
  {
   "cell_type": "code",
   "execution_count": 39,
   "id": "4ba51067",
   "metadata": {},
   "outputs": [],
   "source": [
    "# K-fold cross validation\n",
    "mse_train = []\n",
    "mse_test = []\n",
    "\n",
    "for train_idx, test_idx in KFold(n_splits=5, shuffle=True).split(X_pt, y_pt):\n",
    "    \n",
    "    # Get train and test data for k-th fold\n",
    "    X_train_fold = X_pt[train_idx]\n",
    "    y_train_fold = y_pt[train_idx]\n",
    "    X_test_fold = X_pt[test_idx]\n",
    "    y_test_fold = y_pt[test_idx]\n",
    "    \n",
    "    # Define model\n",
    "    mlp = torch.nn.Sequential(\n",
    "        torch.nn.Linear(10, 32),\n",
    "        torch.nn.ReLU(),\n",
    "        torch.nn.Linear(32, 16),\n",
    "        torch.nn.ReLU(),\n",
    "        torch.nn.Linear(16, 8),\n",
    "        torch.nn.ReLU(),\n",
    "        torch.nn.Dropout(p=0.1),\n",
    "        torch.nn.Linear(8, 1)\n",
    "    )\n",
    "    \n",
    "    # Train model on k-th fold training data\n",
    "    history = train(X_train=X_train_fold, y_train=y_train_fold, \n",
    "          X_valid=X_test_fold, y_valid=y_test_fold, \n",
    "          model=mlp, n_epochs=10000, lr=0.03, verbose=False)\n",
    "    \n",
    "    mse_train.append(history[\"loss_train\"][-1])\n",
    "    mse_test.append(history[\"loss_valid\"][-1])"
   ]
  },
  {
   "cell_type": "code",
   "execution_count": 40,
   "id": "ac0b4b39",
   "metadata": {},
   "outputs": [
    {
     "data": {
      "text/plain": [
       "[57125.31640625, 63585.3125, 61979.57421875, 89451.328125, 52287.02734375]"
      ]
     },
     "execution_count": 40,
     "metadata": {},
     "output_type": "execute_result"
    }
   ],
   "source": [
    "mse_train"
   ]
  },
  {
   "cell_type": "code",
   "execution_count": 41,
   "id": "95b723d0",
   "metadata": {},
   "outputs": [
    {
     "data": {
      "text/plain": [
       "[51159.9453125, 59183.4296875, 54183.7265625, 60641.765625, 48243.09765625]"
      ]
     },
     "execution_count": 41,
     "metadata": {},
     "output_type": "execute_result"
    }
   ],
   "source": [
    "mse_test"
   ]
  },
  {
   "cell_type": "code",
   "execution_count": 42,
   "id": "176de1e8",
   "metadata": {},
   "outputs": [
    {
     "data": {
      "text/plain": [
       "54682.39296875"
      ]
     },
     "execution_count": 42,
     "metadata": {},
     "output_type": "execute_result"
    }
   ],
   "source": [
    "np.mean(mse_test)"
   ]
  },
  {
   "cell_type": "code",
   "execution_count": 43,
   "id": "2223c226",
   "metadata": {},
   "outputs": [
    {
     "name": "stdout",
     "output_type": "stream",
     "text": [
      "Epoch [0/10000], Training loss: 1980458.6250, Validation loss: 1979575.0000\n",
      "Epoch [1000/10000], Training loss: 78557.4375, Validation loss: 34694.0820\n",
      "Epoch [2000/10000], Training loss: 74021.3594, Validation loss: 34866.5000\n",
      "Epoch [3000/10000], Training loss: 70351.1875, Validation loss: 35560.6719\n",
      "Epoch [4000/10000], Training loss: 77375.9609, Validation loss: 34194.9492\n",
      "Epoch [5000/10000], Training loss: 65920.6875, Validation loss: 26894.0020\n",
      "Epoch [6000/10000], Training loss: 64751.0117, Validation loss: 26469.6074\n",
      "Epoch [7000/10000], Training loss: 55178.6680, Validation loss: 23235.1191\n",
      "Epoch [8000/10000], Training loss: 60497.4414, Validation loss: 22399.3730\n",
      "Epoch [9000/10000], Training loss: 56407.7422, Validation loss: 23074.4805\n"
     ]
    }
   ],
   "source": [
    "mlp = torch.nn.Sequential(\n",
    "    torch.nn.Linear(10, 32),\n",
    "    torch.nn.ReLU(),\n",
    "    torch.nn.Linear(32, 16),\n",
    "    torch.nn.ReLU(),\n",
    "    torch.nn.Linear(16, 8),\n",
    "    torch.nn.ReLU(),\n",
    "    torch.nn.Dropout(p=0.1),\n",
    "    torch.nn.Linear(8, 1)\n",
    ")\n",
    "\n",
    "history = train(X_train=X_pt, y_train=y_pt, X_valid=X_pt, y_valid=y_pt, model=mlp, n_epochs=10000, verbose=True)"
   ]
  },
  {
   "cell_type": "code",
   "execution_count": 44,
   "id": "65800536",
   "metadata": {},
   "outputs": [
    {
     "name": "stdout",
     "output_type": "stream",
     "text": [
      "Sequential(\n",
      "  (0): Linear(in_features=10, out_features=32, bias=True)\n",
      "  (1): ReLU()\n",
      "  (2): Linear(in_features=32, out_features=16, bias=True)\n",
      "  (3): ReLU()\n",
      "  (4): Linear(in_features=16, out_features=8, bias=True)\n",
      "  (5): ReLU()\n",
      "  (6): Dropout(p=0.1, inplace=False)\n",
      "  (7): Linear(in_features=8, out_features=1, bias=True)\n",
      ")\n"
     ]
    }
   ],
   "source": [
    "print(mlp)"
   ]
  },
  {
   "cell_type": "code",
   "execution_count": 45,
   "id": "8b4f1421",
   "metadata": {},
   "outputs": [],
   "source": [
    "torch.save(mlp, \"models/mlp.pt\")"
   ]
  },
  {
   "cell_type": "code",
   "execution_count": 46,
   "id": "d2e9edf9",
   "metadata": {},
   "outputs": [
    {
     "data": {
      "text/plain": [
       "Sequential(\n",
       "  (0): Linear(in_features=10, out_features=32, bias=True)\n",
       "  (1): ReLU()\n",
       "  (2): Linear(in_features=32, out_features=16, bias=True)\n",
       "  (3): ReLU()\n",
       "  (4): Linear(in_features=16, out_features=8, bias=True)\n",
       "  (5): ReLU()\n",
       "  (6): Dropout(p=0.1, inplace=False)\n",
       "  (7): Linear(in_features=8, out_features=1, bias=True)\n",
       ")"
      ]
     },
     "execution_count": 46,
     "metadata": {},
     "output_type": "execute_result"
    }
   ],
   "source": [
    "mlp = torch.load(\"models/mlp.pt\")\n",
    "mlp.eval()"
   ]
  },
  {
   "cell_type": "code",
   "execution_count": 47,
   "id": "61454ed1",
   "metadata": {},
   "outputs": [
    {
     "data": {
      "text/plain": [
       "22020.890625"
      ]
     },
     "execution_count": 47,
     "metadata": {},
     "output_type": "execute_result"
    }
   ],
   "source": [
    "y_pred = mlp(torch.tensor(X_scaled, dtype=torch.float32))\n",
    "torch.nn.functional.mse_loss(y_pred, torch.tensor(y_true, dtype=torch.float32).view(-1, 1)).item()"
   ]
  },
  {
   "cell_type": "code",
   "execution_count": null,
   "id": "d735cec4",
   "metadata": {},
   "outputs": [],
   "source": []
  }
 ],
 "metadata": {
  "kernelspec": {
   "display_name": "Python 3 (ipykernel)",
   "language": "python",
   "name": "python3"
  },
  "language_info": {
   "codemirror_mode": {
    "name": "ipython",
    "version": 3
   },
   "file_extension": ".py",
   "mimetype": "text/x-python",
   "name": "python",
   "nbconvert_exporter": "python",
   "pygments_lexer": "ipython3",
   "version": "3.10.8"
  }
 },
 "nbformat": 4,
 "nbformat_minor": 5
}
