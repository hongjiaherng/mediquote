{
 "cells": [
  {
   "cell_type": "code",
   "execution_count": 1,
   "id": "5d42b4e7",
   "metadata": {},
   "outputs": [],
   "source": [
    "import pandas as pd\n",
    "import numpy as np\n",
    "import matplotlib.pyplot as plt\n",
    "import graphviz\n",
    "import joblib\n",
    "from tqdm import tqdm\n",
    "\n",
    "%matplotlib inline"
   ]
  },
  {
   "cell_type": "code",
   "execution_count": 2,
   "id": "386e528f",
   "metadata": {},
   "outputs": [],
   "source": [
    "from sklearn.tree import DecisionTreeRegressor\n",
    "from sklearn.linear_model import LinearRegression, SGDRegressor\n",
    "from sklearn.svm import SVR\n",
    "from sklearn.ensemble import RandomForestRegressor\n",
    "from sklearn.metrics import mean_squared_error\n",
    "from sklearn.decomposition import PCA\n",
    "from sklearn.model_selection import cross_val_score, cross_validate, RandomizedSearchCV, KFold, train_test_split\n",
    "from sklearn.preprocessing import StandardScaler\n",
    "from sklearn import tree\n",
    "\n",
    "from scipy import stats\n",
    "\n",
    "import xgboost as xgb\n",
    "\n",
    "import torch"
   ]
  },
  {
   "cell_type": "markdown",
   "id": "6c6833cb",
   "metadata": {},
   "source": [
    "## Load Dataset"
   ]
  },
  {
   "cell_type": "code",
   "execution_count": 3,
   "id": "6c303abc",
   "metadata": {
    "scrolled": false
   },
   "outputs": [
    {
     "data": {
      "text/html": [
       "<div>\n",
       "<style scoped>\n",
       "    .dataframe tbody tr th:only-of-type {\n",
       "        vertical-align: middle;\n",
       "    }\n",
       "\n",
       "    .dataframe tbody tr th {\n",
       "        vertical-align: top;\n",
       "    }\n",
       "\n",
       "    .dataframe thead th {\n",
       "        text-align: right;\n",
       "    }\n",
       "</style>\n",
       "<table border=\"1\" class=\"dataframe\">\n",
       "  <thead>\n",
       "    <tr style=\"text-align: right;\">\n",
       "      <th></th>\n",
       "      <th>Age</th>\n",
       "      <th>Diabetes</th>\n",
       "      <th>BloodPressureProblems</th>\n",
       "      <th>AnyTransplants</th>\n",
       "      <th>AnyChronicDiseases</th>\n",
       "      <th>Height</th>\n",
       "      <th>Weight</th>\n",
       "      <th>KnownAllergies</th>\n",
       "      <th>HistoryOfCancerInFamily</th>\n",
       "      <th>NumberOfMajorSurgeries</th>\n",
       "      <th>PremiumPrice</th>\n",
       "    </tr>\n",
       "  </thead>\n",
       "  <tbody>\n",
       "    <tr>\n",
       "      <th>0</th>\n",
       "      <td>45</td>\n",
       "      <td>0</td>\n",
       "      <td>0</td>\n",
       "      <td>0</td>\n",
       "      <td>0</td>\n",
       "      <td>155</td>\n",
       "      <td>57</td>\n",
       "      <td>0</td>\n",
       "      <td>0</td>\n",
       "      <td>0</td>\n",
       "      <td>1400.0</td>\n",
       "    </tr>\n",
       "    <tr>\n",
       "      <th>1</th>\n",
       "      <td>60</td>\n",
       "      <td>1</td>\n",
       "      <td>0</td>\n",
       "      <td>0</td>\n",
       "      <td>0</td>\n",
       "      <td>180</td>\n",
       "      <td>73</td>\n",
       "      <td>0</td>\n",
       "      <td>0</td>\n",
       "      <td>0</td>\n",
       "      <td>1624.0</td>\n",
       "    </tr>\n",
       "    <tr>\n",
       "      <th>2</th>\n",
       "      <td>36</td>\n",
       "      <td>1</td>\n",
       "      <td>1</td>\n",
       "      <td>0</td>\n",
       "      <td>0</td>\n",
       "      <td>158</td>\n",
       "      <td>59</td>\n",
       "      <td>0</td>\n",
       "      <td>0</td>\n",
       "      <td>1</td>\n",
       "      <td>1288.0</td>\n",
       "    </tr>\n",
       "    <tr>\n",
       "      <th>3</th>\n",
       "      <td>52</td>\n",
       "      <td>1</td>\n",
       "      <td>1</td>\n",
       "      <td>0</td>\n",
       "      <td>1</td>\n",
       "      <td>183</td>\n",
       "      <td>93</td>\n",
       "      <td>0</td>\n",
       "      <td>0</td>\n",
       "      <td>2</td>\n",
       "      <td>1568.0</td>\n",
       "    </tr>\n",
       "    <tr>\n",
       "      <th>4</th>\n",
       "      <td>38</td>\n",
       "      <td>0</td>\n",
       "      <td>0</td>\n",
       "      <td>0</td>\n",
       "      <td>1</td>\n",
       "      <td>166</td>\n",
       "      <td>88</td>\n",
       "      <td>0</td>\n",
       "      <td>0</td>\n",
       "      <td>1</td>\n",
       "      <td>1288.0</td>\n",
       "    </tr>\n",
       "    <tr>\n",
       "      <th>...</th>\n",
       "      <td>...</td>\n",
       "      <td>...</td>\n",
       "      <td>...</td>\n",
       "      <td>...</td>\n",
       "      <td>...</td>\n",
       "      <td>...</td>\n",
       "      <td>...</td>\n",
       "      <td>...</td>\n",
       "      <td>...</td>\n",
       "      <td>...</td>\n",
       "      <td>...</td>\n",
       "    </tr>\n",
       "    <tr>\n",
       "      <th>981</th>\n",
       "      <td>18</td>\n",
       "      <td>0</td>\n",
       "      <td>0</td>\n",
       "      <td>0</td>\n",
       "      <td>0</td>\n",
       "      <td>169</td>\n",
       "      <td>67</td>\n",
       "      <td>0</td>\n",
       "      <td>0</td>\n",
       "      <td>0</td>\n",
       "      <td>840.0</td>\n",
       "    </tr>\n",
       "    <tr>\n",
       "      <th>982</th>\n",
       "      <td>64</td>\n",
       "      <td>1</td>\n",
       "      <td>1</td>\n",
       "      <td>0</td>\n",
       "      <td>0</td>\n",
       "      <td>153</td>\n",
       "      <td>70</td>\n",
       "      <td>0</td>\n",
       "      <td>0</td>\n",
       "      <td>3</td>\n",
       "      <td>1568.0</td>\n",
       "    </tr>\n",
       "    <tr>\n",
       "      <th>983</th>\n",
       "      <td>56</td>\n",
       "      <td>0</td>\n",
       "      <td>1</td>\n",
       "      <td>0</td>\n",
       "      <td>0</td>\n",
       "      <td>155</td>\n",
       "      <td>71</td>\n",
       "      <td>0</td>\n",
       "      <td>0</td>\n",
       "      <td>1</td>\n",
       "      <td>1624.0</td>\n",
       "    </tr>\n",
       "    <tr>\n",
       "      <th>984</th>\n",
       "      <td>47</td>\n",
       "      <td>1</td>\n",
       "      <td>1</td>\n",
       "      <td>0</td>\n",
       "      <td>0</td>\n",
       "      <td>158</td>\n",
       "      <td>73</td>\n",
       "      <td>1</td>\n",
       "      <td>0</td>\n",
       "      <td>1</td>\n",
       "      <td>2184.0</td>\n",
       "    </tr>\n",
       "    <tr>\n",
       "      <th>985</th>\n",
       "      <td>21</td>\n",
       "      <td>0</td>\n",
       "      <td>0</td>\n",
       "      <td>0</td>\n",
       "      <td>0</td>\n",
       "      <td>158</td>\n",
       "      <td>75</td>\n",
       "      <td>1</td>\n",
       "      <td>0</td>\n",
       "      <td>1</td>\n",
       "      <td>840.0</td>\n",
       "    </tr>\n",
       "  </tbody>\n",
       "</table>\n",
       "<p>986 rows × 11 columns</p>\n",
       "</div>"
      ],
      "text/plain": [
       "     Age  Diabetes  BloodPressureProblems  AnyTransplants  AnyChronicDiseases   \n",
       "0     45         0                      0               0                   0  \\\n",
       "1     60         1                      0               0                   0   \n",
       "2     36         1                      1               0                   0   \n",
       "3     52         1                      1               0                   1   \n",
       "4     38         0                      0               0                   1   \n",
       "..   ...       ...                    ...             ...                 ...   \n",
       "981   18         0                      0               0                   0   \n",
       "982   64         1                      1               0                   0   \n",
       "983   56         0                      1               0                   0   \n",
       "984   47         1                      1               0                   0   \n",
       "985   21         0                      0               0                   0   \n",
       "\n",
       "     Height  Weight  KnownAllergies  HistoryOfCancerInFamily   \n",
       "0       155      57               0                        0  \\\n",
       "1       180      73               0                        0   \n",
       "2       158      59               0                        0   \n",
       "3       183      93               0                        0   \n",
       "4       166      88               0                        0   \n",
       "..      ...     ...             ...                      ...   \n",
       "981     169      67               0                        0   \n",
       "982     153      70               0                        0   \n",
       "983     155      71               0                        0   \n",
       "984     158      73               1                        0   \n",
       "985     158      75               1                        0   \n",
       "\n",
       "     NumberOfMajorSurgeries  PremiumPrice  \n",
       "0                         0        1400.0  \n",
       "1                         0        1624.0  \n",
       "2                         1        1288.0  \n",
       "3                         2        1568.0  \n",
       "4                         1        1288.0  \n",
       "..                      ...           ...  \n",
       "981                       0         840.0  \n",
       "982                       3        1568.0  \n",
       "983                       1        1624.0  \n",
       "984                       1        2184.0  \n",
       "985                       1         840.0  \n",
       "\n",
       "[986 rows x 11 columns]"
      ]
     },
     "execution_count": 3,
     "metadata": {},
     "output_type": "execute_result"
    }
   ],
   "source": [
    "df = pd.read_csv(\"./data/medicalpremium.csv\")\n",
    "df[\"PremiumPrice\"] = df[\"PremiumPrice\"] * 0.056\n",
    "df"
   ]
  },
  {
   "cell_type": "code",
   "execution_count": 4,
   "id": "225b1fc2",
   "metadata": {},
   "outputs": [],
   "source": [
    "feature_names = df.drop(\"PremiumPrice\", axis=1).columns.to_list()"
   ]
  },
  {
   "cell_type": "markdown",
   "id": "89c50dc7",
   "metadata": {},
   "source": [
    "## Exploratory Data Analysis"
   ]
  },
  {
   "cell_type": "code",
   "execution_count": 5,
   "id": "89777730",
   "metadata": {},
   "outputs": [
    {
     "data": {
      "text/html": [
       "<div>\n",
       "<style scoped>\n",
       "    .dataframe tbody tr th:only-of-type {\n",
       "        vertical-align: middle;\n",
       "    }\n",
       "\n",
       "    .dataframe tbody tr th {\n",
       "        vertical-align: top;\n",
       "    }\n",
       "\n",
       "    .dataframe thead th {\n",
       "        text-align: right;\n",
       "    }\n",
       "</style>\n",
       "<table border=\"1\" class=\"dataframe\">\n",
       "  <thead>\n",
       "    <tr style=\"text-align: right;\">\n",
       "      <th></th>\n",
       "      <th>Age</th>\n",
       "      <th>Diabetes</th>\n",
       "      <th>BloodPressureProblems</th>\n",
       "      <th>AnyTransplants</th>\n",
       "      <th>AnyChronicDiseases</th>\n",
       "      <th>Height</th>\n",
       "      <th>Weight</th>\n",
       "      <th>KnownAllergies</th>\n",
       "      <th>HistoryOfCancerInFamily</th>\n",
       "      <th>NumberOfMajorSurgeries</th>\n",
       "      <th>PremiumPrice</th>\n",
       "    </tr>\n",
       "  </thead>\n",
       "  <tbody>\n",
       "    <tr>\n",
       "      <th>count</th>\n",
       "      <td>986.000000</td>\n",
       "      <td>986.000000</td>\n",
       "      <td>986.000000</td>\n",
       "      <td>986.000000</td>\n",
       "      <td>986.000000</td>\n",
       "      <td>986.000000</td>\n",
       "      <td>986.000000</td>\n",
       "      <td>986.000000</td>\n",
       "      <td>986.000000</td>\n",
       "      <td>986.000000</td>\n",
       "      <td>986.000000</td>\n",
       "    </tr>\n",
       "    <tr>\n",
       "      <th>mean</th>\n",
       "      <td>41.745436</td>\n",
       "      <td>0.419878</td>\n",
       "      <td>0.468560</td>\n",
       "      <td>0.055781</td>\n",
       "      <td>0.180527</td>\n",
       "      <td>168.182556</td>\n",
       "      <td>76.950304</td>\n",
       "      <td>0.215010</td>\n",
       "      <td>0.117647</td>\n",
       "      <td>0.667343</td>\n",
       "      <td>1362.855984</td>\n",
       "    </tr>\n",
       "    <tr>\n",
       "      <th>std</th>\n",
       "      <td>13.963371</td>\n",
       "      <td>0.493789</td>\n",
       "      <td>0.499264</td>\n",
       "      <td>0.229615</td>\n",
       "      <td>0.384821</td>\n",
       "      <td>10.098155</td>\n",
       "      <td>14.265096</td>\n",
       "      <td>0.411038</td>\n",
       "      <td>0.322353</td>\n",
       "      <td>0.749205</td>\n",
       "      <td>349.898325</td>\n",
       "    </tr>\n",
       "    <tr>\n",
       "      <th>min</th>\n",
       "      <td>18.000000</td>\n",
       "      <td>0.000000</td>\n",
       "      <td>0.000000</td>\n",
       "      <td>0.000000</td>\n",
       "      <td>0.000000</td>\n",
       "      <td>145.000000</td>\n",
       "      <td>51.000000</td>\n",
       "      <td>0.000000</td>\n",
       "      <td>0.000000</td>\n",
       "      <td>0.000000</td>\n",
       "      <td>840.000000</td>\n",
       "    </tr>\n",
       "    <tr>\n",
       "      <th>25%</th>\n",
       "      <td>30.000000</td>\n",
       "      <td>0.000000</td>\n",
       "      <td>0.000000</td>\n",
       "      <td>0.000000</td>\n",
       "      <td>0.000000</td>\n",
       "      <td>161.000000</td>\n",
       "      <td>67.000000</td>\n",
       "      <td>0.000000</td>\n",
       "      <td>0.000000</td>\n",
       "      <td>0.000000</td>\n",
       "      <td>1176.000000</td>\n",
       "    </tr>\n",
       "    <tr>\n",
       "      <th>50%</th>\n",
       "      <td>42.000000</td>\n",
       "      <td>0.000000</td>\n",
       "      <td>0.000000</td>\n",
       "      <td>0.000000</td>\n",
       "      <td>0.000000</td>\n",
       "      <td>168.000000</td>\n",
       "      <td>75.000000</td>\n",
       "      <td>0.000000</td>\n",
       "      <td>0.000000</td>\n",
       "      <td>1.000000</td>\n",
       "      <td>1288.000000</td>\n",
       "    </tr>\n",
       "    <tr>\n",
       "      <th>75%</th>\n",
       "      <td>53.000000</td>\n",
       "      <td>1.000000</td>\n",
       "      <td>1.000000</td>\n",
       "      <td>0.000000</td>\n",
       "      <td>0.000000</td>\n",
       "      <td>176.000000</td>\n",
       "      <td>87.000000</td>\n",
       "      <td>0.000000</td>\n",
       "      <td>0.000000</td>\n",
       "      <td>1.000000</td>\n",
       "      <td>1568.000000</td>\n",
       "    </tr>\n",
       "    <tr>\n",
       "      <th>max</th>\n",
       "      <td>66.000000</td>\n",
       "      <td>1.000000</td>\n",
       "      <td>1.000000</td>\n",
       "      <td>1.000000</td>\n",
       "      <td>1.000000</td>\n",
       "      <td>188.000000</td>\n",
       "      <td>132.000000</td>\n",
       "      <td>1.000000</td>\n",
       "      <td>1.000000</td>\n",
       "      <td>3.000000</td>\n",
       "      <td>2240.000000</td>\n",
       "    </tr>\n",
       "  </tbody>\n",
       "</table>\n",
       "</div>"
      ],
      "text/plain": [
       "              Age    Diabetes  BloodPressureProblems  AnyTransplants   \n",
       "count  986.000000  986.000000             986.000000      986.000000  \\\n",
       "mean    41.745436    0.419878               0.468560        0.055781   \n",
       "std     13.963371    0.493789               0.499264        0.229615   \n",
       "min     18.000000    0.000000               0.000000        0.000000   \n",
       "25%     30.000000    0.000000               0.000000        0.000000   \n",
       "50%     42.000000    0.000000               0.000000        0.000000   \n",
       "75%     53.000000    1.000000               1.000000        0.000000   \n",
       "max     66.000000    1.000000               1.000000        1.000000   \n",
       "\n",
       "       AnyChronicDiseases      Height      Weight  KnownAllergies   \n",
       "count          986.000000  986.000000  986.000000      986.000000  \\\n",
       "mean             0.180527  168.182556   76.950304        0.215010   \n",
       "std              0.384821   10.098155   14.265096        0.411038   \n",
       "min              0.000000  145.000000   51.000000        0.000000   \n",
       "25%              0.000000  161.000000   67.000000        0.000000   \n",
       "50%              0.000000  168.000000   75.000000        0.000000   \n",
       "75%              0.000000  176.000000   87.000000        0.000000   \n",
       "max              1.000000  188.000000  132.000000        1.000000   \n",
       "\n",
       "       HistoryOfCancerInFamily  NumberOfMajorSurgeries  PremiumPrice  \n",
       "count               986.000000              986.000000    986.000000  \n",
       "mean                  0.117647                0.667343   1362.855984  \n",
       "std                   0.322353                0.749205    349.898325  \n",
       "min                   0.000000                0.000000    840.000000  \n",
       "25%                   0.000000                0.000000   1176.000000  \n",
       "50%                   0.000000                1.000000   1288.000000  \n",
       "75%                   0.000000                1.000000   1568.000000  \n",
       "max                   1.000000                3.000000   2240.000000  "
      ]
     },
     "execution_count": 5,
     "metadata": {},
     "output_type": "execute_result"
    }
   ],
   "source": [
    "df.describe()"
   ]
  },
  {
   "cell_type": "markdown",
   "id": "467f152a",
   "metadata": {},
   "source": [
    "## Data Preparation"
   ]
  },
  {
   "cell_type": "code",
   "execution_count": 6,
   "id": "4cc1a850",
   "metadata": {},
   "outputs": [],
   "source": [
    "X = df.drop(\"PremiumPrice\", axis=1).to_numpy()\n",
    "y_true = df[\"PremiumPrice\"].to_numpy()"
   ]
  },
  {
   "cell_type": "code",
   "execution_count": 7,
   "id": "b3708b24",
   "metadata": {},
   "outputs": [],
   "source": [
    "scaler = StandardScaler()\n",
    "X_scaled = scaler.fit_transform(X)"
   ]
  },
  {
   "cell_type": "code",
   "execution_count": 8,
   "id": "6134b0e6",
   "metadata": {},
   "outputs": [
    {
     "data": {
      "text/plain": [
       "True"
      ]
     },
     "execution_count": 8,
     "metadata": {},
     "output_type": "execute_result"
    }
   ],
   "source": [
    "joblib.dump(scaler, \"models/standard_scaler.joblib\")\n",
    "scaler_load = joblib.load(\"models/standard_scaler.joblib\")\n",
    "np.all(scaler_load.transform(X) == X_scaled)"
   ]
  },
  {
   "cell_type": "code",
   "execution_count": 9,
   "id": "28d72e43",
   "metadata": {},
   "outputs": [
    {
     "data": {
      "text/plain": [
       "array([[45,  0,  0, ...,  0,  0,  0],\n",
       "       [60,  1,  0, ...,  0,  0,  0],\n",
       "       [36,  1,  1, ...,  0,  0,  1],\n",
       "       ...,\n",
       "       [56,  0,  1, ...,  0,  0,  1],\n",
       "       [47,  1,  1, ...,  1,  0,  1],\n",
       "       [21,  0,  0, ...,  1,  0,  1]], dtype=int64)"
      ]
     },
     "execution_count": 9,
     "metadata": {},
     "output_type": "execute_result"
    }
   ],
   "source": [
    "X"
   ]
  },
  {
   "cell_type": "code",
   "execution_count": 10,
   "id": "72804e2b",
   "metadata": {},
   "outputs": [
    {
     "data": {
      "text/plain": [
       "array([[ 0.23319694, -0.85075039, -0.93897784, ..., -0.52335629,\n",
       "        -0.36514837, -0.89118667],\n",
       "       [ 1.30798124,  1.1754329 , -0.93897784, ..., -0.52335629,\n",
       "        -0.36514837, -0.89118667],\n",
       "       [-0.41167363,  1.1754329 ,  1.06498786, ..., -0.52335629,\n",
       "        -0.36514837,  0.44423895],\n",
       "       ...,\n",
       "       [ 1.02137209, -0.85075039,  1.06498786, ..., -0.52335629,\n",
       "        -0.36514837,  0.44423895],\n",
       "       [ 0.37650152,  1.1754329 ,  1.06498786, ...,  1.9107442 ,\n",
       "        -0.36514837,  0.44423895],\n",
       "       [-1.48645793, -0.85075039, -0.93897784, ...,  1.9107442 ,\n",
       "        -0.36514837,  0.44423895]])"
      ]
     },
     "execution_count": 10,
     "metadata": {},
     "output_type": "execute_result"
    }
   ],
   "source": [
    "X_scaled"
   ]
  },
  {
   "cell_type": "markdown",
   "id": "c3ce7559",
   "metadata": {},
   "source": [
    "## Model Comparison"
   ]
  },
  {
   "cell_type": "markdown",
   "id": "f0f61d99",
   "metadata": {},
   "source": [
    "> Choosing `Decision Tree` for its explainability and `Neural Network` for showing its black box nature"
   ]
  },
  {
   "cell_type": "markdown",
   "id": "c431b7b5",
   "metadata": {},
   "source": [
    "### Standardization"
   ]
  },
  {
   "cell_type": "markdown",
   "id": "2431a41e",
   "metadata": {},
   "source": [
    "#### Tree-based methods"
   ]
  },
  {
   "cell_type": "code",
   "execution_count": 11,
   "id": "fcfd76f6",
   "metadata": {},
   "outputs": [
    {
     "name": "stdout",
     "output_type": "stream",
     "text": [
      "mse=35368.25; r2=0.71\n",
      "mse=34146.98; r2=0.72\n"
     ]
    }
   ],
   "source": [
    "dt_reg = DecisionTreeRegressor()\n",
    "\n",
    "res_dict = cross_validate(dt_reg, X, y_true, scoring=[\"neg_mean_squared_error\", \"r2\"], cv=5)\n",
    "print(f\"mse={np.abs(np.mean(res_dict['test_neg_mean_squared_error'])):.2f}; r2={np.mean(res_dict['test_r2']):.2f}\")\n",
    "\n",
    "res_dict = cross_validate(dt_reg, X_scaled, y_true, scoring=[\"neg_mean_squared_error\", \"r2\"], cv=5)\n",
    "print(f\"mse={np.abs(np.mean(res_dict['test_neg_mean_squared_error'])):.2f}; r2={np.mean(res_dict['test_r2']):.2f}\")"
   ]
  },
  {
   "cell_type": "code",
   "execution_count": 12,
   "id": "2a74beba",
   "metadata": {},
   "outputs": [
    {
     "name": "stdout",
     "output_type": "stream",
     "text": [
      "mse=24199.00; r2=0.80\n",
      "mse=24148.96; r2=0.80\n"
     ]
    }
   ],
   "source": [
    "rf_reg = RandomForestRegressor()\n",
    "\n",
    "res_dict = cross_validate(rf_reg, X, y_true, scoring=[\"neg_mean_squared_error\", \"r2\"], cv=5)\n",
    "print(f\"mse={np.abs(np.mean(res_dict['test_neg_mean_squared_error'])):.2f}; r2={np.mean(res_dict['test_r2']):.2f}\")\n",
    "\n",
    "res_dict = cross_validate(rf_reg, X_scaled, y_true, scoring=[\"neg_mean_squared_error\", \"r2\"], cv=5)\n",
    "print(f\"mse={np.abs(np.mean(res_dict['test_neg_mean_squared_error'])):.2f}; r2={np.mean(res_dict['test_r2']):.2f}\")"
   ]
  },
  {
   "cell_type": "code",
   "execution_count": 13,
   "id": "12e0f594",
   "metadata": {},
   "outputs": [
    {
     "name": "stdout",
     "output_type": "stream",
     "text": [
      "mse=29714.54; r2=0.76\n",
      "mse=29853.29; r2=0.76\n"
     ]
    }
   ],
   "source": [
    "xgb_reg = xgb.XGBRegressor()\n",
    "\n",
    "res_dict = cross_validate(xgb_reg, X, y_true, scoring=[\"neg_mean_squared_error\", \"r2\"], cv=5)\n",
    "print(f\"mse={np.abs(np.mean(res_dict['test_neg_mean_squared_error'])):.2f}; r2={np.mean(res_dict['test_r2']):.2f}\")\n",
    "\n",
    "res_dict = cross_validate(xgb_reg, X_scaled, y_true, scoring=[\"neg_mean_squared_error\", \"r2\"], cv=5)\n",
    "print(f\"mse={np.abs(np.mean(res_dict['test_neg_mean_squared_error'])):.2f}; r2={np.mean(res_dict['test_r2']):.2f}\")"
   ]
  },
  {
   "cell_type": "markdown",
   "id": "2984ce47",
   "metadata": {},
   "source": [
    "#### Others"
   ]
  },
  {
   "cell_type": "code",
   "execution_count": 14,
   "id": "89764e2f",
   "metadata": {},
   "outputs": [
    {
     "name": "stdout",
     "output_type": "stream",
     "text": [
      "mse=44829.84; r2=0.63\n",
      "mse=44829.84; r2=0.63\n"
     ]
    }
   ],
   "source": [
    "lin_reg = LinearRegression()\n",
    "\n",
    "res_dict = cross_validate(lin_reg, X, y_true, scoring=[\"neg_mean_squared_error\", \"r2\"], cv=5)\n",
    "print(f\"mse={np.abs(np.mean(res_dict['test_neg_mean_squared_error'])):.2f}; r2={np.mean(res_dict['test_r2']):.2f}\")\n",
    "\n",
    "res_dict = cross_validate(lin_reg, X_scaled, y_true, scoring=[\"neg_mean_squared_error\", \"r2\"], cv=5)\n",
    "print(f\"mse={np.abs(np.mean(res_dict['test_neg_mean_squared_error'])):.2f}; r2={np.mean(res_dict['test_r2']):.2f}\")"
   ]
  },
  {
   "cell_type": "code",
   "execution_count": 15,
   "id": "df7134dc",
   "metadata": {},
   "outputs": [
    {
     "name": "stdout",
     "output_type": "stream",
     "text": [
      "mse=138887626920213070605189120.00; r2=-1058154474567481163776.00\n",
      "mse=44860.40; r2=0.63\n"
     ]
    }
   ],
   "source": [
    "sgd_reg = SGDRegressor()\n",
    "\n",
    "res_dict = cross_validate(sgd_reg, X, y_true, scoring=[\"neg_mean_squared_error\", \"r2\"], cv=5)\n",
    "print(f\"mse={np.abs(np.mean(res_dict['test_neg_mean_squared_error'])):.2f}; r2={np.mean(res_dict['test_r2']):.2f}\")\n",
    "\n",
    "res_dict = cross_validate(sgd_reg, X_scaled, y_true, scoring=[\"neg_mean_squared_error\", \"r2\"], cv=5)\n",
    "print(f\"mse={np.abs(np.mean(res_dict['test_neg_mean_squared_error'])):.2f}; r2={np.mean(res_dict['test_r2']):.2f}\")"
   ]
  },
  {
   "cell_type": "code",
   "execution_count": 16,
   "id": "44a7998e",
   "metadata": {},
   "outputs": [
    {
     "name": "stdout",
     "output_type": "stream",
     "text": [
      "mse=122705.52; r2=-0.01\n",
      "mse=108699.04; r2=0.11\n"
     ]
    }
   ],
   "source": [
    "svm_reg = SVR()\n",
    "\n",
    "res_dict = cross_validate(svm_reg, X, y_true, scoring=[\"neg_mean_squared_error\", \"r2\"], cv=5)\n",
    "print(f\"mse={np.abs(np.mean(res_dict['test_neg_mean_squared_error'])):.2f}; r2={np.mean(res_dict['test_r2']):.2f}\")\n",
    "\n",
    "res_dict = cross_validate(svm_reg, X_scaled, y_true, scoring=[\"neg_mean_squared_error\", \"r2\"], cv=5)\n",
    "print(f\"mse={np.abs(np.mean(res_dict['test_neg_mean_squared_error'])):.2f}; r2={np.mean(res_dict['test_r2']):.2f}\")"
   ]
  },
  {
   "cell_type": "markdown",
   "id": "93c6f57a",
   "metadata": {},
   "source": [
    "> Standardization is not needed in tree-based methods (boost performance in general); needed in other methods"
   ]
  },
  {
   "cell_type": "markdown",
   "id": "309d8f1d",
   "metadata": {},
   "source": [
    "### Choosing the right explained variance ratio for PCA\n",
    "\n",
    "The explained variance ratio is the percentage of variance that is attributed by each of the selected components."
   ]
  },
  {
   "cell_type": "code",
   "execution_count": 17,
   "id": "ccf2789d",
   "metadata": {},
   "outputs": [
    {
     "data": {
      "text/plain": [
       "Text(0.5, 1.0, 'The number of components needed to retain 90% variance explained')"
      ]
     },
     "execution_count": 17,
     "metadata": {},
     "output_type": "execute_result"
    },
    {
     "data": {
      "image/png": "[encoded data removed]",
      "text/plain": [
       "<Figure size 640x480 with 1 Axes>"
      ]
     },
     "metadata": {},
     "output_type": "display_data"
    }
   ],
   "source": [
    "pca = PCA()\n",
    "X_reduced = pca.fit_transform(X_scaled)\n",
    "exp_var = pca.explained_variance_ratio_\n",
    "cum_sum_eigvals = np.cumsum(exp_var)\n",
    "\n",
    "plt.plot(range(1, len(cum_sum_eigvals) + 1), cum_sum_eigvals, marker=\"o\", linestyle=\"--\")\n",
    "plt.axhline(y=0.9, color=\"r\", linestyle=\"-\")\n",
    "plt.xticks(range(1, len(cum_sum_eigvals) + 1))\n",
    "plt.xlabel(\"Number of Principal Components\")\n",
    "plt.ylabel(\"Cumulative Variance (%)\")\n",
    "plt.title(\"The number of components needed to retain 90% variance explained\")"
   ]
  },
  {
   "cell_type": "code",
   "execution_count": 18,
   "id": "c569f8fe",
   "metadata": {},
   "outputs": [],
   "source": [
    "pca = PCA(n_components=0.9) # retain 0.9 variance explained\n",
    "X_reduced = pca.fit_transform(X_scaled)"
   ]
  },
  {
   "cell_type": "code",
   "execution_count": 19,
   "id": "69e9e5df",
   "metadata": {},
   "outputs": [
    {
     "data": {
      "text/plain": [
       "(986, 9)"
      ]
     },
     "execution_count": 19,
     "metadata": {},
     "output_type": "execute_result"
    }
   ],
   "source": [
    "X_reduced.shape"
   ]
  },
  {
   "cell_type": "code",
   "execution_count": 20,
   "id": "dcf49e4e",
   "metadata": {},
   "outputs": [
    {
     "name": "stdout",
     "output_type": "stream",
     "text": [
      "mse=95102.48; r2=0.22\n",
      "mse=36573.69; r2=0.70\n"
     ]
    }
   ],
   "source": [
    "dt_reg = DecisionTreeRegressor()\n",
    "\n",
    "res_dict = cross_validate(dt_reg, X_reduced, y_true, scoring=[\"neg_mean_squared_error\", \"r2\"], cv=5)\n",
    "print(f\"mse={np.abs(np.mean(res_dict['test_neg_mean_squared_error'])):.2f}; r2={np.mean(res_dict['test_r2']):.2f}\")\n",
    "\n",
    "res_dict = cross_validate(dt_reg, X_scaled, y_true, scoring=[\"neg_mean_squared_error\", \"r2\"], cv=5)\n",
    "print(f\"mse={np.abs(np.mean(res_dict['test_neg_mean_squared_error'])):.2f}; r2={np.mean(res_dict['test_r2']):.2f}\")"
   ]
  },
  {
   "cell_type": "code",
   "execution_count": 21,
   "id": "d9009ff3",
   "metadata": {},
   "outputs": [
    {
     "name": "stdout",
     "output_type": "stream",
     "text": [
      "mse=48855.01; r2=0.60\n",
      "mse=23989.02; r2=0.80\n"
     ]
    }
   ],
   "source": [
    "rf_reg = RandomForestRegressor()\n",
    "\n",
    "res_dict = cross_validate(rf_reg, X_reduced, y_true, scoring=[\"neg_mean_squared_error\", \"r2\"], cv=5)\n",
    "print(f\"mse={np.abs(np.mean(res_dict['test_neg_mean_squared_error'])):.2f}; r2={np.mean(res_dict['test_r2']):.2f}\")\n",
    "\n",
    "res_dict = cross_validate(rf_reg, X_scaled, y_true, scoring=[\"neg_mean_squared_error\", \"r2\"], cv=5)\n",
    "print(f\"mse={np.abs(np.mean(res_dict['test_neg_mean_squared_error'])):.2f}; r2={np.mean(res_dict['test_r2']):.2f}\")"
   ]
  },
  {
   "cell_type": "code",
   "execution_count": 22,
   "id": "12d078be",
   "metadata": {},
   "outputs": [
    {
     "name": "stdout",
     "output_type": "stream",
     "text": [
      "mse=53484.80; r2=0.56\n",
      "mse=29853.29; r2=0.76\n"
     ]
    }
   ],
   "source": [
    "xgb_reg = xgb.XGBRegressor()\n",
    "\n",
    "res_dict = cross_validate(xgb_reg, X_reduced, y_true, scoring=[\"neg_mean_squared_error\", \"r2\"], cv=5)\n",
    "print(f\"mse={np.abs(np.mean(res_dict['test_neg_mean_squared_error'])):.2f}; r2={np.mean(res_dict['test_r2']):.2f}\")\n",
    "\n",
    "res_dict = cross_validate(xgb_reg, X_scaled, y_true, scoring=[\"neg_mean_squared_error\", \"r2\"], cv=5)\n",
    "print(f\"mse={np.abs(np.mean(res_dict['test_neg_mean_squared_error'])):.2f}; r2={np.mean(res_dict['test_r2']):.2f}\")"
   ]
  },
  {
   "cell_type": "markdown",
   "id": "b0d3eacb",
   "metadata": {},
   "source": [
    "> PCA doesn't help to improve the performance in tree-based methods"
   ]
  },
  {
   "cell_type": "code",
   "execution_count": 56,
   "id": "e9910e9c",
   "metadata": {},
   "outputs": [
    {
     "data": {
      "text/plain": [
       "{'train': {'dt_reg': None, 'rf_reg': None, 'xgb_reg': None, 'mlp_reg': None},\n",
       " 'valid': {'dt_reg': None, 'rf_reg': None, 'xgb_reg': None, 'mlp_reg': None}}"
      ]
     },
     "execution_count": 56,
     "metadata": {},
     "output_type": "execute_result"
    }
   ],
   "source": [
    "# Save training and validation loss of each model\n",
    "loss_dict = {\n",
    "    \"train\": {\n",
    "        \"dt_reg\": None,\n",
    "        \"rf_reg\": None,\n",
    "        \"xgb_reg\": None,\n",
    "        \"mlp_reg\": None,\n",
    "    },\n",
    "    \"valid\": {\n",
    "        \"dt_reg\": None,\n",
    "        \"rf_reg\": None,\n",
    "        \"xgb_reg\": None,\n",
    "        \"mlp_reg\": None,\n",
    "    }\n",
    "}\n",
    "\n",
    "loss_dict"
   ]
  },
  {
   "cell_type": "markdown",
   "id": "a3ddf371",
   "metadata": {},
   "source": [
    "#### Decision Tree"
   ]
  },
  {
   "cell_type": "code",
   "execution_count": 23,
   "id": "416c069a",
   "metadata": {
    "scrolled": true
   },
   "outputs": [
    {
     "name": "stdout",
     "output_type": "stream",
     "text": [
      "mse=0.00; r2=1.00\n",
      "mse=33782.55; r2=0.72\n",
      "[-0. -0. -0. -0. -0.]\n",
      "[-41053.09090909 -35785.4213198  -25756.58883249 -34352.73096447\n",
      " -31964.91370558]\n"
     ]
    }
   ],
   "source": [
    "# Baseline\n",
    "dt_reg = DecisionTreeRegressor(random_state=42, max_depth=15)\n",
    "\n",
    "res_dict = cross_validate(dt_reg, X_scaled, y_true, scoring=[\"neg_mean_squared_error\", \"r2\"], cv=5, return_train_score=True)\n",
    "print(f\"mse={np.abs(np.mean(res_dict['train_neg_mean_squared_error'])):.2f}; r2={np.mean(res_dict['train_r2']):.2f}\")\n",
    "print(f\"mse={np.abs(np.mean(res_dict['test_neg_mean_squared_error'])):.2f}; r2={np.mean(res_dict['test_r2']):.2f}\")\n",
    "print(res_dict[\"train_neg_mean_squared_error\"])\n",
    "print(res_dict[\"test_neg_mean_squared_error\"])"
   ]
  },
  {
   "cell_type": "markdown",
   "id": "70a5b48f",
   "metadata": {},
   "source": [
    "To reduce overfitting of Decision Tree\n",
    "- set max depth\n",
    "- pruning\n",
    "- set min number of samples required at leaf nodes"
   ]
  },
  {
   "cell_type": "code",
   "execution_count": 24,
   "id": "eba448c1",
   "metadata": {},
   "outputs": [
    {
     "name": "stdout",
     "output_type": "stream",
     "text": [
      "Fitting 5 folds for each of 100 candidates, totalling 500 fits\n",
      "[CV 1/5] END max_depth=11, min_samples_leaf=16;, score=-21999.986 total time=   0.0s\n",
      "[CV 2/5] END max_depth=11, min_samples_leaf=16;, score=-32313.308 total time=   0.0s\n",
      "[CV 3/5] END max_depth=11, min_samples_leaf=16;, score=-20283.557 total time=   0.0s\n",
      "[CV 4/5] END max_depth=11, min_samples_leaf=16;, score=-16675.187 total time=   0.0s\n",
      "[CV 5/5] END max_depth=11, min_samples_leaf=16;, score=-47070.619 total time=   0.0s\n",
      "[CV 1/5] END max_depth=12, min_samples_leaf=8;, score=-22183.542 total time=   0.0s\n",
      "[CV 2/5] END max_depth=12, min_samples_leaf=8;, score=-29057.035 total time=   0.0s\n",
      "[CV 3/5] END max_depth=12, min_samples_leaf=8;, score=-17146.277 total time=   0.0s\n",
      "[CV 4/5] END max_depth=12, min_samples_leaf=8;, score=-18918.414 total time=   0.0s\n",
      "[CV 5/5] END max_depth=12, min_samples_leaf=8;, score=-43603.463 total time=   0.0s\n",
      "[CV 1/5] END max_depth=14, min_samples_leaf=12;, score=-22205.101 total time=   0.0s\n",
      "[CV 2/5] END max_depth=14, min_samples_leaf=12;, score=-32731.951 total time=   0.0s\n",
      "[CV 3/5] END max_depth=14, min_samples_leaf=12;, score=-18671.870 total time=   0.0s\n",
      "[CV 4/5] END max_depth=14, min_samples_leaf=12;, score=-17644.601 total time=   0.0s\n",
      "[CV 5/5] END max_depth=14, min_samples_leaf=12;, score=-43149.687 total time=   0.0s\n",
      "[CV 1/5] END max_depth=12, min_samples_leaf=5;, score=-24728.595 total time=   0.0s\n",
      "[CV 2/5] END max_depth=12, min_samples_leaf=5;, score=-31105.353 total time=   0.0s\n",
      "[CV 3/5] END max_depth=12, min_samples_leaf=5;, score=-18252.505 total time=   0.0s\n",
      "[CV 4/5] END max_depth=12, min_samples_leaf=5;, score=-22806.613 total time=   0.0s\n",
      "[CV 5/5] END max_depth=12, min_samples_leaf=5;, score=-47796.597 total time=   0.0s\n",
      "[CV 1/5] END max_depth=12, min_samples_leaf=4;, score=-28573.966 total time=   0.0s\n",
      "[CV 2/5] END max_depth=12, min_samples_leaf=4;, score=-31744.246 total time=   0.0s\n",
      "[CV 3/5] END max_depth=12, min_samples_leaf=4;, score=-17809.525 total time=   0.0s\n",
      "[CV 4/5] END max_depth=12, min_samples_leaf=4;, score=-19202.248 total time=   0.0s\n",
      "[CV 5/5] END max_depth=12, min_samples_leaf=4;, score=-48803.416 total time=   0.0s\n",
      "[CV 1/5] END max_depth=10, min_samples_leaf=3;, score=-29648.641 total time=   0.0s\n",
      "[CV 2/5] END max_depth=10, min_samples_leaf=3;, score=-31446.160 total time=   0.0s\n",
      "[CV 3/5] END max_depth=10, min_samples_leaf=3;, score=-24442.089 total time=   0.0s\n",
      "[CV 4/5] END max_depth=10, min_samples_leaf=3;, score=-23604.639 total time=   0.0s\n",
      "[CV 5/5] END max_depth=10, min_samples_leaf=3;, score=-47027.890 total time=   0.0s\n",
      "[CV 1/5] END max_depth=12, min_samples_leaf=13;, score=-21846.653 total time=   0.0s\n",
      "[CV 2/5] END max_depth=12, min_samples_leaf=13;, score=-32533.400 total time=   0.0s\n",
      "[CV 3/5] END max_depth=12, min_samples_leaf=13;, score=-19478.439 total time=   0.0s\n",
      "[CV 4/5] END max_depth=12, min_samples_leaf=13;, score=-16535.280 total time=   0.0s\n",
      "[CV 5/5] END max_depth=12, min_samples_leaf=13;, score=-44614.406 total time=   0.0s\n",
      "[CV 1/5] END max_depth=10, min_samples_leaf=3;, score=-31975.894 total time=   0.0s\n",
      "[CV 2/5] END max_depth=10, min_samples_leaf=3;, score=-33418.320 total time=   0.0s\n",
      "[CV 3/5] END max_depth=10, min_samples_leaf=3;, score=-24693.252 total time=   0.0s\n",
      "[CV 4/5] END max_depth=10, min_samples_leaf=3;, score=-23528.251 total time=   0.0s\n",
      "[CV 5/5] END max_depth=10, min_samples_leaf=3;, score=-47975.941 total time=   0.0s\n",
      "[CV 1/5] END max_depth=9, min_samples_leaf=2;, score=-33618.507 total time=   0.0s\n",
      "[CV 2/5] END max_depth=9, min_samples_leaf=2;, score=-30301.842 total time=   0.0s\n",
      "[CV 3/5] END max_depth=9, min_samples_leaf=2;, score=-24912.848 total time=   0.0s\n",
      "[CV 4/5] END max_depth=9, min_samples_leaf=2;, score=-19508.610 total time=   0.0s\n",
      "[CV 5/5] END max_depth=9, min_samples_leaf=2;, score=-35460.550 total time=   0.0s\n",
      "[CV 1/5] END max_depth=14, min_samples_leaf=13;, score=-21846.653 total time=   0.0s\n",
      "[CV 2/5] END max_depth=14, min_samples_leaf=13;, score=-32533.400 total time=   0.0s\n",
      "[CV 3/5] END max_depth=14, min_samples_leaf=13;, score=-19480.677 total time=   0.0s\n",
      "[CV 4/5] END max_depth=14, min_samples_leaf=13;, score=-16535.280 total time=   0.0s\n",
      "[CV 5/5] END max_depth=14, min_samples_leaf=13;, score=-44614.406 total time=   0.0s\n",
      "[CV 1/5] END max_depth=13, min_samples_leaf=18;, score=-22718.776 total time=   0.0s\n",
      "[CV 2/5] END max_depth=13, min_samples_leaf=18;, score=-32783.600 total time=   0.0s\n",
      "[CV 3/5] END max_depth=13, min_samples_leaf=18;, score=-20057.675 total time=   0.0s\n",
      "[CV 4/5] END max_depth=13, min_samples_leaf=18;, score=-18693.614 total time=   0.0s\n",
      "[CV 5/5] END max_depth=13, min_samples_leaf=18;, score=-46257.850 total time=   0.0s\n",
      "[CV 1/5] END max_depth=14, min_samples_leaf=17;, score=-23372.433 total time=   0.0s\n",
      "[CV 2/5] END max_depth=14, min_samples_leaf=17;, score=-32801.948 total time=   0.0s\n",
      "[CV 3/5] END max_depth=14, min_samples_leaf=17;, score=-19956.816 total time=   0.0s\n",
      "[CV 4/5] END max_depth=14, min_samples_leaf=17;, score=-18971.736 total time=   0.0s\n",
      "[CV 5/5] END max_depth=14, min_samples_leaf=17;, score=-46261.362 total time=   0.0s\n",
      "[CV 1/5] END max_depth=7, min_samples_leaf=13;, score=-22209.453 total time=   0.0s\n",
      "[CV 2/5] END max_depth=7, min_samples_leaf=13;, score=-32518.482 total time=   0.0s\n",
      "[CV 3/5] END max_depth=7, min_samples_leaf=13;, score=-19377.010 total time=   0.0s\n",
      "[CV 4/5] END max_depth=7, min_samples_leaf=13;, score=-16735.769 total time=   0.0s\n",
      "[CV 5/5] END max_depth=7, min_samples_leaf=13;, score=-44079.124 total time=   0.0s\n",
      "[CV 1/5] END max_depth=11, min_samples_leaf=4;, score=-29729.734 total time=   0.0s\n",
      "[CV 2/5] END max_depth=11, min_samples_leaf=4;, score=-30758.987 total time=   0.0s\n",
      "[CV 3/5] END max_depth=11, min_samples_leaf=4;, score=-18176.652 total time=   0.0s\n",
      "[CV 4/5] END max_depth=11, min_samples_leaf=4;, score=-19209.088 total time=   0.0s\n",
      "[CV 5/5] END max_depth=11, min_samples_leaf=4;, score=-48502.397 total time=   0.0s\n",
      "[CV 1/5] END max_depth=9, min_samples_leaf=8;, score=-21841.268 total time=   0.0s\n",
      "[CV 2/5] END max_depth=9, min_samples_leaf=8;, score=-29733.502 total time=   0.0s\n",
      "[CV 3/5] END max_depth=9, min_samples_leaf=8;, score=-17169.396 total time=   0.0s\n",
      "[CV 4/5] END max_depth=9, min_samples_leaf=8;, score=-18948.656 total time=   0.0s\n",
      "[CV 5/5] END max_depth=9, min_samples_leaf=8;, score=-44190.245 total time=   0.0s\n",
      "[CV 1/5] END max_depth=9, min_samples_leaf=10;, score=-20185.810 total time=   0.0s\n",
      "[CV 2/5] END max_depth=9, min_samples_leaf=10;, score=-28866.132 total time=   0.0s\n",
      "[CV 3/5] END max_depth=9, min_samples_leaf=10;, score=-18650.193 total time=   0.0s\n",
      "[CV 4/5] END max_depth=9, min_samples_leaf=10;, score=-16448.421 total time=   0.0s\n",
      "[CV 5/5] END max_depth=9, min_samples_leaf=10;, score=-41650.011 total time=   0.0s\n",
      "[CV 1/5] END max_depth=11, min_samples_leaf=19;, score=-22185.248 total time=   0.0s\n",
      "[CV 2/5] END max_depth=11, min_samples_leaf=19;, score=-34514.299 total time=   0.0s\n",
      "[CV 3/5] END max_depth=11, min_samples_leaf=19;, score=-22539.051 total time=   0.0s\n",
      "[CV 4/5] END max_depth=11, min_samples_leaf=19;, score=-25177.879 total time=   0.0s\n",
      "[CV 5/5] END max_depth=11, min_samples_leaf=19;, score=-45669.937 total time=   0.0s\n",
      "[CV 1/5] END max_depth=8, min_samples_leaf=15;, score=-22116.661 total time=   0.0s\n",
      "[CV 2/5] END max_depth=8, min_samples_leaf=15;, score=-32254.293 total time=   0.0s\n",
      "[CV 3/5] END max_depth=8, min_samples_leaf=15;, score=-20072.311 total time=   0.0s\n",
      "[CV 4/5] END max_depth=8, min_samples_leaf=15;, score=-17177.478 total time=   0.0s\n",
      "[CV 5/5] END max_depth=8, min_samples_leaf=15;, score=-46484.614 total time=   0.0s\n",
      "[CV 1/5] END max_depth=6, min_samples_leaf=10;, score=-20052.244 total time=   0.0s\n",
      "[CV 2/5] END max_depth=6, min_samples_leaf=10;, score=-31108.432 total time=   0.0s\n",
      "[CV 3/5] END max_depth=6, min_samples_leaf=10;, score=-19513.904 total time=   0.0s\n",
      "[CV 4/5] END max_depth=6, min_samples_leaf=10;, score=-17644.229 total time=   0.0s\n",
      "[CV 5/5] END max_depth=6, min_samples_leaf=10;, score=-42244.122 total time=   0.0s\n",
      "[CV 1/5] END max_depth=14, min_samples_leaf=3;, score=-31427.740 total time=   0.0s\n",
      "[CV 2/5] END max_depth=14, min_samples_leaf=3;, score=-33735.622 total time=   0.0s\n",
      "[CV 3/5] END max_depth=14, min_samples_leaf=3;, score=-23701.293 total time=   0.0s\n",
      "[CV 4/5] END max_depth=14, min_samples_leaf=3;, score=-23556.215 total time=   0.0s\n",
      "[CV 5/5] END max_depth=14, min_samples_leaf=3;, score=-44866.317 total time=   0.0s\n",
      "[CV 1/5] END max_depth=8, min_samples_leaf=16;, score=-22885.507 total time=   0.0s\n",
      "[CV 2/5] END max_depth=8, min_samples_leaf=16;, score=-32465.612 total time=   0.0s\n",
      "[CV 3/5] END max_depth=8, min_samples_leaf=16;, score=-20295.678 total time=   0.0s\n",
      "[CV 4/5] END max_depth=8, min_samples_leaf=16;, score=-16702.874 total time=   0.0s\n",
      "[CV 5/5] END max_depth=8, min_samples_leaf=16;, score=-46970.903 total time=   0.0s\n",
      "[CV 1/5] END max_depth=11, min_samples_leaf=13;, score=-21843.861 total time=   0.0s\n",
      "[CV 2/5] END max_depth=11, min_samples_leaf=13;, score=-32538.792 total time=   0.0s\n",
      "[CV 3/5] END max_depth=11, min_samples_leaf=13;, score=-19527.001 total time=   0.0s\n",
      "[CV 4/5] END max_depth=11, min_samples_leaf=13;, score=-16535.280 total time=   0.0s\n",
      "[CV 5/5] END max_depth=11, min_samples_leaf=13;, score=-44530.676 total time=   0.0s\n",
      "[CV 1/5] END max_depth=12, min_samples_leaf=16;, score=-21999.986 total time=   0.0s\n",
      "[CV 2/5] END max_depth=12, min_samples_leaf=16;, score=-32313.308 total time=   0.0s\n",
      "[CV 3/5] END max_depth=12, min_samples_leaf=16;, score=-20283.557 total time=   0.0s\n",
      "[CV 4/5] END max_depth=12, min_samples_leaf=16;, score=-16675.187 total time=   0.0s\n",
      "[CV 5/5] END max_depth=12, min_samples_leaf=16;, score=-47007.399 total time=   0.0s\n",
      "[CV 1/5] END max_depth=7, min_samples_leaf=15;, score=-22361.618 total time=   0.0s\n",
      "[CV 2/5] END max_depth=7, min_samples_leaf=15;, score=-32154.467 total time=   0.0s\n",
      "[CV 3/5] END max_depth=7, min_samples_leaf=15;, score=-20120.602 total time=   0.0s\n",
      "[CV 4/5] END max_depth=7, min_samples_leaf=15;, score=-17346.946 total time=   0.0s\n",
      "[CV 5/5] END max_depth=7, min_samples_leaf=15;, score=-46755.012 total time=   0.0s\n",
      "[CV 1/5] END max_depth=5, min_samples_leaf=5;, score=-27490.152 total time=   0.0s\n",
      "[CV 2/5] END max_depth=5, min_samples_leaf=5;, score=-40803.889 total time=   0.0s\n",
      "[CV 3/5] END max_depth=5, min_samples_leaf=5;, score=-21695.944 total time=   0.0s\n",
      "[CV 4/5] END max_depth=5, min_samples_leaf=5;, score=-28184.034 total time=   0.0s\n",
      "[CV 5/5] END max_depth=5, min_samples_leaf=5;, score=-51244.901 total time=   0.0s\n",
      "[CV 1/5] END max_depth=6, min_samples_leaf=9;, score=-18806.938 total time=   0.0s\n",
      "[CV 2/5] END max_depth=6, min_samples_leaf=9;, score=-31413.686 total time=   0.0s\n",
      "[CV 3/5] END max_depth=6, min_samples_leaf=9;, score=-19139.347 total time=   0.0s\n",
      "[CV 4/5] END max_depth=6, min_samples_leaf=9;, score=-17492.327 total time=   0.0s\n",
      "[CV 5/5] END max_depth=6, min_samples_leaf=9;, score=-44478.680 total time=   0.0s\n",
      "[CV 1/5] END max_depth=8, min_samples_leaf=3;, score=-29445.377 total time=   0.0s\n",
      "[CV 2/5] END max_depth=8, min_samples_leaf=3;, score=-33730.037 total time=   0.0s\n",
      "[CV 3/5] END max_depth=8, min_samples_leaf=3;, score=-24438.413 total time=   0.0s\n",
      "[CV 4/5] END max_depth=8, min_samples_leaf=3;, score=-23380.874 total time=   0.0s\n",
      "[CV 5/5] END max_depth=8, min_samples_leaf=3;, score=-45157.452 total time=   0.0s\n",
      "[CV 1/5] END max_depth=10, min_samples_leaf=11;, score=-20165.466 total time=   0.0s\n",
      "[CV 2/5] END max_depth=10, min_samples_leaf=11;, score=-31485.950 total time=   0.0s\n",
      "[CV 3/5] END max_depth=10, min_samples_leaf=11;, score=-18652.852 total time=   0.0s\n",
      "[CV 4/5] END max_depth=10, min_samples_leaf=11;, score=-17611.718 total time=   0.0s\n",
      "[CV 5/5] END max_depth=10, min_samples_leaf=11;, score=-42401.559 total time=   0.0s\n",
      "[CV 1/5] END max_depth=8, min_samples_leaf=19;, score=-22085.061 total time=   0.0s\n",
      "[CV 2/5] END max_depth=8, min_samples_leaf=19;, score=-34392.772 total time=   0.0s\n",
      "[CV 3/5] END max_depth=8, min_samples_leaf=19;, score=-22591.893 total time=   0.0s\n",
      "[CV 4/5] END max_depth=8, min_samples_leaf=19;, score=-25178.204 total time=   0.0s\n",
      "[CV 5/5] END max_depth=8, min_samples_leaf=19;, score=-45627.120 total time=   0.0s\n",
      "[CV 1/5] END max_depth=14, min_samples_leaf=13;, score=-21846.653 total time=   0.0s\n",
      "[CV 2/5] END max_depth=14, min_samples_leaf=13;, score=-32538.792 total time=   0.0s\n",
      "[CV 3/5] END max_depth=14, min_samples_leaf=13;, score=-19490.592 total time=   0.0s\n",
      "[CV 4/5] END max_depth=14, min_samples_leaf=13;, score=-16535.280 total time=   0.0s\n",
      "[CV 5/5] END max_depth=14, min_samples_leaf=13;, score=-43913.269 total time=   0.0s\n",
      "[CV 1/5] END max_depth=6, min_samples_leaf=11;, score=-20250.854 total time=   0.0s\n",
      "[CV 2/5] END max_depth=6, min_samples_leaf=11;, score=-34168.607 total time=   0.0s\n",
      "[CV 3/5] END max_depth=6, min_samples_leaf=11;, score=-19446.389 total time=   0.0s\n",
      "[CV 4/5] END max_depth=6, min_samples_leaf=11;, score=-18464.855 total time=   0.0s\n",
      "[CV 5/5] END max_depth=6, min_samples_leaf=11;, score=-43089.502 total time=   0.0s\n",
      "[CV 1/5] END max_depth=8, min_samples_leaf=15;, score=-22157.207 total time=   0.0s\n",
      "[CV 2/5] END max_depth=8, min_samples_leaf=15;, score=-32254.293 total time=   0.0s\n",
      "[CV 3/5] END max_depth=8, min_samples_leaf=15;, score=-20062.396 total time=   0.0s\n",
      "[CV 4/5] END max_depth=8, min_samples_leaf=15;, score=-17177.478 total time=   0.0s\n",
      "[CV 5/5] END max_depth=8, min_samples_leaf=15;, score=-46467.105 total time=   0.0s\n",
      "[CV 1/5] END max_depth=12, min_samples_leaf=15;, score=-23125.426 total time=   0.0s\n",
      "[CV 2/5] END max_depth=12, min_samples_leaf=15;, score=-32101.988 total time=   0.0s\n",
      "[CV 3/5] END max_depth=12, min_samples_leaf=15;, score=-20072.627 total time=   0.0s\n",
      "[CV 4/5] END max_depth=12, min_samples_leaf=15;, score=-17149.791 total time=   0.0s\n",
      "[CV 5/5] END max_depth=12, min_samples_leaf=15;, score=-46545.345 total time=   0.0s\n",
      "[CV 1/5] END max_depth=11, min_samples_leaf=9;, score=-19524.679 total time=   0.0s\n",
      "[CV 2/5] END max_depth=11, min_samples_leaf=9;, score=-29661.241 total time=   0.0s\n",
      "[CV 3/5] END max_depth=11, min_samples_leaf=9;, score=-18180.185 total time=   0.0s\n",
      "[CV 4/5] END max_depth=11, min_samples_leaf=9;, score=-16419.576 total time=   0.0s\n",
      "[CV 5/5] END max_depth=11, min_samples_leaf=9;, score=-43100.988 total time=   0.0s\n",
      "[CV 1/5] END max_depth=9, min_samples_leaf=17;, score=-23409.008 total time=   0.0s\n",
      "[CV 2/5] END max_depth=9, min_samples_leaf=17;, score=-32656.136 total time=   0.0s\n",
      "[CV 3/5] END max_depth=9, min_samples_leaf=17;, score=-20020.579 total time=   0.0s\n",
      "[CV 4/5] END max_depth=9, min_samples_leaf=17;, score=-18888.098 total time=   0.0s\n",
      "[CV 5/5] END max_depth=9, min_samples_leaf=17;, score=-46300.270 total time=   0.0s\n",
      "[CV 1/5] END max_depth=6, min_samples_leaf=16;, score=-22152.635 total time=   0.0s\n",
      "[CV 2/5] END max_depth=6, min_samples_leaf=16;, score=-33487.052 total time=   0.0s\n",
      "[CV 3/5] END max_depth=6, min_samples_leaf=16;, score=-20887.357 total time=   0.0s\n",
      "[CV 4/5] END max_depth=6, min_samples_leaf=16;, score=-17530.584 total time=   0.0s\n",
      "[CV 5/5] END max_depth=6, min_samples_leaf=16;, score=-47600.807 total time=   0.0s\n",
      "[CV 1/5] END max_depth=9, min_samples_leaf=14;, score=-23490.820 total time=   0.0s\n",
      "[CV 2/5] END max_depth=9, min_samples_leaf=14;, score=-32920.681 total time=   0.0s\n",
      "[CV 3/5] END max_depth=9, min_samples_leaf=14;, score=-19300.705 total time=   0.0s\n",
      "[CV 4/5] END max_depth=9, min_samples_leaf=14;, score=-17137.083 total time=   0.0s\n",
      "[CV 5/5] END max_depth=9, min_samples_leaf=14;, score=-43846.075 total time=   0.0s\n",
      "[CV 1/5] END max_depth=13, min_samples_leaf=16;, score=-21999.986 total time=   0.0s\n",
      "[CV 2/5] END max_depth=13, min_samples_leaf=16;, score=-32313.308 total time=   0.0s\n",
      "[CV 3/5] END max_depth=13, min_samples_leaf=16;, score=-20283.557 total time=   0.0s\n",
      "[CV 4/5] END max_depth=13, min_samples_leaf=16;, score=-16675.187 total time=   0.0s\n",
      "[CV 5/5] END max_depth=13, min_samples_leaf=16;, score=-47062.922 total time=   0.0s\n",
      "[CV 1/5] END max_depth=5, min_samples_leaf=8;, score=-24856.332 total time=   0.0s\n",
      "[CV 2/5] END max_depth=5, min_samples_leaf=8;, score=-36903.638 total time=   0.0s\n",
      "[CV 3/5] END max_depth=5, min_samples_leaf=8;, score=-21274.371 total time=   0.0s\n",
      "[CV 4/5] END max_depth=5, min_samples_leaf=8;, score=-26969.253 total time=   0.0s\n",
      "[CV 5/5] END max_depth=5, min_samples_leaf=8;, score=-47649.932 total time=   0.0s\n",
      "[CV 1/5] END max_depth=13, min_samples_leaf=2;, score=-35688.718 total time=   0.0s\n",
      "[CV 2/5] END max_depth=13, min_samples_leaf=2;, score=-33243.723 total time=   0.0s\n",
      "[CV 3/5] END max_depth=13, min_samples_leaf=2;, score=-24843.470 total time=   0.0s\n",
      "[CV 4/5] END max_depth=13, min_samples_leaf=2;, score=-24830.204 total time=   0.0s\n",
      "[CV 5/5] END max_depth=13, min_samples_leaf=2;, score=-41559.075 total time=   0.0s\n",
      "[CV 1/5] END max_depth=12, min_samples_leaf=12;, score=-22205.101 total time=   0.0s\n",
      "[CV 2/5] END max_depth=12, min_samples_leaf=12;, score=-32758.483 total time=   0.0s\n",
      "[CV 3/5] END max_depth=12, min_samples_leaf=12;, score=-18473.353 total time=   0.0s\n",
      "[CV 4/5] END max_depth=12, min_samples_leaf=12;, score=-17644.601 total time=   0.0s\n",
      "[CV 5/5] END max_depth=12, min_samples_leaf=12;, score=-43190.439 total time=   0.0s\n",
      "[CV 1/5] END max_depth=7, min_samples_leaf=18;, score=-22550.905 total time=   0.0s\n",
      "[CV 2/5] END max_depth=7, min_samples_leaf=18;, score=-32987.753 total time=   0.0s\n",
      "[CV 3/5] END max_depth=7, min_samples_leaf=18;, score=-20059.562 total time=   0.0s\n",
      "[CV 4/5] END max_depth=7, min_samples_leaf=18;, score=-18496.432 total time=   0.0s\n"
     ]
    },
    {
     "name": "stdout",
     "output_type": "stream",
     "text": [
      "[CV 5/5] END max_depth=7, min_samples_leaf=18;, score=-46453.866 total time=   0.0s\n",
      "[CV 1/5] END max_depth=12, min_samples_leaf=4;, score=-28692.864 total time=   0.0s\n",
      "[CV 2/5] END max_depth=12, min_samples_leaf=4;, score=-31880.550 total time=   0.0s\n",
      "[CV 3/5] END max_depth=12, min_samples_leaf=4;, score=-18254.256 total time=   0.0s\n",
      "[CV 4/5] END max_depth=12, min_samples_leaf=4;, score=-19277.664 total time=   0.0s\n",
      "[CV 5/5] END max_depth=12, min_samples_leaf=4;, score=-47640.240 total time=   0.0s\n",
      "[CV 1/5] END max_depth=7, min_samples_leaf=2;, score=-24135.373 total time=   0.0s\n",
      "[CV 2/5] END max_depth=7, min_samples_leaf=2;, score=-32384.271 total time=   0.0s\n",
      "[CV 3/5] END max_depth=7, min_samples_leaf=2;, score=-26405.225 total time=   0.0s\n",
      "[CV 4/5] END max_depth=7, min_samples_leaf=2;, score=-19713.101 total time=   0.0s\n",
      "[CV 5/5] END max_depth=7, min_samples_leaf=2;, score=-39029.346 total time=   0.0s\n",
      "[CV 1/5] END max_depth=9, min_samples_leaf=11;, score=-19700.610 total time=   0.0s\n",
      "[CV 2/5] END max_depth=9, min_samples_leaf=11;, score=-31767.046 total time=   0.0s\n",
      "[CV 3/5] END max_depth=9, min_samples_leaf=11;, score=-18400.405 total time=   0.0s\n",
      "[CV 4/5] END max_depth=9, min_samples_leaf=11;, score=-17608.368 total time=   0.0s\n",
      "[CV 5/5] END max_depth=9, min_samples_leaf=11;, score=-42425.430 total time=   0.0s\n",
      "[CV 1/5] END max_depth=11, min_samples_leaf=10;, score=-20118.473 total time=   0.0s\n",
      "[CV 2/5] END max_depth=11, min_samples_leaf=10;, score=-28878.488 total time=   0.0s\n",
      "[CV 3/5] END max_depth=11, min_samples_leaf=10;, score=-18468.100 total time=   0.0s\n",
      "[CV 4/5] END max_depth=11, min_samples_leaf=10;, score=-16513.298 total time=   0.0s\n",
      "[CV 5/5] END max_depth=11, min_samples_leaf=10;, score=-42255.330 total time=   0.0s\n",
      "[CV 1/5] END max_depth=11, min_samples_leaf=10;, score=-20118.473 total time=   0.0s\n",
      "[CV 2/5] END max_depth=11, min_samples_leaf=10;, score=-28801.379 total time=   0.0s\n",
      "[CV 3/5] END max_depth=11, min_samples_leaf=10;, score=-18628.377 total time=   0.0s\n",
      "[CV 4/5] END max_depth=11, min_samples_leaf=10;, score=-16514.730 total time=   0.0s\n",
      "[CV 5/5] END max_depth=11, min_samples_leaf=10;, score=-42306.907 total time=   0.0s\n",
      "[CV 1/5] END max_depth=12, min_samples_leaf=13;, score=-21846.653 total time=   0.0s\n",
      "[CV 2/5] END max_depth=12, min_samples_leaf=13;, score=-32533.400 total time=   0.0s\n",
      "[CV 3/5] END max_depth=12, min_samples_leaf=13;, score=-19539.154 total time=   0.0s\n",
      "[CV 4/5] END max_depth=12, min_samples_leaf=13;, score=-16535.280 total time=   0.0s\n",
      "[CV 5/5] END max_depth=12, min_samples_leaf=13;, score=-43872.517 total time=   0.0s\n",
      "[CV 1/5] END max_depth=6, min_samples_leaf=2;, score=-20469.375 total time=   0.0s\n",
      "[CV 2/5] END max_depth=6, min_samples_leaf=2;, score=-32042.720 total time=   0.0s\n",
      "[CV 3/5] END max_depth=6, min_samples_leaf=2;, score=-26822.108 total time=   0.0s\n",
      "[CV 4/5] END max_depth=6, min_samples_leaf=2;, score=-14076.730 total time=   0.0s\n",
      "[CV 5/5] END max_depth=6, min_samples_leaf=2;, score=-47242.020 total time=   0.0s\n",
      "[CV 1/5] END max_depth=11, min_samples_leaf=6;, score=-23425.459 total time=   0.0s\n",
      "[CV 2/5] END max_depth=11, min_samples_leaf=6;, score=-32135.166 total time=   0.0s\n",
      "[CV 3/5] END max_depth=11, min_samples_leaf=6;, score=-17272.166 total time=   0.0s\n",
      "[CV 4/5] END max_depth=11, min_samples_leaf=6;, score=-22062.961 total time=   0.0s\n",
      "[CV 5/5] END max_depth=11, min_samples_leaf=6;, score=-47894.966 total time=   0.0s\n",
      "[CV 1/5] END max_depth=7, min_samples_leaf=13;, score=-22209.453 total time=   0.0s\n",
      "[CV 2/5] END max_depth=7, min_samples_leaf=13;, score=-32518.482 total time=   0.0s\n",
      "[CV 3/5] END max_depth=7, min_samples_leaf=13;, score=-19377.010 total time=   0.0s\n",
      "[CV 4/5] END max_depth=7, min_samples_leaf=13;, score=-16735.769 total time=   0.0s\n",
      "[CV 5/5] END max_depth=7, min_samples_leaf=13;, score=-44079.124 total time=   0.0s\n",
      "[CV 1/5] END max_depth=12, min_samples_leaf=4;, score=-28863.016 total time=   0.0s\n",
      "[CV 2/5] END max_depth=12, min_samples_leaf=4;, score=-30746.053 total time=   0.0s\n",
      "[CV 3/5] END max_depth=12, min_samples_leaf=4;, score=-17856.287 total time=   0.0s\n",
      "[CV 4/5] END max_depth=12, min_samples_leaf=4;, score=-19210.208 total time=   0.0s\n",
      "[CV 5/5] END max_depth=12, min_samples_leaf=4;, score=-47519.854 total time=   0.0s\n",
      "[CV 1/5] END max_depth=5, min_samples_leaf=4;, score=-28256.492 total time=   0.0s\n",
      "[CV 2/5] END max_depth=5, min_samples_leaf=4;, score=-40858.369 total time=   0.0s\n",
      "[CV 3/5] END max_depth=5, min_samples_leaf=4;, score=-21556.894 total time=   0.0s\n",
      "[CV 4/5] END max_depth=5, min_samples_leaf=4;, score=-27256.755 total time=   0.0s\n",
      "[CV 5/5] END max_depth=5, min_samples_leaf=4;, score=-52750.455 total time=   0.0s\n",
      "[CV 1/5] END max_depth=9, min_samples_leaf=16;, score=-21957.643 total time=   0.0s\n",
      "[CV 2/5] END max_depth=9, min_samples_leaf=16;, score=-32318.012 total time=   0.0s\n",
      "[CV 3/5] END max_depth=9, min_samples_leaf=16;, score=-20337.405 total time=   0.0s\n",
      "[CV 4/5] END max_depth=9, min_samples_leaf=16;, score=-16675.187 total time=   0.0s\n",
      "[CV 5/5] END max_depth=9, min_samples_leaf=16;, score=-46990.785 total time=   0.0s\n",
      "[CV 1/5] END max_depth=7, min_samples_leaf=2;, score=-24209.725 total time=   0.0s\n",
      "[CV 2/5] END max_depth=7, min_samples_leaf=2;, score=-31492.819 total time=   0.0s\n",
      "[CV 3/5] END max_depth=7, min_samples_leaf=2;, score=-26405.225 total time=   0.0s\n",
      "[CV 4/5] END max_depth=7, min_samples_leaf=2;, score=-17687.878 total time=   0.0s\n",
      "[CV 5/5] END max_depth=7, min_samples_leaf=2;, score=-44859.600 total time=   0.0s\n",
      "[CV 1/5] END max_depth=9, min_samples_leaf=15;, score=-22131.790 total time=   0.0s\n",
      "[CV 2/5] END max_depth=9, min_samples_leaf=15;, score=-32106.692 total time=   0.0s\n",
      "[CV 3/5] END max_depth=9, min_samples_leaf=15;, score=-20126.474 total time=   0.0s\n",
      "[CV 4/5] END max_depth=9, min_samples_leaf=15;, score=-17149.791 total time=   0.0s\n",
      "[CV 5/5] END max_depth=9, min_samples_leaf=15;, score=-46576.164 total time=   0.0s\n",
      "[CV 1/5] END max_depth=11, min_samples_leaf=10;, score=-20208.816 total time=   0.0s\n",
      "[CV 2/5] END max_depth=11, min_samples_leaf=10;, score=-28836.241 total time=   0.0s\n",
      "[CV 3/5] END max_depth=11, min_samples_leaf=10;, score=-18778.656 total time=   0.0s\n",
      "[CV 4/5] END max_depth=11, min_samples_leaf=10;, score=-16513.298 total time=   0.0s\n",
      "[CV 5/5] END max_depth=11, min_samples_leaf=10;, score=-41606.974 total time=   0.0s\n",
      "[CV 1/5] END max_depth=14, min_samples_leaf=11;, score=-19625.839 total time=   0.0s\n",
      "[CV 2/5] END max_depth=14, min_samples_leaf=11;, score=-31792.260 total time=   0.0s\n",
      "[CV 3/5] END max_depth=14, min_samples_leaf=11;, score=-18752.575 total time=   0.0s\n",
      "[CV 4/5] END max_depth=14, min_samples_leaf=11;, score=-17611.718 total time=   0.0s\n",
      "[CV 5/5] END max_depth=14, min_samples_leaf=11;, score=-42408.171 total time=   0.0s\n",
      "[CV 1/5] END max_depth=7, min_samples_leaf=8;, score=-22122.341 total time=   0.0s\n",
      "[CV 2/5] END max_depth=7, min_samples_leaf=8;, score=-28939.754 total time=   0.0s\n",
      "[CV 3/5] END max_depth=7, min_samples_leaf=8;, score=-17846.496 total time=   0.0s\n",
      "[CV 4/5] END max_depth=7, min_samples_leaf=8;, score=-19072.463 total time=   0.0s\n",
      "[CV 5/5] END max_depth=7, min_samples_leaf=8;, score=-44830.587 total time=   0.0s\n",
      "[CV 1/5] END max_depth=5, min_samples_leaf=5;, score=-27490.152 total time=   0.0s\n",
      "[CV 2/5] END max_depth=5, min_samples_leaf=5;, score=-39814.650 total time=   0.0s\n",
      "[CV 3/5] END max_depth=5, min_samples_leaf=5;, score=-21695.944 total time=   0.0s\n",
      "[CV 4/5] END max_depth=5, min_samples_leaf=5;, score=-28511.961 total time=   0.0s\n",
      "[CV 5/5] END max_depth=5, min_samples_leaf=5;, score=-51244.901 total time=   0.0s\n",
      "[CV 1/5] END max_depth=9, min_samples_leaf=8;, score=-21892.306 total time=   0.0s\n",
      "[CV 2/5] END max_depth=9, min_samples_leaf=8;, score=-28966.417 total time=   0.0s\n",
      "[CV 3/5] END max_depth=9, min_samples_leaf=8;, score=-17175.894 total time=   0.0s\n",
      "[CV 4/5] END max_depth=9, min_samples_leaf=8;, score=-18943.000 total time=   0.0s\n",
      "[CV 5/5] END max_depth=9, min_samples_leaf=8;, score=-44224.819 total time=   0.0s\n",
      "[CV 1/5] END max_depth=8, min_samples_leaf=14;, score=-23506.532 total time=   0.0s\n",
      "[CV 2/5] END max_depth=8, min_samples_leaf=14;, score=-33068.282 total time=   0.0s\n",
      "[CV 3/5] END max_depth=8, min_samples_leaf=14;, score=-19131.479 total time=   0.0s\n",
      "[CV 4/5] END max_depth=8, min_samples_leaf=14;, score=-17158.191 total time=   0.0s\n",
      "[CV 5/5] END max_depth=8, min_samples_leaf=14;, score=-44413.630 total time=   0.0s\n"
     ]
    },
    {
     "name": "stdout",
     "output_type": "stream",
     "text": [
      "[CV 1/5] END max_depth=11, min_samples_leaf=3;, score=-31082.003 total time=   0.0s\n",
      "[CV 2/5] END max_depth=11, min_samples_leaf=3;, score=-34149.510 total time=   0.0s\n",
      "[CV 3/5] END max_depth=11, min_samples_leaf=3;, score=-24518.854 total time=   0.0s\n",
      "[CV 4/5] END max_depth=11, min_samples_leaf=3;, score=-23343.434 total time=   0.0s\n",
      "[CV 5/5] END max_depth=11, min_samples_leaf=3;, score=-47350.089 total time=   0.0s\n",
      "[CV 1/5] END max_depth=14, min_samples_leaf=14;, score=-24504.092 total time=   0.0s\n",
      "[CV 2/5] END max_depth=14, min_samples_leaf=14;, score=-33173.620 total time=   0.0s\n",
      "[CV 3/5] END max_depth=14, min_samples_leaf=14;, score=-19208.158 total time=   0.0s\n",
      "[CV 4/5] END max_depth=14, min_samples_leaf=14;, score=-17133.854 total time=   0.0s\n",
      "[CV 5/5] END max_depth=14, min_samples_leaf=14;, score=-44532.622 total time=   0.0s\n",
      "[CV 1/5] END max_depth=13, min_samples_leaf=7;, score=-23761.857 total time=   0.0s\n",
      "[CV 2/5] END max_depth=13, min_samples_leaf=7;, score=-29395.322 total time=   0.0s\n",
      "[CV 3/5] END max_depth=13, min_samples_leaf=7;, score=-17113.003 total time=   0.0s\n",
      "[CV 4/5] END max_depth=13, min_samples_leaf=7;, score=-17914.864 total time=   0.0s\n",
      "[CV 5/5] END max_depth=13, min_samples_leaf=7;, score=-45777.123 total time=   0.0s\n",
      "[CV 1/5] END max_depth=8, min_samples_leaf=12;, score=-22324.135 total time=   0.0s\n",
      "[CV 2/5] END max_depth=8, min_samples_leaf=12;, score=-32915.809 total time=   0.0s\n",
      "[CV 3/5] END max_depth=8, min_samples_leaf=12;, score=-18679.439 total time=   0.0s\n",
      "[CV 4/5] END max_depth=8, min_samples_leaf=12;, score=-17669.331 total time=   0.0s\n",
      "[CV 5/5] END max_depth=8, min_samples_leaf=12;, score=-43105.298 total time=   0.0s\n",
      "[CV 1/5] END max_depth=14, min_samples_leaf=8;, score=-21739.423 total time=   0.0s\n",
      "[CV 2/5] END max_depth=14, min_samples_leaf=8;, score=-29131.177 total time=   0.0s\n",
      "[CV 3/5] END max_depth=14, min_samples_leaf=8;, score=-17139.780 total time=   0.0s\n",
      "[CV 4/5] END max_depth=14, min_samples_leaf=8;, score=-18921.712 total time=   0.0s\n",
      "[CV 5/5] END max_depth=14, min_samples_leaf=8;, score=-43600.065 total time=   0.0s\n",
      "[CV 1/5] END max_depth=5, min_samples_leaf=2;, score=-22268.796 total time=   0.0s\n",
      "[CV 2/5] END max_depth=5, min_samples_leaf=2;, score=-37196.519 total time=   0.0s\n",
      "[CV 3/5] END max_depth=5, min_samples_leaf=2;, score=-26071.658 total time=   0.0s\n",
      "[CV 4/5] END max_depth=5, min_samples_leaf=2;, score=-22339.278 total time=   0.0s\n",
      "[CV 5/5] END max_depth=5, min_samples_leaf=2;, score=-43637.345 total time=   0.0s\n",
      "[CV 1/5] END max_depth=13, min_samples_leaf=14;, score=-23493.704 total time=   0.0s\n",
      "[CV 2/5] END max_depth=13, min_samples_leaf=14;, score=-32915.855 total time=   0.0s\n",
      "[CV 3/5] END max_depth=13, min_samples_leaf=14;, score=-19239.671 total time=   0.0s\n",
      "[CV 4/5] END max_depth=13, min_samples_leaf=14;, score=-17140.433 total time=   0.0s\n",
      "[CV 5/5] END max_depth=13, min_samples_leaf=14;, score=-44555.865 total time=   0.0s\n",
      "[CV 1/5] END max_depth=13, min_samples_leaf=4;, score=-28269.236 total time=   0.0s\n",
      "[CV 2/5] END max_depth=13, min_samples_leaf=4;, score=-30882.357 total time=   0.0s\n",
      "[CV 3/5] END max_depth=13, min_samples_leaf=4;, score=-18223.414 total time=   0.0s\n",
      "[CV 4/5] END max_depth=13, min_samples_leaf=4;, score=-19141.309 total time=   0.0s\n",
      "[CV 5/5] END max_depth=13, min_samples_leaf=4;, score=-47777.539 total time=   0.0s\n",
      "[CV 1/5] END max_depth=11, min_samples_leaf=7;, score=-23786.742 total time=   0.0s\n",
      "[CV 2/5] END max_depth=11, min_samples_leaf=7;, score=-28821.251 total time=   0.0s\n",
      "[CV 3/5] END max_depth=11, min_samples_leaf=7;, score=-17125.673 total time=   0.0s\n",
      "[CV 4/5] END max_depth=11, min_samples_leaf=7;, score=-17788.266 total time=   0.0s\n",
      "[CV 5/5] END max_depth=11, min_samples_leaf=7;, score=-45753.382 total time=   0.0s\n",
      "[CV 1/5] END max_depth=12, min_samples_leaf=10;, score=-20118.314 total time=   0.0s\n",
      "[CV 2/5] END max_depth=12, min_samples_leaf=10;, score=-28801.220 total time=   0.0s\n",
      "[CV 3/5] END max_depth=12, min_samples_leaf=10;, score=-18460.281 total time=   0.0s\n",
      "[CV 4/5] END max_depth=12, min_samples_leaf=10;, score=-16514.730 total time=   0.0s\n",
      "[CV 5/5] END max_depth=12, min_samples_leaf=10;, score=-41581.436 total time=   0.0s\n",
      "[CV 1/5] END max_depth=9, min_samples_leaf=2;, score=-33622.467 total time=   0.0s\n",
      "[CV 2/5] END max_depth=9, min_samples_leaf=2;, score=-30890.836 total time=   0.0s\n",
      "[CV 3/5] END max_depth=9, min_samples_leaf=2;, score=-25466.026 total time=   0.0s\n",
      "[CV 4/5] END max_depth=9, min_samples_leaf=2;, score=-20829.869 total time=   0.0s\n",
      "[CV 5/5] END max_depth=9, min_samples_leaf=2;, score=-41573.363 total time=   0.0s\n",
      "[CV 1/5] END max_depth=7, min_samples_leaf=11;, score=-20050.880 total time=   0.0s\n",
      "[CV 2/5] END max_depth=7, min_samples_leaf=11;, score=-31467.067 total time=   0.0s\n",
      "[CV 3/5] END max_depth=7, min_samples_leaf=11;, score=-18601.196 total time=   0.0s\n",
      "[CV 4/5] END max_depth=7, min_samples_leaf=11;, score=-17605.837 total time=   0.0s\n",
      "[CV 5/5] END max_depth=7, min_samples_leaf=11;, score=-42839.636 total time=   0.0s\n",
      "[CV 1/5] END max_depth=12, min_samples_leaf=16;, score=-21999.986 total time=   0.0s\n",
      "[CV 2/5] END max_depth=12, min_samples_leaf=16;, score=-32313.308 total time=   0.0s\n",
      "[CV 3/5] END max_depth=12, min_samples_leaf=16;, score=-20293.472 total time=   0.0s\n",
      "[CV 4/5] END max_depth=12, min_samples_leaf=16;, score=-16675.187 total time=   0.0s\n",
      "[CV 5/5] END max_depth=12, min_samples_leaf=16;, score=-47038.338 total time=   0.0s\n",
      "[CV 1/5] END max_depth=10, min_samples_leaf=10;, score=-20112.232 total time=   0.0s\n",
      "[CV 2/5] END max_depth=10, min_samples_leaf=10;, score=-28787.986 total time=   0.0s\n",
      "[CV 3/5] END max_depth=10, min_samples_leaf=10;, score=-18742.364 total time=   0.0s\n",
      "[CV 4/5] END max_depth=10, min_samples_leaf=10;, score=-16513.298 total time=   0.0s\n",
      "[CV 5/5] END max_depth=10, min_samples_leaf=10;, score=-42223.977 total time=   0.0s\n",
      "[CV 1/5] END max_depth=8, min_samples_leaf=18;, score=-22613.545 total time=   0.0s\n",
      "[CV 2/5] END max_depth=8, min_samples_leaf=18;, score=-33070.598 total time=   0.0s\n",
      "[CV 3/5] END max_depth=8, min_samples_leaf=18;, score=-20014.262 total time=   0.0s\n",
      "[CV 4/5] END max_depth=8, min_samples_leaf=18;, score=-18693.614 total time=   0.0s\n",
      "[CV 5/5] END max_depth=8, min_samples_leaf=18;, score=-46209.464 total time=   0.0s\n",
      "[CV 1/5] END max_depth=5, min_samples_leaf=13;, score=-25802.556 total time=   0.0s\n",
      "[CV 2/5] END max_depth=5, min_samples_leaf=13;, score=-35818.329 total time=   0.0s\n",
      "[CV 3/5] END max_depth=5, min_samples_leaf=13;, score=-22003.020 total time=   0.0s\n",
      "[CV 4/5] END max_depth=5, min_samples_leaf=13;, score=-24104.475 total time=   0.0s\n",
      "[CV 5/5] END max_depth=5, min_samples_leaf=13;, score=-46415.015 total time=   0.0s\n",
      "[CV 1/5] END max_depth=11, min_samples_leaf=3;, score=-28741.442 total time=   0.0s\n",
      "[CV 2/5] END max_depth=11, min_samples_leaf=3;, score=-30123.827 total time=   0.0s\n",
      "[CV 3/5] END max_depth=11, min_samples_leaf=3;, score=-23611.483 total time=   0.0s\n",
      "[CV 4/5] END max_depth=11, min_samples_leaf=3;, score=-24000.526 total time=   0.0s\n",
      "[CV 5/5] END max_depth=11, min_samples_leaf=3;, score=-44806.621 total time=   0.0s\n",
      "[CV 1/5] END max_depth=7, min_samples_leaf=18;, score=-22550.905 total time=   0.0s\n",
      "[CV 2/5] END max_depth=7, min_samples_leaf=18;, score=-32844.483 total time=   0.0s\n",
      "[CV 3/5] END max_depth=7, min_samples_leaf=18;, score=-20067.522 total time=   0.0s\n",
      "[CV 4/5] END max_depth=7, min_samples_leaf=18;, score=-18496.432 total time=   0.0s\n",
      "[CV 5/5] END max_depth=7, min_samples_leaf=18;, score=-46453.866 total time=   0.0s\n",
      "[CV 1/5] END max_depth=9, min_samples_leaf=18;, score=-22715.892 total time=   0.0s\n",
      "[CV 2/5] END max_depth=9, min_samples_leaf=18;, score=-32930.598 total time=   0.0s\n",
      "[CV 3/5] END max_depth=9, min_samples_leaf=18;, score=-20071.984 total time=   0.0s\n",
      "[CV 4/5] END max_depth=9, min_samples_leaf=18;, score=-18709.532 total time=   0.0s\n",
      "[CV 5/5] END max_depth=9, min_samples_leaf=18;, score=-46252.588 total time=   0.0s\n",
      "[CV 1/5] END max_depth=12, min_samples_leaf=18;, score=-22718.776 total time=   0.0s\n",
      "[CV 2/5] END max_depth=12, min_samples_leaf=18;, score=-32926.869 total time=   0.0s\n",
      "[CV 3/5] END max_depth=12, min_samples_leaf=18;, score=-20057.675 total time=   0.0s\n",
      "[CV 4/5] END max_depth=12, min_samples_leaf=18;, score=-18685.654 total time=   0.0s\n",
      "[CV 5/5] END max_depth=12, min_samples_leaf=18;, score=-46276.899 total time=   0.0s\n",
      "[CV 1/5] END max_depth=5, min_samples_leaf=3;, score=-29273.669 total time=   0.0s\n",
      "[CV 2/5] END max_depth=5, min_samples_leaf=3;, score=-39166.061 total time=   0.0s\n",
      "[CV 3/5] END max_depth=5, min_samples_leaf=3;, score=-21533.621 total time=   0.0s\n",
      "[CV 4/5] END max_depth=5, min_samples_leaf=3;, score=-28120.349 total time=   0.0s\n",
      "[CV 5/5] END max_depth=5, min_samples_leaf=3;, score=-50305.139 total time=   0.0s\n"
     ]
    },
    {
     "name": "stdout",
     "output_type": "stream",
     "text": [
      "[CV 1/5] END max_depth=6, min_samples_leaf=6;, score=-23315.996 total time=   0.0s\n",
      "[CV 2/5] END max_depth=6, min_samples_leaf=6;, score=-35838.100 total time=   0.0s\n",
      "[CV 3/5] END max_depth=6, min_samples_leaf=6;, score=-19289.407 total time=   0.0s\n",
      "[CV 4/5] END max_depth=6, min_samples_leaf=6;, score=-20924.437 total time=   0.0s\n",
      "[CV 5/5] END max_depth=6, min_samples_leaf=6;, score=-47702.006 total time=   0.0s\n",
      "[CV 1/5] END max_depth=5, min_samples_leaf=2;, score=-22268.796 total time=   0.0s\n",
      "[CV 2/5] END max_depth=5, min_samples_leaf=2;, score=-37196.519 total time=   0.0s\n",
      "[CV 3/5] END max_depth=5, min_samples_leaf=2;, score=-26071.658 total time=   0.0s\n",
      "[CV 4/5] END max_depth=5, min_samples_leaf=2;, score=-22339.278 total time=   0.0s\n",
      "[CV 5/5] END max_depth=5, min_samples_leaf=2;, score=-49499.436 total time=   0.0s\n",
      "[CV 1/5] END max_depth=7, min_samples_leaf=3;, score=-29178.207 total time=   0.0s\n",
      "[CV 2/5] END max_depth=7, min_samples_leaf=3;, score=-33986.297 total time=   0.0s\n",
      "[CV 3/5] END max_depth=7, min_samples_leaf=3;, score=-21744.711 total time=   0.0s\n",
      "[CV 4/5] END max_depth=7, min_samples_leaf=3;, score=-23339.140 total time=   0.0s\n",
      "[CV 5/5] END max_depth=7, min_samples_leaf=3;, score=-48809.558 total time=   0.0s\n",
      "[CV 1/5] END max_depth=9, min_samples_leaf=13;, score=-21904.330 total time=   0.0s\n",
      "[CV 2/5] END max_depth=9, min_samples_leaf=13;, score=-32547.020 total time=   0.0s\n",
      "[CV 3/5] END max_depth=9, min_samples_leaf=13;, score=-19505.149 total time=   0.0s\n",
      "[CV 4/5] END max_depth=9, min_samples_leaf=13;, score=-16531.930 total time=   0.0s\n",
      "[CV 5/5] END max_depth=9, min_samples_leaf=13;, score=-44505.174 total time=   0.0s\n",
      "[CV 1/5] END max_depth=14, min_samples_leaf=7;, score=-23761.857 total time=   0.0s\n",
      "[CV 2/5] END max_depth=14, min_samples_leaf=7;, score=-28851.077 total time=   0.0s\n",
      "[CV 3/5] END max_depth=14, min_samples_leaf=7;, score=-17133.312 total time=   0.0s\n",
      "[CV 4/5] END max_depth=14, min_samples_leaf=7;, score=-18502.886 total time=   0.0s\n",
      "[CV 5/5] END max_depth=14, min_samples_leaf=7;, score=-46809.894 total time=   0.0s\n",
      "[CV 1/5] END max_depth=11, min_samples_leaf=5;, score=-24690.799 total time=   0.0s\n",
      "[CV 2/5] END max_depth=11, min_samples_leaf=5;, score=-31105.211 total time=   0.0s\n",
      "[CV 3/5] END max_depth=11, min_samples_leaf=5;, score=-18324.458 total time=   0.0s\n",
      "[CV 4/5] END max_depth=11, min_samples_leaf=5;, score=-22787.834 total time=   0.0s\n",
      "[CV 5/5] END max_depth=11, min_samples_leaf=5;, score=-49149.021 total time=   0.0s\n",
      "[CV 1/5] END max_depth=11, min_samples_leaf=12;, score=-22231.828 total time=   0.0s\n",
      "[CV 2/5] END max_depth=11, min_samples_leaf=12;, score=-32758.483 total time=   0.0s\n",
      "[CV 3/5] END max_depth=11, min_samples_leaf=12;, score=-18459.952 total time=   0.0s\n",
      "[CV 4/5] END max_depth=11, min_samples_leaf=12;, score=-17645.448 total time=   0.0s\n",
      "[CV 5/5] END max_depth=11, min_samples_leaf=12;, score=-43865.112 total time=   0.0s\n",
      "[CV 1/5] END max_depth=12, min_samples_leaf=18;, score=-22718.776 total time=   0.0s\n",
      "[CV 2/5] END max_depth=12, min_samples_leaf=18;, score=-32783.600 total time=   0.0s\n",
      "[CV 3/5] END max_depth=12, min_samples_leaf=18;, score=-20071.984 total time=   0.0s\n",
      "[CV 4/5] END max_depth=12, min_samples_leaf=18;, score=-18693.614 total time=   0.0s\n",
      "[CV 5/5] END max_depth=12, min_samples_leaf=18;, score=-46276.899 total time=   0.0s\n",
      "[CV 1/5] END max_depth=10, min_samples_leaf=6;, score=-23432.571 total time=   0.0s\n",
      "[CV 2/5] END max_depth=10, min_samples_leaf=6;, score=-33198.864 total time=   0.0s\n",
      "[CV 3/5] END max_depth=10, min_samples_leaf=6;, score=-17232.545 total time=   0.0s\n",
      "[CV 4/5] END max_depth=10, min_samples_leaf=6;, score=-22542.017 total time=   0.0s\n",
      "[CV 5/5] END max_depth=10, min_samples_leaf=6;, score=-47923.615 total time=   0.0s\n",
      "[CV 1/5] END max_depth=8, min_samples_leaf=3;, score=-31741.943 total time=   0.0s\n",
      "[CV 2/5] END max_depth=8, min_samples_leaf=3;, score=-33842.600 total time=   0.0s\n",
      "[CV 3/5] END max_depth=8, min_samples_leaf=3;, score=-24224.394 total time=   0.0s\n",
      "[CV 4/5] END max_depth=8, min_samples_leaf=3;, score=-23742.069 total time=   0.0s\n",
      "[CV 5/5] END max_depth=8, min_samples_leaf=3;, score=-47504.588 total time=   0.0s\n",
      "[CV 1/5] END max_depth=10, min_samples_leaf=12;, score=-22206.293 total time=   0.0s\n",
      "[CV 2/5] END max_depth=10, min_samples_leaf=12;, score=-32765.430 total time=   0.0s\n",
      "[CV 3/5] END max_depth=10, min_samples_leaf=12;, score=-18490.585 total time=   0.0s\n",
      "[CV 4/5] END max_depth=10, min_samples_leaf=12;, score=-17644.601 total time=   0.0s\n",
      "[CV 5/5] END max_depth=10, min_samples_leaf=12;, score=-43142.786 total time=   0.0s\n",
      "[CV 1/5] END max_depth=5, min_samples_leaf=10;, score=-22999.962 total time=   0.0s\n",
      "[CV 2/5] END max_depth=5, min_samples_leaf=10;, score=-36012.216 total time=   0.0s\n",
      "[CV 3/5] END max_depth=5, min_samples_leaf=10;, score=-21408.881 total time=   0.0s\n",
      "[CV 4/5] END max_depth=5, min_samples_leaf=10;, score=-24942.144 total time=   0.0s\n",
      "[CV 5/5] END max_depth=5, min_samples_leaf=10;, score=-46583.462 total time=   0.0s\n",
      "[CV 1/5] END max_depth=10, min_samples_leaf=17;, score=-23372.433 total time=   0.0s\n",
      "[CV 2/5] END max_depth=10, min_samples_leaf=17;, score=-32812.531 total time=   0.0s\n",
      "[CV 3/5] END max_depth=10, min_samples_leaf=17;, score=-19956.816 total time=   0.0s\n",
      "[CV 4/5] END max_depth=10, min_samples_leaf=17;, score=-18965.717 total time=   0.0s\n",
      "[CV 5/5] END max_depth=10, min_samples_leaf=17;, score=-46269.058 total time=   0.0s\n",
      "[CV 1/5] END max_depth=7, min_samples_leaf=5;, score=-23982.007 total time=   0.0s\n",
      "[CV 2/5] END max_depth=7, min_samples_leaf=5;, score=-33362.637 total time=   0.0s\n",
      "[CV 3/5] END max_depth=7, min_samples_leaf=5;, score=-19206.992 total time=   0.0s\n",
      "[CV 4/5] END max_depth=7, min_samples_leaf=5;, score=-20176.582 total time=   0.0s\n",
      "[CV 5/5] END max_depth=7, min_samples_leaf=5;, score=-50959.964 total time=   0.0s\n",
      "[CV 1/5] END max_depth=7, min_samples_leaf=4;, score=-29036.585 total time=   0.0s\n",
      "[CV 2/5] END max_depth=7, min_samples_leaf=4;, score=-33127.746 total time=   0.0s\n",
      "[CV 3/5] END max_depth=7, min_samples_leaf=4;, score=-18921.886 total time=   0.0s\n",
      "[CV 4/5] END max_depth=7, min_samples_leaf=4;, score=-19051.776 total time=   0.0s\n",
      "[CV 5/5] END max_depth=7, min_samples_leaf=4;, score=-49186.214 total time=   0.0s\n",
      "[CV 1/5] END max_depth=7, min_samples_leaf=8;, score=-22113.749 total time=   0.0s\n",
      "[CV 2/5] END max_depth=7, min_samples_leaf=8;, score=-29705.674 total time=   0.0s\n",
      "[CV 3/5] END max_depth=7, min_samples_leaf=8;, score=-17846.496 total time=   0.0s\n",
      "[CV 4/5] END max_depth=7, min_samples_leaf=8;, score=-19067.986 total time=   0.0s\n",
      "[CV 5/5] END max_depth=7, min_samples_leaf=8;, score=-44805.328 total time=   0.0s\n",
      "[CV 1/5] END max_depth=8, min_samples_leaf=10;, score=-20293.809 total time=   0.0s\n",
      "[CV 2/5] END max_depth=8, min_samples_leaf=10;, score=-28835.870 total time=   0.0s\n",
      "[CV 3/5] END max_depth=8, min_samples_leaf=10;, score=-18462.762 total time=   0.0s\n",
      "[CV 4/5] END max_depth=8, min_samples_leaf=10;, score=-16572.449 total time=   0.0s\n",
      "[CV 5/5] END max_depth=8, min_samples_leaf=10;, score=-41840.926 total time=   0.0s\n",
      "{'max_depth': 12, 'min_samples_leaf': 10} -25095.196303982277\n"
     ]
    }
   ],
   "source": [
    "params_distr = {\n",
    "    \"max_depth\": stats.randint(low=5, high=15),\n",
    "    \"min_samples_leaf\": stats.randint(low=2, high=20)\n",
    "}\n",
    "\n",
    "rand_search_cv = RandomizedSearchCV(DecisionTreeRegressor(), params_distr, random_state=42, verbose=6,\n",
    "                                    cv=5, scoring=\"neg_mean_squared_error\",\n",
    "                                    n_iter=100)\n",
    "rand_search = rand_search_cv.fit(X_scaled, y_true)\n",
    "print(rand_search.best_params_, rand_search.best_score_)"
   ]
  },
  {
   "cell_type": "code",
   "execution_count": 112,
   "id": "429b2ec3",
   "metadata": {},
   "outputs": [
    {
     "name": "stdout",
     "output_type": "stream",
     "text": [
      "mse=20219.25; r2=0.83\n",
      "mse=25246.39; r2=0.79\n",
      "[-21742.54285866 -19377.37159293 -21556.82832759 -22509.69050797\n",
      " -15909.81888523]\n",
      "[-20208.8163144  -28801.21992126 -18401.69309145 -16513.29752733\n",
      " -42306.90662737]\n"
     ]
    }
   ],
   "source": [
    "# Best model\n",
    "dt_reg = DecisionTreeRegressor(random_state=42, max_depth=11, min_samples_leaf=10)\n",
    "\n",
    "res_dict = cross_validate(dt_reg, X_scaled, y_true, scoring=[\"neg_mean_squared_error\", \"r2\"], cv=5, return_train_score=True)\n",
    "print(f\"mse={np.abs(np.mean(res_dict['train_neg_mean_squared_error'])):.2f}; r2={np.mean(res_dict['train_r2']):.2f}\")\n",
    "print(f\"mse={np.abs(np.mean(res_dict['test_neg_mean_squared_error'])):.2f}; r2={np.mean(res_dict['test_r2']):.2f}\")\n",
    "print(res_dict[\"train_neg_mean_squared_error\"])\n",
    "print(res_dict[\"test_neg_mean_squared_error\"])"
   ]
  },
  {
   "cell_type": "code",
   "execution_count": 113,
   "id": "546454d4",
   "metadata": {},
   "outputs": [],
   "source": [
    "loss_dict[\"train\"][\"dt_reg\"] = np.abs(res_dict[\"train_neg_mean_squared_error\"]).tolist()\n",
    "loss_dict[\"valid\"][\"dt_reg\"] = np.abs(res_dict[\"test_neg_mean_squared_error\"]).tolist()"
   ]
  },
  {
   "cell_type": "code",
   "execution_count": 114,
   "id": "790f48af",
   "metadata": {},
   "outputs": [
    {
     "data": {
      "text/plain": [
       "19541.920421616032"
      ]
     },
     "execution_count": 114,
     "metadata": {},
     "output_type": "execute_result"
    }
   ],
   "source": [
    "dt_reg.fit(X_scaled, y_true)\n",
    "\n",
    "y_pred = dt_reg.predict(X_scaled)\n",
    "mean_squared_error(y_true, y_pred)"
   ]
  },
  {
   "cell_type": "code",
   "execution_count": 106,
   "id": "cc5fa5ae",
   "metadata": {},
   "outputs": [
    {
     "data": {
      "text/plain": [
       "19541.920421616032"
      ]
     },
     "execution_count": 106,
     "metadata": {},
     "output_type": "execute_result"
    }
   ],
   "source": [
    "joblib.dump(dt_reg, \"models/decision_tree.joblib\")\n",
    "dt_reg = joblib.load(\"models/decision_tree.joblib\")\n",
    "y_pred = dt_reg.predict(X_scaled)\n",
    "mean_squared_error(y_true, y_pred)"
   ]
  },
  {
   "cell_type": "code",
   "execution_count": 111,
   "id": "d092bca8",
   "metadata": {
    "scrolled": false
   },
   "outputs": [
    {
     "data": {
      "text/plain": [
       "'res\\\\dtree_viz.svg'"
      ]
     },
     "execution_count": 111,
     "metadata": {},
     "output_type": "execute_result"
    }
   ],
   "source": [
    "dot_data = tree.export_graphviz(dt_reg, out_file=None, \n",
    "                                feature_names=feature_names, filled=True, label=\"all\", rounded=True, proportion=True, max_depth=7)\n",
    "graph = graphviz.Source(dot_data)\n",
    "graph.render(\"res/dtree_viz\", format=\"pdf\")\n",
    "graph.render(\"res/dtree_viz\", format=\"svg\")"
   ]
  },
  {
   "cell_type": "code",
   "execution_count": 122,
   "id": "0102899f",
   "metadata": {},
   "outputs": [
    {
     "data": {
      "text/plain": [
       "107"
      ]
     },
     "execution_count": 122,
     "metadata": {},
     "output_type": "execute_result"
    }
   ],
   "source": [
    "dt_reg.tree_.node_count"
   ]
  },
  {
   "cell_type": "markdown",
   "id": "2a90774c",
   "metadata": {},
   "source": [
    "#### Random Forest"
   ]
  },
  {
   "cell_type": "code",
   "execution_count": 29,
   "id": "23da034f",
   "metadata": {},
   "outputs": [
    {
     "name": "stdout",
     "output_type": "stream",
     "text": [
      "mse=3541.50; r2=0.97\n",
      "mse=23925.35; r2=0.80\n",
      "[-4416.43596345 -3244.25758175 -3469.10798682 -3699.48633714\n",
      " -2878.18979772]\n",
      "[-19982.22613333 -25490.84069036 -19637.39799391 -14170.58111675\n",
      " -40345.70337462]\n"
     ]
    }
   ],
   "source": [
    "# Baseline\n",
    "rf_reg = RandomForestRegressor(random_state=42)\n",
    "\n",
    "res_dict = cross_validate(rf_reg, X_scaled, y_true, scoring=[\"neg_mean_squared_error\", \"r2\"], cv=5, return_train_score=True)\n",
    "print(f\"mse={np.abs(np.mean(res_dict['train_neg_mean_squared_error'])):.2f}; r2={np.mean(res_dict['train_r2']):.2f}\")\n",
    "print(f\"mse={np.abs(np.mean(res_dict['test_neg_mean_squared_error'])):.2f}; r2={np.mean(res_dict['test_r2']):.2f}\")\n",
    "print(res_dict[\"train_neg_mean_squared_error\"])\n",
    "print(res_dict[\"test_neg_mean_squared_error\"])"
   ]
  },
  {
   "cell_type": "markdown",
   "id": "ffa28de2",
   "metadata": {},
   "source": [
    "To reduce overfitting of Random Forest\n",
    "- set max depth\n",
    "- set min number of samples required at leaf nodes"
   ]
  },
  {
   "cell_type": "code",
   "execution_count": 30,
   "id": "c83d8d14",
   "metadata": {
    "scrolled": true
   },
   "outputs": [
    {
     "name": "stdout",
     "output_type": "stream",
     "text": [
      "Fitting 5 folds for each of 100 candidates, totalling 500 fits\n",
      "[CV 1/5] END max_depth=11, min_samples_leaf=16;, score=-27961.962 total time=   0.0s\n",
      "[CV 2/5] END max_depth=11, min_samples_leaf=16;, score=-33917.845 total time=   0.0s\n",
      "[CV 3/5] END max_depth=11, min_samples_leaf=16;, score=-21395.549 total time=   0.0s\n",
      "[CV 4/5] END max_depth=11, min_samples_leaf=16;, score=-22669.481 total time=   0.0s\n",
      "[CV 5/5] END max_depth=11, min_samples_leaf=16;, score=-44861.986 total time=   0.0s\n",
      "[CV 1/5] END max_depth=12, min_samples_leaf=8;, score=-20955.760 total time=   0.0s\n",
      "[CV 2/5] END max_depth=12, min_samples_leaf=8;, score=-30633.155 total time=   0.0s\n",
      "[CV 3/5] END max_depth=12, min_samples_leaf=8;, score=-18095.927 total time=   0.0s\n",
      "[CV 4/5] END max_depth=12, min_samples_leaf=8;, score=-15759.632 total time=   0.0s\n",
      "[CV 5/5] END max_depth=12, min_samples_leaf=8;, score=-43456.719 total time=   0.0s\n",
      "[CV 1/5] END max_depth=14, min_samples_leaf=12;, score=-23449.227 total time=   0.0s\n",
      "[CV 2/5] END max_depth=14, min_samples_leaf=12;, score=-32664.647 total time=   0.0s\n",
      "[CV 3/5] END max_depth=14, min_samples_leaf=12;, score=-19851.468 total time=   0.0s\n",
      "[CV 4/5] END max_depth=14, min_samples_leaf=12;, score=-19194.563 total time=   0.0s\n",
      "[CV 5/5] END max_depth=14, min_samples_leaf=12;, score=-43424.022 total time=   0.0s\n",
      "[CV 1/5] END max_depth=12, min_samples_leaf=5;, score=-21141.598 total time=   0.0s\n",
      "[CV 2/5] END max_depth=12, min_samples_leaf=5;, score=-28145.366 total time=   0.0s\n",
      "[CV 3/5] END max_depth=12, min_samples_leaf=5;, score=-17065.579 total time=   0.0s\n",
      "[CV 4/5] END max_depth=12, min_samples_leaf=5;, score=-15288.414 total time=   0.0s\n",
      "[CV 5/5] END max_depth=12, min_samples_leaf=5;, score=-44927.300 total time=   0.0s\n",
      "[CV 1/5] END max_depth=12, min_samples_leaf=4;, score=-21092.889 total time=   0.0s\n",
      "[CV 2/5] END max_depth=12, min_samples_leaf=4;, score=-27185.537 total time=   0.0s\n",
      "[CV 3/5] END max_depth=12, min_samples_leaf=4;, score=-16887.952 total time=   0.0s\n",
      "[CV 4/5] END max_depth=12, min_samples_leaf=4;, score=-14436.952 total time=   0.0s\n",
      "[CV 5/5] END max_depth=12, min_samples_leaf=4;, score=-44543.278 total time=   0.0s\n",
      "[CV 1/5] END max_depth=10, min_samples_leaf=3;, score=-21037.877 total time=   0.0s\n",
      "[CV 2/5] END max_depth=10, min_samples_leaf=3;, score=-27610.965 total time=   0.0s\n",
      "[CV 3/5] END max_depth=10, min_samples_leaf=3;, score=-15912.275 total time=   0.0s\n",
      "[CV 4/5] END max_depth=10, min_samples_leaf=3;, score=-14650.183 total time=   0.0s\n",
      "[CV 5/5] END max_depth=10, min_samples_leaf=3;, score=-45117.009 total time=   0.0s\n",
      "[CV 1/5] END max_depth=12, min_samples_leaf=13;, score=-24568.520 total time=   0.0s\n",
      "[CV 2/5] END max_depth=12, min_samples_leaf=13;, score=-31961.370 total time=   0.0s\n",
      "[CV 3/5] END max_depth=12, min_samples_leaf=13;, score=-20213.285 total time=   0.0s\n",
      "[CV 4/5] END max_depth=12, min_samples_leaf=13;, score=-21168.893 total time=   0.0s\n",
      "[CV 5/5] END max_depth=12, min_samples_leaf=13;, score=-43458.265 total time=   0.0s\n",
      "[CV 1/5] END max_depth=10, min_samples_leaf=3;, score=-20768.889 total time=   0.0s\n",
      "[CV 2/5] END max_depth=10, min_samples_leaf=3;, score=-27610.648 total time=   0.0s\n",
      "[CV 3/5] END max_depth=10, min_samples_leaf=3;, score=-16320.455 total time=   0.0s\n",
      "[CV 4/5] END max_depth=10, min_samples_leaf=3;, score=-15206.411 total time=   0.0s\n",
      "[CV 5/5] END max_depth=10, min_samples_leaf=3;, score=-44467.502 total time=   0.0s\n",
      "[CV 1/5] END max_depth=9, min_samples_leaf=2;, score=-18342.989 total time=   0.0s\n",
      "[CV 2/5] END max_depth=9, min_samples_leaf=2;, score=-27834.832 total time=   0.0s\n",
      "[CV 3/5] END max_depth=9, min_samples_leaf=2;, score=-17203.669 total time=   0.0s\n",
      "[CV 4/5] END max_depth=9, min_samples_leaf=2;, score=-13754.165 total time=   0.0s\n",
      "[CV 5/5] END max_depth=9, min_samples_leaf=2;, score=-44350.723 total time=   0.0s\n",
      "[CV 1/5] END max_depth=14, min_samples_leaf=13;, score=-25563.672 total time=   0.0s\n",
      "[CV 2/5] END max_depth=14, min_samples_leaf=13;, score=-32167.024 total time=   0.0s\n",
      "[CV 3/5] END max_depth=14, min_samples_leaf=13;, score=-20597.508 total time=   0.0s\n",
      "[CV 4/5] END max_depth=14, min_samples_leaf=13;, score=-20565.296 total time=   0.0s\n",
      "[CV 5/5] END max_depth=14, min_samples_leaf=13;, score=-43932.135 total time=   0.0s\n",
      "[CV 1/5] END max_depth=13, min_samples_leaf=18;, score=-27479.414 total time=   0.0s\n",
      "[CV 2/5] END max_depth=13, min_samples_leaf=18;, score=-34486.867 total time=   0.0s\n",
      "[CV 3/5] END max_depth=13, min_samples_leaf=18;, score=-21618.320 total time=   0.0s\n",
      "[CV 4/5] END max_depth=13, min_samples_leaf=18;, score=-24175.476 total time=   0.0s\n",
      "[CV 5/5] END max_depth=13, min_samples_leaf=18;, score=-45388.227 total time=   0.0s\n",
      "[CV 1/5] END max_depth=14, min_samples_leaf=17;, score=-27655.903 total time=   0.0s\n",
      "[CV 2/5] END max_depth=14, min_samples_leaf=17;, score=-34094.475 total time=   0.0s\n",
      "[CV 3/5] END max_depth=14, min_samples_leaf=17;, score=-21955.343 total time=   0.0s\n",
      "[CV 4/5] END max_depth=14, min_samples_leaf=17;, score=-23253.211 total time=   0.0s\n",
      "[CV 5/5] END max_depth=14, min_samples_leaf=17;, score=-44824.736 total time=   0.0s\n",
      "[CV 1/5] END max_depth=7, min_samples_leaf=13;, score=-25303.587 total time=   0.0s\n",
      "[CV 2/5] END max_depth=7, min_samples_leaf=13;, score=-32658.295 total time=   0.0s\n",
      "[CV 3/5] END max_depth=7, min_samples_leaf=13;, score=-20189.510 total time=   0.0s\n",
      "[CV 4/5] END max_depth=7, min_samples_leaf=13;, score=-20358.173 total time=   0.0s\n",
      "[CV 5/5] END max_depth=7, min_samples_leaf=13;, score=-43506.763 total time=   0.0s\n",
      "[CV 1/5] END max_depth=11, min_samples_leaf=4;, score=-20663.085 total time=   0.0s\n",
      "[CV 2/5] END max_depth=11, min_samples_leaf=4;, score=-28206.558 total time=   0.0s\n",
      "[CV 3/5] END max_depth=11, min_samples_leaf=4;, score=-16397.291 total time=   0.0s\n",
      "[CV 4/5] END max_depth=11, min_samples_leaf=4;, score=-14521.189 total time=   0.0s\n",
      "[CV 5/5] END max_depth=11, min_samples_leaf=4;, score=-44878.524 total time=   0.0s\n",
      "[CV 1/5] END max_depth=9, min_samples_leaf=8;, score=-20529.978 total time=   0.0s\n",
      "[CV 2/5] END max_depth=9, min_samples_leaf=8;, score=-30559.671 total time=   0.0s\n",
      "[CV 3/5] END max_depth=9, min_samples_leaf=8;, score=-17919.330 total time=   0.0s\n",
      "[CV 4/5] END max_depth=9, min_samples_leaf=8;, score=-16275.740 total time=   0.0s\n",
      "[CV 5/5] END max_depth=9, min_samples_leaf=8;, score=-43883.022 total time=   0.0s\n",
      "[CV 1/5] END max_depth=9, min_samples_leaf=10;, score=-22713.511 total time=   0.0s\n",
      "[CV 2/5] END max_depth=9, min_samples_leaf=10;, score=-32138.418 total time=   0.0s\n",
      "[CV 3/5] END max_depth=9, min_samples_leaf=10;, score=-19496.010 total time=   0.0s\n",
      "[CV 4/5] END max_depth=9, min_samples_leaf=10;, score=-17422.057 total time=   0.0s\n",
      "[CV 5/5] END max_depth=9, min_samples_leaf=10;, score=-43421.937 total time=   0.0s\n",
      "[CV 1/5] END max_depth=11, min_samples_leaf=19;, score=-29681.387 total time=   0.0s\n",
      "[CV 2/5] END max_depth=11, min_samples_leaf=19;, score=-34640.740 total time=   0.0s\n",
      "[CV 3/5] END max_depth=11, min_samples_leaf=19;, score=-21984.644 total time=   0.0s\n",
      "[CV 4/5] END max_depth=11, min_samples_leaf=19;, score=-24569.402 total time=   0.0s\n",
      "[CV 5/5] END max_depth=11, min_samples_leaf=19;, score=-47049.394 total time=   0.0s\n",
      "[CV 1/5] END max_depth=8, min_samples_leaf=15;, score=-25789.481 total time=   0.0s\n",
      "[CV 2/5] END max_depth=8, min_samples_leaf=15;, score=-33472.621 total time=   0.0s\n",
      "[CV 3/5] END max_depth=8, min_samples_leaf=15;, score=-21121.842 total time=   0.0s\n",
      "[CV 4/5] END max_depth=8, min_samples_leaf=15;, score=-23174.253 total time=   0.0s\n",
      "[CV 5/5] END max_depth=8, min_samples_leaf=15;, score=-44205.051 total time=   0.0s\n",
      "[CV 1/5] END max_depth=6, min_samples_leaf=10;, score=-22793.010 total time=   0.0s\n",
      "[CV 2/5] END max_depth=6, min_samples_leaf=10;, score=-33271.791 total time=   0.0s\n",
      "[CV 3/5] END max_depth=6, min_samples_leaf=10;, score=-18839.678 total time=   0.0s\n",
      "[CV 4/5] END max_depth=6, min_samples_leaf=10;, score=-18322.066 total time=   0.0s\n",
      "[CV 5/5] END max_depth=6, min_samples_leaf=10;, score=-43944.244 total time=   0.0s\n",
      "[CV 1/5] END max_depth=14, min_samples_leaf=3;, score=-19961.805 total time=   0.0s\n",
      "[CV 2/5] END max_depth=14, min_samples_leaf=3;, score=-27248.905 total time=   0.0s\n"
     ]
    },
    {
     "name": "stdout",
     "output_type": "stream",
     "text": [
      "[CV 3/5] END max_depth=14, min_samples_leaf=3;, score=-15928.167 total time=   0.0s\n",
      "[CV 4/5] END max_depth=14, min_samples_leaf=3;, score=-14791.955 total time=   0.0s\n",
      "[CV 5/5] END max_depth=14, min_samples_leaf=3;, score=-44590.931 total time=   0.0s\n",
      "[CV 1/5] END max_depth=8, min_samples_leaf=16;, score=-26786.285 total time=   0.0s\n",
      "[CV 2/5] END max_depth=8, min_samples_leaf=16;, score=-33673.305 total time=   0.0s\n",
      "[CV 3/5] END max_depth=8, min_samples_leaf=16;, score=-21542.857 total time=   0.0s\n",
      "[CV 4/5] END max_depth=8, min_samples_leaf=16;, score=-22816.254 total time=   0.0s\n",
      "[CV 5/5] END max_depth=8, min_samples_leaf=16;, score=-44702.286 total time=   0.0s\n",
      "[CV 1/5] END max_depth=11, min_samples_leaf=13;, score=-26060.226 total time=   0.0s\n",
      "[CV 2/5] END max_depth=11, min_samples_leaf=13;, score=-32250.497 total time=   0.0s\n",
      "[CV 3/5] END max_depth=11, min_samples_leaf=13;, score=-20181.060 total time=   0.0s\n",
      "[CV 4/5] END max_depth=11, min_samples_leaf=13;, score=-20510.670 total time=   0.0s\n",
      "[CV 5/5] END max_depth=11, min_samples_leaf=13;, score=-43861.399 total time=   0.0s\n",
      "[CV 1/5] END max_depth=12, min_samples_leaf=16;, score=-26595.789 total time=   0.0s\n",
      "[CV 2/5] END max_depth=12, min_samples_leaf=16;, score=-33554.858 total time=   0.0s\n",
      "[CV 3/5] END max_depth=12, min_samples_leaf=16;, score=-21274.680 total time=   0.0s\n",
      "[CV 4/5] END max_depth=12, min_samples_leaf=16;, score=-22455.125 total time=   0.0s\n",
      "[CV 5/5] END max_depth=12, min_samples_leaf=16;, score=-44930.198 total time=   0.0s\n",
      "[CV 1/5] END max_depth=7, min_samples_leaf=15;, score=-26507.740 total time=   0.0s\n",
      "[CV 2/5] END max_depth=7, min_samples_leaf=15;, score=-33490.362 total time=   0.0s\n",
      "[CV 3/5] END max_depth=7, min_samples_leaf=15;, score=-21641.395 total time=   0.1s\n",
      "[CV 4/5] END max_depth=7, min_samples_leaf=15;, score=-22243.318 total time=   0.0s\n",
      "[CV 5/5] END max_depth=7, min_samples_leaf=15;, score=-44515.214 total time=   0.0s\n",
      "[CV 1/5] END max_depth=5, min_samples_leaf=5;, score=-23439.749 total time=   0.0s\n",
      "[CV 2/5] END max_depth=5, min_samples_leaf=5;, score=-33869.941 total time=   0.0s\n",
      "[CV 3/5] END max_depth=5, min_samples_leaf=5;, score=-20162.847 total time=   0.0s\n",
      "[CV 4/5] END max_depth=5, min_samples_leaf=5;, score=-21081.953 total time=   0.0s\n",
      "[CV 5/5] END max_depth=5, min_samples_leaf=5;, score=-46922.136 total time=   0.0s\n",
      "[CV 1/5] END max_depth=6, min_samples_leaf=9;, score=-22252.589 total time=   0.0s\n",
      "[CV 2/5] END max_depth=6, min_samples_leaf=9;, score=-32831.560 total time=   0.0s\n",
      "[CV 3/5] END max_depth=6, min_samples_leaf=9;, score=-19273.209 total time=   0.0s\n",
      "[CV 4/5] END max_depth=6, min_samples_leaf=9;, score=-17634.859 total time=   0.1s\n",
      "[CV 5/5] END max_depth=6, min_samples_leaf=9;, score=-44344.820 total time=   0.0s\n",
      "[CV 1/5] END max_depth=8, min_samples_leaf=3;, score=-20732.781 total time=   0.0s\n",
      "[CV 2/5] END max_depth=8, min_samples_leaf=3;, score=-28325.820 total time=   0.0s\n",
      "[CV 3/5] END max_depth=8, min_samples_leaf=3;, score=-16371.249 total time=   0.0s\n",
      "[CV 4/5] END max_depth=8, min_samples_leaf=3;, score=-15017.517 total time=   0.0s\n",
      "[CV 5/5] END max_depth=8, min_samples_leaf=3;, score=-44338.647 total time=   0.0s\n",
      "[CV 1/5] END max_depth=10, min_samples_leaf=11;, score=-23231.735 total time=   0.0s\n",
      "[CV 2/5] END max_depth=10, min_samples_leaf=11;, score=-31366.668 total time=   0.0s\n",
      "[CV 3/5] END max_depth=10, min_samples_leaf=11;, score=-19619.803 total time=   0.0s\n",
      "[CV 4/5] END max_depth=10, min_samples_leaf=11;, score=-18277.934 total time=   0.0s\n",
      "[CV 5/5] END max_depth=10, min_samples_leaf=11;, score=-43698.826 total time=   0.0s\n",
      "[CV 1/5] END max_depth=8, min_samples_leaf=19;, score=-28996.393 total time=   0.0s\n",
      "[CV 2/5] END max_depth=8, min_samples_leaf=19;, score=-35122.903 total time=   0.0s\n",
      "[CV 3/5] END max_depth=8, min_samples_leaf=19;, score=-21878.399 total time=   0.0s\n",
      "[CV 4/5] END max_depth=8, min_samples_leaf=19;, score=-24897.957 total time=   0.0s\n",
      "[CV 5/5] END max_depth=8, min_samples_leaf=19;, score=-49028.270 total time=   0.0s\n",
      "[CV 1/5] END max_depth=14, min_samples_leaf=13;, score=-24662.929 total time=   0.0s\n",
      "[CV 2/5] END max_depth=14, min_samples_leaf=13;, score=-32535.260 total time=   0.0s\n",
      "[CV 3/5] END max_depth=14, min_samples_leaf=13;, score=-20271.291 total time=   0.0s\n",
      "[CV 4/5] END max_depth=14, min_samples_leaf=13;, score=-20042.211 total time=   0.0s\n",
      "[CV 5/5] END max_depth=14, min_samples_leaf=13;, score=-43800.481 total time=   0.0s\n",
      "[CV 1/5] END max_depth=6, min_samples_leaf=11;, score=-23514.542 total time=   0.0s\n",
      "[CV 2/5] END max_depth=6, min_samples_leaf=11;, score=-32978.810 total time=   0.0s\n",
      "[CV 3/5] END max_depth=6, min_samples_leaf=11;, score=-19808.007 total time=   0.0s\n",
      "[CV 4/5] END max_depth=6, min_samples_leaf=11;, score=-18794.763 total time=   0.0s\n",
      "[CV 5/5] END max_depth=6, min_samples_leaf=11;, score=-43809.459 total time=   0.0s\n",
      "[CV 1/5] END max_depth=8, min_samples_leaf=15;, score=-27107.887 total time=   0.0s\n",
      "[CV 2/5] END max_depth=8, min_samples_leaf=15;, score=-33556.157 total time=   0.0s\n",
      "[CV 3/5] END max_depth=8, min_samples_leaf=15;, score=-21271.001 total time=   0.0s\n",
      "[CV 4/5] END max_depth=8, min_samples_leaf=15;, score=-22064.916 total time=   0.0s\n",
      "[CV 5/5] END max_depth=8, min_samples_leaf=15;, score=-44631.803 total time=   0.0s\n",
      "[CV 1/5] END max_depth=12, min_samples_leaf=15;, score=-26319.891 total time=   0.0s\n",
      "[CV 2/5] END max_depth=12, min_samples_leaf=15;, score=-32898.918 total time=   0.0s\n",
      "[CV 3/5] END max_depth=12, min_samples_leaf=15;, score=-21226.510 total time=   0.0s\n",
      "[CV 4/5] END max_depth=12, min_samples_leaf=15;, score=-22373.772 total time=   0.0s\n",
      "[CV 5/5] END max_depth=12, min_samples_leaf=15;, score=-44421.370 total time=   0.0s\n",
      "[CV 1/5] END max_depth=11, min_samples_leaf=9;, score=-21436.428 total time=   0.0s\n",
      "[CV 2/5] END max_depth=11, min_samples_leaf=9;, score=-31286.924 total time=   0.0s\n",
      "[CV 3/5] END max_depth=11, min_samples_leaf=9;, score=-18312.935 total time=   0.0s\n",
      "[CV 4/5] END max_depth=11, min_samples_leaf=9;, score=-17099.066 total time=   0.0s\n",
      "[CV 5/5] END max_depth=11, min_samples_leaf=9;, score=-43808.943 total time=   0.0s\n",
      "[CV 1/5] END max_depth=9, min_samples_leaf=17;, score=-26624.887 total time=   0.0s\n",
      "[CV 2/5] END max_depth=9, min_samples_leaf=17;, score=-34272.516 total time=   0.0s\n",
      "[CV 3/5] END max_depth=9, min_samples_leaf=17;, score=-21689.495 total time=   0.0s\n",
      "[CV 4/5] END max_depth=9, min_samples_leaf=17;, score=-23782.034 total time=   0.0s\n",
      "[CV 5/5] END max_depth=9, min_samples_leaf=17;, score=-44719.295 total time=   0.0s\n",
      "[CV 1/5] END max_depth=6, min_samples_leaf=16;, score=-26748.128 total time=   0.0s\n",
      "[CV 2/5] END max_depth=6, min_samples_leaf=16;, score=-34394.413 total time=   0.0s\n",
      "[CV 3/5] END max_depth=6, min_samples_leaf=16;, score=-21418.672 total time=   0.0s\n",
      "[CV 4/5] END max_depth=6, min_samples_leaf=16;, score=-23681.712 total time=   0.0s\n",
      "[CV 5/5] END max_depth=6, min_samples_leaf=16;, score=-45140.226 total time=   0.0s\n",
      "[CV 1/5] END max_depth=9, min_samples_leaf=14;, score=-26683.640 total time=   0.0s\n",
      "[CV 2/5] END max_depth=9, min_samples_leaf=14;, score=-32828.676 total time=   0.0s\n",
      "[CV 3/5] END max_depth=9, min_samples_leaf=14;, score=-20381.480 total time=   0.0s\n",
      "[CV 4/5] END max_depth=9, min_samples_leaf=14;, score=-21663.213 total time=   0.0s\n",
      "[CV 5/5] END max_depth=9, min_samples_leaf=14;, score=-43554.455 total time=   0.0s\n",
      "[CV 1/5] END max_depth=13, min_samples_leaf=16;, score=-27708.025 total time=   0.0s\n",
      "[CV 2/5] END max_depth=13, min_samples_leaf=16;, score=-34034.014 total time=   0.0s\n",
      "[CV 3/5] END max_depth=13, min_samples_leaf=16;, score=-21413.426 total time=   0.0s\n",
      "[CV 4/5] END max_depth=13, min_samples_leaf=16;, score=-22837.871 total time=   0.0s\n",
      "[CV 5/5] END max_depth=13, min_samples_leaf=16;, score=-44658.415 total time=   0.0s\n",
      "[CV 1/5] END max_depth=5, min_samples_leaf=8;, score=-23170.504 total time=   0.0s\n",
      "[CV 2/5] END max_depth=5, min_samples_leaf=8;, score=-35296.756 total time=   0.0s\n",
      "[CV 3/5] END max_depth=5, min_samples_leaf=8;, score=-20490.085 total time=   0.0s\n",
      "[CV 4/5] END max_depth=5, min_samples_leaf=8;, score=-21480.434 total time=   0.0s\n",
      "[CV 5/5] END max_depth=5, min_samples_leaf=8;, score=-45347.390 total time=   0.0s\n"
     ]
    },
    {
     "name": "stdout",
     "output_type": "stream",
     "text": [
      "[CV 1/5] END max_depth=13, min_samples_leaf=2;, score=-18399.197 total time=   0.1s\n",
      "[CV 2/5] END max_depth=13, min_samples_leaf=2;, score=-26815.479 total time=   0.0s\n",
      "[CV 3/5] END max_depth=13, min_samples_leaf=2;, score=-17473.587 total time=   0.0s\n",
      "[CV 4/5] END max_depth=13, min_samples_leaf=2;, score=-14607.093 total time=   0.0s\n",
      "[CV 5/5] END max_depth=13, min_samples_leaf=2;, score=-42739.210 total time=   0.0s\n",
      "[CV 1/5] END max_depth=12, min_samples_leaf=12;, score=-24360.574 total time=   0.0s\n",
      "[CV 2/5] END max_depth=12, min_samples_leaf=12;, score=-32166.375 total time=   0.0s\n",
      "[CV 3/5] END max_depth=12, min_samples_leaf=12;, score=-19866.950 total time=   0.0s\n",
      "[CV 4/5] END max_depth=12, min_samples_leaf=12;, score=-19257.208 total time=   0.0s\n",
      "[CV 5/5] END max_depth=12, min_samples_leaf=12;, score=-43949.764 total time=   0.0s\n",
      "[CV 1/5] END max_depth=7, min_samples_leaf=18;, score=-27573.783 total time=   0.0s\n",
      "[CV 2/5] END max_depth=7, min_samples_leaf=18;, score=-34921.378 total time=   0.0s\n",
      "[CV 3/5] END max_depth=7, min_samples_leaf=18;, score=-22390.545 total time=   0.0s\n",
      "[CV 4/5] END max_depth=7, min_samples_leaf=18;, score=-24646.428 total time=   0.0s\n",
      "[CV 5/5] END max_depth=7, min_samples_leaf=18;, score=-45550.728 total time=   0.0s\n",
      "[CV 1/5] END max_depth=12, min_samples_leaf=4;, score=-20801.971 total time=   0.0s\n",
      "[CV 2/5] END max_depth=12, min_samples_leaf=4;, score=-28313.621 total time=   0.0s\n",
      "[CV 3/5] END max_depth=12, min_samples_leaf=4;, score=-16730.748 total time=   0.0s\n",
      "[CV 4/5] END max_depth=12, min_samples_leaf=4;, score=-14993.291 total time=   0.0s\n",
      "[CV 5/5] END max_depth=12, min_samples_leaf=4;, score=-45415.179 total time=   0.0s\n",
      "[CV 1/5] END max_depth=7, min_samples_leaf=2;, score=-18608.818 total time=   0.0s\n",
      "[CV 2/5] END max_depth=7, min_samples_leaf=2;, score=-29365.583 total time=   0.0s\n",
      "[CV 3/5] END max_depth=7, min_samples_leaf=2;, score=-17229.664 total time=   0.0s\n",
      "[CV 4/5] END max_depth=7, min_samples_leaf=2;, score=-14195.575 total time=   0.0s\n",
      "[CV 5/5] END max_depth=7, min_samples_leaf=2;, score=-43324.441 total time=   0.0s\n",
      "[CV 1/5] END max_depth=9, min_samples_leaf=11;, score=-23897.295 total time=   0.0s\n",
      "[CV 2/5] END max_depth=9, min_samples_leaf=11;, score=-31727.944 total time=   0.0s\n",
      "[CV 3/5] END max_depth=9, min_samples_leaf=11;, score=-19266.937 total time=   0.0s\n",
      "[CV 4/5] END max_depth=9, min_samples_leaf=11;, score=-18297.349 total time=   0.0s\n",
      "[CV 5/5] END max_depth=9, min_samples_leaf=11;, score=-44124.540 total time=   0.0s\n",
      "[CV 1/5] END max_depth=11, min_samples_leaf=10;, score=-22647.336 total time=   0.0s\n",
      "[CV 2/5] END max_depth=11, min_samples_leaf=10;, score=-31528.575 total time=   0.0s\n",
      "[CV 3/5] END max_depth=11, min_samples_leaf=10;, score=-19101.812 total time=   0.0s\n",
      "[CV 4/5] END max_depth=11, min_samples_leaf=10;, score=-17278.762 total time=   0.0s\n",
      "[CV 5/5] END max_depth=11, min_samples_leaf=10;, score=-43819.239 total time=   0.0s\n",
      "[CV 1/5] END max_depth=11, min_samples_leaf=10;, score=-22637.738 total time=   0.0s\n",
      "[CV 2/5] END max_depth=11, min_samples_leaf=10;, score=-31454.554 total time=   0.0s\n",
      "[CV 3/5] END max_depth=11, min_samples_leaf=10;, score=-18813.527 total time=   0.0s\n",
      "[CV 4/5] END max_depth=11, min_samples_leaf=10;, score=-17366.266 total time=   0.0s\n",
      "[CV 5/5] END max_depth=11, min_samples_leaf=10;, score=-43908.168 total time=   0.0s\n",
      "[CV 1/5] END max_depth=12, min_samples_leaf=13;, score=-24116.657 total time=   0.0s\n",
      "[CV 2/5] END max_depth=12, min_samples_leaf=13;, score=-32716.600 total time=   0.0s\n",
      "[CV 3/5] END max_depth=12, min_samples_leaf=13;, score=-20075.849 total time=   0.0s\n",
      "[CV 4/5] END max_depth=12, min_samples_leaf=13;, score=-20768.430 total time=   0.0s\n",
      "[CV 5/5] END max_depth=12, min_samples_leaf=13;, score=-43798.971 total time=   0.0s\n",
      "[CV 1/5] END max_depth=6, min_samples_leaf=2;, score=-19737.750 total time=   0.0s\n",
      "[CV 2/5] END max_depth=6, min_samples_leaf=2;, score=-29939.741 total time=   0.0s\n",
      "[CV 3/5] END max_depth=6, min_samples_leaf=2;, score=-18477.435 total time=   0.0s\n",
      "[CV 4/5] END max_depth=6, min_samples_leaf=2;, score=-15443.780 total time=   0.0s\n",
      "[CV 5/5] END max_depth=6, min_samples_leaf=2;, score=-43397.385 total time=   0.0s\n",
      "[CV 1/5] END max_depth=11, min_samples_leaf=6;, score=-20137.022 total time=   0.0s\n",
      "[CV 2/5] END max_depth=11, min_samples_leaf=6;, score=-29597.866 total time=   0.0s\n",
      "[CV 3/5] END max_depth=11, min_samples_leaf=6;, score=-17431.602 total time=   0.0s\n",
      "[CV 4/5] END max_depth=11, min_samples_leaf=6;, score=-15527.444 total time=   0.0s\n",
      "[CV 5/5] END max_depth=11, min_samples_leaf=6;, score=-44206.323 total time=   0.0s\n",
      "[CV 1/5] END max_depth=7, min_samples_leaf=13;, score=-24985.026 total time=   0.0s\n",
      "[CV 2/5] END max_depth=7, min_samples_leaf=13;, score=-32931.013 total time=   0.0s\n",
      "[CV 3/5] END max_depth=7, min_samples_leaf=13;, score=-20383.176 total time=   0.0s\n",
      "[CV 4/5] END max_depth=7, min_samples_leaf=13;, score=-20841.491 total time=   0.0s\n",
      "[CV 5/5] END max_depth=7, min_samples_leaf=13;, score=-44570.160 total time=   0.0s\n",
      "[CV 1/5] END max_depth=12, min_samples_leaf=4;, score=-20331.005 total time=   0.0s\n",
      "[CV 2/5] END max_depth=12, min_samples_leaf=4;, score=-28953.268 total time=   0.0s\n",
      "[CV 3/5] END max_depth=12, min_samples_leaf=4;, score=-16621.570 total time=   0.0s\n",
      "[CV 4/5] END max_depth=12, min_samples_leaf=4;, score=-15006.580 total time=   0.0s\n",
      "[CV 5/5] END max_depth=12, min_samples_leaf=4;, score=-44733.105 total time=   0.0s\n",
      "[CV 1/5] END max_depth=5, min_samples_leaf=4;, score=-22791.029 total time=   0.0s\n",
      "[CV 2/5] END max_depth=5, min_samples_leaf=4;, score=-33166.132 total time=   0.0s\n",
      "[CV 3/5] END max_depth=5, min_samples_leaf=4;, score=-19997.537 total time=   0.0s\n",
      "[CV 4/5] END max_depth=5, min_samples_leaf=4;, score=-20874.518 total time=   0.0s\n",
      "[CV 5/5] END max_depth=5, min_samples_leaf=4;, score=-46977.684 total time=   0.0s\n",
      "[CV 1/5] END max_depth=9, min_samples_leaf=16;, score=-27226.802 total time=   0.0s\n",
      "[CV 2/5] END max_depth=9, min_samples_leaf=16;, score=-34019.833 total time=   0.0s\n",
      "[CV 3/5] END max_depth=9, min_samples_leaf=16;, score=-21313.028 total time=   0.0s\n",
      "[CV 4/5] END max_depth=9, min_samples_leaf=16;, score=-22934.270 total time=   0.0s\n",
      "[CV 5/5] END max_depth=9, min_samples_leaf=16;, score=-44879.137 total time=   0.0s\n",
      "[CV 1/5] END max_depth=7, min_samples_leaf=2;, score=-18592.729 total time=   0.0s\n",
      "[CV 2/5] END max_depth=7, min_samples_leaf=2;, score=-28981.607 total time=   0.0s\n",
      "[CV 3/5] END max_depth=7, min_samples_leaf=2;, score=-17650.307 total time=   0.0s\n",
      "[CV 4/5] END max_depth=7, min_samples_leaf=2;, score=-13428.760 total time=   0.0s\n",
      "[CV 5/5] END max_depth=7, min_samples_leaf=2;, score=-43268.654 total time=   0.0s\n",
      "[CV 1/5] END max_depth=9, min_samples_leaf=15;, score=-25934.945 total time=   0.0s\n",
      "[CV 2/5] END max_depth=9, min_samples_leaf=15;, score=-33768.670 total time=   0.0s\n",
      "[CV 3/5] END max_depth=9, min_samples_leaf=15;, score=-21245.095 total time=   0.0s\n",
      "[CV 4/5] END max_depth=9, min_samples_leaf=15;, score=-22228.095 total time=   0.0s\n",
      "[CV 5/5] END max_depth=9, min_samples_leaf=15;, score=-44480.603 total time=   0.0s\n",
      "[CV 1/5] END max_depth=11, min_samples_leaf=10;, score=-21827.420 total time=   0.0s\n",
      "[CV 2/5] END max_depth=11, min_samples_leaf=10;, score=-31870.206 total time=   0.0s\n",
      "[CV 3/5] END max_depth=11, min_samples_leaf=10;, score=-18912.200 total time=   0.0s\n",
      "[CV 4/5] END max_depth=11, min_samples_leaf=10;, score=-17094.759 total time=   0.0s\n",
      "[CV 5/5] END max_depth=11, min_samples_leaf=10;, score=-44127.385 total time=   0.1s\n",
      "[CV 1/5] END max_depth=14, min_samples_leaf=11;, score=-23862.598 total time=   0.1s\n",
      "[CV 2/5] END max_depth=14, min_samples_leaf=11;, score=-32065.486 total time=   0.0s\n",
      "[CV 3/5] END max_depth=14, min_samples_leaf=11;, score=-19080.463 total time=   0.0s\n",
      "[CV 4/5] END max_depth=14, min_samples_leaf=11;, score=-17922.037 total time=   0.1s\n",
      "[CV 5/5] END max_depth=14, min_samples_leaf=11;, score=-44044.168 total time=   0.1s\n",
      "[CV 1/5] END max_depth=7, min_samples_leaf=8;, score=-20434.741 total time=   0.1s\n",
      "[CV 2/5] END max_depth=7, min_samples_leaf=8;, score=-31457.426 total time=   0.0s\n",
      "[CV 3/5] END max_depth=7, min_samples_leaf=8;, score=-18356.805 total time=   0.0s\n"
     ]
    },
    {
     "name": "stdout",
     "output_type": "stream",
     "text": [
      "[CV 4/5] END max_depth=7, min_samples_leaf=8;, score=-16255.737 total time=   0.1s\n",
      "[CV 5/5] END max_depth=7, min_samples_leaf=8;, score=-43949.885 total time=   0.1s\n",
      "[CV 1/5] END max_depth=5, min_samples_leaf=5;, score=-23155.074 total time=   0.1s\n",
      "[CV 2/5] END max_depth=5, min_samples_leaf=5;, score=-34349.640 total time=   0.0s\n",
      "[CV 3/5] END max_depth=5, min_samples_leaf=5;, score=-19810.060 total time=   0.0s\n",
      "[CV 4/5] END max_depth=5, min_samples_leaf=5;, score=-21520.447 total time=   0.0s\n",
      "[CV 5/5] END max_depth=5, min_samples_leaf=5;, score=-46917.475 total time=   0.0s\n",
      "[CV 1/5] END max_depth=9, min_samples_leaf=8;, score=-20604.601 total time=   0.1s\n",
      "[CV 2/5] END max_depth=9, min_samples_leaf=8;, score=-30279.465 total time=   0.0s\n",
      "[CV 3/5] END max_depth=9, min_samples_leaf=8;, score=-18336.255 total time=   0.0s\n",
      "[CV 4/5] END max_depth=9, min_samples_leaf=8;, score=-15975.005 total time=   0.0s\n",
      "[CV 5/5] END max_depth=9, min_samples_leaf=8;, score=-43517.515 total time=   0.0s\n",
      "[CV 1/5] END max_depth=8, min_samples_leaf=14;, score=-24629.951 total time=   0.1s\n",
      "[CV 2/5] END max_depth=8, min_samples_leaf=14;, score=-32792.440 total time=   0.0s\n",
      "[CV 3/5] END max_depth=8, min_samples_leaf=14;, score=-20891.929 total time=   0.0s\n",
      "[CV 4/5] END max_depth=8, min_samples_leaf=14;, score=-21017.505 total time=   0.1s\n",
      "[CV 5/5] END max_depth=8, min_samples_leaf=14;, score=-44600.597 total time=   0.1s\n",
      "[CV 1/5] END max_depth=11, min_samples_leaf=3;, score=-20563.752 total time=   0.1s\n",
      "[CV 2/5] END max_depth=11, min_samples_leaf=3;, score=-28005.450 total time=   0.0s\n",
      "[CV 3/5] END max_depth=11, min_samples_leaf=3;, score=-16498.993 total time=   0.1s\n",
      "[CV 4/5] END max_depth=11, min_samples_leaf=3;, score=-15026.437 total time=   0.1s\n",
      "[CV 5/5] END max_depth=11, min_samples_leaf=3;, score=-44422.127 total time=   0.1s\n",
      "[CV 1/5] END max_depth=14, min_samples_leaf=14;, score=-25820.503 total time=   0.1s\n",
      "[CV 2/5] END max_depth=14, min_samples_leaf=14;, score=-33004.743 total time=   0.1s\n",
      "[CV 3/5] END max_depth=14, min_samples_leaf=14;, score=-21411.298 total time=   0.0s\n",
      "[CV 4/5] END max_depth=14, min_samples_leaf=14;, score=-21895.561 total time=   0.0s\n",
      "[CV 5/5] END max_depth=14, min_samples_leaf=14;, score=-44083.653 total time=   0.0s\n",
      "[CV 1/5] END max_depth=13, min_samples_leaf=7;, score=-19999.924 total time=   0.0s\n",
      "[CV 2/5] END max_depth=13, min_samples_leaf=7;, score=-30036.575 total time=   0.0s\n",
      "[CV 3/5] END max_depth=13, min_samples_leaf=7;, score=-17613.480 total time=   0.0s\n",
      "[CV 4/5] END max_depth=13, min_samples_leaf=7;, score=-15361.112 total time=   0.1s\n",
      "[CV 5/5] END max_depth=13, min_samples_leaf=7;, score=-43893.711 total time=   0.1s\n",
      "[CV 1/5] END max_depth=8, min_samples_leaf=12;, score=-25101.641 total time=   0.1s\n",
      "[CV 2/5] END max_depth=8, min_samples_leaf=12;, score=-32705.359 total time=   0.0s\n",
      "[CV 3/5] END max_depth=8, min_samples_leaf=12;, score=-19782.770 total time=   0.1s\n",
      "[CV 4/5] END max_depth=8, min_samples_leaf=12;, score=-18835.533 total time=   0.1s\n",
      "[CV 5/5] END max_depth=8, min_samples_leaf=12;, score=-43225.490 total time=   0.0s\n",
      "[CV 1/5] END max_depth=14, min_samples_leaf=8;, score=-20633.524 total time=   0.0s\n",
      "[CV 2/5] END max_depth=14, min_samples_leaf=8;, score=-30906.545 total time=   0.0s\n",
      "[CV 3/5] END max_depth=14, min_samples_leaf=8;, score=-18231.946 total time=   0.0s\n",
      "[CV 4/5] END max_depth=14, min_samples_leaf=8;, score=-16251.580 total time=   0.1s\n",
      "[CV 5/5] END max_depth=14, min_samples_leaf=8;, score=-43836.045 total time=   0.1s\n",
      "[CV 1/5] END max_depth=5, min_samples_leaf=2;, score=-21180.975 total time=   0.0s\n",
      "[CV 2/5] END max_depth=5, min_samples_leaf=2;, score=-33428.451 total time=   0.1s\n",
      "[CV 3/5] END max_depth=5, min_samples_leaf=2;, score=-19631.876 total time=   0.1s\n",
      "[CV 4/5] END max_depth=5, min_samples_leaf=2;, score=-19542.286 total time=   0.1s\n",
      "[CV 5/5] END max_depth=5, min_samples_leaf=2;, score=-46302.141 total time=   0.1s\n",
      "[CV 1/5] END max_depth=13, min_samples_leaf=14;, score=-25871.685 total time=   0.0s\n",
      "[CV 2/5] END max_depth=13, min_samples_leaf=14;, score=-33087.455 total time=   0.0s\n",
      "[CV 3/5] END max_depth=13, min_samples_leaf=14;, score=-20744.164 total time=   0.0s\n",
      "[CV 4/5] END max_depth=13, min_samples_leaf=14;, score=-21415.652 total time=   0.0s\n",
      "[CV 5/5] END max_depth=13, min_samples_leaf=14;, score=-44088.323 total time=   0.1s\n",
      "[CV 1/5] END max_depth=13, min_samples_leaf=4;, score=-20419.105 total time=   0.1s\n",
      "[CV 2/5] END max_depth=13, min_samples_leaf=4;, score=-28087.791 total time=   0.1s\n",
      "[CV 3/5] END max_depth=13, min_samples_leaf=4;, score=-16268.798 total time=   0.1s\n",
      "[CV 4/5] END max_depth=13, min_samples_leaf=4;, score=-14859.146 total time=   0.1s\n",
      "[CV 5/5] END max_depth=13, min_samples_leaf=4;, score=-44634.526 total time=   0.1s\n",
      "[CV 1/5] END max_depth=11, min_samples_leaf=7;, score=-20430.687 total time=   0.0s\n",
      "[CV 2/5] END max_depth=11, min_samples_leaf=7;, score=-30289.826 total time=   0.1s\n",
      "[CV 3/5] END max_depth=11, min_samples_leaf=7;, score=-17580.362 total time=   0.1s\n",
      "[CV 4/5] END max_depth=11, min_samples_leaf=7;, score=-15844.167 total time=   0.0s\n",
      "[CV 5/5] END max_depth=11, min_samples_leaf=7;, score=-43539.337 total time=   0.1s\n",
      "[CV 1/5] END max_depth=12, min_samples_leaf=10;, score=-22185.229 total time=   0.1s\n",
      "[CV 2/5] END max_depth=12, min_samples_leaf=10;, score=-31517.035 total time=   0.0s\n",
      "[CV 3/5] END max_depth=12, min_samples_leaf=10;, score=-19117.635 total time=   0.1s\n",
      "[CV 4/5] END max_depth=12, min_samples_leaf=10;, score=-17784.476 total time=   0.0s\n",
      "[CV 5/5] END max_depth=12, min_samples_leaf=10;, score=-43708.436 total time=   0.1s\n",
      "[CV 1/5] END max_depth=9, min_samples_leaf=2;, score=-19183.081 total time=   0.1s\n",
      "[CV 2/5] END max_depth=9, min_samples_leaf=2;, score=-27696.342 total time=   0.1s\n",
      "[CV 3/5] END max_depth=9, min_samples_leaf=2;, score=-17586.724 total time=   0.1s\n",
      "[CV 4/5] END max_depth=9, min_samples_leaf=2;, score=-13373.429 total time=   0.1s\n",
      "[CV 5/5] END max_depth=9, min_samples_leaf=2;, score=-42624.283 total time=   0.1s\n",
      "[CV 1/5] END max_depth=7, min_samples_leaf=11;, score=-22733.427 total time=   0.0s\n",
      "[CV 2/5] END max_depth=7, min_samples_leaf=11;, score=-32456.912 total time=   0.0s\n",
      "[CV 3/5] END max_depth=7, min_samples_leaf=11;, score=-19367.593 total time=   0.1s\n",
      "[CV 4/5] END max_depth=7, min_samples_leaf=11;, score=-18375.363 total time=   0.1s\n",
      "[CV 5/5] END max_depth=7, min_samples_leaf=11;, score=-43842.477 total time=   0.1s\n",
      "[CV 1/5] END max_depth=12, min_samples_leaf=16;, score=-26948.718 total time=   0.0s\n",
      "[CV 2/5] END max_depth=12, min_samples_leaf=16;, score=-33685.882 total time=   0.0s\n",
      "[CV 3/5] END max_depth=12, min_samples_leaf=16;, score=-21480.328 total time=   0.1s\n",
      "[CV 4/5] END max_depth=12, min_samples_leaf=16;, score=-23234.231 total time=   0.0s\n",
      "[CV 5/5] END max_depth=12, min_samples_leaf=16;, score=-44782.534 total time=   0.0s\n",
      "[CV 1/5] END max_depth=10, min_samples_leaf=10;, score=-22048.885 total time=   0.0s\n",
      "[CV 2/5] END max_depth=10, min_samples_leaf=10;, score=-31408.336 total time=   0.1s\n",
      "[CV 3/5] END max_depth=10, min_samples_leaf=10;, score=-19376.628 total time=   0.1s\n",
      "[CV 4/5] END max_depth=10, min_samples_leaf=10;, score=-16770.730 total time=   0.1s\n",
      "[CV 5/5] END max_depth=10, min_samples_leaf=10;, score=-43465.407 total time=   0.0s\n",
      "[CV 1/5] END max_depth=8, min_samples_leaf=18;, score=-27441.128 total time=   0.1s\n",
      "[CV 2/5] END max_depth=8, min_samples_leaf=18;, score=-34861.292 total time=   0.1s\n",
      "[CV 3/5] END max_depth=8, min_samples_leaf=18;, score=-21804.341 total time=   0.1s\n",
      "[CV 4/5] END max_depth=8, min_samples_leaf=18;, score=-24425.229 total time=   0.0s\n",
      "[CV 5/5] END max_depth=8, min_samples_leaf=18;, score=-45605.448 total time=   0.0s\n",
      "[CV 1/5] END max_depth=5, min_samples_leaf=13;, score=-28096.336 total time=   0.0s\n",
      "[CV 2/5] END max_depth=5, min_samples_leaf=13;, score=-34550.863 total time=   0.0s\n",
      "[CV 3/5] END max_depth=5, min_samples_leaf=13;, score=-21657.321 total time=   0.0s\n",
      "[CV 4/5] END max_depth=5, min_samples_leaf=13;, score=-23680.405 total time=   0.1s\n",
      "[CV 5/5] END max_depth=5, min_samples_leaf=13;, score=-45540.060 total time=   0.0s\n",
      "[CV 1/5] END max_depth=11, min_samples_leaf=3;, score=-21405.556 total time=   0.1s\n",
      "[CV 2/5] END max_depth=11, min_samples_leaf=3;, score=-26146.700 total time=   0.0s\n"
     ]
    },
    {
     "name": "stdout",
     "output_type": "stream",
     "text": [
      "[CV 3/5] END max_depth=11, min_samples_leaf=3;, score=-16420.101 total time=   0.1s\n",
      "[CV 4/5] END max_depth=11, min_samples_leaf=3;, score=-14991.800 total time=   0.1s\n",
      "[CV 5/5] END max_depth=11, min_samples_leaf=3;, score=-44713.179 total time=   0.1s\n",
      "[CV 1/5] END max_depth=7, min_samples_leaf=18;, score=-27791.377 total time=   0.0s\n",
      "[CV 2/5] END max_depth=7, min_samples_leaf=18;, score=-35117.354 total time=   0.0s\n",
      "[CV 3/5] END max_depth=7, min_samples_leaf=18;, score=-21963.960 total time=   0.0s\n",
      "[CV 4/5] END max_depth=7, min_samples_leaf=18;, score=-23947.359 total time=   0.1s\n",
      "[CV 5/5] END max_depth=7, min_samples_leaf=18;, score=-47911.400 total time=   0.1s\n",
      "[CV 1/5] END max_depth=9, min_samples_leaf=18;, score=-28330.416 total time=   0.1s\n",
      "[CV 2/5] END max_depth=9, min_samples_leaf=18;, score=-34953.302 total time=   0.1s\n",
      "[CV 3/5] END max_depth=9, min_samples_leaf=18;, score=-21236.566 total time=   0.1s\n",
      "[CV 4/5] END max_depth=9, min_samples_leaf=18;, score=-24678.116 total time=   0.1s\n",
      "[CV 5/5] END max_depth=9, min_samples_leaf=18;, score=-45525.872 total time=   0.1s\n",
      "[CV 1/5] END max_depth=12, min_samples_leaf=18;, score=-28339.192 total time=   0.0s\n",
      "[CV 2/5] END max_depth=12, min_samples_leaf=18;, score=-33929.022 total time=   0.0s\n",
      "[CV 3/5] END max_depth=12, min_samples_leaf=18;, score=-21608.034 total time=   0.0s\n",
      "[CV 4/5] END max_depth=12, min_samples_leaf=18;, score=-23720.111 total time=   0.0s\n",
      "[CV 5/5] END max_depth=12, min_samples_leaf=18;, score=-45777.509 total time=   0.0s\n",
      "[CV 1/5] END max_depth=5, min_samples_leaf=3;, score=-23654.908 total time=   0.0s\n",
      "[CV 2/5] END max_depth=5, min_samples_leaf=3;, score=-33149.786 total time=   0.1s\n",
      "[CV 3/5] END max_depth=5, min_samples_leaf=3;, score=-19623.653 total time=   0.0s\n",
      "[CV 4/5] END max_depth=5, min_samples_leaf=3;, score=-20339.341 total time=   0.0s\n",
      "[CV 5/5] END max_depth=5, min_samples_leaf=3;, score=-48441.291 total time=   0.1s\n",
      "[CV 1/5] END max_depth=6, min_samples_leaf=6;, score=-20391.386 total time=   0.1s\n",
      "[CV 2/5] END max_depth=6, min_samples_leaf=6;, score=-31553.759 total time=   0.0s\n",
      "[CV 3/5] END max_depth=6, min_samples_leaf=6;, score=-18674.396 total time=   0.0s\n",
      "[CV 4/5] END max_depth=6, min_samples_leaf=6;, score=-17513.139 total time=   0.0s\n",
      "[CV 5/5] END max_depth=6, min_samples_leaf=6;, score=-44495.813 total time=   0.0s\n",
      "[CV 1/5] END max_depth=5, min_samples_leaf=2;, score=-21735.717 total time=   0.0s\n",
      "[CV 2/5] END max_depth=5, min_samples_leaf=2;, score=-33456.328 total time=   0.0s\n",
      "[CV 3/5] END max_depth=5, min_samples_leaf=2;, score=-20060.918 total time=   0.0s\n",
      "[CV 4/5] END max_depth=5, min_samples_leaf=2;, score=-19049.193 total time=   0.1s\n",
      "[CV 5/5] END max_depth=5, min_samples_leaf=2;, score=-46627.237 total time=   0.0s\n",
      "[CV 1/5] END max_depth=7, min_samples_leaf=3;, score=-20837.219 total time=   0.1s\n",
      "[CV 2/5] END max_depth=7, min_samples_leaf=3;, score=-28693.891 total time=   0.0s\n",
      "[CV 3/5] END max_depth=7, min_samples_leaf=3;, score=-16337.424 total time=   0.1s\n",
      "[CV 4/5] END max_depth=7, min_samples_leaf=3;, score=-15139.480 total time=   0.1s\n",
      "[CV 5/5] END max_depth=7, min_samples_leaf=3;, score=-45759.183 total time=   0.1s\n",
      "[CV 1/5] END max_depth=9, min_samples_leaf=13;, score=-25363.975 total time=   0.0s\n",
      "[CV 2/5] END max_depth=9, min_samples_leaf=13;, score=-32320.959 total time=   0.0s\n",
      "[CV 3/5] END max_depth=9, min_samples_leaf=13;, score=-20724.348 total time=   0.0s\n",
      "[CV 4/5] END max_depth=9, min_samples_leaf=13;, score=-20280.786 total time=   0.1s\n",
      "[CV 5/5] END max_depth=9, min_samples_leaf=13;, score=-44533.527 total time=   0.0s\n",
      "[CV 1/5] END max_depth=14, min_samples_leaf=7;, score=-20061.589 total time=   0.0s\n",
      "[CV 2/5] END max_depth=14, min_samples_leaf=7;, score=-30220.722 total time=   0.1s\n",
      "[CV 3/5] END max_depth=14, min_samples_leaf=7;, score=-17803.784 total time=   0.1s\n",
      "[CV 4/5] END max_depth=14, min_samples_leaf=7;, score=-15660.852 total time=   0.1s\n",
      "[CV 5/5] END max_depth=14, min_samples_leaf=7;, score=-43407.894 total time=   0.1s\n",
      "[CV 1/5] END max_depth=11, min_samples_leaf=5;, score=-20552.617 total time=   0.1s\n",
      "[CV 2/5] END max_depth=11, min_samples_leaf=5;, score=-28296.689 total time=   0.1s\n",
      "[CV 3/5] END max_depth=11, min_samples_leaf=5;, score=-16982.671 total time=   0.1s\n",
      "[CV 4/5] END max_depth=11, min_samples_leaf=5;, score=-14727.393 total time=   0.1s\n",
      "[CV 5/5] END max_depth=11, min_samples_leaf=5;, score=-44258.219 total time=   0.1s\n",
      "[CV 1/5] END max_depth=11, min_samples_leaf=12;, score=-24611.311 total time=   0.0s\n",
      "[CV 2/5] END max_depth=11, min_samples_leaf=12;, score=-31758.307 total time=   0.1s\n",
      "[CV 3/5] END max_depth=11, min_samples_leaf=12;, score=-20137.755 total time=   0.1s\n",
      "[CV 4/5] END max_depth=11, min_samples_leaf=12;, score=-19554.064 total time=   0.0s\n",
      "[CV 5/5] END max_depth=11, min_samples_leaf=12;, score=-43944.659 total time=   0.0s\n",
      "[CV 1/5] END max_depth=12, min_samples_leaf=18;, score=-28670.451 total time=   0.0s\n",
      "[CV 2/5] END max_depth=12, min_samples_leaf=18;, score=-34285.428 total time=   0.0s\n",
      "[CV 3/5] END max_depth=12, min_samples_leaf=18;, score=-21743.052 total time=   0.0s\n",
      "[CV 4/5] END max_depth=12, min_samples_leaf=18;, score=-24302.698 total time=   0.1s\n",
      "[CV 5/5] END max_depth=12, min_samples_leaf=18;, score=-45603.469 total time=   0.1s\n",
      "[CV 1/5] END max_depth=10, min_samples_leaf=6;, score=-19927.744 total time=   0.1s\n",
      "[CV 2/5] END max_depth=10, min_samples_leaf=6;, score=-29411.756 total time=   0.0s\n",
      "[CV 3/5] END max_depth=10, min_samples_leaf=6;, score=-17232.784 total time=   0.1s\n",
      "[CV 4/5] END max_depth=10, min_samples_leaf=6;, score=-15233.610 total time=   0.1s\n",
      "[CV 5/5] END max_depth=10, min_samples_leaf=6;, score=-43666.850 total time=   0.1s\n",
      "[CV 1/5] END max_depth=8, min_samples_leaf=3;, score=-19675.635 total time=   0.0s\n",
      "[CV 2/5] END max_depth=8, min_samples_leaf=3;, score=-27839.269 total time=   0.1s\n",
      "[CV 3/5] END max_depth=8, min_samples_leaf=3;, score=-16476.426 total time=   0.1s\n",
      "[CV 4/5] END max_depth=8, min_samples_leaf=3;, score=-14642.786 total time=   0.1s\n",
      "[CV 5/5] END max_depth=8, min_samples_leaf=3;, score=-45086.938 total time=   0.1s\n",
      "[CV 1/5] END max_depth=10, min_samples_leaf=12;, score=-24363.704 total time=   0.0s\n",
      "[CV 2/5] END max_depth=10, min_samples_leaf=12;, score=-32161.386 total time=   0.0s\n",
      "[CV 3/5] END max_depth=10, min_samples_leaf=12;, score=-19691.164 total time=   0.0s\n",
      "[CV 4/5] END max_depth=10, min_samples_leaf=12;, score=-19278.910 total time=   0.1s\n",
      "[CV 5/5] END max_depth=10, min_samples_leaf=12;, score=-43766.352 total time=   0.1s\n",
      "[CV 1/5] END max_depth=5, min_samples_leaf=10;, score=-24644.185 total time=   0.0s\n",
      "[CV 2/5] END max_depth=5, min_samples_leaf=10;, score=-34961.858 total time=   0.0s\n",
      "[CV 3/5] END max_depth=5, min_samples_leaf=10;, score=-21086.739 total time=   0.0s\n",
      "[CV 4/5] END max_depth=5, min_samples_leaf=10;, score=-21627.662 total time=   0.1s\n",
      "[CV 5/5] END max_depth=5, min_samples_leaf=10;, score=-45032.453 total time=   0.0s\n",
      "[CV 1/5] END max_depth=10, min_samples_leaf=17;, score=-27926.021 total time=   0.1s\n",
      "[CV 2/5] END max_depth=10, min_samples_leaf=17;, score=-34332.957 total time=   0.1s\n",
      "[CV 3/5] END max_depth=10, min_samples_leaf=17;, score=-21775.544 total time=   0.1s\n",
      "[CV 4/5] END max_depth=10, min_samples_leaf=17;, score=-23539.080 total time=   0.0s\n",
      "[CV 5/5] END max_depth=10, min_samples_leaf=17;, score=-45096.743 total time=   0.0s\n",
      "[CV 1/5] END max_depth=7, min_samples_leaf=5;, score=-21184.664 total time=   0.0s\n",
      "[CV 2/5] END max_depth=7, min_samples_leaf=5;, score=-29380.476 total time=   0.1s\n",
      "[CV 3/5] END max_depth=7, min_samples_leaf=5;, score=-17048.435 total time=   0.1s\n",
      "[CV 4/5] END max_depth=7, min_samples_leaf=5;, score=-15462.543 total time=   0.1s\n",
      "[CV 5/5] END max_depth=7, min_samples_leaf=5;, score=-44936.517 total time=   0.1s\n",
      "[CV 1/5] END max_depth=7, min_samples_leaf=4;, score=-21068.175 total time=   0.0s\n",
      "[CV 2/5] END max_depth=7, min_samples_leaf=4;, score=-28561.973 total time=   0.1s\n",
      "[CV 3/5] END max_depth=7, min_samples_leaf=4;, score=-16878.436 total time=   0.0s\n",
      "[CV 4/5] END max_depth=7, min_samples_leaf=4;, score=-15311.874 total time=   0.0s\n",
      "[CV 5/5] END max_depth=7, min_samples_leaf=4;, score=-45366.060 total time=   0.1s\n",
      "[CV 1/5] END max_depth=7, min_samples_leaf=8;, score=-20650.990 total time=   0.1s\n"
     ]
    },
    {
     "name": "stdout",
     "output_type": "stream",
     "text": [
      "[CV 2/5] END max_depth=7, min_samples_leaf=8;, score=-31135.874 total time=   0.0s\n",
      "[CV 3/5] END max_depth=7, min_samples_leaf=8;, score=-18762.796 total time=   0.1s\n",
      "[CV 4/5] END max_depth=7, min_samples_leaf=8;, score=-16688.092 total time=   0.1s\n",
      "[CV 5/5] END max_depth=7, min_samples_leaf=8;, score=-43698.978 total time=   0.0s\n",
      "[CV 1/5] END max_depth=8, min_samples_leaf=10;, score=-22639.553 total time=   0.0s\n",
      "[CV 2/5] END max_depth=8, min_samples_leaf=10;, score=-31632.598 total time=   0.0s\n",
      "[CV 3/5] END max_depth=8, min_samples_leaf=10;, score=-18778.785 total time=   0.0s\n",
      "[CV 4/5] END max_depth=8, min_samples_leaf=10;, score=-17014.099 total time=   0.0s\n",
      "[CV 5/5] END max_depth=8, min_samples_leaf=10;, score=-44487.824 total time=   0.1s\n",
      "{'max_depth': 13, 'min_samples_leaf': 2} -24006.913350762108\n"
     ]
    }
   ],
   "source": [
    "params_distr = {\n",
    "    \"max_depth\": stats.randint(low=5, high=15),\n",
    "    \"min_samples_leaf\": stats.randint(low=2, high=20)\n",
    "}\n",
    "\n",
    "rand_search_cv = RandomizedSearchCV(RandomForestRegressor(), params_distr, random_state=42, verbose=6,\n",
    "                                    cv=5, scoring=\"neg_mean_squared_error\",\n",
    "                                    n_iter=100)\n",
    "rand_search = rand_search_cv.fit(X_scaled, y_true)\n",
    "print(rand_search.best_params_, rand_search.best_score_)"
   ]
  },
  {
   "cell_type": "code",
   "execution_count": 64,
   "id": "b3f9ac2f",
   "metadata": {
    "scrolled": true
   },
   "outputs": [
    {
     "name": "stdout",
     "output_type": "stream",
     "text": [
      "mse=9236.78; r2=0.92\n",
      "mse=24251.72; r2=0.80\n",
      "[-10967.08111262  -8586.95332676  -9238.49401585  -9920.28903802\n",
      "  -7471.08340804]\n",
      "[-19869.69727411 -27198.12723039 -16994.85260711 -14276.81429929\n",
      " -42919.12716701]\n"
     ]
    }
   ],
   "source": [
    "# Best model\n",
    "rf_reg = RandomForestRegressor(random_state=42, n_estimators=100, max_depth=13, min_samples_leaf=2)\n",
    "\n",
    "res_dict = cross_validate(rf_reg, X_scaled, y_true, scoring=[\"neg_mean_squared_error\", \"r2\"], cv=5, return_train_score=True)\n",
    "print(f\"mse={np.abs(np.mean(res_dict['train_neg_mean_squared_error'])):.2f}; r2={np.mean(res_dict['train_r2']):.2f}\")\n",
    "print(f\"mse={np.abs(np.mean(res_dict['test_neg_mean_squared_error'])):.2f}; r2={np.mean(res_dict['test_r2']):.2f}\")\n",
    "print(res_dict[\"train_neg_mean_squared_error\"])\n",
    "print(res_dict[\"test_neg_mean_squared_error\"])"
   ]
  },
  {
   "cell_type": "code",
   "execution_count": 65,
   "id": "55c0297b",
   "metadata": {},
   "outputs": [],
   "source": [
    "loss_dict[\"train\"][\"rf_reg\"] = np.abs(res_dict[\"train_neg_mean_squared_error\"]).tolist()\n",
    "loss_dict[\"valid\"][\"rf_reg\"] = np.abs(res_dict[\"test_neg_mean_squared_error\"]).tolist()"
   ]
  },
  {
   "cell_type": "code",
   "execution_count": 32,
   "id": "6ba8850d",
   "metadata": {},
   "outputs": [
    {
     "data": {
      "text/plain": [
       "8963.396112943366"
      ]
     },
     "execution_count": 32,
     "metadata": {},
     "output_type": "execute_result"
    }
   ],
   "source": [
    "rf_reg.fit(X_scaled, y_true)\n",
    "\n",
    "y_pred = rf_reg.predict(X_scaled)\n",
    "mean_squared_error(y_true, y_pred)"
   ]
  },
  {
   "cell_type": "code",
   "execution_count": 33,
   "id": "c1d2d036",
   "metadata": {},
   "outputs": [
    {
     "data": {
      "text/plain": [
       "8963.396112943366"
      ]
     },
     "execution_count": 33,
     "metadata": {},
     "output_type": "execute_result"
    }
   ],
   "source": [
    "joblib.dump(rf_reg, \"models/random_forest.joblib\")\n",
    "rf_reg = joblib.load(\"models/random_forest.joblib\")\n",
    "y_pred = rf_reg.predict(X_scaled)\n",
    "mean_squared_error(y_true, y_pred)"
   ]
  },
  {
   "cell_type": "markdown",
   "id": "15c2875e",
   "metadata": {},
   "source": [
    "#### XGBoost"
   ]
  },
  {
   "cell_type": "code",
   "execution_count": 34,
   "id": "0c08ce81",
   "metadata": {},
   "outputs": [
    {
     "name": "stdout",
     "output_type": "stream",
     "text": [
      "mse=51.28; r2=1.00\n",
      "mse=29853.29; r2=0.76\n",
      "[-44.27394932 -46.40766175 -56.80664894 -57.71157656 -51.20805784]\n",
      "[-23197.10270789 -32575.80950734 -20718.23839519 -22294.44849346\n",
      " -50480.83584757]\n"
     ]
    }
   ],
   "source": [
    "# Base model\n",
    "xgb_reg = xgb.XGBRegressor(random_state=42)\n",
    "\n",
    "res_dict = cross_validate(xgb_reg, X_scaled, y_true, scoring=[\"neg_mean_squared_error\", \"r2\"], cv=5, return_train_score=True)\n",
    "print(f\"mse={np.abs(np.mean(res_dict['train_neg_mean_squared_error'])):.2f}; r2={np.mean(res_dict['train_r2']):.2f}\")\n",
    "print(f\"mse={np.abs(np.mean(res_dict['test_neg_mean_squared_error'])):.2f}; r2={np.mean(res_dict['test_r2']):.2f}\")\n",
    "print(res_dict[\"train_neg_mean_squared_error\"])\n",
    "print(res_dict[\"test_neg_mean_squared_error\"])"
   ]
  },
  {
   "cell_type": "code",
   "execution_count": 35,
   "id": "3e1cb909",
   "metadata": {},
   "outputs": [
    {
     "name": "stderr",
     "output_type": "stream",
     "text": [
      "C:\\Users\\Jia Herng\\AppData\\Local\\pypoetry\\Cache\\virtualenvs\\model-dev-J5QNXlQH-py3.10\\lib\\site-packages\\sklearn\\model_selection\\_search.py:305: UserWarning: The total space of parameters 81 is smaller than n_iter=100. Running 81 iterations. For exhaustive searches, use GridSearchCV.\n",
      "  warnings.warn(\n"
     ]
    },
    {
     "name": "stdout",
     "output_type": "stream",
     "text": [
      "Fitting 5 folds for each of 81 candidates, totalling 405 fits\n",
      "[CV 1/5] END learning_rate=0.05, max_depth=3, min_child_weight=1, n_estimators=100;, score=-22995.533 total time=   0.0s\n",
      "[CV 2/5] END learning_rate=0.05, max_depth=3, min_child_weight=1, n_estimators=100;, score=-32038.563 total time=   0.0s\n",
      "[CV 3/5] END learning_rate=0.05, max_depth=3, min_child_weight=1, n_estimators=100;, score=-20327.060 total time=   0.0s\n",
      "[CV 4/5] END learning_rate=0.05, max_depth=3, min_child_weight=1, n_estimators=100;, score=-17511.621 total time=   0.0s\n",
      "[CV 5/5] END learning_rate=0.05, max_depth=3, min_child_weight=1, n_estimators=100;, score=-48635.563 total time=   0.0s\n",
      "[CV 1/5] END learning_rate=0.05, max_depth=3, min_child_weight=1, n_estimators=400;, score=-26665.502 total time=   0.0s\n",
      "[CV 2/5] END learning_rate=0.05, max_depth=3, min_child_weight=1, n_estimators=400;, score=-32768.052 total time=   0.0s\n",
      "[CV 3/5] END learning_rate=0.05, max_depth=3, min_child_weight=1, n_estimators=400;, score=-20494.791 total time=   0.0s\n",
      "[CV 4/5] END learning_rate=0.05, max_depth=3, min_child_weight=1, n_estimators=400;, score=-19184.181 total time=   0.0s\n",
      "[CV 5/5] END learning_rate=0.05, max_depth=3, min_child_weight=1, n_estimators=400;, score=-47588.395 total time=   0.0s\n",
      "[CV 1/5] END learning_rate=0.05, max_depth=3, min_child_weight=1, n_estimators=800;, score=-30321.907 total time=   0.1s\n",
      "[CV 2/5] END learning_rate=0.05, max_depth=3, min_child_weight=1, n_estimators=800;, score=-32984.544 total time=   0.1s\n",
      "[CV 3/5] END learning_rate=0.05, max_depth=3, min_child_weight=1, n_estimators=800;, score=-21513.426 total time=   0.2s\n",
      "[CV 4/5] END learning_rate=0.05, max_depth=3, min_child_weight=1, n_estimators=800;, score=-20701.756 total time=   0.1s\n",
      "[CV 5/5] END learning_rate=0.05, max_depth=3, min_child_weight=1, n_estimators=800;, score=-48439.441 total time=   0.1s\n",
      "[CV 1/5] END learning_rate=0.05, max_depth=3, min_child_weight=10, n_estimators=100;, score=-24040.057 total time=   0.0s\n",
      "[CV 2/5] END learning_rate=0.05, max_depth=3, min_child_weight=10, n_estimators=100;, score=-32254.989 total time=   0.0s\n",
      "[CV 3/5] END learning_rate=0.05, max_depth=3, min_child_weight=10, n_estimators=100;, score=-19834.124 total time=   0.0s\n",
      "[CV 4/5] END learning_rate=0.05, max_depth=3, min_child_weight=10, n_estimators=100;, score=-19819.289 total time=   0.0s\n",
      "[CV 5/5] END learning_rate=0.05, max_depth=3, min_child_weight=10, n_estimators=100;, score=-48304.317 total time=   0.0s\n",
      "[CV 1/5] END learning_rate=0.05, max_depth=3, min_child_weight=10, n_estimators=400;, score=-25971.341 total time=   0.0s\n",
      "[CV 2/5] END learning_rate=0.05, max_depth=3, min_child_weight=10, n_estimators=400;, score=-31781.930 total time=   0.0s\n",
      "[CV 3/5] END learning_rate=0.05, max_depth=3, min_child_weight=10, n_estimators=400;, score=-19067.705 total time=   0.0s\n",
      "[CV 4/5] END learning_rate=0.05, max_depth=3, min_child_weight=10, n_estimators=400;, score=-17419.725 total time=   0.0s\n",
      "[CV 5/5] END learning_rate=0.05, max_depth=3, min_child_weight=10, n_estimators=400;, score=-47217.028 total time=   0.0s\n",
      "[CV 1/5] END learning_rate=0.05, max_depth=3, min_child_weight=10, n_estimators=800;, score=-25962.358 total time=   0.1s\n",
      "[CV 2/5] END learning_rate=0.05, max_depth=3, min_child_weight=10, n_estimators=800;, score=-33938.985 total time=   0.1s\n",
      "[CV 3/5] END learning_rate=0.05, max_depth=3, min_child_weight=10, n_estimators=800;, score=-19004.752 total time=   0.1s\n",
      "[CV 4/5] END learning_rate=0.05, max_depth=3, min_child_weight=10, n_estimators=800;, score=-17476.242 total time=   0.1s\n",
      "[CV 5/5] END learning_rate=0.05, max_depth=3, min_child_weight=10, n_estimators=800;, score=-48401.001 total time=   0.1s\n",
      "[CV 1/5] END learning_rate=0.05, max_depth=3, min_child_weight=100, n_estimators=100;, score=-45954.005 total time=   0.0s\n",
      "[CV 2/5] END learning_rate=0.05, max_depth=3, min_child_weight=100, n_estimators=100;, score=-48635.220 total time=   0.0s\n",
      "[CV 3/5] END learning_rate=0.05, max_depth=3, min_child_weight=100, n_estimators=100;, score=-30019.119 total time=   0.0s\n",
      "[CV 4/5] END learning_rate=0.05, max_depth=3, min_child_weight=100, n_estimators=100;, score=-37910.686 total time=   0.0s\n",
      "[CV 5/5] END learning_rate=0.05, max_depth=3, min_child_weight=100, n_estimators=100;, score=-64390.775 total time=   0.0s\n",
      "[CV 1/5] END learning_rate=0.05, max_depth=3, min_child_weight=100, n_estimators=400;, score=-46632.346 total time=   0.0s\n",
      "[CV 2/5] END learning_rate=0.05, max_depth=3, min_child_weight=100, n_estimators=400;, score=-48669.610 total time=   0.0s\n",
      "[CV 3/5] END learning_rate=0.05, max_depth=3, min_child_weight=100, n_estimators=400;, score=-30568.614 total time=   0.0s\n",
      "[CV 4/5] END learning_rate=0.05, max_depth=3, min_child_weight=100, n_estimators=400;, score=-36881.068 total time=   0.0s\n",
      "[CV 5/5] END learning_rate=0.05, max_depth=3, min_child_weight=100, n_estimators=400;, score=-63075.375 total time=   0.0s\n",
      "[CV 1/5] END learning_rate=0.05, max_depth=3, min_child_weight=100, n_estimators=800;, score=-48139.309 total time=   0.1s\n",
      "[CV 2/5] END learning_rate=0.05, max_depth=3, min_child_weight=100, n_estimators=800;, score=-49735.367 total time=   0.1s\n",
      "[CV 3/5] END learning_rate=0.05, max_depth=3, min_child_weight=100, n_estimators=800;, score=-32429.565 total time=   0.1s\n",
      "[CV 4/5] END learning_rate=0.05, max_depth=3, min_child_weight=100, n_estimators=800;, score=-37139.727 total time=   0.1s\n",
      "[CV 5/5] END learning_rate=0.05, max_depth=3, min_child_weight=100, n_estimators=800;, score=-63123.802 total time=   0.1s\n",
      "[CV 1/5] END learning_rate=0.05, max_depth=6, min_child_weight=1, n_estimators=100;, score=-17648.444 total time=   0.0s\n",
      "[CV 2/5] END learning_rate=0.05, max_depth=6, min_child_weight=1, n_estimators=100;, score=-30301.750 total time=   0.0s\n",
      "[CV 3/5] END learning_rate=0.05, max_depth=6, min_child_weight=1, n_estimators=100;, score=-17870.190 total time=   0.0s\n",
      "[CV 4/5] END learning_rate=0.05, max_depth=6, min_child_weight=1, n_estimators=100;, score=-16722.164 total time=   0.0s\n",
      "[CV 5/5] END learning_rate=0.05, max_depth=6, min_child_weight=1, n_estimators=100;, score=-47157.667 total time=   0.0s\n",
      "[CV 1/5] END learning_rate=0.05, max_depth=6, min_child_weight=1, n_estimators=400;, score=-20077.457 total time=   0.1s\n",
      "[CV 2/5] END learning_rate=0.05, max_depth=6, min_child_weight=1, n_estimators=400;, score=-32178.702 total time=   0.1s\n",
      "[CV 3/5] END learning_rate=0.05, max_depth=6, min_child_weight=1, n_estimators=400;, score=-20637.628 total time=   0.1s\n",
      "[CV 4/5] END learning_rate=0.05, max_depth=6, min_child_weight=1, n_estimators=400;, score=-23264.689 total time=   0.0s\n",
      "[CV 5/5] END learning_rate=0.05, max_depth=6, min_child_weight=1, n_estimators=400;, score=-49778.723 total time=   0.0s\n",
      "[CV 1/5] END learning_rate=0.05, max_depth=6, min_child_weight=1, n_estimators=800;, score=-20904.379 total time=   0.2s\n",
      "[CV 2/5] END learning_rate=0.05, max_depth=6, min_child_weight=1, n_estimators=800;, score=-32406.828 total time=   0.2s\n",
      "[CV 3/5] END learning_rate=0.05, max_depth=6, min_child_weight=1, n_estimators=800;, score=-21556.310 total time=   0.2s\n",
      "[CV 4/5] END learning_rate=0.05, max_depth=6, min_child_weight=1, n_estimators=800;, score=-24342.946 total time=   0.2s\n",
      "[CV 5/5] END learning_rate=0.05, max_depth=6, min_child_weight=1, n_estimators=800;, score=-49986.364 total time=   0.2s\n",
      "[CV 1/5] END learning_rate=0.05, max_depth=6, min_child_weight=10, n_estimators=100;, score=-20620.964 total time=   0.0s\n",
      "[CV 2/5] END learning_rate=0.05, max_depth=6, min_child_weight=10, n_estimators=100;, score=-28879.610 total time=   0.0s\n",
      "[CV 3/5] END learning_rate=0.05, max_depth=6, min_child_weight=10, n_estimators=100;, score=-16710.765 total time=   0.0s\n",
      "[CV 4/5] END learning_rate=0.05, max_depth=6, min_child_weight=10, n_estimators=100;, score=-16293.479 total time=   0.0s\n",
      "[CV 5/5] END learning_rate=0.05, max_depth=6, min_child_weight=10, n_estimators=100;, score=-46013.732 total time=   0.0s\n",
      "[CV 1/5] END learning_rate=0.05, max_depth=6, min_child_weight=10, n_estimators=400;, score=-24840.138 total time=   0.0s\n",
      "[CV 2/5] END learning_rate=0.05, max_depth=6, min_child_weight=10, n_estimators=400;, score=-34047.983 total time=   0.0s\n"
     ]
    },
    {
     "name": "stdout",
     "output_type": "stream",
     "text": [
      "[CV 3/5] END learning_rate=0.05, max_depth=6, min_child_weight=10, n_estimators=400;, score=-17706.428 total time=   0.0s\n",
      "[CV 4/5] END learning_rate=0.05, max_depth=6, min_child_weight=10, n_estimators=400;, score=-18204.492 total time=   0.0s\n",
      "[CV 5/5] END learning_rate=0.05, max_depth=6, min_child_weight=10, n_estimators=400;, score=-46370.841 total time=   0.0s\n",
      "[CV 1/5] END learning_rate=0.05, max_depth=6, min_child_weight=10, n_estimators=800;, score=-26268.429 total time=   0.2s\n",
      "[CV 2/5] END learning_rate=0.05, max_depth=6, min_child_weight=10, n_estimators=800;, score=-36707.148 total time=   0.2s\n",
      "[CV 3/5] END learning_rate=0.05, max_depth=6, min_child_weight=10, n_estimators=800;, score=-19206.727 total time=   0.1s\n",
      "[CV 4/5] END learning_rate=0.05, max_depth=6, min_child_weight=10, n_estimators=800;, score=-20416.347 total time=   0.1s\n",
      "[CV 5/5] END learning_rate=0.05, max_depth=6, min_child_weight=10, n_estimators=800;, score=-47617.700 total time=   0.2s\n",
      "[CV 1/5] END learning_rate=0.05, max_depth=6, min_child_weight=100, n_estimators=100;, score=-45900.119 total time=   0.0s\n",
      "[CV 2/5] END learning_rate=0.05, max_depth=6, min_child_weight=100, n_estimators=100;, score=-48187.188 total time=   0.0s\n",
      "[CV 3/5] END learning_rate=0.05, max_depth=6, min_child_weight=100, n_estimators=100;, score=-29546.413 total time=   0.0s\n",
      "[CV 4/5] END learning_rate=0.05, max_depth=6, min_child_weight=100, n_estimators=100;, score=-37450.068 total time=   0.0s\n",
      "[CV 5/5] END learning_rate=0.05, max_depth=6, min_child_weight=100, n_estimators=100;, score=-64101.939 total time=   0.0s\n",
      "[CV 1/5] END learning_rate=0.05, max_depth=6, min_child_weight=100, n_estimators=400;, score=-47474.590 total time=   0.0s\n",
      "[CV 2/5] END learning_rate=0.05, max_depth=6, min_child_weight=100, n_estimators=400;, score=-48082.415 total time=   0.0s\n",
      "[CV 3/5] END learning_rate=0.05, max_depth=6, min_child_weight=100, n_estimators=400;, score=-31401.055 total time=   0.0s\n",
      "[CV 4/5] END learning_rate=0.05, max_depth=6, min_child_weight=100, n_estimators=400;, score=-36454.152 total time=   0.0s\n",
      "[CV 5/5] END learning_rate=0.05, max_depth=6, min_child_weight=100, n_estimators=400;, score=-62558.952 total time=   0.0s\n",
      "[CV 1/5] END learning_rate=0.05, max_depth=6, min_child_weight=100, n_estimators=800;, score=-49368.795 total time=   0.1s\n",
      "[CV 2/5] END learning_rate=0.05, max_depth=6, min_child_weight=100, n_estimators=800;, score=-49147.788 total time=   0.1s\n",
      "[CV 3/5] END learning_rate=0.05, max_depth=6, min_child_weight=100, n_estimators=800;, score=-32836.998 total time=   0.1s\n",
      "[CV 4/5] END learning_rate=0.05, max_depth=6, min_child_weight=100, n_estimators=800;, score=-36876.198 total time=   0.1s\n",
      "[CV 5/5] END learning_rate=0.05, max_depth=6, min_child_weight=100, n_estimators=800;, score=-61434.880 total time=   0.1s\n",
      "[CV 1/5] END learning_rate=0.05, max_depth=9, min_child_weight=1, n_estimators=100;, score=-18959.915 total time=   0.0s\n",
      "[CV 2/5] END learning_rate=0.05, max_depth=9, min_child_weight=1, n_estimators=100;, score=-31146.045 total time=   0.0s\n",
      "[CV 3/5] END learning_rate=0.05, max_depth=9, min_child_weight=1, n_estimators=100;, score=-19353.066 total time=   0.0s\n",
      "[CV 4/5] END learning_rate=0.05, max_depth=9, min_child_weight=1, n_estimators=100;, score=-19526.308 total time=   0.0s\n",
      "[CV 5/5] END learning_rate=0.05, max_depth=9, min_child_weight=1, n_estimators=100;, score=-46826.271 total time=   0.0s\n",
      "[CV 1/5] END learning_rate=0.05, max_depth=9, min_child_weight=1, n_estimators=400;, score=-21149.905 total time=   0.2s\n",
      "[CV 2/5] END learning_rate=0.05, max_depth=9, min_child_weight=1, n_estimators=400;, score=-32145.304 total time=   0.2s\n",
      "[CV 3/5] END learning_rate=0.05, max_depth=9, min_child_weight=1, n_estimators=400;, score=-20123.377 total time=   0.2s\n",
      "[CV 4/5] END learning_rate=0.05, max_depth=9, min_child_weight=1, n_estimators=400;, score=-21616.577 total time=   0.2s\n",
      "[CV 5/5] END learning_rate=0.05, max_depth=9, min_child_weight=1, n_estimators=400;, score=-47506.345 total time=   0.2s\n",
      "[CV 1/5] END learning_rate=0.05, max_depth=9, min_child_weight=1, n_estimators=800;, score=-21152.528 total time=   0.4s\n",
      "[CV 2/5] END learning_rate=0.05, max_depth=9, min_child_weight=1, n_estimators=800;, score=-32162.102 total time=   0.5s\n",
      "[CV 3/5] END learning_rate=0.05, max_depth=9, min_child_weight=1, n_estimators=800;, score=-20144.533 total time=   0.6s\n",
      "[CV 4/5] END learning_rate=0.05, max_depth=9, min_child_weight=1, n_estimators=800;, score=-21641.826 total time=   0.5s\n",
      "[CV 5/5] END learning_rate=0.05, max_depth=9, min_child_weight=1, n_estimators=800;, score=-47504.103 total time=   0.5s\n",
      "[CV 1/5] END learning_rate=0.05, max_depth=9, min_child_weight=10, n_estimators=100;, score=-20382.562 total time=   0.0s\n",
      "[CV 2/5] END learning_rate=0.05, max_depth=9, min_child_weight=10, n_estimators=100;, score=-27143.403 total time=   0.0s\n",
      "[CV 3/5] END learning_rate=0.05, max_depth=9, min_child_weight=10, n_estimators=100;, score=-16840.876 total time=   0.0s\n",
      "[CV 4/5] END learning_rate=0.05, max_depth=9, min_child_weight=10, n_estimators=100;, score=-15598.337 total time=   0.0s\n",
      "[CV 5/5] END learning_rate=0.05, max_depth=9, min_child_weight=10, n_estimators=100;, score=-44929.510 total time=   0.0s\n",
      "[CV 1/5] END learning_rate=0.05, max_depth=9, min_child_weight=10, n_estimators=400;, score=-24171.597 total time=   0.1s\n",
      "[CV 2/5] END learning_rate=0.05, max_depth=9, min_child_weight=10, n_estimators=400;, score=-31982.906 total time=   0.1s\n",
      "[CV 3/5] END learning_rate=0.05, max_depth=9, min_child_weight=10, n_estimators=400;, score=-18854.603 total time=   0.1s\n",
      "[CV 4/5] END learning_rate=0.05, max_depth=9, min_child_weight=10, n_estimators=400;, score=-17822.063 total time=   0.1s\n",
      "[CV 5/5] END learning_rate=0.05, max_depth=9, min_child_weight=10, n_estimators=400;, score=-45365.845 total time=   0.1s\n",
      "[CV 1/5] END learning_rate=0.05, max_depth=9, min_child_weight=10, n_estimators=800;, score=-26078.113 total time=   0.3s\n",
      "[CV 2/5] END learning_rate=0.05, max_depth=9, min_child_weight=10, n_estimators=800;, score=-34374.872 total time=   0.3s\n",
      "[CV 3/5] END learning_rate=0.05, max_depth=9, min_child_weight=10, n_estimators=800;, score=-20047.500 total time=   0.3s\n",
      "[CV 4/5] END learning_rate=0.05, max_depth=9, min_child_weight=10, n_estimators=800;, score=-20434.249 total time=   0.3s\n",
      "[CV 5/5] END learning_rate=0.05, max_depth=9, min_child_weight=10, n_estimators=800;, score=-46074.935 total time=   0.3s\n",
      "[CV 1/5] END learning_rate=0.05, max_depth=9, min_child_weight=100, n_estimators=100;, score=-45900.119 total time=   0.0s\n",
      "[CV 2/5] END learning_rate=0.05, max_depth=9, min_child_weight=100, n_estimators=100;, score=-48187.188 total time=   0.0s\n",
      "[CV 3/5] END learning_rate=0.05, max_depth=9, min_child_weight=100, n_estimators=100;, score=-29546.413 total time=   0.0s\n",
      "[CV 4/5] END learning_rate=0.05, max_depth=9, min_child_weight=100, n_estimators=100;, score=-37450.068 total time=   0.0s\n",
      "[CV 5/5] END learning_rate=0.05, max_depth=9, min_child_weight=100, n_estimators=100;, score=-64101.939 total time=   0.0s\n",
      "[CV 1/5] END learning_rate=0.05, max_depth=9, min_child_weight=100, n_estimators=400;, score=-47474.590 total time=   0.0s\n",
      "[CV 2/5] END learning_rate=0.05, max_depth=9, min_child_weight=100, n_estimators=400;, score=-48082.415 total time=   0.0s\n",
      "[CV 3/5] END learning_rate=0.05, max_depth=9, min_child_weight=100, n_estimators=400;, score=-31401.055 total time=   0.0s\n",
      "[CV 4/5] END learning_rate=0.05, max_depth=9, min_child_weight=100, n_estimators=400;, score=-36454.152 total time=   0.0s\n",
      "[CV 5/5] END learning_rate=0.05, max_depth=9, min_child_weight=100, n_estimators=400;, score=-62558.952 total time=   0.0s\n",
      "[CV 1/5] END learning_rate=0.05, max_depth=9, min_child_weight=100, n_estimators=800;, score=-49368.795 total time=   0.1s\n",
      "[CV 2/5] END learning_rate=0.05, max_depth=9, min_child_weight=100, n_estimators=800;, score=-49147.788 total time=   0.1s\n",
      "[CV 3/5] END learning_rate=0.05, max_depth=9, min_child_weight=100, n_estimators=800;, score=-32836.998 total time=   0.1s\n",
      "[CV 4/5] END learning_rate=0.05, max_depth=9, min_child_weight=100, n_estimators=800;, score=-36876.198 total time=   0.1s\n",
      "[CV 5/5] END learning_rate=0.05, max_depth=9, min_child_weight=100, n_estimators=800;, score=-61434.880 total time=   0.1s\n",
      "[CV 1/5] END learning_rate=0.1, max_depth=3, min_child_weight=1, n_estimators=100;, score=-26700.361 total time=   0.0s\n",
      "[CV 2/5] END learning_rate=0.1, max_depth=3, min_child_weight=1, n_estimators=100;, score=-31588.691 total time=   0.0s\n",
      "[CV 3/5] END learning_rate=0.1, max_depth=3, min_child_weight=1, n_estimators=100;, score=-19687.943 total time=   0.0s\n",
      "[CV 4/5] END learning_rate=0.1, max_depth=3, min_child_weight=1, n_estimators=100;, score=-16430.840 total time=   0.0s\n",
      "[CV 5/5] END learning_rate=0.1, max_depth=3, min_child_weight=1, n_estimators=100;, score=-48035.773 total time=   0.0s\n"
     ]
    },
    {
     "name": "stdout",
     "output_type": "stream",
     "text": [
      "[CV 1/5] END learning_rate=0.1, max_depth=3, min_child_weight=1, n_estimators=400;, score=-31068.465 total time=   0.0s\n",
      "[CV 2/5] END learning_rate=0.1, max_depth=3, min_child_weight=1, n_estimators=400;, score=-33713.205 total time=   0.0s\n",
      "[CV 3/5] END learning_rate=0.1, max_depth=3, min_child_weight=1, n_estimators=400;, score=-20440.446 total time=   0.0s\n",
      "[CV 4/5] END learning_rate=0.1, max_depth=3, min_child_weight=1, n_estimators=400;, score=-19971.073 total time=   0.0s\n",
      "[CV 5/5] END learning_rate=0.1, max_depth=3, min_child_weight=1, n_estimators=400;, score=-48176.358 total time=   0.0s\n",
      "[CV 1/5] END learning_rate=0.1, max_depth=3, min_child_weight=1, n_estimators=800;, score=-33243.450 total time=   0.1s\n",
      "[CV 2/5] END learning_rate=0.1, max_depth=3, min_child_weight=1, n_estimators=800;, score=-34155.121 total time=   0.1s\n",
      "[CV 3/5] END learning_rate=0.1, max_depth=3, min_child_weight=1, n_estimators=800;, score=-20627.956 total time=   0.1s\n",
      "[CV 4/5] END learning_rate=0.1, max_depth=3, min_child_weight=1, n_estimators=800;, score=-22101.244 total time=   0.1s\n",
      "[CV 5/5] END learning_rate=0.1, max_depth=3, min_child_weight=1, n_estimators=800;, score=-51574.986 total time=   0.1s\n",
      "[CV 1/5] END learning_rate=0.1, max_depth=3, min_child_weight=10, n_estimators=100;, score=-23931.606 total time=   0.0s\n",
      "[CV 2/5] END learning_rate=0.1, max_depth=3, min_child_weight=10, n_estimators=100;, score=-31364.553 total time=   0.0s\n",
      "[CV 3/5] END learning_rate=0.1, max_depth=3, min_child_weight=10, n_estimators=100;, score=-19581.237 total time=   0.0s\n",
      "[CV 4/5] END learning_rate=0.1, max_depth=3, min_child_weight=10, n_estimators=100;, score=-18181.457 total time=   0.0s\n",
      "[CV 5/5] END learning_rate=0.1, max_depth=3, min_child_weight=10, n_estimators=100;, score=-48377.229 total time=   0.0s\n",
      "[CV 1/5] END learning_rate=0.1, max_depth=3, min_child_weight=10, n_estimators=400;, score=-26905.733 total time=   0.0s\n",
      "[CV 2/5] END learning_rate=0.1, max_depth=3, min_child_weight=10, n_estimators=400;, score=-33994.085 total time=   0.0s\n",
      "[CV 3/5] END learning_rate=0.1, max_depth=3, min_child_weight=10, n_estimators=400;, score=-19559.665 total time=   0.0s\n",
      "[CV 4/5] END learning_rate=0.1, max_depth=3, min_child_weight=10, n_estimators=400;, score=-18233.336 total time=   0.0s\n",
      "[CV 5/5] END learning_rate=0.1, max_depth=3, min_child_weight=10, n_estimators=400;, score=-48820.268 total time=   0.0s\n",
      "[CV 1/5] END learning_rate=0.1, max_depth=3, min_child_weight=10, n_estimators=800;, score=-28078.777 total time=   0.1s\n",
      "[CV 2/5] END learning_rate=0.1, max_depth=3, min_child_weight=10, n_estimators=800;, score=-37632.982 total time=   0.1s\n",
      "[CV 3/5] END learning_rate=0.1, max_depth=3, min_child_weight=10, n_estimators=800;, score=-20573.910 total time=   0.1s\n",
      "[CV 4/5] END learning_rate=0.1, max_depth=3, min_child_weight=10, n_estimators=800;, score=-19212.716 total time=   0.1s\n",
      "[CV 5/5] END learning_rate=0.1, max_depth=3, min_child_weight=10, n_estimators=800;, score=-49488.588 total time=   0.1s\n",
      "[CV 1/5] END learning_rate=0.1, max_depth=3, min_child_weight=100, n_estimators=100;, score=-46239.491 total time=   0.0s\n",
      "[CV 2/5] END learning_rate=0.1, max_depth=3, min_child_weight=100, n_estimators=100;, score=-48572.647 total time=   0.0s\n",
      "[CV 3/5] END learning_rate=0.1, max_depth=3, min_child_weight=100, n_estimators=100;, score=-30088.014 total time=   0.0s\n",
      "[CV 4/5] END learning_rate=0.1, max_depth=3, min_child_weight=100, n_estimators=100;, score=-36728.600 total time=   0.0s\n",
      "[CV 5/5] END learning_rate=0.1, max_depth=3, min_child_weight=100, n_estimators=100;, score=-63493.764 total time=   0.0s\n",
      "[CV 1/5] END learning_rate=0.1, max_depth=3, min_child_weight=100, n_estimators=400;, score=-48026.048 total time=   0.0s\n",
      "[CV 2/5] END learning_rate=0.1, max_depth=3, min_child_weight=100, n_estimators=400;, score=-49994.437 total time=   0.0s\n",
      "[CV 3/5] END learning_rate=0.1, max_depth=3, min_child_weight=100, n_estimators=400;, score=-32473.011 total time=   0.0s\n",
      "[CV 4/5] END learning_rate=0.1, max_depth=3, min_child_weight=100, n_estimators=400;, score=-37168.295 total time=   0.0s\n",
      "[CV 5/5] END learning_rate=0.1, max_depth=3, min_child_weight=100, n_estimators=400;, score=-62930.075 total time=   0.0s\n",
      "[CV 1/5] END learning_rate=0.1, max_depth=3, min_child_weight=100, n_estimators=800;, score=-49832.227 total time=   0.1s\n",
      "[CV 2/5] END learning_rate=0.1, max_depth=3, min_child_weight=100, n_estimators=800;, score=-51295.991 total time=   0.1s\n",
      "[CV 3/5] END learning_rate=0.1, max_depth=3, min_child_weight=100, n_estimators=800;, score=-33418.801 total time=   0.1s\n",
      "[CV 4/5] END learning_rate=0.1, max_depth=3, min_child_weight=100, n_estimators=800;, score=-38051.868 total time=   0.1s\n",
      "[CV 5/5] END learning_rate=0.1, max_depth=3, min_child_weight=100, n_estimators=800;, score=-62130.765 total time=   0.1s\n",
      "[CV 1/5] END learning_rate=0.1, max_depth=6, min_child_weight=1, n_estimators=100;, score=-17369.796 total time=   0.0s\n",
      "[CV 2/5] END learning_rate=0.1, max_depth=6, min_child_weight=1, n_estimators=100;, score=-31902.987 total time=   0.0s\n",
      "[CV 3/5] END learning_rate=0.1, max_depth=6, min_child_weight=1, n_estimators=100;, score=-18224.649 total time=   0.0s\n",
      "[CV 4/5] END learning_rate=0.1, max_depth=6, min_child_weight=1, n_estimators=100;, score=-19173.311 total time=   0.0s\n",
      "[CV 5/5] END learning_rate=0.1, max_depth=6, min_child_weight=1, n_estimators=100;, score=-46753.141 total time=   0.0s\n",
      "[CV 1/5] END learning_rate=0.1, max_depth=6, min_child_weight=1, n_estimators=400;, score=-19007.003 total time=   0.1s\n",
      "[CV 2/5] END learning_rate=0.1, max_depth=6, min_child_weight=1, n_estimators=400;, score=-33767.376 total time=   0.1s\n",
      "[CV 3/5] END learning_rate=0.1, max_depth=6, min_child_weight=1, n_estimators=400;, score=-20178.742 total time=   0.1s\n",
      "[CV 4/5] END learning_rate=0.1, max_depth=6, min_child_weight=1, n_estimators=400;, score=-21893.448 total time=   0.1s\n",
      "[CV 5/5] END learning_rate=0.1, max_depth=6, min_child_weight=1, n_estimators=400;, score=-49516.852 total time=   0.1s\n",
      "[CV 1/5] END learning_rate=0.1, max_depth=6, min_child_weight=1, n_estimators=800;, score=-19095.871 total time=   0.2s\n",
      "[CV 2/5] END learning_rate=0.1, max_depth=6, min_child_weight=1, n_estimators=800;, score=-33784.463 total time=   0.3s\n",
      "[CV 3/5] END learning_rate=0.1, max_depth=6, min_child_weight=1, n_estimators=800;, score=-20184.475 total time=   0.2s\n",
      "[CV 4/5] END learning_rate=0.1, max_depth=6, min_child_weight=1, n_estimators=800;, score=-22144.779 total time=   0.2s\n",
      "[CV 5/5] END learning_rate=0.1, max_depth=6, min_child_weight=1, n_estimators=800;, score=-49367.110 total time=   0.2s\n",
      "[CV 1/5] END learning_rate=0.1, max_depth=6, min_child_weight=10, n_estimators=100;, score=-22521.787 total time=   0.0s\n",
      "[CV 2/5] END learning_rate=0.1, max_depth=6, min_child_weight=10, n_estimators=100;, score=-31365.852 total time=   0.0s\n",
      "[CV 3/5] END learning_rate=0.1, max_depth=6, min_child_weight=10, n_estimators=100;, score=-16785.798 total time=   0.0s\n",
      "[CV 4/5] END learning_rate=0.1, max_depth=6, min_child_weight=10, n_estimators=100;, score=-18116.776 total time=   0.0s\n",
      "[CV 5/5] END learning_rate=0.1, max_depth=6, min_child_weight=10, n_estimators=100;, score=-46693.764 total time=   0.0s\n",
      "[CV 1/5] END learning_rate=0.1, max_depth=6, min_child_weight=10, n_estimators=400;, score=-25946.836 total time=   0.0s\n",
      "[CV 2/5] END learning_rate=0.1, max_depth=6, min_child_weight=10, n_estimators=400;, score=-36282.761 total time=   0.1s\n",
      "[CV 3/5] END learning_rate=0.1, max_depth=6, min_child_weight=10, n_estimators=400;, score=-18961.454 total time=   0.0s\n",
      "[CV 4/5] END learning_rate=0.1, max_depth=6, min_child_weight=10, n_estimators=400;, score=-21992.730 total time=   0.0s\n",
      "[CV 5/5] END learning_rate=0.1, max_depth=6, min_child_weight=10, n_estimators=400;, score=-47424.690 total time=   0.0s\n",
      "[CV 1/5] END learning_rate=0.1, max_depth=6, min_child_weight=10, n_estimators=800;, score=-26585.636 total time=   0.2s\n",
      "[CV 2/5] END learning_rate=0.1, max_depth=6, min_child_weight=10, n_estimators=800;, score=-37906.360 total time=   0.2s\n",
      "[CV 3/5] END learning_rate=0.1, max_depth=6, min_child_weight=10, n_estimators=800;, score=-20077.051 total time=   0.2s\n"
     ]
    },
    {
     "name": "stdout",
     "output_type": "stream",
     "text": [
      "[CV 4/5] END learning_rate=0.1, max_depth=6, min_child_weight=10, n_estimators=800;, score=-24088.639 total time=   0.2s\n",
      "[CV 5/5] END learning_rate=0.1, max_depth=6, min_child_weight=10, n_estimators=800;, score=-48415.610 total time=   0.2s\n",
      "[CV 1/5] END learning_rate=0.1, max_depth=6, min_child_weight=100, n_estimators=100;, score=-46521.319 total time=   0.0s\n",
      "[CV 2/5] END learning_rate=0.1, max_depth=6, min_child_weight=100, n_estimators=100;, score=-48177.857 total time=   0.0s\n",
      "[CV 3/5] END learning_rate=0.1, max_depth=6, min_child_weight=100, n_estimators=100;, score=-29761.426 total time=   0.0s\n",
      "[CV 4/5] END learning_rate=0.1, max_depth=6, min_child_weight=100, n_estimators=100;, score=-36274.448 total time=   0.0s\n",
      "[CV 5/5] END learning_rate=0.1, max_depth=6, min_child_weight=100, n_estimators=100;, score=-62694.463 total time=   0.0s\n",
      "[CV 1/5] END learning_rate=0.1, max_depth=6, min_child_weight=100, n_estimators=400;, score=-49473.176 total time=   0.0s\n",
      "[CV 2/5] END learning_rate=0.1, max_depth=6, min_child_weight=100, n_estimators=400;, score=-49289.116 total time=   0.0s\n",
      "[CV 3/5] END learning_rate=0.1, max_depth=6, min_child_weight=100, n_estimators=400;, score=-32400.382 total time=   0.0s\n",
      "[CV 4/5] END learning_rate=0.1, max_depth=6, min_child_weight=100, n_estimators=400;, score=-36844.376 total time=   0.0s\n",
      "[CV 5/5] END learning_rate=0.1, max_depth=6, min_child_weight=100, n_estimators=400;, score=-61293.674 total time=   0.0s\n",
      "[CV 1/5] END learning_rate=0.1, max_depth=6, min_child_weight=100, n_estimators=800;, score=-50597.847 total time=   0.1s\n",
      "[CV 2/5] END learning_rate=0.1, max_depth=6, min_child_weight=100, n_estimators=800;, score=-50925.101 total time=   0.1s\n",
      "[CV 3/5] END learning_rate=0.1, max_depth=6, min_child_weight=100, n_estimators=800;, score=-34802.783 total time=   0.1s\n",
      "[CV 4/5] END learning_rate=0.1, max_depth=6, min_child_weight=100, n_estimators=800;, score=-38448.078 total time=   0.1s\n",
      "[CV 5/5] END learning_rate=0.1, max_depth=6, min_child_weight=100, n_estimators=800;, score=-59910.142 total time=   0.1s\n",
      "[CV 1/5] END learning_rate=0.1, max_depth=9, min_child_weight=1, n_estimators=100;, score=-22174.234 total time=   0.0s\n",
      "[CV 2/5] END learning_rate=0.1, max_depth=9, min_child_weight=1, n_estimators=100;, score=-30337.507 total time=   0.0s\n",
      "[CV 3/5] END learning_rate=0.1, max_depth=9, min_child_weight=1, n_estimators=100;, score=-20245.128 total time=   0.0s\n",
      "[CV 4/5] END learning_rate=0.1, max_depth=9, min_child_weight=1, n_estimators=100;, score=-22628.206 total time=   0.0s\n",
      "[CV 5/5] END learning_rate=0.1, max_depth=9, min_child_weight=1, n_estimators=100;, score=-44653.568 total time=   0.0s\n",
      "[CV 1/5] END learning_rate=0.1, max_depth=9, min_child_weight=1, n_estimators=400;, score=-22507.770 total time=   0.2s\n",
      "[CV 2/5] END learning_rate=0.1, max_depth=9, min_child_weight=1, n_estimators=400;, score=-30342.007 total time=   0.2s\n",
      "[CV 3/5] END learning_rate=0.1, max_depth=9, min_child_weight=1, n_estimators=400;, score=-20570.182 total time=   0.2s\n",
      "[CV 4/5] END learning_rate=0.1, max_depth=9, min_child_weight=1, n_estimators=400;, score=-22780.741 total time=   0.2s\n",
      "[CV 5/5] END learning_rate=0.1, max_depth=9, min_child_weight=1, n_estimators=400;, score=-44688.898 total time=   0.2s\n",
      "[CV 1/5] END learning_rate=0.1, max_depth=9, min_child_weight=1, n_estimators=800;, score=-22508.078 total time=   0.3s\n",
      "[CV 2/5] END learning_rate=0.1, max_depth=9, min_child_weight=1, n_estimators=800;, score=-30342.199 total time=   0.3s\n",
      "[CV 3/5] END learning_rate=0.1, max_depth=9, min_child_weight=1, n_estimators=800;, score=-20569.886 total time=   0.3s\n",
      "[CV 4/5] END learning_rate=0.1, max_depth=9, min_child_weight=1, n_estimators=800;, score=-22780.796 total time=   0.3s\n",
      "[CV 5/5] END learning_rate=0.1, max_depth=9, min_child_weight=1, n_estimators=800;, score=-44688.908 total time=   0.3s\n",
      "[CV 1/5] END learning_rate=0.1, max_depth=9, min_child_weight=10, n_estimators=100;, score=-22631.991 total time=   0.0s\n",
      "[CV 2/5] END learning_rate=0.1, max_depth=9, min_child_weight=10, n_estimators=100;, score=-28949.421 total time=   0.0s\n",
      "[CV 3/5] END learning_rate=0.1, max_depth=9, min_child_weight=10, n_estimators=100;, score=-17140.157 total time=   0.0s\n",
      "[CV 4/5] END learning_rate=0.1, max_depth=9, min_child_weight=10, n_estimators=100;, score=-16959.319 total time=   0.0s\n",
      "[CV 5/5] END learning_rate=0.1, max_depth=9, min_child_weight=10, n_estimators=100;, score=-45785.100 total time=   0.0s\n",
      "[CV 1/5] END learning_rate=0.1, max_depth=9, min_child_weight=10, n_estimators=400;, score=-27698.159 total time=   0.1s\n",
      "[CV 2/5] END learning_rate=0.1, max_depth=9, min_child_weight=10, n_estimators=400;, score=-33688.970 total time=   0.1s\n",
      "[CV 3/5] END learning_rate=0.1, max_depth=9, min_child_weight=10, n_estimators=400;, score=-20240.411 total time=   0.1s\n",
      "[CV 4/5] END learning_rate=0.1, max_depth=9, min_child_weight=10, n_estimators=400;, score=-21423.065 total time=   0.1s\n",
      "[CV 5/5] END learning_rate=0.1, max_depth=9, min_child_weight=10, n_estimators=400;, score=-46953.181 total time=   0.1s\n",
      "[CV 1/5] END learning_rate=0.1, max_depth=9, min_child_weight=10, n_estimators=800;, score=-28892.254 total time=   0.3s\n",
      "[CV 2/5] END learning_rate=0.1, max_depth=9, min_child_weight=10, n_estimators=800;, score=-34535.273 total time=   0.3s\n",
      "[CV 3/5] END learning_rate=0.1, max_depth=9, min_child_weight=10, n_estimators=800;, score=-20744.177 total time=   0.3s\n",
      "[CV 4/5] END learning_rate=0.1, max_depth=9, min_child_weight=10, n_estimators=800;, score=-22493.152 total time=   0.3s\n",
      "[CV 5/5] END learning_rate=0.1, max_depth=9, min_child_weight=10, n_estimators=800;, score=-47403.712 total time=   0.3s\n",
      "[CV 1/5] END learning_rate=0.1, max_depth=9, min_child_weight=100, n_estimators=100;, score=-46521.319 total time=   0.0s\n",
      "[CV 2/5] END learning_rate=0.1, max_depth=9, min_child_weight=100, n_estimators=100;, score=-48177.857 total time=   0.0s\n",
      "[CV 3/5] END learning_rate=0.1, max_depth=9, min_child_weight=100, n_estimators=100;, score=-29761.426 total time=   0.0s\n",
      "[CV 4/5] END learning_rate=0.1, max_depth=9, min_child_weight=100, n_estimators=100;, score=-36274.448 total time=   0.0s\n",
      "[CV 5/5] END learning_rate=0.1, max_depth=9, min_child_weight=100, n_estimators=100;, score=-62694.463 total time=   0.0s\n",
      "[CV 1/5] END learning_rate=0.1, max_depth=9, min_child_weight=100, n_estimators=400;, score=-49473.176 total time=   0.0s\n",
      "[CV 2/5] END learning_rate=0.1, max_depth=9, min_child_weight=100, n_estimators=400;, score=-49289.116 total time=   0.0s\n",
      "[CV 3/5] END learning_rate=0.1, max_depth=9, min_child_weight=100, n_estimators=400;, score=-32400.382 total time=   0.0s\n",
      "[CV 4/5] END learning_rate=0.1, max_depth=9, min_child_weight=100, n_estimators=400;, score=-36844.376 total time=   0.0s\n",
      "[CV 5/5] END learning_rate=0.1, max_depth=9, min_child_weight=100, n_estimators=400;, score=-61293.674 total time=   0.0s\n",
      "[CV 1/5] END learning_rate=0.1, max_depth=9, min_child_weight=100, n_estimators=800;, score=-50597.847 total time=   0.1s\n",
      "[CV 2/5] END learning_rate=0.1, max_depth=9, min_child_weight=100, n_estimators=800;, score=-50925.101 total time=   0.1s\n",
      "[CV 3/5] END learning_rate=0.1, max_depth=9, min_child_weight=100, n_estimators=800;, score=-34802.783 total time=   0.2s\n",
      "[CV 4/5] END learning_rate=0.1, max_depth=9, min_child_weight=100, n_estimators=800;, score=-38448.078 total time=   0.1s\n",
      "[CV 5/5] END learning_rate=0.1, max_depth=9, min_child_weight=100, n_estimators=800;, score=-59910.142 total time=   0.2s\n",
      "[CV 1/5] END learning_rate=0.2, max_depth=3, min_child_weight=1, n_estimators=100;, score=-27206.465 total time=   0.0s\n",
      "[CV 2/5] END learning_rate=0.2, max_depth=3, min_child_weight=1, n_estimators=100;, score=-31532.215 total time=   0.0s\n",
      "[CV 3/5] END learning_rate=0.2, max_depth=3, min_child_weight=1, n_estimators=100;, score=-18799.524 total time=   0.0s\n",
      "[CV 4/5] END learning_rate=0.2, max_depth=3, min_child_weight=1, n_estimators=100;, score=-14718.168 total time=   0.0s\n",
      "[CV 5/5] END learning_rate=0.2, max_depth=3, min_child_weight=1, n_estimators=100;, score=-47950.727 total time=   0.0s\n",
      "[CV 1/5] END learning_rate=0.2, max_depth=3, min_child_weight=1, n_estimators=400;, score=-33183.872 total time=   0.0s\n",
      "[CV 2/5] END learning_rate=0.2, max_depth=3, min_child_weight=1, n_estimators=400;, score=-34408.032 total time=   0.0s\n"
     ]
    },
    {
     "name": "stdout",
     "output_type": "stream",
     "text": [
      "[CV 3/5] END learning_rate=0.2, max_depth=3, min_child_weight=1, n_estimators=400;, score=-19637.111 total time=   0.0s\n",
      "[CV 4/5] END learning_rate=0.2, max_depth=3, min_child_weight=1, n_estimators=400;, score=-21134.770 total time=   0.0s\n",
      "[CV 5/5] END learning_rate=0.2, max_depth=3, min_child_weight=1, n_estimators=400;, score=-51354.625 total time=   0.0s\n",
      "[CV 1/5] END learning_rate=0.2, max_depth=3, min_child_weight=1, n_estimators=800;, score=-35476.840 total time=   0.1s\n",
      "[CV 2/5] END learning_rate=0.2, max_depth=3, min_child_weight=1, n_estimators=800;, score=-35652.273 total time=   0.1s\n",
      "[CV 3/5] END learning_rate=0.2, max_depth=3, min_child_weight=1, n_estimators=800;, score=-21718.751 total time=   0.1s\n",
      "[CV 4/5] END learning_rate=0.2, max_depth=3, min_child_weight=1, n_estimators=800;, score=-22772.559 total time=   0.2s\n",
      "[CV 5/5] END learning_rate=0.2, max_depth=3, min_child_weight=1, n_estimators=800;, score=-55142.386 total time=   0.1s\n",
      "[CV 1/5] END learning_rate=0.2, max_depth=3, min_child_weight=10, n_estimators=100;, score=-27188.029 total time=   0.0s\n",
      "[CV 2/5] END learning_rate=0.2, max_depth=3, min_child_weight=10, n_estimators=100;, score=-31312.072 total time=   0.0s\n",
      "[CV 3/5] END learning_rate=0.2, max_depth=3, min_child_weight=10, n_estimators=100;, score=-19026.916 total time=   0.0s\n",
      "[CV 4/5] END learning_rate=0.2, max_depth=3, min_child_weight=10, n_estimators=100;, score=-17789.421 total time=   0.0s\n",
      "[CV 5/5] END learning_rate=0.2, max_depth=3, min_child_weight=10, n_estimators=100;, score=-47091.593 total time=   0.0s\n",
      "[CV 1/5] END learning_rate=0.2, max_depth=3, min_child_weight=10, n_estimators=400;, score=-28213.239 total time=   0.0s\n",
      "[CV 2/5] END learning_rate=0.2, max_depth=3, min_child_weight=10, n_estimators=400;, score=-36444.856 total time=   0.0s\n",
      "[CV 3/5] END learning_rate=0.2, max_depth=3, min_child_weight=10, n_estimators=400;, score=-20664.099 total time=   0.0s\n",
      "[CV 4/5] END learning_rate=0.2, max_depth=3, min_child_weight=10, n_estimators=400;, score=-19936.112 total time=   0.0s\n",
      "[CV 5/5] END learning_rate=0.2, max_depth=3, min_child_weight=10, n_estimators=400;, score=-48289.828 total time=   0.0s\n",
      "[CV 1/5] END learning_rate=0.2, max_depth=3, min_child_weight=10, n_estimators=800;, score=-29204.675 total time=   0.1s\n",
      "[CV 2/5] END learning_rate=0.2, max_depth=3, min_child_weight=10, n_estimators=800;, score=-37872.573 total time=   0.1s\n",
      "[CV 3/5] END learning_rate=0.2, max_depth=3, min_child_weight=10, n_estimators=800;, score=-22283.877 total time=   0.1s\n",
      "[CV 4/5] END learning_rate=0.2, max_depth=3, min_child_weight=10, n_estimators=800;, score=-22794.507 total time=   0.1s\n",
      "[CV 5/5] END learning_rate=0.2, max_depth=3, min_child_weight=10, n_estimators=800;, score=-50628.821 total time=   0.1s\n",
      "[CV 1/5] END learning_rate=0.2, max_depth=3, min_child_weight=100, n_estimators=100;, score=-46888.486 total time=   0.0s\n",
      "[CV 2/5] END learning_rate=0.2, max_depth=3, min_child_weight=100, n_estimators=100;, score=-48630.415 total time=   0.0s\n",
      "[CV 3/5] END learning_rate=0.2, max_depth=3, min_child_weight=100, n_estimators=100;, score=-30929.903 total time=   0.0s\n",
      "[CV 4/5] END learning_rate=0.2, max_depth=3, min_child_weight=100, n_estimators=100;, score=-37136.490 total time=   0.0s\n",
      "[CV 5/5] END learning_rate=0.2, max_depth=3, min_child_weight=100, n_estimators=100;, score=-63376.966 total time=   0.0s\n",
      "[CV 1/5] END learning_rate=0.2, max_depth=3, min_child_weight=100, n_estimators=400;, score=-50524.097 total time=   0.0s\n",
      "[CV 2/5] END learning_rate=0.2, max_depth=3, min_child_weight=100, n_estimators=400;, score=-50872.280 total time=   0.0s\n",
      "[CV 3/5] END learning_rate=0.2, max_depth=3, min_child_weight=100, n_estimators=400;, score=-33237.596 total time=   0.0s\n",
      "[CV 4/5] END learning_rate=0.2, max_depth=3, min_child_weight=100, n_estimators=400;, score=-37979.811 total time=   0.0s\n",
      "[CV 5/5] END learning_rate=0.2, max_depth=3, min_child_weight=100, n_estimators=400;, score=-61884.284 total time=   0.0s\n",
      "[CV 1/5] END learning_rate=0.2, max_depth=3, min_child_weight=100, n_estimators=800;, score=-51478.258 total time=   0.1s\n",
      "[CV 2/5] END learning_rate=0.2, max_depth=3, min_child_weight=100, n_estimators=800;, score=-53973.883 total time=   0.1s\n",
      "[CV 3/5] END learning_rate=0.2, max_depth=3, min_child_weight=100, n_estimators=800;, score=-35915.444 total time=   0.1s\n",
      "[CV 4/5] END learning_rate=0.2, max_depth=3, min_child_weight=100, n_estimators=800;, score=-39773.330 total time=   0.1s\n",
      "[CV 5/5] END learning_rate=0.2, max_depth=3, min_child_weight=100, n_estimators=800;, score=-60399.810 total time=   0.1s\n",
      "[CV 1/5] END learning_rate=0.2, max_depth=6, min_child_weight=1, n_estimators=100;, score=-21252.891 total time=   0.0s\n",
      "[CV 2/5] END learning_rate=0.2, max_depth=6, min_child_weight=1, n_estimators=100;, score=-32753.625 total time=   0.0s\n",
      "[CV 3/5] END learning_rate=0.2, max_depth=6, min_child_weight=1, n_estimators=100;, score=-19841.079 total time=   0.0s\n",
      "[CV 4/5] END learning_rate=0.2, max_depth=6, min_child_weight=1, n_estimators=100;, score=-19290.419 total time=   0.0s\n",
      "[CV 5/5] END learning_rate=0.2, max_depth=6, min_child_weight=1, n_estimators=100;, score=-53483.436 total time=   0.0s\n",
      "[CV 1/5] END learning_rate=0.2, max_depth=6, min_child_weight=1, n_estimators=400;, score=-21483.067 total time=   0.1s\n",
      "[CV 2/5] END learning_rate=0.2, max_depth=6, min_child_weight=1, n_estimators=400;, score=-33230.121 total time=   0.1s\n",
      "[CV 3/5] END learning_rate=0.2, max_depth=6, min_child_weight=1, n_estimators=400;, score=-20421.552 total time=   0.1s\n",
      "[CV 4/5] END learning_rate=0.2, max_depth=6, min_child_weight=1, n_estimators=400;, score=-20013.677 total time=   0.1s\n",
      "[CV 5/5] END learning_rate=0.2, max_depth=6, min_child_weight=1, n_estimators=400;, score=-53746.308 total time=   0.1s\n",
      "[CV 1/5] END learning_rate=0.2, max_depth=6, min_child_weight=1, n_estimators=800;, score=-21489.943 total time=   0.3s\n",
      "[CV 2/5] END learning_rate=0.2, max_depth=6, min_child_weight=1, n_estimators=800;, score=-33236.223 total time=   0.3s\n",
      "[CV 3/5] END learning_rate=0.2, max_depth=6, min_child_weight=1, n_estimators=800;, score=-20418.450 total time=   0.3s\n",
      "[CV 4/5] END learning_rate=0.2, max_depth=6, min_child_weight=1, n_estimators=800;, score=-20023.631 total time=   0.3s\n",
      "[CV 5/5] END learning_rate=0.2, max_depth=6, min_child_weight=1, n_estimators=800;, score=-53757.792 total time=   0.3s\n",
      "[CV 1/5] END learning_rate=0.2, max_depth=6, min_child_weight=10, n_estimators=100;, score=-25899.769 total time=   0.0s\n",
      "[CV 2/5] END learning_rate=0.2, max_depth=6, min_child_weight=10, n_estimators=100;, score=-35414.605 total time=   0.0s\n",
      "[CV 3/5] END learning_rate=0.2, max_depth=6, min_child_weight=10, n_estimators=100;, score=-16774.712 total time=   0.0s\n",
      "[CV 4/5] END learning_rate=0.2, max_depth=6, min_child_weight=10, n_estimators=100;, score=-18813.981 total time=   0.0s\n",
      "[CV 5/5] END learning_rate=0.2, max_depth=6, min_child_weight=10, n_estimators=100;, score=-46256.987 total time=   0.0s\n",
      "[CV 1/5] END learning_rate=0.2, max_depth=6, min_child_weight=10, n_estimators=400;, score=-28096.414 total time=   0.1s\n",
      "[CV 2/5] END learning_rate=0.2, max_depth=6, min_child_weight=10, n_estimators=400;, score=-38487.026 total time=   0.1s\n",
      "[CV 3/5] END learning_rate=0.2, max_depth=6, min_child_weight=10, n_estimators=400;, score=-20478.671 total time=   0.1s\n",
      "[CV 4/5] END learning_rate=0.2, max_depth=6, min_child_weight=10, n_estimators=400;, score=-24575.652 total time=   0.1s\n",
      "[CV 5/5] END learning_rate=0.2, max_depth=6, min_child_weight=10, n_estimators=400;, score=-47632.903 total time=   0.1s\n",
      "[CV 1/5] END learning_rate=0.2, max_depth=6, min_child_weight=10, n_estimators=800;, score=-28905.235 total time=   0.2s\n",
      "[CV 2/5] END learning_rate=0.2, max_depth=6, min_child_weight=10, n_estimators=800;, score=-39220.214 total time=   0.2s\n",
      "[CV 3/5] END learning_rate=0.2, max_depth=6, min_child_weight=10, n_estimators=800;, score=-21209.305 total time=   0.2s\n",
      "[CV 4/5] END learning_rate=0.2, max_depth=6, min_child_weight=10, n_estimators=800;, score=-25342.123 total time=   0.3s\n",
      "[CV 5/5] END learning_rate=0.2, max_depth=6, min_child_weight=10, n_estimators=800;, score=-48607.403 total time=   0.3s\n",
      "[CV 1/5] END learning_rate=0.2, max_depth=6, min_child_weight=100, n_estimators=100;, score=-47652.684 total time=   0.0s\n",
      "[CV 2/5] END learning_rate=0.2, max_depth=6, min_child_weight=100, n_estimators=100;, score=-48284.796 total time=   0.0s\n",
      "[CV 3/5] END learning_rate=0.2, max_depth=6, min_child_weight=100, n_estimators=100;, score=-31148.861 total time=   0.0s\n",
      "[CV 4/5] END learning_rate=0.2, max_depth=6, min_child_weight=100, n_estimators=100;, score=-36506.906 total time=   0.0s\n",
      "[CV 5/5] END learning_rate=0.2, max_depth=6, min_child_weight=100, n_estimators=100;, score=-62980.529 total time=   0.0s\n"
     ]
    },
    {
     "name": "stdout",
     "output_type": "stream",
     "text": [
      "[CV 1/5] END learning_rate=0.2, max_depth=6, min_child_weight=100, n_estimators=400;, score=-51298.647 total time=   0.0s\n",
      "[CV 2/5] END learning_rate=0.2, max_depth=6, min_child_weight=100, n_estimators=400;, score=-50779.177 total time=   0.0s\n",
      "[CV 3/5] END learning_rate=0.2, max_depth=6, min_child_weight=100, n_estimators=400;, score=-34568.618 total time=   0.0s\n",
      "[CV 4/5] END learning_rate=0.2, max_depth=6, min_child_weight=100, n_estimators=400;, score=-39145.654 total time=   0.0s\n",
      "[CV 5/5] END learning_rate=0.2, max_depth=6, min_child_weight=100, n_estimators=400;, score=-60172.552 total time=   0.0s\n",
      "[CV 1/5] END learning_rate=0.2, max_depth=6, min_child_weight=100, n_estimators=800;, score=-54344.834 total time=   0.2s\n",
      "[CV 2/5] END learning_rate=0.2, max_depth=6, min_child_weight=100, n_estimators=800;, score=-55082.318 total time=   0.2s\n",
      "[CV 3/5] END learning_rate=0.2, max_depth=6, min_child_weight=100, n_estimators=800;, score=-37596.788 total time=   0.1s\n",
      "[CV 4/5] END learning_rate=0.2, max_depth=6, min_child_weight=100, n_estimators=800;, score=-42705.348 total time=   0.2s\n",
      "[CV 5/5] END learning_rate=0.2, max_depth=6, min_child_weight=100, n_estimators=800;, score=-59863.951 total time=   0.2s\n",
      "[CV 1/5] END learning_rate=0.2, max_depth=9, min_child_weight=1, n_estimators=100;, score=-26053.668 total time=   0.0s\n",
      "[CV 2/5] END learning_rate=0.2, max_depth=9, min_child_weight=1, n_estimators=100;, score=-30550.097 total time=   0.0s\n",
      "[CV 3/5] END learning_rate=0.2, max_depth=9, min_child_weight=1, n_estimators=100;, score=-19649.594 total time=   0.0s\n",
      "[CV 4/5] END learning_rate=0.2, max_depth=9, min_child_weight=1, n_estimators=100;, score=-20113.634 total time=   0.0s\n",
      "[CV 5/5] END learning_rate=0.2, max_depth=9, min_child_weight=1, n_estimators=100;, score=-43479.685 total time=   0.0s\n",
      "[CV 1/5] END learning_rate=0.2, max_depth=9, min_child_weight=1, n_estimators=400;, score=-26066.440 total time=   0.2s\n",
      "[CV 2/5] END learning_rate=0.2, max_depth=9, min_child_weight=1, n_estimators=400;, score=-30555.993 total time=   0.2s\n",
      "[CV 3/5] END learning_rate=0.2, max_depth=9, min_child_weight=1, n_estimators=400;, score=-19660.626 total time=   0.2s\n",
      "[CV 4/5] END learning_rate=0.2, max_depth=9, min_child_weight=1, n_estimators=400;, score=-20143.581 total time=   0.2s\n",
      "[CV 5/5] END learning_rate=0.2, max_depth=9, min_child_weight=1, n_estimators=400;, score=-43489.073 total time=   0.2s\n",
      "[CV 1/5] END learning_rate=0.2, max_depth=9, min_child_weight=1, n_estimators=800;, score=-26066.440 total time=   0.2s\n",
      "[CV 2/5] END learning_rate=0.2, max_depth=9, min_child_weight=1, n_estimators=800;, score=-30555.993 total time=   0.2s\n",
      "[CV 3/5] END learning_rate=0.2, max_depth=9, min_child_weight=1, n_estimators=800;, score=-19660.626 total time=   0.2s\n",
      "[CV 4/5] END learning_rate=0.2, max_depth=9, min_child_weight=1, n_estimators=800;, score=-20143.581 total time=   0.2s\n",
      "[CV 5/5] END learning_rate=0.2, max_depth=9, min_child_weight=1, n_estimators=800;, score=-43489.073 total time=   0.2s\n",
      "[CV 1/5] END learning_rate=0.2, max_depth=9, min_child_weight=10, n_estimators=100;, score=-25132.380 total time=   0.0s\n",
      "[CV 2/5] END learning_rate=0.2, max_depth=9, min_child_weight=10, n_estimators=100;, score=-32394.967 total time=   0.0s\n",
      "[CV 3/5] END learning_rate=0.2, max_depth=9, min_child_weight=10, n_estimators=100;, score=-19398.231 total time=   0.0s\n",
      "[CV 4/5] END learning_rate=0.2, max_depth=9, min_child_weight=10, n_estimators=100;, score=-19176.480 total time=   0.0s\n",
      "[CV 5/5] END learning_rate=0.2, max_depth=9, min_child_weight=10, n_estimators=100;, score=-46924.734 total time=   0.0s\n",
      "[CV 1/5] END learning_rate=0.2, max_depth=9, min_child_weight=10, n_estimators=400;, score=-27198.874 total time=   0.1s\n",
      "[CV 2/5] END learning_rate=0.2, max_depth=9, min_child_weight=10, n_estimators=400;, score=-35208.855 total time=   0.1s\n",
      "[CV 3/5] END learning_rate=0.2, max_depth=9, min_child_weight=10, n_estimators=400;, score=-21758.060 total time=   0.1s\n",
      "[CV 4/5] END learning_rate=0.2, max_depth=9, min_child_weight=10, n_estimators=400;, score=-22303.135 total time=   0.1s\n",
      "[CV 5/5] END learning_rate=0.2, max_depth=9, min_child_weight=10, n_estimators=400;, score=-47292.421 total time=   0.1s\n",
      "[CV 1/5] END learning_rate=0.2, max_depth=9, min_child_weight=10, n_estimators=800;, score=-27551.855 total time=   0.4s\n",
      "[CV 2/5] END learning_rate=0.2, max_depth=9, min_child_weight=10, n_estimators=800;, score=-35311.935 total time=   0.3s\n",
      "[CV 3/5] END learning_rate=0.2, max_depth=9, min_child_weight=10, n_estimators=800;, score=-21870.343 total time=   0.3s\n",
      "[CV 4/5] END learning_rate=0.2, max_depth=9, min_child_weight=10, n_estimators=800;, score=-22447.030 total time=   0.4s\n",
      "[CV 5/5] END learning_rate=0.2, max_depth=9, min_child_weight=10, n_estimators=800;, score=-47414.484 total time=   0.4s\n",
      "[CV 1/5] END learning_rate=0.2, max_depth=9, min_child_weight=100, n_estimators=100;, score=-47652.684 total time=   0.0s\n",
      "[CV 2/5] END learning_rate=0.2, max_depth=9, min_child_weight=100, n_estimators=100;, score=-48284.796 total time=   0.0s\n",
      "[CV 3/5] END learning_rate=0.2, max_depth=9, min_child_weight=100, n_estimators=100;, score=-31148.861 total time=   0.0s\n",
      "[CV 4/5] END learning_rate=0.2, max_depth=9, min_child_weight=100, n_estimators=100;, score=-36506.906 total time=   0.0s\n",
      "[CV 5/5] END learning_rate=0.2, max_depth=9, min_child_weight=100, n_estimators=100;, score=-62980.529 total time=   0.0s\n",
      "[CV 1/5] END learning_rate=0.2, max_depth=9, min_child_weight=100, n_estimators=400;, score=-51298.647 total time=   0.0s\n",
      "[CV 2/5] END learning_rate=0.2, max_depth=9, min_child_weight=100, n_estimators=400;, score=-50779.177 total time=   0.0s\n",
      "[CV 3/5] END learning_rate=0.2, max_depth=9, min_child_weight=100, n_estimators=400;, score=-34568.618 total time=   0.0s\n",
      "[CV 4/5] END learning_rate=0.2, max_depth=9, min_child_weight=100, n_estimators=400;, score=-39145.654 total time=   0.0s\n",
      "[CV 5/5] END learning_rate=0.2, max_depth=9, min_child_weight=100, n_estimators=400;, score=-60172.552 total time=   0.0s\n",
      "[CV 1/5] END learning_rate=0.2, max_depth=9, min_child_weight=100, n_estimators=800;, score=-54344.834 total time=   0.1s\n",
      "[CV 2/5] END learning_rate=0.2, max_depth=9, min_child_weight=100, n_estimators=800;, score=-55082.318 total time=   0.1s\n",
      "[CV 3/5] END learning_rate=0.2, max_depth=9, min_child_weight=100, n_estimators=800;, score=-37596.788 total time=   0.2s\n",
      "[CV 4/5] END learning_rate=0.2, max_depth=9, min_child_weight=100, n_estimators=800;, score=-42705.348 total time=   0.2s\n",
      "[CV 5/5] END learning_rate=0.2, max_depth=9, min_child_weight=100, n_estimators=800;, score=-59863.951 total time=   0.1s\n",
      "{'n_estimators': 100, 'min_child_weight': 10, 'max_depth': 9, 'learning_rate': 0.05} -24978.937654594512\n"
     ]
    }
   ],
   "source": [
    "params_distr = {\n",
    "    'n_estimators': [100, 400, 800],\n",
    "    'max_depth': [3, 6, 9],\n",
    "    'learning_rate': [0.05, 0.1, 0.20],\n",
    "    'min_child_weight': [1, 10, 100]\n",
    "}\n",
    "\n",
    "rand_search_cv = RandomizedSearchCV(xgb.XGBRegressor(), params_distr, random_state=42, verbose=6,\n",
    "                                    cv=5, scoring=\"neg_mean_squared_error\",\n",
    "                                    n_iter=100)\n",
    "rand_search = rand_search_cv.fit(X_scaled, y_true)\n",
    "print(rand_search.best_params_, rand_search.best_score_)"
   ]
  },
  {
   "cell_type": "code",
   "execution_count": 66,
   "id": "0939b246",
   "metadata": {},
   "outputs": [
    {
     "name": "stdout",
     "output_type": "stream",
     "text": [
      "mse=10918.43; r2=0.91\n",
      "mse=24978.94; r2=0.80\n",
      "[-11691.62375153 -10786.4874782  -11592.64515789 -12058.38308878\n",
      "  -8463.03067381]\n",
      "[-20382.56213501 -27143.40309156 -16840.87593962 -15598.3374432\n",
      " -44929.50966358]\n"
     ]
    }
   ],
   "source": [
    "# Best model\n",
    "xgb_reg = xgb.XGBRegressor(n_estimators=100, min_child_weight=10, max_depth=9, learning_rate=0.05, random_state=42)\n",
    "\n",
    "res_dict = cross_validate(xgb_reg, X_scaled, y_true, scoring=[\"neg_mean_squared_error\", \"r2\"], cv=5, return_train_score=True)\n",
    "print(f\"mse={np.abs(np.mean(res_dict['train_neg_mean_squared_error'])):.2f}; r2={np.mean(res_dict['train_r2']):.2f}\")\n",
    "print(f\"mse={np.abs(np.mean(res_dict['test_neg_mean_squared_error'])):.2f}; r2={np.mean(res_dict['test_r2']):.2f}\")\n",
    "print(res_dict[\"train_neg_mean_squared_error\"])\n",
    "print(res_dict[\"test_neg_mean_squared_error\"])"
   ]
  },
  {
   "cell_type": "code",
   "execution_count": 67,
   "id": "8f12ca19",
   "metadata": {},
   "outputs": [],
   "source": [
    "loss_dict[\"train\"][\"xgb_reg\"] = np.abs(res_dict[\"train_neg_mean_squared_error\"]).tolist()\n",
    "loss_dict[\"valid\"][\"xgb_reg\"] = np.abs(res_dict[\"test_neg_mean_squared_error\"]).tolist()"
   ]
  },
  {
   "cell_type": "code",
   "execution_count": 39,
   "id": "7f81cd1a",
   "metadata": {},
   "outputs": [
    {
     "data": {
      "text/plain": [
       "10933.52384995674"
      ]
     },
     "execution_count": 39,
     "metadata": {},
     "output_type": "execute_result"
    }
   ],
   "source": [
    "xgb_reg.fit(X_scaled, y_true)\n",
    "\n",
    "y_pred = xgb_reg.predict(X_scaled)\n",
    "mean_squared_error(y_true, y_pred)"
   ]
  },
  {
   "cell_type": "code",
   "execution_count": 40,
   "id": "d63d211c",
   "metadata": {},
   "outputs": [
    {
     "data": {
      "text/plain": [
       "8963.396112943366"
      ]
     },
     "execution_count": 40,
     "metadata": {},
     "output_type": "execute_result"
    }
   ],
   "source": [
    "joblib.dump(rf_reg, \"models/xgboost.joblib\")\n",
    "xgb_reg = joblib.load(\"models/xgboost.joblib\")\n",
    "y_pred = xgb_reg.predict(X_scaled)\n",
    "mean_squared_error(y_true, y_pred)"
   ]
  },
  {
   "cell_type": "markdown",
   "id": "349aaf2c",
   "metadata": {},
   "source": [
    "#### Neural Network"
   ]
  },
  {
   "cell_type": "code",
   "execution_count": 41,
   "id": "80386fdf",
   "metadata": {
    "scrolled": true
   },
   "outputs": [],
   "source": [
    "def train(X_train, y_train, X_valid, y_valid, model, n_epochs=1000, lr=0.03, verbose=False):\n",
    "    \n",
    "    history = {\"loss_train\": [], \"loss_valid\": []}\n",
    "    \n",
    "    criterion = torch.nn.MSELoss()\n",
    "    optimizer = torch.optim.Adam(model.parameters(), lr=lr)\n",
    "    \n",
    "    for epoch in range(n_epochs):\n",
    "        model.train()\n",
    "        # Forward pass\n",
    "        y_pred_train = model(X_train)\n",
    "        loss_train = criterion(y_pred_train, y_train)\n",
    "        \n",
    "        # Backward pass\n",
    "        optimizer.zero_grad()\n",
    "        loss_train.backward()\n",
    "        optimizer.step()\n",
    "        \n",
    "        # Model evaluation\n",
    "        with torch.no_grad():\n",
    "            model.eval()\n",
    "            y_pred_valid = model(X_valid)\n",
    "            loss_valid = criterion(y_pred_valid, y_valid)\n",
    "            \n",
    "        if epoch % 100 == 0:\n",
    "            history[\"loss_train\"].append(loss_train.item())\n",
    "            history[\"loss_valid\"].append(loss_valid.item())\n",
    "        \n",
    "        if verbose and epoch % 1000 == 0:\n",
    "            tqdm.write(f'Epoch [{epoch}/{n_epochs}], Training loss: {loss_train.item():.4f}, Validation loss: {loss_valid.item():.4f}')\n",
    "       \n",
    "    return history"
   ]
  },
  {
   "cell_type": "code",
   "execution_count": 42,
   "id": "410fc8db",
   "metadata": {},
   "outputs": [],
   "source": [
    "X_pt = torch.tensor(X_scaled, dtype=torch.float32)\n",
    "y_pt = torch.tensor(y_true, dtype=torch.float32).view(-1, 1)"
   ]
  },
  {
   "cell_type": "code",
   "execution_count": 43,
   "id": "e2fb07a8",
   "metadata": {},
   "outputs": [],
   "source": [
    "X_train, X_valid, y_train, y_valid = train_test_split(X_pt, y_pt, test_size=0.2)"
   ]
  },
  {
   "cell_type": "code",
   "execution_count": 44,
   "id": "445b1783",
   "metadata": {},
   "outputs": [
    {
     "name": "stdout",
     "output_type": "stream",
     "text": [
      "Epoch [0/10000], Training loss: 1974412.0000, Validation loss: 1996889.8750\n",
      "Epoch [1000/10000], Training loss: 82281.0625, Validation loss: 44664.7734\n",
      "Epoch [2000/10000], Training loss: 87050.0312, Validation loss: 44955.1836\n",
      "Epoch [3000/10000], Training loss: 84559.5469, Validation loss: 46032.5742\n",
      "Epoch [4000/10000], Training loss: 71340.6406, Validation loss: 37822.7148\n",
      "Epoch [5000/10000], Training loss: 66681.5156, Validation loss: 37640.3398\n",
      "Epoch [6000/10000], Training loss: 66093.8047, Validation loss: 39192.2227\n",
      "Epoch [7000/10000], Training loss: 64438.9141, Validation loss: 40304.6094\n",
      "Epoch [8000/10000], Training loss: 61320.9648, Validation loss: 41972.3281\n",
      "Epoch [9000/10000], Training loss: 55607.2773, Validation loss: 41162.7656\n"
     ]
    }
   ],
   "source": [
    "mlp = torch.nn.Sequential(\n",
    "    torch.nn.Linear(10, 32),\n",
    "    torch.nn.ReLU(),\n",
    "    torch.nn.Linear(32, 16),\n",
    "    torch.nn.ReLU(),\n",
    "    torch.nn.Linear(16, 8),\n",
    "    torch.nn.ReLU(),\n",
    "    torch.nn.Dropout(p=0.1),\n",
    "    torch.nn.Linear(8, 1)\n",
    ")\n",
    "\n",
    "history = train(X_train, y_train, X_valid, y_valid, mlp, n_epochs=10000, verbose=True)"
   ]
  },
  {
   "cell_type": "code",
   "execution_count": 45,
   "id": "0dccdf32",
   "metadata": {},
   "outputs": [
    {
     "data": {
      "image/png": "[encoded data removed]",
      "text/plain": [
       "<Figure size 640x480 with 1 Axes>"
      ]
     },
     "metadata": {},
     "output_type": "display_data"
    }
   ],
   "source": [
    "plt.plot(np.arange(0, len(history[\"loss_train\"])) * 100, history[\"loss_train\"], label=\"train\")\n",
    "plt.plot(np.arange(0, len(history[\"loss_train\"])) * 100, history[\"loss_valid\"], label=\"valid\")\n",
    "plt.legend()\n",
    "plt.title(\"Learning curve\")\n",
    "plt.ylabel(r\"$MSE$\")\n",
    "plt.xlabel(\"Epoch\")\n",
    "plt.show()"
   ]
  },
  {
   "cell_type": "code",
   "execution_count": 46,
   "id": "4ba51067",
   "metadata": {},
   "outputs": [],
   "source": [
    "# K-fold cross validation\n",
    "mse_train = []\n",
    "mse_test = []\n",
    "\n",
    "for train_idx, test_idx in KFold(n_splits=5, shuffle=True).split(X_pt, y_pt):\n",
    "    \n",
    "    # Get train and test data for k-th fold\n",
    "    X_train_fold = X_pt[train_idx]\n",
    "    y_train_fold = y_pt[train_idx]\n",
    "    X_test_fold = X_pt[test_idx]\n",
    "    y_test_fold = y_pt[test_idx]\n",
    "    \n",
    "    # Define model\n",
    "    mlp = torch.nn.Sequential(\n",
    "        torch.nn.Linear(10, 32),\n",
    "        torch.nn.ReLU(),\n",
    "        torch.nn.Linear(32, 16),\n",
    "        torch.nn.ReLU(),\n",
    "        torch.nn.Linear(16, 8),\n",
    "        torch.nn.ReLU(),\n",
    "        torch.nn.Dropout(p=0.1),\n",
    "        torch.nn.Linear(8, 1)\n",
    "    )\n",
    "    \n",
    "    # Train model on k-th fold training data\n",
    "    history = train(X_train=X_train_fold, y_train=y_train_fold, \n",
    "          X_valid=X_test_fold, y_valid=y_test_fold, \n",
    "          model=mlp, n_epochs=10000, lr=0.03, verbose=False)\n",
    "    \n",
    "    mse_train.append(history[\"loss_train\"][-1])\n",
    "    mse_test.append(history[\"loss_valid\"][-1])"
   ]
  },
  {
   "cell_type": "code",
   "execution_count": 70,
   "id": "ac0b4b39",
   "metadata": {},
   "outputs": [
    {
     "data": {
      "text/plain": [
       "[38122.3515625, 63769.04296875, 54072.171875, 69641.4609375, 54945.078125]"
      ]
     },
     "execution_count": 70,
     "metadata": {},
     "output_type": "execute_result"
    }
   ],
   "source": [
    "mse_train"
   ]
  },
  {
   "cell_type": "code",
   "execution_count": 48,
   "id": "95b723d0",
   "metadata": {},
   "outputs": [
    {
     "data": {
      "text/plain": [
       "[59303.9453125, 43665.1171875, 52284.33984375, 63221.0234375, 53107.84375]"
      ]
     },
     "execution_count": 48,
     "metadata": {},
     "output_type": "execute_result"
    }
   ],
   "source": [
    "mse_test"
   ]
  },
  {
   "cell_type": "code",
   "execution_count": 50,
   "id": "5928623d",
   "metadata": {},
   "outputs": [
    {
     "data": {
      "text/plain": [
       "56110.02109375"
      ]
     },
     "execution_count": 50,
     "metadata": {},
     "output_type": "execute_result"
    }
   ],
   "source": [
    "np.mean(mse_train)"
   ]
  },
  {
   "cell_type": "code",
   "execution_count": 49,
   "id": "176de1e8",
   "metadata": {},
   "outputs": [
    {
     "data": {
      "text/plain": [
       "54316.45390625"
      ]
     },
     "execution_count": 49,
     "metadata": {},
     "output_type": "execute_result"
    }
   ],
   "source": [
    "np.mean(mse_test)"
   ]
  },
  {
   "cell_type": "code",
   "execution_count": 71,
   "id": "47feec67",
   "metadata": {},
   "outputs": [],
   "source": [
    "loss_dict[\"train\"][\"mlp_reg\"] = mse_train\n",
    "loss_dict[\"valid\"][\"mlp_reg\"] = mse_test"
   ]
  },
  {
   "cell_type": "code",
   "execution_count": 51,
   "id": "2223c226",
   "metadata": {},
   "outputs": [
    {
     "name": "stdout",
     "output_type": "stream",
     "text": [
      "Epoch [0/10000], Training loss: 1979275.0000, Validation loss: 1978770.0000\n",
      "Epoch [1000/10000], Training loss: 82802.3516, Validation loss: 35161.4297\n",
      "Epoch [2000/10000], Training loss: 96509.9531, Validation loss: 32780.1406\n",
      "Epoch [3000/10000], Training loss: 80223.8047, Validation loss: 29639.9062\n",
      "Epoch [4000/10000], Training loss: 83097.4297, Validation loss: 26482.6992\n",
      "Epoch [5000/10000], Training loss: 75182.1641, Validation loss: 26260.6289\n",
      "Epoch [6000/10000], Training loss: 74099.0859, Validation loss: 28398.4375\n",
      "Epoch [7000/10000], Training loss: 62214.8359, Validation loss: 23872.6211\n",
      "Epoch [8000/10000], Training loss: 64870.8594, Validation loss: 23294.8984\n",
      "Epoch [9000/10000], Training loss: 62298.9883, Validation loss: 23217.7617\n"
     ]
    }
   ],
   "source": [
    "mlp = torch.nn.Sequential(\n",
    "    torch.nn.Linear(10, 32),\n",
    "    torch.nn.ReLU(),\n",
    "    torch.nn.Linear(32, 16),\n",
    "    torch.nn.ReLU(),\n",
    "    torch.nn.Linear(16, 8),\n",
    "    torch.nn.ReLU(),\n",
    "    torch.nn.Dropout(p=0.1),\n",
    "    torch.nn.Linear(8, 1)\n",
    ")\n",
    "\n",
    "history = train(X_train=X_pt, y_train=y_pt, X_valid=X_pt, y_valid=y_pt, model=mlp, n_epochs=10000, verbose=True)"
   ]
  },
  {
   "cell_type": "code",
   "execution_count": 52,
   "id": "65800536",
   "metadata": {},
   "outputs": [
    {
     "name": "stdout",
     "output_type": "stream",
     "text": [
      "Sequential(\n",
      "  (0): Linear(in_features=10, out_features=32, bias=True)\n",
      "  (1): ReLU()\n",
      "  (2): Linear(in_features=32, out_features=16, bias=True)\n",
      "  (3): ReLU()\n",
      "  (4): Linear(in_features=16, out_features=8, bias=True)\n",
      "  (5): ReLU()\n",
      "  (6): Dropout(p=0.1, inplace=False)\n",
      "  (7): Linear(in_features=8, out_features=1, bias=True)\n",
      ")\n"
     ]
    }
   ],
   "source": [
    "print(mlp)"
   ]
  },
  {
   "cell_type": "code",
   "execution_count": 53,
   "id": "8b4f1421",
   "metadata": {},
   "outputs": [],
   "source": [
    "torch.save(mlp, \"models/mlp.pt\")"
   ]
  },
  {
   "cell_type": "code",
   "execution_count": 54,
   "id": "d2e9edf9",
   "metadata": {},
   "outputs": [
    {
     "data": {
      "text/plain": [
       "Sequential(\n",
       "  (0): Linear(in_features=10, out_features=32, bias=True)\n",
       "  (1): ReLU()\n",
       "  (2): Linear(in_features=32, out_features=16, bias=True)\n",
       "  (3): ReLU()\n",
       "  (4): Linear(in_features=16, out_features=8, bias=True)\n",
       "  (5): ReLU()\n",
       "  (6): Dropout(p=0.1, inplace=False)\n",
       "  (7): Linear(in_features=8, out_features=1, bias=True)\n",
       ")"
      ]
     },
     "execution_count": 54,
     "metadata": {},
     "output_type": "execute_result"
    }
   ],
   "source": [
    "mlp = torch.load(\"models/mlp.pt\")\n",
    "mlp.eval()"
   ]
  },
  {
   "cell_type": "code",
   "execution_count": 55,
   "id": "61454ed1",
   "metadata": {},
   "outputs": [
    {
     "data": {
      "text/plain": [
       "22841.69921875"
      ]
     },
     "execution_count": 55,
     "metadata": {},
     "output_type": "execute_result"
    }
   ],
   "source": [
    "y_pred = mlp(torch.tensor(X_scaled, dtype=torch.float32))\n",
    "torch.nn.functional.mse_loss(y_pred, torch.tensor(y_true, dtype=torch.float32).view(-1, 1)).item()"
   ]
  },
  {
   "cell_type": "code",
   "execution_count": 72,
   "id": "d735cec4",
   "metadata": {},
   "outputs": [
    {
     "data": {
      "text/plain": [
       "{'train': {'dt_reg': [21742.542858661214,\n",
       "   19377.37159293001,\n",
       "   21556.82832758966,\n",
       "   22509.690507974512,\n",
       "   15909.81888522909],\n",
       "  'rf_reg': [10967.081112622971,\n",
       "   8586.953326759469,\n",
       "   9238.494015849847,\n",
       "   9920.289038020002,\n",
       "   7471.083408043733],\n",
       "  'xgb_reg': [11691.623751533525,\n",
       "   10786.487478197272,\n",
       "   11592.645157886709,\n",
       "   12058.383088783157,\n",
       "   8463.030673812578],\n",
       "  'mlp_reg': [38122.3515625,\n",
       "   63769.04296875,\n",
       "   54072.171875,\n",
       "   69641.4609375,\n",
       "   54945.078125]},\n",
       " 'valid': {'dt_reg': [20208.8163143957,\n",
       "   28801.219921264215,\n",
       "   18401.69309144717,\n",
       "   16513.297527325212,\n",
       "   42306.90662736841],\n",
       "  'rf_reg': [19869.697274109025,\n",
       "   27198.127230389724,\n",
       "   16994.85260711119,\n",
       "   14276.814299285828,\n",
       "   42919.12716700783],\n",
       "  'xgb_reg': [20382.562135013854,\n",
       "   27143.403091556833,\n",
       "   16840.875939623733,\n",
       "   15598.337443202678,\n",
       "   44929.509663575474],\n",
       "  'mlp_reg': [59303.9453125,\n",
       "   43665.1171875,\n",
       "   52284.33984375,\n",
       "   63221.0234375,\n",
       "   53107.84375]}}"
      ]
     },
     "execution_count": 72,
     "metadata": {},
     "output_type": "execute_result"
    }
   ],
   "source": [
    "loss_dict"
   ]
  },
  {
   "cell_type": "code",
   "execution_count": 100,
   "id": "8770632f",
   "metadata": {},
   "outputs": [
    {
     "data": {
      "text/plain": [
       "Text(0.5, 1.0, 'MSE Comparison between Models')"
      ]
     },
     "execution_count": 100,
     "metadata": {},
     "output_type": "execute_result"
    },
    {
     "data": {
      "image/png": "[encoded data removed]",
      "text/plain": [
       "<Figure size 640x480 with 1 Axes>"
      ]
     },
     "metadata": {},
     "output_type": "display_data"
    }
   ],
   "source": [
    "train_losses = [np.mean(loss_dict[\"train\"][model_name]) for model_name in loss_dict[\"train\"]]\n",
    "valid_losses = [np.mean(loss_dict[\"valid\"][model_name]) for model_name in loss_dict[\"valid\"]]\n",
    "model_names = [\"Decision Tree\", \"Random Forest\", \"XGBoost\", \"MLP\"]\n",
    "\n",
    "df = pd.DataFrame({\n",
    "    \"train\": train_losses,\n",
    "    \"valid\": valid_losses,\n",
    "}, index=model_names)\n",
    "df.plot.bar(rot=0, color={\"train\": \"lightcoral\", \"valid\": \"lightblue\"})\n",
    "plt.ylabel(\"$MSE$\")\n",
    "plt.xlabel(\"Model\")\n",
    "plt.title(\"MSE Comparison between Models\")"
   ]
  },
  {
   "cell_type": "code",
   "execution_count": 88,
   "id": "12d0e545",
   "metadata": {},
   "outputs": [
    {
     "data": {
      "text/plain": [
       "['dt_reg', 'rf_reg', 'xgb_reg', 'mlp_reg']"
      ]
     },
     "execution_count": 88,
     "metadata": {},
     "output_type": "execute_result"
    }
   ],
   "source": [
    "list(loss_dict[\"train\"].keys())"
   ]
  },
  {
   "cell_type": "code",
   "execution_count": null,
   "id": "116707e7",
   "metadata": {},
   "outputs": [],
   "source": []
  }
 ],
 "metadata": {
  "kernelspec": {
   "display_name": "Python 3 (ipykernel)",
   "language": "python",
   "name": "python3"
  },
  "language_info": {
   "codemirror_mode": {
    "name": "ipython",
    "version": 3
   },
   "file_extension": ".py",
   "mimetype": "text/x-python",
   "name": "python",
   "nbconvert_exporter": "python",
   "pygments_lexer": "ipython3",
   "version": "3.10.8"
  }
 },
 "nbformat": 4,
 "nbformat_minor": 5
}
